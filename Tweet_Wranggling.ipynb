{
 "cells": [
  {
   "cell_type": "markdown",
   "id": "a853f227",
   "metadata": {},
   "source": [
    "# SpringBoard Capstone2: Coronavirus Tweets\n",
    "## Unit7: Data Wrangling\n",
    "\n",
    "    Data from Kaggle.com: https://www.kaggle.com/datatattle/covid-19-nlp-text-classification/metadata"
   ]
  },
  {
   "cell_type": "code",
   "execution_count": 2,
   "id": "da11a325",
   "metadata": {},
   "outputs": [],
   "source": [
    "import pandas as pd\n",
    "import numpy as np\n",
    "import math\n",
    "import matplotlib.pyplot as plt\n",
    "import seaborn as sns"
   ]
  },
  {
   "cell_type": "code",
   "execution_count": 4,
   "id": "9fff5c92",
   "metadata": {},
   "outputs": [
    {
     "name": "stdout",
     "output_type": "stream",
     "text": [
      "<class 'pandas.core.frame.DataFrame'>\n",
      "Int64Index: 41157 entries, 3799 to 44955\n",
      "Data columns (total 5 columns):\n",
      " #   Column         Non-Null Count  Dtype \n",
      "---  ------         --------------  ----- \n",
      " 0   ScreenName     41157 non-null  int64 \n",
      " 1   Location       32567 non-null  object\n",
      " 2   TweetAt        41157 non-null  object\n",
      " 3   OriginalTweet  41157 non-null  object\n",
      " 4   Sentiment      41157 non-null  object\n",
      "dtypes: int64(1), object(4)\n",
      "memory usage: 1.9+ MB\n",
      "None\n"
     ]
    }
   ],
   "source": [
    "tweet = pd.read_csv('/Users/Ling/Desktop/01_Springboard/Corona_Tweet/Data/Corona_NLP_train.csv', index_col = 0)\n",
    "print(tweet.info())"
   ]
  },
  {
   "cell_type": "code",
   "execution_count": 9,
   "id": "0b4021ab",
   "metadata": {},
   "outputs": [
    {
     "name": "stdout",
     "output_type": "stream",
     "text": [
      "ScreenName                                                   48752\n",
      "Location                                                        UK\n",
      "TweetAt                                                 16-03-2020\n",
      "OriginalTweet    advice Talk to your neighbours family to excha...\n",
      "Sentiment                                                 Positive\n",
      "Name: 3800, dtype: object\n"
     ]
    }
   ],
   "source": [
    "print(tweet.iloc[1,:])"
   ]
  },
  {
   "cell_type": "code",
   "execution_count": null,
   "id": "f91e5808",
   "metadata": {},
   "outputs": [],
   "source": []
  }
 ],
 "metadata": {
  "kernelspec": {
   "display_name": "Python 3",
   "language": "python",
   "name": "python3"
  },
  "language_info": {
   "codemirror_mode": {
    "name": "ipython",
    "version": 3
   },
   "file_extension": ".py",
   "mimetype": "text/x-python",
   "name": "python",
   "nbconvert_exporter": "python",
   "pygments_lexer": "ipython3",
   "version": "3.8.8"
  }
 },
 "nbformat": 4,
 "nbformat_minor": 5
}
