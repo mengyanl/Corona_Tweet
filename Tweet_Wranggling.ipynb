{
 "cells": [
  {
   "cell_type": "markdown",
   "id": "a853f227",
   "metadata": {},
   "source": [
    "# SpringBoard Capstone2: Coronavirus Tweets\n",
    "## Unit7: Data Wrangling\n",
    "\n",
    "    Data from Kaggle.com: https://www.kaggle.com/datatattle/covid-19-nlp-text-classification/metadata"
   ]
  },
  {
   "cell_type": "code",
   "execution_count": 1,
   "id": "a3eb16dc",
   "metadata": {},
   "outputs": [],
   "source": [
    "# !pip install wordcloud"
   ]
  },
  {
   "cell_type": "code",
   "execution_count": 2,
   "id": "3b9c60dc",
   "metadata": {},
   "outputs": [
    {
     "name": "stderr",
     "output_type": "stream",
     "text": [
      "[nltk_data] Downloading package wordnet to /Users/Ling/nltk_data...\n",
      "[nltk_data]   Package wordnet is already up-to-date!\n"
     ]
    },
    {
     "data": {
      "text/plain": [
       "True"
      ]
     },
     "execution_count": 2,
     "metadata": {},
     "output_type": "execute_result"
    }
   ],
   "source": [
    "import nltk\n",
    "nltk.download('wordnet')"
   ]
  },
  {
   "cell_type": "code",
   "execution_count": 3,
   "id": "da11a325",
   "metadata": {},
   "outputs": [],
   "source": [
    "import pandas as pd\n",
    "import numpy as np\n",
    "import math\n",
    "import matplotlib.pyplot as plt\n",
    "import seaborn as sns\n",
    "# from wordcloud import WordCloud\n",
    "import re\n",
    "from sklearn.svm import LinearSVC\n",
    "from sklearn.naive_bayes import BernoulliNB\n",
    "from sklearn.linear_model import LogisticRegression\n",
    "from sklearn.model_selection import train_test_split\n",
    "from sklearn.feature_extraction.text import TfidfVectorizer\n",
    "from sklearn.metrics import confusion_matrix, classification_report"
   ]
  },
  {
   "cell_type": "code",
   "execution_count": 4,
   "id": "9fff5c92",
   "metadata": {},
   "outputs": [
    {
     "name": "stdout",
     "output_type": "stream",
     "text": [
      "<class 'pandas.core.frame.DataFrame'>\n",
      "Int64Index: 41157 entries, 3799 to 44955\n",
      "Data columns (total 5 columns):\n",
      " #   Column         Non-Null Count  Dtype \n",
      "---  ------         --------------  ----- \n",
      " 0   ScreenName     41157 non-null  int64 \n",
      " 1   Location       32567 non-null  object\n",
      " 2   TweetAt        41157 non-null  object\n",
      " 3   OriginalTweet  41157 non-null  object\n",
      " 4   Sentiment      41157 non-null  object\n",
      "dtypes: int64(1), object(4)\n",
      "memory usage: 1.9+ MB\n",
      "None\n",
      "<class 'pandas.core.frame.DataFrame'>\n",
      "Int64Index: 3798 entries, 1 to 3798\n",
      "Data columns (total 5 columns):\n",
      " #   Column         Non-Null Count  Dtype \n",
      "---  ------         --------------  ----- \n",
      " 0   ScreenName     3798 non-null   int64 \n",
      " 1   Location       2964 non-null   object\n",
      " 2   TweetAt        3798 non-null   object\n",
      " 3   OriginalTweet  3798 non-null   object\n",
      " 4   Sentiment      3798 non-null   object\n",
      "dtypes: int64(1), object(4)\n",
      "memory usage: 178.0+ KB\n",
      "None\n"
     ]
    }
   ],
   "source": [
    "tweet_whole_train = pd.read_csv('/Users/Ling/Desktop/01_Springboard/Corona_Tweet/Data/Corona_NLP_train.csv', index_col = 0)\n",
    "print(tweet_whole_train.info())\n",
    "test = pd.read_csv('/Users/Ling/Desktop/01_Springboard/Corona_Tweet/Data/Corona_NLP_test.csv', index_col = 0)\n",
    "print(test.info())"
   ]
  },
  {
   "cell_type": "code",
   "execution_count": 5,
   "id": "0b4021ab",
   "metadata": {},
   "outputs": [
    {
     "name": "stdout",
     "output_type": "stream",
     "text": [
      "          ScreenName   Location     TweetAt  \\\n",
      "UserName                                      \n",
      "3799           48751     London  16-03-2020   \n",
      "3800           48752         UK  16-03-2020   \n",
      "3801           48753  Vagabonds  16-03-2020   \n",
      "3802           48754        NaN  16-03-2020   \n",
      "3803           48755        NaN  16-03-2020   \n",
      "\n",
      "                                              OriginalTweet  \\\n",
      "UserName                                                      \n",
      "3799      @MeNyrbie @Phil_Gahan @Chrisitv https://t.co/i...   \n",
      "3800      advice Talk to your neighbours family to excha...   \n",
      "3801      Coronavirus Australia: Woolworths to give elde...   \n",
      "3802      My food stock is not the only one which is emp...   \n",
      "3803      Me, ready to go at supermarket during the #COV...   \n",
      "\n",
      "                   Sentiment  \n",
      "UserName                      \n",
      "3799                 Neutral  \n",
      "3800                Positive  \n",
      "3801                Positive  \n",
      "3802                Positive  \n",
      "3803      Extremely Negative  \n"
     ]
    }
   ],
   "source": [
    "print(tweet_whole_train.head())"
   ]
  },
  {
   "cell_type": "code",
   "execution_count": 6,
   "id": "ec1748d5",
   "metadata": {},
   "outputs": [],
   "source": [
    "tweet = tweet_whole_train[['OriginalTweet', 'Sentiment']]"
   ]
  },
  {
   "cell_type": "code",
   "execution_count": 7,
   "id": "759dc8fd",
   "metadata": {},
   "outputs": [
    {
     "data": {
      "text/plain": [
       "0"
      ]
     },
     "execution_count": 7,
     "metadata": {},
     "output_type": "execute_result"
    }
   ],
   "source": [
    "np.sum(tweet.isnull().any(axis=1))"
   ]
  },
  {
   "cell_type": "code",
   "execution_count": 8,
   "id": "f91e5808",
   "metadata": {},
   "outputs": [
    {
     "data": {
      "text/plain": [
       "(array(['Extremely Negative', 'Extremely Positive', 'Negative', 'Neutral',\n",
       "        'Positive'], dtype=object),\n",
       " array([ 5481,  6624,  9917,  7713, 11422]))"
      ]
     },
     "execution_count": 8,
     "metadata": {},
     "output_type": "execute_result"
    }
   ],
   "source": [
    "np.unique(tweet.Sentiment, return_counts = True)"
   ]
  },
  {
   "cell_type": "code",
   "execution_count": 9,
   "id": "98a6ab57",
   "metadata": {},
   "outputs": [
    {
     "data": {
      "image/png": "[encoded data removed]",
      "text/plain": [
       "<Figure size 432x288 with 1 Axes>"
      ]
     },
     "metadata": {
      "needs_background": "light"
     },
     "output_type": "display_data"
    }
   ],
   "source": [
    "order = ['Extremely Negative', 'Negative', 'Neutral','Positive','Extremely Positive']\n",
    "sns.countplot(x = 'Sentiment', data = tweet, order = order)\n",
    "plt.xticks(rotation = 90)\n",
    "plt.show()"
   ]
  },
  {
   "cell_type": "markdown",
   "id": "79c4c23b",
   "metadata": {},
   "source": [
    "#### reference: https://www.analyticsvidhya.com/blog/2021/06/twitter-sentiment-analysis-a-nlp-use-case-for-beginners/"
   ]
  },
  {
   "cell_type": "code",
   "execution_count": 10,
   "id": "8aa28e44",
   "metadata": {},
   "outputs": [
    {
     "name": "stderr",
     "output_type": "stream",
     "text": [
      "<ipython-input-10-a4d75c87a5e3>:2: SettingWithCopyWarning: \n",
      "A value is trying to be set on a copy of a slice from a DataFrame.\n",
      "Try using .loc[row_indexer,col_indexer] = value instead\n",
      "\n",
      "See the caveats in the documentation: https://pandas.pydata.org/pandas-docs/stable/user_guide/indexing.html#returning-a-view-versus-a-copy\n",
      "  tweet['OriginalTweet'] = tweet['OriginalTweet'].str.lower()\n"
     ]
    },
    {
     "data": {
      "text/plain": [
       "UserName\n",
       "3799    @menyrbie @phil_gahan @chrisitv https://t.co/i...\n",
       "3800    advice talk to your neighbours family to excha...\n",
       "3801    coronavirus australia: woolworths to give elde...\n",
       "3802    my food stock is not the only one which is emp...\n",
       "3803    me, ready to go at supermarket during the #cov...\n",
       "3804    as news of the regions first confirmed covid-...\n",
       "3805    cashier at grocery store was sharing his insig...\n",
       "3806    was at the supermarket today. didn't buy toile...\n",
       "3807    due to covid-19 our retail store and classroom...\n",
       "3808    for corona prevention,we should stop to buy th...\n",
       "Name: OriginalTweet, dtype: object"
      ]
     },
     "execution_count": 10,
     "metadata": {},
     "output_type": "execute_result"
    }
   ],
   "source": [
    "# lower case all text\n",
    "tweet['OriginalTweet'] = tweet['OriginalTweet'].str.lower()\n",
    "#tweet['OriginalTweet'] = tweet_text \n",
    "tweet['OriginalTweet'].head(10)"
   ]
  },
  {
   "cell_type": "code",
   "execution_count": 11,
   "id": "56651c86",
   "metadata": {},
   "outputs": [],
   "source": [
    "stopwordlist = ['a','ain', 'am', 'an',\n",
    "             'and','any','are', 'as', 'at', 'be',  'before',\n",
    "             'being', 'between', 'by', 'can', 'd', 'do',\n",
    "             'does', 'doing',  'during',  'for', 'from',\n",
    "             'had', 'has', 'have', 'having', 'he', 'her', 'here',\n",
    "             'hers', 'herself', 'him', 'himself', 'his', 'how', 'i', 'in',\n",
    "             'into','is', 'it', 'its', 'itself', 'll', 'm', 'ma',\n",
    "             'me', 'my', 'myself', 'now', 'o', 'of', 'on', 'once',\n",
    "             'or',  'our', 'ours','ourselves',  'own', 're','s', 'she', \"shes\", \n",
    "             't', 'than', 'that', \"thatll\", 'the', 'their', 'theirs', 'them',\n",
    "             'themselves', 'then', 'there', 'these', 'they', 'this', 'those',\n",
    "             'through', 'to', 've', \n",
    "             'we',  'what', 'when', 'where','which','while', 'who', 'whom',\n",
    "             'why', 'will', 'with', 'y', 'you', \"youd\",\"youll\", \"youre\",\n",
    "             \"youve\", 'your', 'yours', 'yourself', 'yourselves']"
   ]
  },
  {
   "cell_type": "code",
   "execution_count": 12,
   "id": "05066cf0",
   "metadata": {},
   "outputs": [
    {
     "name": "stderr",
     "output_type": "stream",
     "text": [
      "<ipython-input-12-6c09ff49c4a4>:4: SettingWithCopyWarning: \n",
      "A value is trying to be set on a copy of a slice from a DataFrame.\n",
      "Try using .loc[row_indexer,col_indexer] = value instead\n",
      "\n",
      "See the caveats in the documentation: https://pandas.pydata.org/pandas-docs/stable/user_guide/indexing.html#returning-a-view-versus-a-copy\n",
      "  tweet['OriginalTweet'] = tweet['OriginalTweet'].apply(lambda text: cleaning_stopwords(text))\n"
     ]
    },
    {
     "data": {
      "text/plain": [
       "UserName\n",
       "3799    @menyrbie @phil_gahan @chrisitv https://t.co/i...\n",
       "3800    advice talk neighbours family exchange phone n...\n",
       "3801    coronavirus australia: woolworths give elderly...\n",
       "3802    food stock not only one empty... please, don't...\n",
       "3803    me, ready go supermarket #covid19 outbreak. no...\n",
       "Name: OriginalTweet, dtype: object"
      ]
     },
     "execution_count": 12,
     "metadata": {},
     "output_type": "execute_result"
    }
   ],
   "source": [
    "STOPWORDS = set(stopwordlist)\n",
    "def cleaning_stopwords(text):\n",
    "    return \" \".join([word for word in str(text).split() if word not in STOPWORDS])\n",
    "tweet['OriginalTweet'] = tweet['OriginalTweet'].apply(lambda text: cleaning_stopwords(text))\n",
    "tweet['OriginalTweet'].head()"
   ]
  },
  {
   "cell_type": "code",
   "execution_count": 13,
   "id": "e22efd5d",
   "metadata": {},
   "outputs": [
    {
     "name": "stderr",
     "output_type": "stream",
     "text": [
      "<ipython-input-13-2bef1d3d1219>:3: SettingWithCopyWarning: \n",
      "A value is trying to be set on a copy of a slice from a DataFrame.\n",
      "Try using .loc[row_indexer,col_indexer] = value instead\n",
      "\n",
      "See the caveats in the documentation: https://pandas.pydata.org/pandas-docs/stable/user_guide/indexing.html#returning-a-view-versus-a-copy\n",
      "  tweet['OriginalTweet'] = tweet['OriginalTweet'].apply(lambda text: remove_at_signs(text))\n"
     ]
    },
    {
     "data": {
      "text/plain": [
       "UserName\n",
       "3799    https://t.co/ifz9fan2pa https://t.co/xx6ghgfzc...\n",
       "3800    advice talk neighbours family exchange phone n...\n",
       "3801    coronavirus australia: woolworths give elderly...\n",
       "3802    food stock not only one empty... please, don't...\n",
       "3803    me, ready go supermarket #covid19 outbreak. no...\n",
       "Name: OriginalTweet, dtype: object"
      ]
     },
     "execution_count": 13,
     "metadata": {},
     "output_type": "execute_result"
    }
   ],
   "source": [
    "def remove_at_signs(text):\n",
    "    return \" \".join([word for word in str(text).split() if not word.startswith('@')])\n",
    "tweet['OriginalTweet'] = tweet['OriginalTweet'].apply(lambda text: remove_at_signs(text))\n",
    "tweet['OriginalTweet'].head()"
   ]
  },
  {
   "cell_type": "code",
   "execution_count": 14,
   "id": "1461c682",
   "metadata": {},
   "outputs": [
    {
     "name": "stderr",
     "output_type": "stream",
     "text": [
      "<ipython-input-14-c0b58da7c31c>:7: SettingWithCopyWarning: \n",
      "A value is trying to be set on a copy of a slice from a DataFrame.\n",
      "Try using .loc[row_indexer,col_indexer] = value instead\n",
      "\n",
      "See the caveats in the documentation: https://pandas.pydata.org/pandas-docs/stable/user_guide/indexing.html#returning-a-view-versus-a-copy\n",
      "  tweet['OriginalTweet']= tweet['OriginalTweet'].apply(lambda x: cleaning_punctuations(x))\n"
     ]
    },
    {
     "data": {
      "text/plain": [
       "UserName\n",
       "3799    httpstcoifz9fan2pa httpstcoxx6ghgfzcc httpstco...\n",
       "3800    advice talk neighbours family exchange phone n...\n",
       "3801    coronavirus australia woolworths give elderly ...\n",
       "3802    food stock not only one empty please dont pani...\n",
       "3803    me ready go supermarket covid19 outbreak not b...\n",
       "Name: OriginalTweet, dtype: object"
      ]
     },
     "execution_count": 14,
     "metadata": {},
     "output_type": "execute_result"
    }
   ],
   "source": [
    "import string\n",
    "english_punctuations = string.punctuation\n",
    "punctuations_list = english_punctuations\n",
    "def cleaning_punctuations(text):\n",
    "    translator = str.maketrans(' ', ' ', punctuations_list)\n",
    "    return text.translate(translator)\n",
    "tweet['OriginalTweet']= tweet['OriginalTweet'].apply(lambda x: cleaning_punctuations(x))\n",
    "tweet['OriginalTweet'].head()"
   ]
  },
  {
   "cell_type": "code",
   "execution_count": null,
   "id": "711b5e09",
   "metadata": {},
   "outputs": [],
   "source": []
  },
  {
   "cell_type": "code",
   "execution_count": 15,
   "id": "9648c664",
   "metadata": {},
   "outputs": [
    {
     "name": "stderr",
     "output_type": "stream",
     "text": [
      "<ipython-input-15-5d62da8390f9>:3: SettingWithCopyWarning: \n",
      "A value is trying to be set on a copy of a slice from a DataFrame.\n",
      "Try using .loc[row_indexer,col_indexer] = value instead\n",
      "\n",
      "See the caveats in the documentation: https://pandas.pydata.org/pandas-docs/stable/user_guide/indexing.html#returning-a-view-versus-a-copy\n",
      "  tweet['OriginalTweet'] = tweet['OriginalTweet'].apply(lambda x: cleaning_URLs(x))\n"
     ]
    },
    {
     "data": {
      "text/plain": [
       "UserName\n",
       "3799                                     stcoxx6ghgfzcc  \n",
       "3800    advice talk neighbours family exchange phone n...\n",
       "3801    coronavirus australia woolworths give elderly ...\n",
       "3802    food stock not only one empty please dont pani...\n",
       "3803    me ready go supermarket covid19 outbreak not b...\n",
       "Name: OriginalTweet, dtype: object"
      ]
     },
     "execution_count": 15,
     "metadata": {},
     "output_type": "execute_result"
    }
   ],
   "source": [
    "def cleaning_URLs(data):\n",
    "    return re.sub('((www[^s]+)|(https[^s]+))',' ',data)\n",
    "tweet['OriginalTweet'] = tweet['OriginalTweet'].apply(lambda x: cleaning_URLs(x))\n",
    "tweet['OriginalTweet'].head()"
   ]
  },
  {
   "cell_type": "code",
   "execution_count": 16,
   "id": "31789fe6",
   "metadata": {},
   "outputs": [
    {
     "name": "stderr",
     "output_type": "stream",
     "text": [
      "<ipython-input-16-bafb6ba00ce7>:3: SettingWithCopyWarning: \n",
      "A value is trying to be set on a copy of a slice from a DataFrame.\n",
      "Try using .loc[row_indexer,col_indexer] = value instead\n",
      "\n",
      "See the caveats in the documentation: https://pandas.pydata.org/pandas-docs/stable/user_guide/indexing.html#returning-a-view-versus-a-copy\n",
      "  tweet['OriginalTweet'] = tweet['OriginalTweet'].apply(lambda x: cleaning_repeating_char(x))\n"
     ]
    },
    {
     "data": {
      "text/plain": [
       "UserName\n",
       "3799                                     stcoxx6ghgfzcc  \n",
       "3800    advice talk neighbours family exchange phone n...\n",
       "3801    coronavirus australia woolworths give elderly ...\n",
       "3802    food stock not only one empty please dont pani...\n",
       "3803    me ready go supermarket covi19 outbreak not be...\n",
       "3804    news regions first confirmed covi19 case came...\n",
       "3805    cashier grocery store was sharing insights cov...\n",
       "3806    was supermarket today didnt buy toilet paper r...\n",
       "3807    due covi19 retail store classroom atlanta not ...\n",
       "3808    corona preventionwe should stop buy things cas...\n",
       "Name: OriginalTweet, dtype: object"
      ]
     },
     "execution_count": 16,
     "metadata": {},
     "output_type": "execute_result"
    }
   ],
   "source": [
    "def cleaning_repeating_char(text):\n",
    "    return re.sub(r'(.)1+', r'1', text)\n",
    "tweet['OriginalTweet'] = tweet['OriginalTweet'].apply(lambda x: cleaning_repeating_char(x))\n",
    "tweet['OriginalTweet'].head(10)"
   ]
  },
  {
   "cell_type": "code",
   "execution_count": 17,
   "id": "e3fc8e1b",
   "metadata": {},
   "outputs": [
    {
     "name": "stderr",
     "output_type": "stream",
     "text": [
      "<ipython-input-17-39d2e1561b65>:3: SettingWithCopyWarning: \n",
      "A value is trying to be set on a copy of a slice from a DataFrame.\n",
      "Try using .loc[row_indexer,col_indexer] = value instead\n",
      "\n",
      "See the caveats in the documentation: https://pandas.pydata.org/pandas-docs/stable/user_guide/indexing.html#returning-a-view-versus-a-copy\n",
      "  tweet['OriginalTweet'] = tweet['OriginalTweet'].apply(lambda x: cleaning_numbers(x))\n"
     ]
    },
    {
     "data": {
      "text/plain": [
       "UserName\n",
       "3799                                      stcoxxghgfzcc  \n",
       "3800    advice talk neighbours family exchange phone n...\n",
       "3801    coronavirus australia woolworths give elderly ...\n",
       "3802    food stock not only one empty please dont pani...\n",
       "3803    me ready go supermarket covi outbreak not beca...\n",
       "3804    news regions first confirmed covi case came o...\n",
       "3805    cashier grocery store was sharing insights cov...\n",
       "3806    was supermarket today didnt buy toilet paper r...\n",
       "3807    due covi retail store classroom atlanta not op...\n",
       "3808    corona preventionwe should stop buy things cas...\n",
       "Name: OriginalTweet, dtype: object"
      ]
     },
     "execution_count": 17,
     "metadata": {},
     "output_type": "execute_result"
    }
   ],
   "source": [
    "def cleaning_numbers(data):\n",
    "    return re.sub('[0-9]+', '', data)\n",
    "tweet['OriginalTweet'] = tweet['OriginalTweet'].apply(lambda x: cleaning_numbers(x))\n",
    "tweet['OriginalTweet'].head(10)"
   ]
  },
  {
   "cell_type": "code",
   "execution_count": 18,
   "id": "fc856e1c",
   "metadata": {},
   "outputs": [
    {
     "name": "stderr",
     "output_type": "stream",
     "text": [
      "<ipython-input-18-bafb6ba00ce7>:3: SettingWithCopyWarning: \n",
      "A value is trying to be set on a copy of a slice from a DataFrame.\n",
      "Try using .loc[row_indexer,col_indexer] = value instead\n",
      "\n",
      "See the caveats in the documentation: https://pandas.pydata.org/pandas-docs/stable/user_guide/indexing.html#returning-a-view-versus-a-copy\n",
      "  tweet['OriginalTweet'] = tweet['OriginalTweet'].apply(lambda x: cleaning_repeating_char(x))\n"
     ]
    },
    {
     "data": {
      "text/plain": [
       "UserName\n",
       "3799                                      stcoxxghgfzcc  \n",
       "3800    advice talk neighbours family exchange phone n...\n",
       "3801    coronavirus australia woolworths give elderly ...\n",
       "3802    food stock not only one empty please dont pani...\n",
       "3803    me ready go supermarket covi outbreak not beca...\n",
       "3804    news regions first confirmed covi case came o...\n",
       "3805    cashier grocery store was sharing insights cov...\n",
       "3806    was supermarket today didnt buy toilet paper r...\n",
       "3807    due covi retail store classroom atlanta not op...\n",
       "3808    corona preventionwe should stop buy things cas...\n",
       "Name: OriginalTweet, dtype: object"
      ]
     },
     "execution_count": 18,
     "metadata": {},
     "output_type": "execute_result"
    }
   ],
   "source": [
    "def cleaning_repeating_char(text):\n",
    "    return re.sub(r'(.)1+', r'1', text)\n",
    "tweet['OriginalTweet'] = tweet['OriginalTweet'].apply(lambda x: cleaning_repeating_char(x))\n",
    "tweet['OriginalTweet'].head(10)"
   ]
  },
  {
   "cell_type": "code",
   "execution_count": 19,
   "id": "258cb3d6",
   "metadata": {},
   "outputs": [],
   "source": [
    "# # Get the first original tweet to learn how tweet tokenizer works\n",
    "# Try_tweet1 = tweet.iloc[0, 3]\n",
    "# print(Try_tweet1)\n",
    "# print(tweet.iloc[0, 4])\n",
    "# Try_token = nltk.tokenize.TweetTokenizer().tokenize(Try_tweet1)\n",
    "# print(Try_token)"
   ]
  },
  {
   "cell_type": "code",
   "execution_count": 20,
   "id": "2efe2d18",
   "metadata": {},
   "outputs": [
    {
     "name": "stderr",
     "output_type": "stream",
     "text": [
      "<ipython-input-20-116119311db9>:4: SettingWithCopyWarning: \n",
      "A value is trying to be set on a copy of a slice from a DataFrame.\n",
      "Try using .loc[row_indexer,col_indexer] = value instead\n",
      "\n",
      "See the caveats in the documentation: https://pandas.pydata.org/pandas-docs/stable/user_guide/indexing.html#returning-a-view-versus-a-copy\n",
      "  tweet['Tokens'] = [tknzr.tokenize(t) for t in tweet['OriginalTweet']]\n"
     ]
    },
    {
     "data": {
      "text/plain": [
       "UserName\n",
       "3799                                      [stcoxxghgfzcc]\n",
       "3800    [advice, talk, neighbours, family, exchange, p...\n",
       "3801    [coronavirus, australia, woolworths, give, eld...\n",
       "3802    [food, stock, not, only, one, empty, please, d...\n",
       "3803    [me, ready, go, supermarket, covi, outbreak, n...\n",
       "Name: Tokens, dtype: object"
      ]
     },
     "execution_count": 20,
     "metadata": {},
     "output_type": "execute_result"
    }
   ],
   "source": [
    "# Tokenize the OriginalTweet text\n",
    "from nltk.tokenize import TweetTokenizer\n",
    "tknzr = TweetTokenizer()\n",
    "tweet['Tokens'] = [tknzr.tokenize(t) for t in tweet['OriginalTweet']]\n",
    "tweet['Tokens'].head()"
   ]
  },
  {
   "cell_type": "code",
   "execution_count": 21,
   "id": "0c0e38c6",
   "metadata": {},
   "outputs": [
    {
     "name": "stderr",
     "output_type": "stream",
     "text": [
      "<ipython-input-21-9e413b8e77ce>:5: SettingWithCopyWarning: \n",
      "A value is trying to be set on a copy of a slice from a DataFrame.\n",
      "Try using .loc[row_indexer,col_indexer] = value instead\n",
      "\n",
      "See the caveats in the documentation: https://pandas.pydata.org/pandas-docs/stable/user_guide/indexing.html#returning-a-view-versus-a-copy\n",
      "  tweet['Tokens']= tweet['Tokens'].apply(lambda x: stemming_on_text(x))\n"
     ]
    },
    {
     "data": {
      "text/plain": [
       "UserName\n",
       "3799                                      [stcoxxghgfzcc]\n",
       "3800    [advice, talk, neighbours, family, exchange, p...\n",
       "3801    [coronavirus, australia, woolworths, give, eld...\n",
       "3802    [food, stock, not, only, one, empty, please, d...\n",
       "3803    [me, ready, go, supermarket, covi, outbreak, n...\n",
       "3804    [news, region, , s, first, confirmed, covi, c...\n",
       "3805    [cashier, grocery, store, was, sharing, insigh...\n",
       "3806    [was, supermarket, today, didnt, buy, toilet, ...\n",
       "3807    [due, covi, retail, store, classroom, atlanta,...\n",
       "3808    [corona, preventionwe, should, stop, buy, thin...\n",
       "Name: Tokens, dtype: object"
      ]
     },
     "execution_count": 21,
     "metadata": {},
     "output_type": "execute_result"
    }
   ],
   "source": [
    "st = nltk.PorterStemmer()\n",
    "def stemming_on_text(data):\n",
    "    text = [st.stem(word) for word in data]\n",
    "    return data\n",
    "tweet['Tokens']= tweet['Tokens'].apply(lambda x: stemming_on_text(x))\n",
    "tweet['Tokens'].head(10)"
   ]
  },
  {
   "cell_type": "code",
   "execution_count": 22,
   "id": "d9735cce",
   "metadata": {},
   "outputs": [
    {
     "name": "stderr",
     "output_type": "stream",
     "text": [
      "<ipython-input-22-da252269bd34>:5: SettingWithCopyWarning: \n",
      "A value is trying to be set on a copy of a slice from a DataFrame.\n",
      "Try using .loc[row_indexer,col_indexer] = value instead\n",
      "\n",
      "See the caveats in the documentation: https://pandas.pydata.org/pandas-docs/stable/user_guide/indexing.html#returning-a-view-versus-a-copy\n",
      "  tweet['Tokens'] = tweet['Tokens'].apply(lambda x: lemmatizer_on_text(x))\n"
     ]
    },
    {
     "data": {
      "text/plain": [
       "UserName\n",
       "3799                                      [stcoxxghgfzcc]\n",
       "3800    [advice, talk, neighbours, family, exchange, p...\n",
       "3801    [coronavirus, australia, woolworths, give, eld...\n",
       "3802    [food, stock, not, only, one, empty, please, d...\n",
       "3803    [me, ready, go, supermarket, covi, outbreak, n...\n",
       "3804    [news, region, , s, first, confirmed, covi, c...\n",
       "3805    [cashier, grocery, store, was, sharing, insigh...\n",
       "3806    [was, supermarket, today, didnt, buy, toilet, ...\n",
       "3807    [due, covi, retail, store, classroom, atlanta,...\n",
       "3808    [corona, preventionwe, should, stop, buy, thin...\n",
       "Name: Tokens, dtype: object"
      ]
     },
     "execution_count": 22,
     "metadata": {},
     "output_type": "execute_result"
    }
   ],
   "source": [
    "lm = nltk.stem.WordNetLemmatizer()\n",
    "def lemmatizer_on_text(data):\n",
    "    text = [lm.lemmatize(word) for word in data]\n",
    "    return data\n",
    "tweet['Tokens'] = tweet['Tokens'].apply(lambda x: lemmatizer_on_text(x))\n",
    "tweet['Tokens'].head(10)"
   ]
  },
  {
   "cell_type": "code",
   "execution_count": 23,
   "id": "7006bf1c",
   "metadata": {},
   "outputs": [
    {
     "name": "stdout",
     "output_type": "stream",
     "text": [
      "UserName\n",
      "3799                                        stcoxxghgfzcc\n",
      "3800    advice talk neighbours family exchange phone n...\n",
      "3801    coronavirus australia woolworths give elderly ...\n",
      "3802    food stock not only one empty please dont pani...\n",
      "3803    me ready go supermarket covi outbreak not beca...\n",
      "3804    news region  s first confirmed covi case came...\n",
      "3805    cashier grocery store was sharing insights cov...\n",
      "3806    was supermarket today didnt buy toilet paper r...\n",
      "3807    due covi retail store classroom atlanta not op...\n",
      "3808    corona preventionwe should stop buy things cas...\n",
      "Name: text, dtype: object\n"
     ]
    },
    {
     "name": "stderr",
     "output_type": "stream",
     "text": [
      "<ipython-input-23-cc0ea48d3dc6>:1: SettingWithCopyWarning: \n",
      "A value is trying to be set on a copy of a slice from a DataFrame.\n",
      "Try using .loc[row_indexer,col_indexer] = value instead\n",
      "\n",
      "See the caveats in the documentation: https://pandas.pydata.org/pandas-docs/stable/user_guide/indexing.html#returning-a-view-versus-a-copy\n",
      "  tweet['text'] = tweet[\"Tokens\"].map(' '.join)\n"
     ]
    }
   ],
   "source": [
    "tweet['text'] = tweet[\"Tokens\"].map(' '.join)\n",
    "print(tweet['text'].head(10))"
   ]
  },
  {
   "cell_type": "code",
   "execution_count": 24,
   "id": "6312eb3f",
   "metadata": {},
   "outputs": [],
   "source": [
    "# from sklearn.feature_extraction.text import CountVectorizer  \n",
    "# from sklearn.model_selection import train_test_split \n",
    "\n",
    "# X = tweet['text'] \n",
    "\n",
    "# y = tweet['Sentiment']\n",
    "\n",
    "# X_train, X_test, y_train, y_test = train_test_split(X, y, test_size = 0.25, random_state = 1)\n",
    "\n",
    "# Count_vect = CountVectorizer(stop_words=\"english\")\n",
    "# Count_train = Count_vect.fit_transform(X_train)\n",
    "\n",
    "# Count_test = Count_vect.transform(X_test)\n",
    "\n",
    "# print(Count_vect.get_feature_names()[:10])"
   ]
  },
  {
   "cell_type": "code",
   "execution_count": 25,
   "id": "bd38fc25",
   "metadata": {},
   "outputs": [
    {
     "name": "stderr",
     "output_type": "stream",
     "text": [
      "/Users/Ling/opt/anaconda3/lib/python3.8/site-packages/sklearn/preprocessing/_label.py:860: UserWarning: unknown class(es) ['aaaaakubosan', 'aaannnddd', 'aahh', 'aajeevika', 'aaoophth', 'abass', 'abceyewitness', 'abhimanyu', 'abi', 'abides', 'abilty', 'ablebodied', 'ableism', 'abo', 'abourezk', 'aboutam', 'aboutt', 'abrasions', 'abruptly', 'absinthe', 'abtdeath', 'abusers', 'abyss', 'abyssals', 'acb', 'accentuated', 'acclaimenergy', 'accomodate', 'accomodations', 'accord', 'accosted', 'accountant', 'ace', 'acknowledges', 'acknowledgethank', 'acompañado', 'actionfigures', 'acton', 'actuality', 'adame', 'adapters', 'adayinthelifeofselfisolation', 'adaywithoutapeanutbutter', 'adchange', 'additions', 'adebis', 'adeel', 'adheres', 'adhesive', 'adi', 'adidas', 'adityanaths', 'adli', 'adminerrorvirusfirms', 'administer', 'administrativo', 'admiralty', 'admiring', 'admiti', 'admittedly', 'adoptadas', 'adorables', 'advancing', 'advant', 'adventurous', 'adverse', 'advertisinread', 'adviceamp', 'adviceline', 'aerated', 'aerion', 'aewdynamite', 'afcajaxen', 'affable', 'affair', 'affecteds', 'affidavit', 'affiliations', 'affinity', 'affirmed', 'affirming', 'afflicted', 'afghanis', 'africanamericans', 'africanunion', 'afsc', 'afterami', 'afterday', 'afternoonoh', 'againt', 'againyou', 'agape', 'agarwal', 'ageconcern', 'agedcare', 'agendausacoronavirus', 'aggarwal', 'aggregator', 'aghotline', 'agitate', 'agjefflandry', 'agreeements', 'agreeing', 'agriculturalsector', 'aguada', 'aguete', 'agwtitter', 'ahah', 'ahmedabadpolice', 'aholddelhaize', 'ahy', 'ailbaba', 'aimless', 'aipowered', 'aircargostrong', 'aires', 'airfares', 'airtravelcruise', 'airways', 'airy', 'ajah', 'ajrnews', 'akash', 'akkar', 'aladi', 'alajuela', 'alaykum', 'alberto', 'albion', 'alcohols', 'alcoholsanitizer', 'aldecoa', 'aldgateco', 'aldibelgie', 'aldicheckout', 'aleaprotects', 'alerta', 'alerting', 'alertpublic', 'ales', 'alexkuptsikevich', 'alexstafford', 'alfonso', 'alicechan', 'alicia', 'alizeh', 'alizehshah', 'alkalinewater', 'alkapur', 'allay', 'allcash', 'allegiance', 'allender', 'allentown', 'allergen', 'allergictraveler', 'alles', 'allisonsflour', 'allocations', 'allowancewhat', 'allsenator', 'allthetime', 'alltoofamiliar', 'almostm', 'almásfüzit', 'aloeveragel', 'alok', 'alphabites', 'als', 'alterationtamperingthis', 'alternately', 'alternatively', 'alternativethe', 'altos', 'altrincham', 'alwayscoronavirus', 'alwayswearmask', 'alyssa', 'amadorecounty', 'amandaharrissrftnhsuk', 'amandahestermy', 'amaravati', 'amazondeal', 'amazonnancy', 'amazonpackages', 'ambassadors', 'ambient', 'ambler', 'ambos', 'amenable', 'americanlogistics', 'amg', 'amharic', 'amir', 'ammex', 'amok', 'amounted', 'ampamp', 'ampapplause', 'ampcarriers', 'ampcold', 'amplocal', 'ampmasks', 'ampmost', 'ampput', 'ampquick', 'ampsanitize', 'ampspain', 'amptorrington', 'amptreating', 'amritsari', 'ams', 'amusement', 'amwalalghaden', 'amwritersclub', 'amwtf', 'amznlike', 'anaesthetists', 'analogies', 'analytic', 'anarchy', 'ancestry', 'ancients', 'andere', 'andhar', 'andno', 'andrewholnessjm', 'andromedastrain', 'anetafelix', 'anew', 'angell', 'angelo', 'angelou', 'angelsoft', 'angrier', 'aniprnewswire', 'ankles', 'ann', 'annabel', 'annhui', 'annie', 'annies', 'annihilate', 'annonce', 'annou', 'announcesm', 'annoys', 'anoh', 'anoka', 'anotherto', 'ant', 'antar', 'antichina', 'anticipatory', 'anticounterfeit', 'antidiscrimination', 'antigovernment', 'antinatalism', 'antioxidants', 'antiprofiteering', 'antiquated', 'antisocial', 'antistatic', 'antmiddleton', 'anx', 'anyand', 'anytakers', 'anywaysocialdistancing', 'aogb', 'aosafety', 'apac', 'apas', 'apcoinsight', 'apha', 'apocaliptic', 'apologetically', 'apologized', 'apologizes', 'apparentlycoronavirus', 'appearingst', 'appendicitis', 'appetites', 'appledore', 'applepay', 'applepodcasts', 'approvall', 'aprender', 'apricot', 'aprth', 'apts', 'apzweb', 'aquatic', 'aquilo', 'ara', 'arbitrarily', 'ardene', 'areasjust', 'arehandling', 'arenas', 'areslowlycoming', 'aricle', 'ariel', 'ariels', 'arkansans', 'arleg', 'armesdeutschland', 'armour', 'armstrong', 'armthey', 'armyforfooddistribution', 'aromatics', 'arpreservation', 'arpx', 'arriveno', 'arrow', 'arsd', 'artbarsc', 'artdrawing', 'artichokes', 'artislife', 'artistinresidence', 'artnaturals', 'artoftheday', 'artofthewipe', 'artseries', 'arum', 'aruna', 'aryzta', 'asakusa', 'ashish', 'ashishkjha', 'ashleytisdale', 'asi', 'asiaeurope', 'asiamiddle', 'asianlooking', 'asikho', 'asimanshidebut', 'asish', 'askforhelp', 'asksuzy', 'aspecti', 'asphalt', 'asphaltlegends', 'aspirations', 'asps', 'assad', 'assails', 'assalam', 'assassins', 'assembles', 'assert', 'assertive', 'asserts', 'assessments', 'assetbacked', 'associationwhose', 'assoli', 'astoria', 'astrocyte', 'astrology', 'athanasia', 'atheistic', 'ating', 'atk', 'atouchofpositivity', 'attain', 'attends', 'attestations', 'attributing', 'atvthw', 'atx', 'aubergine', 'audiencesstacydebroff', 'audit', 'augment', 'ausgangssperrejetzt', 'aust', 'austinbased', 'austrac', 'australiamwe', 'australiansbeingaustralians', 'austrian', 'authored', 'authoritiesthe', 'authorize', 'authorizes', 'authorsbuyindie', 'autoimmunedisease', 'autoindustry', 'aux', 'availabe', 'availablity', 'availlable', 'avalanche', 'avatrade', 'averaged', 'aversion', 'avitoonz', 'avocado', 'avod', 'avoidingtheshops', 'awarness', 'awayselling', 'awkwardly', 'axalta', 'axiety', 'ayannapressley', 'ayeartoremember', 'azadganjfree', 'azis', 'azo', 'azure', 'babbling', 'babyboom', 'babyformula', 'backand', 'backbreaking', 'backbritishfarming', 'backdoorboris', 'backdown', 'backpackcovi', 'backpackers', 'backpackingbear', 'backseat', 'backstronger', 'backth', 'backtobasics', 'backtracking', 'bacps', 'bacteriaoz', 'badbusiness', 'badenwuerttemberg', 'badlyneeded', 'bado', 'badservice', 'baggies', 'bagkg', 'bagscontainers', 'baguio', 'bahamians', 'bahay', 'bahrami', 'bakerysupermarketchemist', 'bakhat', 'bakhtawarbz', 'bakingstrong', 'balaclava', 'baldwin', 'ballingdon', 'ballymena', 'balognavirus', 'balsamic', 'baluchestan', 'balvaneda', 'bampq', 'bampr', 'banda', 'bandula', 'bandwagon', 'bandwidth', 'banish', 'banishthebeast', 'banksouth', 'bankssheltersorganizations', 'bankuetuk', 'banlieue', 'banslimits', 'banter', 'bants', 'barbados', 'barbecue', 'barbershop', 'barc', 'barmouth', 'barnstaple', 'baro', 'barrf', 'barrio', 'bartender', 'bartering', 'bas', 'basketcart', 'basyc', 'batavia', 'bates', 'bathurst', 'batmeat', 'battering', 'baum', 'bawü', 'bayh', 'bayhdole', 'baymen', 'bayonne', 'bazenga', 'bbcboxing', 'bbcfootball', 'bbcnewsnight', 'bbcnuala', 'bblsday', 'bbnaija', 'bcaddicts', 'bch', 'bck', 'bcmentalhealth', 'bcus', 'beak', 'bearded', 'beardedbroz', 'beardoil', 'beasley', 'beautiestime', 'beautybrands', 'beawareshowyoucare', 'becos', 'bedlam', 'bedpans', 'bedsproviding', 'bee', 'beefpotatoesbreadsoup', 'beemit', 'beerstogo', 'beerwinemerchgift', 'befairtoall', 'beforecoronavirus', 'beforeeverytime', 'beforethedays', 'befreit', 'begged', 'behaviorchange', 'behindtheback', 'behqviorql', 'beki', 'belated', 'beleaguered', 'belgavi', 'belgians', 'beliefs', 'believable', 'bellcanada', 'bellend', 'bellies', 'belongatbasf', 'bender', 'benifitting', 'beratur', 'bergen', 'bergneustadt', 'berichtet', 'berkwatch', 'berliner', 'berlinwine', 'bernanke', 'bernieforpresident', 'berns', 'berpusupusu', 'berryc', 'bes', 'besafeeveryone', 'besieged', 'bespokefurniture', 'bestnorthamptonrealtors', 'bestoffer', 'bestofpeople', 'betelnut', 'bethatperson', 'betterment', 'bettersafethansorry', 'beverlyhills', 'bewildering', 'bexar', 'bgl', 'bglutenfree', 'bhatti', 'bhaw', 'bht', 'bhukari', 'bibs', 'bicyclesastransport', 'bidenharris', 'bidetstoilets', 'bigbiz', 'bigc', 'bigcommerce', 'bigfive', 'bighearted', 'bigusatrip', 'biked', 'biko', 'bilal', 'bilateral', 'billa', 'billgatesofhell', 'billinghealth', 'billywizztransport', 'bimco', 'bina', 'bind', 'bingewatch', 'biocidal', 'biodegradable', 'biohazardous', 'biohazards', 'biomedical', 'biopharma', 'biota', 'biotechs', 'birdsall', 'birdsong', 'birthed', 'births', 'bisleri', 'bitdefender', 'bitten', 'bittertruth', 'bitwise', 'bizconnect', 'bizom', 'bizopppict', 'bkk', 'bks', 'blackmarketears', 'blackops', 'blackseries', 'blanco', 'blathered', 'blathering', 'blaze', 'bldg', 'bleachbag', 'bleakest', 'blessedbeyondmeasure', 'blight', 'blimmin', 'blinky', 'blissfully', 'blizzard', 'blockchains', 'blocker', 'bloggersrequired', 'bloquons', 'blouse', 'bluecollar', 'blueprint', 'bluestarcamo', 'bluffs', 'bmwgroup', 'bness', 'bnm', 'bnweek', 'boardofdirectors', 'bobo', 'bod', 'boerne', 'bogg', 'boggles', 'bogglingly', 'bohlen', 'boils', 'bokuto', 'boleh', 'boloka', 'bombay', 'bombaykitchen', 'bonanza', 'bondor', 'bondyields', 'bonedrygrocerystores', 'boneless', 'bonnbread', 'booker', 'bookmakers', 'bookshop', 'boomed', 'boomplay', 'booster', 'boostyourimmunesystem', 'borawski', 'borde', 'borderclosure', 'boreantine', 'boreda', 'boredinthehouse', 'borisajoke', 'borisjohnsondowningstreet', 'bosbizjess', 'bostoncollege', 'bostonfed', 'bostonglobe', 'bostonians', 'bothmildlysick', 'botox', 'boughtmillon', 'boundaries', 'bounds', 'bourgeois', 'bourgie', 'bourret', 'bowel', 'bowing', 'bowls', 'boycottbandq', 'boycotting', 'bozeman', 'bozombies', 'braced', 'bracken', 'bradco', 'braided', 'brainer', 'brainstorm', 'braintrust', 'braker', 'bramalea', 'brambilla', 'brandenburg', 'brandis', 'brandverse', 'brantford', 'brasileño', 'brazen', 'brazilhealthofficialconfirmfirstindigenouscoronaviruscaseamazonchiefbezossaydonatinfoodcharitycovipandemictrumpcampaigndemandjeffsessioncampaignenddelusionalinvokingtiespresidentturkey', 'brazos', 'breached', 'breadmachines', 'breadmilktoilet', 'breakdownthey', 'breakinghindustan', 'breeder', 'breeders', 'bremen', 'brethren', 'brett', 'brevardcounty', 'brgy', 'bribe', 'bridgend', 'briefed', 'brightens', 'bringt', 'brittain', 'broadening', 'broady', 'brohappy', 'brokered', 'brood', 'brookly', 'brooklynpodcast', 'broom', 'broz', 'bruna', 'brush', 'brutalised', 'bse', 'btmobile', 'buckscounty', 'bueno', 'buenos', 'buffalobill', 'buffalonian', 'buffers', 'buffooninoffice', 'buffoons', 'buggered', 'bugging', 'bukas', 'bulandshahr', 'bulkwhere', 'bulldozed', 'bulls', 'bullshitwatch', 'bullwhip', 'bummed', 'bundling', 'burgeoning', 'burgerville', 'burglary', 'burgum', 'burials', 'burna', 'burnout', 'burnt', 'bursts', 'buscando', 'bushes', 'bushey', 'businessadvice', 'businessbecause', 'businesscontinuity', 'businessesandcompanies', 'businessimpact', 'businessstrategyandprofitability', 'businesstips', 'businesstransformation', 'businesswise', 'businesswomen', 'buti', 'butshe', 'buttermilk', 'butters', 'butthole', 'buttpaper', 'buttwipes', 'butyeah', 'buybuybuy', 'buyingis', 'buyingthanks', 'buymo', 'buyneed', 'buyshares', 'buystocks', 'buyup', 'buywrs', 'buzzers', 'byhams', 'byme', 'cabo', 'caboverde', 'cabs', 'cacchio', 'cadena', 'caetgories', 'cafecreme', 'cafés', 'calcs', 'calculateds', 'caldwell', 'calgarybased', 'callahan', 'callateidiota', 'callingwood', 'callitout', 'callout', 'callstexts', 'calltoaction', 'calme', 'calmly', 'calmlyshopping', 'calms', 'cambodia', 'cambodian', 'cambrial', 'camelcamelcamel', 'camembert', 'camioneros', 'campbells', 'campws', 'canalcartage', 'canalys', 'cancell', 'cancelthat', 'caneedsyou', 'cann', 'cannabisproducts', 'cannedfood', 'cannibals', 'cannons', 'cannt', 'canon', 'canonspark', 'canpo', 'canre', 'canshould', 'canteen', 'cantfindshit', 'cantina', 'canttouchthis', 'capecod', 'capgemini', 'capitalising', 'capitalismistheproblem', 'capitec', 'capitulation', 'caprice', 'capt', 'carafoil', 'cardano', 'cardealers', 'cardiotwitter', 'carefulness', 'caregiver', 'carelessness', 'cargostevedores', 'cargotecture', 'carifika', 'caringisforlifenotjustforcoronavirus', 'cariocas', 'carlsberg', 'carmel', 'carmen', 'carneys', 'carnicerias', 'caronavirusmemes', 'caronavirusupdate', 'carpe', 'carrefourbe', 'carrick', 'carriersdistributors', 'carside', 'carters', 'carting', 'cascade', 'cashacceptance', 'cashappfriday', 'cashews', 'cashflows', 'cashlesspayments', 'cashpig', 'cashtag', 'casinogames', 'casper', 'cassava', 'castleton', 'castoff', 'cataloging', 'catchphrase', 'categoryspecific', 'cathyadamsrealtor', 'catinthehat', 'cattlemen', 'causeway', 'cautionary', 'cbdd', 'cbes', 'cbr', 'cbut', 'ccea', 'cchwf', 'ccl', 'ccseries', 'ccu', 'cdclied', 'cdf', 'cdnbiz', 'ceasefire', 'ceba', 'cecilia', 'cedar', 'cefaratti', 'celebfcfamily', 'celebrateourcinemas', 'celebritiesarenotteachers', 'celine', 'cellars', 'censor', 'centaine', 'centipede', 'centralafricanrepublic', 'centralgovernment', 'centresprisonssenresidentialshelteredsupported', 'centro', 'centsapound', 'cenu', 'cer', 'cerebralpalsy', 'cerebralpalsywould', 'ceremony', 'cerfew', 'cern', 'certificatescigarettes', 'cesspit', 'cfgi', 'cfos', 'cfrlife', 'cgcsas', 'chadwick', 'chainwhere', 'chakaria', 'chakravarty', 'chaldeans', 'chandigarh', 'chandio', 'chandrababu', 'changerthis', 'changinghabits', 'chao', 'chapel', 'chapman', 'chargeback', 'charityshopfind', 'charliebaker', 'charliemackesy', 'charlottenc', 'chartered', 'chastising', 'chatham', 'chauffeur', 'chavez', 'cheappetrolmelbourne', 'cheddar', 'chefanand', 'chefcards', 'cheffed', 'chefoninstagram', 'chek', 'chemotherapy', 'chen', 'cheshire', 'cheung', 'chevronst', 'chewys', 'chezamy', 'chia', 'chiangmai', 'chianti', 'chiasson', 'chicagotribune', 'chilchinbeto', 'childpoverty', 'childresistant', 'chiles', 'chili', 'chinaliespeopledie', 'chinamustpay', 'chinathey', 'chinav', 'chines', 'chineseasian', 'chipping', 'chiropractorsnaturopaths', 'chittagongs', 'chkout', 'chlorex', 'chn', 'chocolatedrink', 'choctaw', 'chokes', 'cholle', 'choppy', 'choresdone', 'chorley', 'chorniazichor', 'chrash', 'chrest', 'chrisingham', 'christmass', 'christs', 'chronister', 'chudy', 'chung', 'chvíli', 'chyna', 'ciao', 'ciapp', 'cierretotal', 'ciggies', 'ciggy', 'cimas', 'cindy', 'cipla', 'circu', 'circulareconomy', 'cirisis', 'cis', 'cissychow', 'ciudadano', 'civilizd', 'civilorder', 'claimsquestions', 'claimsso', 'clamber', 'clancy', 'clapforall', 'clapforteachers', 'clasping', 'clasps', 'classics', 'classifiedst', 'classrooms', 'claudia', 'clawing', 'clc', 'clchan', 'cle', 'cleanass', 'cleaningtips', 'cleanroom', 'cleanser', 'clearair', 'clearances', 'clearfield', 'clearif', 'clearwater', 'clemt', 'clenching', 'clene', 'cletus', 'clickers', 'climateaction', 'climatefriendlyto', 'clipped', 'cliques', 'clivot', 'clockampcollect', 'closedbecause', 'closeddoor', 'closedits', 'closeeverything', 'closertogetherstayingapart', 'closeyourdoors', 'clotted', 'clouded', 'cludger', 'clumsy', 'clyde', 'cmc', 'cmd', 'cme', 'cmg', 'cmhc', 'cmomaharashtra', 'cnc', 'cnt', 'cnuts', 'coasttocoast', 'coca', 'cockles', 'cocoabeach', 'cocobod', 'coconut', 'cocoonmaldives', 'coddle', 'codi', 'codice', 'coffeecovi', 'coffeefilter', 'coffeeshop', 'coffins', 'cogame', 'cohabitants', 'coi', 'coincidental', 'coincides', 'cola', 'colab', 'coldlike', 'collapsi', 'collateral', 'collates', 'collegecovid', 'collie', 'colonel', 'colonized', 'coloringbook', 'coloured', 'colouring', 'columbusohio', 'colvin', 'combats', 'combinator', 'combustion', 'comedic', 'comenever', 'comeonboris', 'comers', 'comest', 'comida', 'comingle', 'comingstock', 'comissioner', 'commanded', 'commb', 'commish', 'commoditymarket', 'commoning', 'commu', 'communists', 'communitybased', 'communitycountry', 'communityheros', 'communitylove', 'communitysupported', 'communitythatcares', 'comparatively', 'compassvale', 'compel', 'compelled', 'compels', 'competiton', 'complementary', 'composers', 'comprehending', 'compton', 'concessions', 'conciencia', 'concludes', 'concord', 'concumer', 'concurrence', 'condomssscovi', 'coned', 'cones', 'confessing', 'confidentially', 'confinementgeneral', 'confirman', 'confounding', 'confrontational', 'connectedtv', 'connecti', 'connector', 'conormcgregor', 'conrad', 'conservation', 'consolesmobile', 'consolidations', 'conspiracies', 'const', 'constituencies', 'constitutional', 'constructed', 'consults', 'consum', 'consumeraction', 'consumerattitudes', 'consumercellular', 'consumerfinance', 'consumergeneral', 'consumergenerated', 'consumeroagstatemdus', 'consumerrelated', 'consumertrend', 'consumerwa', 'consumes', 'contactfree', 'containcovi', 'containednigeria', 'containerhandling', 'contamos', 'contemplated', 'contemporary', 'continuesgracetobin', 'contracostacounty', 'contractual', 'contradicting', 'contraste', 'controled', 'controlledline', 'convicted', 'convinces', 'convinience', 'conway', 'cooling', 'coolm', 'coordinatedth', 'cooties', 'copingwithcovid', 'copying', 'cordonedbycorona', 'cords', 'corelogic', 'cores', 'coriander', 'corker', 'cornered', 'cornershops', 'cornerside', 'cornet', 'cornfed', 'cornfedinperu', 'cornish', 'cornsoy', 'cornteen', 'coroang', 'coroma', 'coronaangst', 'coronabelgie', 'coronacast', 'coronachecks', 'coronacooties', 'coronafreepakistan', 'coronag', 'coronahelpers', 'coronahero', 'coronahygiene', 'coronainghana', 'coronainkarnataka', 'coronainkenya', 'coronakodhona', 'coronakohaibhagana', 'coronamisconceptions', 'coronamyths', 'coronapalooza', 'coronaprotection', 'coronas', 'coronasverige', 'coronasweden', 'coronavirusaler', 'coronavirusaltbae', 'coronavirusbc', 'coronavirusby', 'coronavirusdiagnostic', 'coronavirusencolombia', 'coronavirusguy', 'coronavirusifpri', 'coronavirusin', 'coronavirusjapan', 'coronaviruslife', 'coronaviruslike', 'coronaviruslondon', 'coronavirusmaroc', 'coronavirusoutbreaks', 'coronavirusp', 'coronavirusperu', 'coronaviruspetpeeves', 'coronavirusscammers', 'coronavirusshutdown', 'coronavirusstockpilinguk', 'coronavirusstruck', 'coronavirustest', 'coronavirustesting', 'coronavirustv', 'coronavirusu', 'coronavisurs', 'coronaviurspandemic', 'coronoavirusoutbreak', 'corovnavirus', 'corox', 'corporal', 'corporatelevel', 'corporateresponsibility', 'corporatesocialresponsibility', 'correctional', 'correlates', 'corrupttrump', 'cory', 'cosigned', 'costcobuys', 'costcodeals', 'costcofinds', 'costed', 'costessey', 'costner', 'costomers', 'cottages', 'coud', 'coughingchallenge', 'coulditis', 'counc', 'councillors', 'counterproductive', 'countervailing', 'countryasda', 'countryboy', 'countyourblessings', 'couriered', 'courteously', 'covenantkeeping', 'coviaffected', 'coviannouncement', 'covianxiety', 'covianyways', 'covibased', 'covibrasil', 'covibutthe', 'covicmoodisha', 'covicovered', 'covidampour', 'coviddown', 'covidfrance', 'covidioting', 'covidlife', 'covidline', 'covidoutbreak', 'covidphl', 'covidprepare', 'covifueled', 'covii', 'coviindonesia', 'coviinfected', 'covijs', 'covik', 'covilockdown', 'covilockdowndontpanicthereismorefooddeputyagricminister', 'covimichigan', 'covins', 'covinyc', 'covio', 'covip', 'covipandem', 'coviplease', 'covipr', 'coviscams', 'covisk', 'covismooth', 'covitesting', 'covithere', 'coviturkey', 'coviupdate', 'covivancouver', 'coworkingcomments', 'coxsbazar', 'coyne', 'coyote', 'coys', 'cpa', 'cpc', 'cps', 'craftdistilling', 'cranga', 'cranking', 'crappie', 'crappiefishing', 'craziest', 'crazypeople', 'crazyworld', 'creaming', 'creamthe', 'createdont', 'createjobs', 'creatingmemories', 'creditcarddebitcard', 'creditrating', 'creditreport', 'creditskimming', 'creedence', 'creepsinsuits', 'cregés', 'cremate', 'cremation', 'crematory', 'cremona', 'cresford', 'cresskill', 'creston', 'crib', 'cribdelacurse', 'crimenow', 'crimesagainsthumanity', 'crimp', 'cripthevote', 'crise', 'crisisampecon', 'cristobal', 'criticalass', 'critter', 'crm', 'crn', 'croatia', 'croatian', 'crock', 'crohn', 'crohnsdisease', 'croix', 'crone', 'crossd', 'crossfire', 'crossword', 'crowdinsights', 'crtitcal', 'crtuck', 'crushthecurve', 'cryptofeargreedindex', 'cryptofocused', 'cryptos', 'crystallize', 'crystalpalace', 'csas', 'csforall', 'cspr', 'cty', 'cubfoods', 'cuffing', 'cultured', 'cumin', 'cuna', 'cunningness', 'cupcake', 'cura', 'curaleaf', 'curbedny', 'curbsidetakeoutampampdeliveryoptions', 'cureprevention', 'curestreatments', 'curiosities', 'curitiba', 'curries', 'currrently', 'curtain', 'cushioning', 'custexp', 'customerempathy', 'customerintelligence', 'customerjourney', 'customersupport', 'customizing', 'customshirts', 'customtshirts', 'cutlass', 'cutlery', 'cutslusaka', 'cutsnicksamp', 'cutthroat', 'cvc', 'cvoi', 'cw', 'cwb', 'cweb', 'cyberaware', 'cyberbullying', 'cyberscout', 'cycled', 'cyclicalst', 'cyclist', 'cyclone', 'cystic', 'czar', 'daaru', 'dabur', 'dachat', 'dacing', 'dadbod', 'dadjokes', 'dadus', 'dagger', 'dailyfx', 'dailymemes', 'dailyoh', 'daiquiris', 'dairypod', 'dallascdt', 'dallasdenver', 'dalma', 'dalmacapital', 'dam', 'damanding', 'dampf', 'damswhelswamps', 'dananessel', 'danbell', 'dancegan', 'dancetee', 'dar', 'dared', 'darl', 'darnedest', 'darth', 'dartmouthma', 'darwinswaitingroom', 'datacenter', 'dataintegrity', 'datapoint', 'dataprices', 'dataset', 'datatrac', 'datelinenbc', 'dato', 'datuk', 'dawnbilbrough', 'dayfeels', 'dayless', 'daylihht', 'daynationallockdown', 'dayslockdownsa', 'dayslockdownsouthafrica', 'daysto', 'daysweekampm', 'dbtskills', 'dbzdiary', 'dctalkradio', 'dea', 'deadlier', 'deadlines', 'deadmallseries', 'dealership', 'dealin', 'dealings', 'dealmaking', 'dealquarantinelife', 'dearcustomer', 'dearpeople', 'deathbeforebeans', 'deathly', 'debasish', 'debbies', 'debe', 'deborahbirx', 'debtby', 'debtor', 'decidesundaythoughts', 'decisively', 'declation', 'declutter', 'decouplefromchina', 'ded', 'deducted', 'deductible', 'defamation', 'defcon', 'defecate', 'defenceproductionact', 'defenseag', 'deferment', 'deffecult', 'defiant', 'defied', 'definit', 'definite', 'defra', 'degenerate', 'deglobalisation', 'deglobalising', 'degraded', 'degrades', 'degussa', 'dekha', 'delbekejos', 'delegate', 'delet', 'deletes', 'delgro', 'deliberatly', 'delisted', 'delive', 'deliverer', 'deliverwho', 'deliverycovid', 'deliverydriver', 'deliveryfood', 'deliveryonly', 'deliverysimplified', 'deloitteer', 'demandandsupply', 'demandbrnagnewsmg', 'demandkrc', 'democratshateamerica', 'demonisation', 'demons', 'demos', 'demostrated', 'demoted', 'demoting', 'denimmaker', 'denis', 'denny', 'dependancy', 'depended', 'depletion', 'depreciating', 'deputized', 'derail', 'derided', 'dermott', 'descipline', 'deseo', 'designates', 'desperados', 'despise', 'despondency', 'destinationmedford', 'detainedtimesofindia', 'detective', 'determinants', 'deuces', 'deutsch', 'devalue', 'developement', 'deviation', 'devics', 'dgunders', 'dhamaka', 'diageonews', 'dialog', 'dialogues', 'diaphragmatic', 'diarea', 'diaster', 'dickinson', 'dickwad', 'dictates', 'dicuss', 'didgrocery', 'dieget', 'diem', 'dieselfuel', 'differe', 'differentiate', 'differentiated', 'digetty', 'digiscrapthat', 'digitalbanking', 'digitaldivide', 'digitalemeter', 'digitalpolicy', 'digitalretailing', 'digitalservicesact', 'digitised', 'diives', 'dijo', 'dimmed', 'dineins', 'dinnercoffee', 'dinosaurextinction', 'dio', 'directbanking', 'directenergyweapons', 'directorgeneral', 'directorship', 'disabilites', 'disabilitysucks', 'disable', 'disabledperson', 'disablity', 'disasterwhile', 'disbarbarr', 'dischem', 'discloses', 'discontent', 'discrepancies', 'discriminar', 'diseaseas', 'diseaseprevention', 'disgruntled', 'dishsoap', 'disinfectantampclean', 'disinfectioninvolving', 'disintegration', 'disiplinamuna', 'dismukes', 'disnt', 'disperses', 'displays', 'disposables', 'disruptor', 'dissuade', 'distancingvisiting', 'distilled', 'distortions', 'distractedthe', 'distribución', 'distributers', 'ditches', 'ditching', 'ditmars', 'diverge', 'diversified', 'diversifying', 'djdk', 'dkdo', 'dmarts', 'dmrt', 'dnanudge', 'doabetterjob', 'dobbs', 'doclook', 'doctorsarehumans', 'doctorsonlypressconferences', 'doctorspolicehypermarketairport', 'dodat', 'dodrtedros', 'doe', 'doent', 'doggies', 'doggo', 'doggos', 'doggy', 'dogschildren', 'dogsoftwitter', 'dohanews', 'doingon', 'doingthedragsteroncouncilofficecarpet', 'doktari', 'doldrums', 'dollarama', 'dom', 'domestica', 'dominicanrepublics', 'domtoretto', 'donatingm', 'donationspanic', 'donavan', 'donei', 'donets', 'dongs', 'donothoard', 'donovan', 'dontbeafool', 'dontbothergoing', 'dontbuythesun', 'dontforgetyourpets', 'donthikevegetableprices', 'dontknowwhy', 'dontmakeasound', 'dontovercharge', 'donttouchme', 'doodling', 'doomers', 'doone', 'dooprime', 'doorso', 'doorstepsbharat', 'dorian', 'doritos', 'dosh', 'dotr', 'doublestandards', 'doublex', 'dougherty', 'downb', 'downgrades', 'downtime', 'downtownalbany', 'doxoinsights', 'doyourpartco', 'dozencount', 'dpco', 'drawers', 'drawingoftheday', 'dressing', 'dribbble', 'dribbbleweeklywarmup', 'driebergen', 'dring', 'drinkalonetogether', 'driversi', 'drivethrurpg', 'drizly', 'dropin', 'droppiread', 'drugdeal', 'drumettes', 'drumsticks', 'dryness', 'drywall', 'dshcovi', 'dsouza', 'dst', 'dubaided', 'dubaipolice', 'dubais', 'dubious', 'dubuque', 'ducking', 'dudewipes', 'dueregard', 'duest', 'duly', 'dum', 'dumbeddown', 'dumbtards', 'dumplings', 'dunny', 'dupe', 'durban', 'durchfall', 'dusttricks', 'dwpcrimes', 'dys', 'dystopianlike', 'dáil', 'déjà', 'déplacement', 'días', 'dürften', 'eadible', 'earlybirdgetsthenecessities', 'earlyriser', 'earmarked', 'earthquakes', 'eas', 'easiercoronacrisis', 'eastbay', 'eastkilbride', 'eastoffice', 'eastsussex', 'eastvan', 'eatables', 'eatingdisorders', 'eatingin', 'ebanks', 'ebates', 'ebayamazon', 'ebeano', 'ebtfood', 'eccentricgin', 'echoing', 'ecigarette', 'eclipsed', 'ecnmic', 'ecology', 'ecomm', 'ecommercebytes', 'ecommercestore', 'ecommercetrends', 'econgdp', 'econo', 'economictaskforce', 'economyexplored', 'ecopoints', 'ecrime', 'ectand', 'edgymemes', 'editorialillustration', 'edmiston', 'edmund', 'educateyourself', 'eeriest', 'effectvemp', 'efficiencies', 'efra', 'eggcellent', 'egghunt', 'eggprices', 'egsomeoften', 'egypts', 'ehealth', 'eia', 'eighthgrade', 'ek', 'ekonomilokal', 'elaborates', 'elainebenes', 'elcome', 'electricitywater', 'electricvehicles', 'electrolyte', 'electrons', 'elegantly', 'elemental', 'elexion', 'eli', 'elisa', 'ellie', 'elmvale', 'eloquence', 'eloquent', 'elroy', 'emailzhuandyaliyuncom', 'embarrassingly', 'ember', 'emblematic', 'embrasssd', 'emergancy', 'emergencyfood', 'emergencyservices', 'emergencyworkers', 'emf', 'emh', 'emilia', 'emmaockermanvicecom', 'emmudate', 'emory', 'empathise', 'empirical', 'empleado', 'empleados', 'employedbank', 'employeesgas', 'emptypeople', 'enabler', 'endborrowing', 'endemic', 'endive', 'endliveexports', 'endorse', 'endorsement', 'endrobocalls', 'endsnow', 'enel', 'energiewende', 'energyafrican', 'energyconsultants', 'energyforecasting', 'enervis', 'engel', 'englishmuffins', 'enh', 'enjoys', 'enniskillen', 'enterprisefocused', 'enticing', 'entrega', 'entreprise', 'entryway', 'env', 'environ', 'eohed', 'eone', 'epas', 'epicfail', 'epidèmia', 'epileptic', 'equaliser', 'equestrianrelief', 'equi', 'equidistant', 'equitycredit', 'eradicating', 'eras', 'ergo', 'erie', 'eries', 'errandshot', 'erstwhile', 'escapees', 'esellers', 'eset', 'especial', 'especiallyst', 'espn', 'espnmma', 'esselunga', 'essendonfc', 'essentialcommoditiesact', 'essentias', 'estore', 'etched', 'etcio', 'eternal', 'eternally', 'ethnicity', 'etoro', 'euficoemcasa', 'eugene', 'eulogies', 'evade', 'evaluators', 'evelyn', 'eveningwhats', 'eventsim', 'eventtravel', 'everett', 'evergreater', 'evergrowing', 'evershifting', 'eversince', 'everybodys', 'everydayampm', 'everydayimhustlin', 'everydollarcounts', 'everyo', 'everyrhing', 'everyting', 'eveyone', 'evryday', 'ewarren', 'ewe', 'exabel', 'exacted', 'exaggerationexcept', 'excelled', 'exceptss', 'excludes', 'exclusion', 'exclusions', 'excursions', 'excused', 'execute', 'exerciseathome', 'exhaust', 'exhibited', 'exhibiting', 'exhibitors', 'exhibits', 'exiles', 'exjournalist', 'exp', 'expectmore', 'exploitationatitsfinest', 'exponentialgrowth', 'expressions', 'exps', 'extand', 'extenders', 'extensively', 'extortions', 'extrapolate', 'extrapolated', 'extravagant', 'extravaganza', 'extremefear', 'extremists', 'eyesuphere', 'eyyyyyyyyyyy', 'faba', 'fable', 'fabliss', 'fabrics', 'facenot', 'facepaint', 'facepainted', 'facetimeing', 'facetouch', 'fachado', 'facilitant', 'facilitates', 'facilitation', 'factbased', 'factchecking', 'factions', 'factual', 'fags', 'failsworth', 'fairgrounds', 'fairhavenma', 'fairweather', 'fairytale', 'fakelimits', 'fakepandemic', 'fakepresident', 'falken', 'fallofsociety', 'fallriverma', 'fame', 'famed', 'famers', 'familymeals', 'familytravelblog', 'fani', 'fantasized', 'fareway', 'farewell', 'farhan', 'fark', 'farmersmarkets', 'farnham', 'faruki', 'fashionillustration', 'fashionillustrationoftheday', 'fashionisland', 'fashions', 'fastandfurious', 'fastbuild', 'fastchanging', 'fastergrowing', 'fastmoving', 'fasttrack', 'fasttracked', 'fatehgunj', 'fatty', 'fattyforlife', 'faucis', 'faulkner', 'fava', 'fave', 'favorito', 'favourable', 'favoured', 'favours', 'fawning', 'fba', 'fbaops', 'fcough', 'fdi', 'fea', 'fearnot', 'feasable', 'feck', 'fecking', 'federalism', 'fedsoc', 'feedingamerica', 'feedingus', 'feedlots', 'feednhs', 'feedonomics', 'feelinggood', 'feminine', 'fermoy', 'ferocity', 'ferrante', 'ferrets', 'feta', 'fetiliser', 'ffmedic', 'ffod', 'ffpi', 'fftsoul', 'fiberglass', 'fibromyalgia', 'fibrosis', 'fictitious', 'fid', 'fidelity', 'fido', 'fiendishly', 'fife', 'fifo', 'fifths', 'fig', 'fightfoodinsecurity', 'fightingcoronavirus', 'figuratively', 'fiiirrrrreeeddduh', 'fil', 'fillers', 'fillets', 'filmcrew', 'filmmakers', 'filmtwitter', 'finale', 'financ', 'financebrokerage', 'financialeducation', 'financialnews', 'financialreporting', 'finanza', 'finedining', 'fingerprint', 'fingertips', 'finrite', 'fintwits', 'fios', 'fipi', 'firebrands', 'fireems', 'firends', 'firies', 'firmy', 'fiscalstimulus', 'fiservs', 'fishbulb', 'fisherman', 'fisherpriceamps', 'fishmonger', 'fishtankcleaner', 'fishyfun', 'fissures', 'fistfights', 'fitbit', 'fivefold', 'fivemonth', 'fiveyearold', 'fixedcapped', 'fixingthecountry', 'fixingupthehouse', 'fizzled', 'fizzles', 'fkers', 'flagging', 'flair', 'flames', 'flammable', 'flank', 'flapol', 'flashbacks', 'flatbreads', 'flatscreen', 'flavors', 'fleece', 'fletcher', 'flew', 'flexin', 'flexipos', 'flops', 'floral', 'floridalockdown', 'florist', 'flowerreport', 'flupocalypse', 'fmradio', 'fms', 'fmtlifestyle', 'fnb', 'foamed', 'focal', 'fock', 'fogsprayer', 'foia', 'folded', 'folgen', 'folkestone', 'followasci', 'followersreaders', 'folsomon', 'foodallergy', 'foodamp', 'foodampbeverage', 'foodandagricultureorganization', 'foodbiznews', 'foodblog', 'foodcash', 'foodchat', 'foodconsumer', 'foodcrisisthe', 'foodgasm', 'foodhoard', 'foodless', 'foodmanufacturing', 'foodmedical', 'foodmeds', 'foodpantryfrozencleaning', 'foodparcel', 'foodscraps', 'foodserviceworkers', 'foodwarewolf', 'foodwater', 'foothold', 'footpath', 'forcedsmiles', 'forecaster', 'foreigner', 'foreseen', 'forestryw', 'forgets', 'forgoes', 'forma', 'formaula', 'formbn', 'formulationgal', 'forqatarstayhome', 'forreal', 'forter', 'fortnightly', 'fortnum', 'forto', 'forums', 'forwardlooking', 'foryou', 'foryoupage', 'foschinigroup', 'fostered', 'founditonamazon', 'fountain', 'fountainsshe', 'fourmonth', 'fowl', 'foxnewskills', 'foxnewslies', 'foxnuts', 'fpa', 'frac', 'fragrances', 'francesco', 'franchisebusines', 'franchisenewsaustralia', 'französische', 'fraternity', 'frazier', 'fredmeyercoronavirus', 'freecancellation', 'freefood', 'freelancer', 'freeme', 'freeradio', 'freesanitizer', 'freeview', 'freeways', 'freiburg', 'freightforwarder', 'frenchfood', 'freq', 'freshii', 'fresno', 'fridayam', 'fridayth', 'fridgeis', 'fridgesfreezershouses', 'friedl', 'friendsnow', 'frig', 'fritos', 'fromdave', 'fromjustfood', 'fronted', 'frontier', 'frontrow', 'fruitstalls', 'fruitsveggieschickenground', 'fryer', 'fryup', 'fss', 'ftapart', 'ftth', 'fuc', 'fuckingidiots', 'fuckmillenials', 'fucknews', 'fuckthemedia', 'fuckyoucorona', 'fulf', 'fulfilment', 'fullsend', 'fullserve', 'fullservice', 'fullyfiltered', 'fullystocked', 'fulwell', 'fuming', 'functionalities', 'functioned', 'fundamental', 'funnyvideo', 'funtimes', 'furloughspersonal', 'furnishers', 'furthest', 'futako', 'futureleaders', 'futureofeurope', 'futureproofing', 'futuristicwith', 'fuzzpugz', 'fvcking', 'fxpro', 'fyp', 'för', 'gachibowli', 'gaetano', 'gaghs', 'gaglani', 'gai', 'gail', 'gainesville', 'galitsky', 'gallbladder', 'galwe', 'gameofthrones', 'gameplay', 'gamp', 'gampg', 'gand', 'gangsters', 'ganjagoddess', 'gapcontd', 'garantissons', 'gardai', 'gardencity', 'garment', 'garner', 'garu', 'gaseous', 'gatashe', 'gathe', 'gathers', 'gatsi', 'gaudi', 'gaunt', 'gaw', 'gayaza', 'gaymer', 'gayrunner', 'gaze', 'gazing', 'gbolahan', 'gcchat', 'gdpinvestmentslabor', 'ge', 'gearupatgearup', 'geeze', 'geico', 'gellar', 'gemcityfinefoods', 'genconf', 'genelecsl', 'generalconference', 'generationz', 'gently', 'geodoinggeothings', 'georgeeustice', 'ger', 'gerbil', 'germanefficiency', 'germanycoronavirus', 'germanygtpeople', 'germanys', 'germen', 'gersheim', 'ges', 'gestrointrogist', 'gethertheseries', 'getinmycar', 'getrepost', 'gettin', 'getusppe', 'gewesen', 'gfcommunity', 'ggfc', 'ghaffar', 'ghananews', 'ghodrati', 'giantamps', 'giffen', 'giggle', 'gihoc', 'gimme', 'gimmicks', 'girlscoutcookies', 'giroir', 'gisborne', 'giveanditshallbegiven', 'giveifyoucan', 'glastonbury', 'glaswegians', 'gleadless', 'gleadlessvalley', 'gleefully', 'glendale', 'glenhead', 'glg', 'glgenius', 'glibly', 'glndanetakia', 'globalcorporation', 'globalproblems', 'glorykills', 'glued', 'glutenfreeliving', 'glycerine', 'gmaz', 'gme', 'gmtv', 'gna', 'gnds', 'gnight', 'gobills', 'gocovi', 'goddesses', 'goddessorders', 'godigital', 'godisincontrol', 'godpanic', 'goesinthehistorybooks', 'goettingen', 'goingmental', 'goings', 'goko', 'gokorestaurant', 'golders', 'goldfishgod', 'golfingscrunching', 'golflife', 'gonzales', 'goo', 'goodbadugly', 'gooddatas', 'goodfridayreads', 'goodthinking', 'goodtogo', 'googleads', 'googlepay', 'goooo', 'gopbailoutscam', 'gopbetrayedamerica', 'gopinsidertrading', 'gorey', 'gorollick', 'goshen', 'gotcha', 'gourmetmarket', 'govdavidige', 'governer', 'governmentled', 'governmentofbritishcolumbia', 'governmnt', 'governorcuomo', 'govsisolak', 'govtguaranteed', 'gowned', 'gpbs', 'gpclentils', 'gpcpeas', 'gpngvc', 'gracias', 'gracious', 'graders', 'gradiation', 'graduations', 'grainger', 'grande', 'grandes', 'grandmas', 'grandview', 'grans', 'graphical', 'grassphealth', 'grata', 'gratefulforournhs', 'gratitudeganstas', 'gratitunes', 'gratuitous', 'grayscale', 'grc', 'greatawakening', 'greedoverpe', 'greeks', 'greencore', 'greengrocer', 'greenie', 'greenlane', 'greenlit', 'grewal', 'greymouth', 'grifters', 'grifting', 'gritslbs', 'groats', 'groccery', 'groceriessupplies', 'grocerystorechallenge', 'grocerystoreclerksstaysafe', 'grocerystoresareh', 'groceryworkersdie', 'grofers', 'groovy', 'grossed', 'groundedbycovi', 'growfearless', 'growingmyown', 'gsaudiarabia', 'gsma', 'gtii', 'gtmassgovernor', 'gtnforever', 'gtno', 'gtprinted', 'guaranteedservices', 'guardia', 'guesting', 'guestuest', 'guided', 'guiltfree', 'gujaratmigrant', 'gulfport', 'gump', 'gunawardana', 'gunfights', 'gunmen', 'guntur', 'gunvolt', 'gunwho', 'gurbir', 'guruleak', 'gushing', 'gust', 'guyana', 'guyzz', 'gvn', 'gwerupolice', 'gymsbig', 'góðaferð', 'haba', 'hacksgt', 'hades', 'hagens', 'hahahah', 'haih', 'hairworld', 'hajj', 'hajjar', 'hajjarpetersllp', 'hakim', 'halaqat', 'haldi', 'halebonoe', 'haley', 'halfs', 'haliburton', 'hallmark', 'hallway', 'hamburgers', 'hamer', 'hammerkopf', 'hamps', 'hampton', 'hamsteraars', 'hancocks', 'handedly', 'handler', 'handlers', 'handsewing', 'handspeople', 'handtomouth', 'handvana', 'handwashes', 'handwringing', 'haneda', 'hangin', 'hangout', 'hangover', 'hanniballecter', 'hanover', 'hanz', 'hapless', 'happythoughts', 'happyugadi', 'hardeson', 'harewood', 'harissa', 'harmonicretail', 'harness', 'hartzell', 'harv', 'harvesters', 'hashtags', 'hasina', 'haste', 'hastings', 'hatam', 'hateful', 'hatfield', 'haus', 'hausa', 'haveb', 'haventwont', 'havig', 'hawaiianislands', 'hawker', 'hawkins', 'haysss', 'haywards', 'hazemat', 'hazvina', 'hbl', 'hcas', 'hcin', 'hcq', 'hcsm', 'hcsmeu', 'hct', 'hdcb', 'hdfc', 'hdmotors', 'headden', 'headoffice', 'healeymassago', 'healhtycooking', 'healthandfitness', 'healthandwellness', 'healthcarewipes', 'healthconcerns', 'healthhygiene', 'healthlines', 'healthvana', 'healthwearing', 'hearp', 'heartache', 'heartbreak', 'heartbreakingthey', 'heartland', 'heartliver', 'heartyou', 'hearyee', 'heauoagstatemdus', 'heavenseconomy', 'hedged', 'hedgers', 'heeded', 'heeelp', 'heheat', 'heightens', 'heiliger', 'heisting', 'hejtman', 'helena', 'helicopterkinda', 'helicoptermoney', 'helimacroft', 'helpfully', 'helpinfo', 'helpingeachother', 'helpingthoseinneed', 'helpmedicos', 'helpmepleaseiamgoingcrazyhahahahahahahahahahahahahaaaaa', 'helpneedy', 'helpourelderly', 'helppeoplefirst', 'helptheelderly', 'helpthemtohelpusall', 'helptosave', 'helpusjesus', 'helpustohelpyou', 'hemingway', 'hemsworth', 'hena', 'hendrik', 'henleaze', 'henryk', 'heraldpremium', 'herbaife', 'herby', 'hereafter', 'hereditarycancer', 'heregt', 'herehelp', 'hereno', 'herere', 'hernandez', 'hertfordshire', 'hexo', 'heybitch', 'heycoronaviruspleaseleaveus', 'hickey', 'higgs', 'highfiber', 'highinterestsavingsproducts', 'highschool', 'highthey', 'highyield', 'hijacking', 'hikinghoarding', 'hillsborough', 'hinata', 'hindustanunilever', 'hingegen', 'hinshaw', 'hinted', 'hippies', 'hirani', 'hiringk', 'hiringnow', 'hirings', 'his', 'hisher', 'hispanics', 'histories', 'historyprev', 'hitachi', 'hitch', 'hitchhikersguidetothegalaxy', 'hitherto', 'hkt', 'hmmhotmessmama', 'hmmmmtheres', 'hmmok', 'hmmwhere', 'hoaders', 'hoarderish', 'hoardingvirus', 'hofbrauhaus', 'hoga', 'hokianga', 'holdingit', 'holida', 'holidayfarms', 'holla', 'hollering', 'holliewoodandfriends', 'holographic', 'holsters', 'homebargains', 'homebodies', 'homebuyer', 'homebuying', 'homecommerce', 'homeconfined', 'homecreditin', 'homedesign', 'homeespecially', 'homefurnishings', 'homegoods', 'homelending', 'homeloans', 'homenaje', 'homeprice', 'homesaid', 'hometasking', 'hometesting', 'homeworkoffice', 'honeymoons', 'honours', 'hoodi', 'hoody', 'hooks', 'hookups', 'hooman', 'hoomans', 'hooper', 'hopeometer', 'hopping', 'hoppon', 'horizoncoronavirus', 'horlicks', 'horns', 'hornsby', 'horray', 'horrendousnot', 'horriple', 'horton', 'hos', 'hospitalambulance', 'hospitalisation', 'hospitalised', 'hospitalityindustry', 'hospitallatest', 'hospitalschoolsupermarketany', 'hostages', 'hostess', 'hostessgift', 'hostpital', 'hotcakesst', 'hotelier', 'hotella', 'houring', 'hoursthe', 'hourweek', 'househunters', 'houseprice', 'housesforsale', 'housingprices', 'houstonautoshop', 'houstonbased', 'houstoncoronavirus', 'hover', 'hovering', 'howdoyousleepatnight', 'howdy', 'howevr', 'howtokeepaguyfortendays', 'howtoloseaguyintendays', 'howwhy', 'hpcl', 'hrrecruting', 'hsba', 'hscollege', 'hsec', 'htd', 'hua', 'hubbard', 'hubbs', 'hubei', 'huddling', 'hudsoneven', 'hudsupported', 'huel', 'huff', 'huhthere', 'hui', 'hulgodrej', 'humanatm', 'humanitas', 'humanityforward', 'humannature', 'humanstripling', 'humberfloob', 'humbly', 'hump', 'humped', 'hunch', 'hungar', 'hungergames', 'hungryathome', 'hunkered', 'hunkers', 'hunsaker', 'hurray', 'hussain', 'husslehelp', 'hustler', 'hustles', 'husumbua', 'hutcheson', 'hwy', 'hyderabadi', 'hydesmith', 'hydrate', 'hydrocarbon', 'hydroclean', 'hydroxychloroquineandazithromycin', 'hygenic', 'hygien', 'hygienecritical', 'hyperbole', 'hyperspreading', 'hypodermic', 'hypothetical', 'hypothetically', 'ia', 'iaconelli', 'icagc', 'icantgetpaid', 'icantradelemonsfortp', 'icantwaittofuckingdie', 'icantwork', 'icke', 'icmr', 'icmyi', 'icra', 'icrainnews', 'icraviews', 'icus', 'idec', 'idio', 'idiotincharge', 'idontgive', 'idontwantthisshit', 'ifb', 'ifeanyi', 'iffat', 'iftrumpsaysitweknowitsalie', 'igdaily', 'iger', 'igersportugal', 'ihaverightstoo', 'ihre', 'ijustneedtoiletpaper', 'ijustwantedtomakebreakfast', 'ike', 'ikeja', 'ila', 'ilani', 'ilhali', 'ilifemedical', 'illegaldancerave', 'illinoisans', 'ilr', 'imadethis', 'imbeciles', 'imco', 'imiwee', 'immed', 'immediatelly', 'immovingprovider', 'immuneboosting', 'immunityboosting', 'imodium', 'impactingexpect', 'impct', 'impedance', 'implicatio', 'implores', 'impositions', 'impractical', 'imprint', 'imprison', 'imrans', 'imsurroundedbyidiots', 'imt', 'inabuggy', 'inampsits', 'inanimate', 'inappropriate', 'inauguration', 'incharge', 'incisive', 'incites', 'includings', 'incomerelated', 'incontrovertible', 'inconvenienced', 'incourage', 'incrementally', 'incumbent', 'independants', 'indiabattlescoronavirus', 'indiabulls', 'indiadoingwell', 'indiafightscovi', 'indianecomarket', 'indianstreetfood', 'indiaprisoners', 'indiatoday', 'indiebookstore', 'indiscriminate', 'indulgent', 'indusvalley', 'inefficent', 'ineptness', 'inevit', 'inexperienced', 'infectionour', 'infectiousdiseases', 'inferred', 'infiltrated', 'inflammatory', 'inflationincrease', 'inflict', 'infoboxtonesband', 'infofarmhousedeliverycom', 'infooca', 'infopwadviceorg', 'inforegarding', 'informs', 'infrequently', 'infromation', 'inghamfamily', 'ingrates', 'inground', 'inhaled', 'inhouseproducts', 'ini', 'inibeatz', 'injured', 'injustices', 'inky', 'inly', 'innovated', 'inpex', 'inquest', 'inseam', 'insecurities', 'insert', 'insideatkins', 'insidefgould', 'insidertraitor', 'insightsdriven', 'insinuating', 'inspects', 'inspo', 'inst', 'instabeer', 'instacool', 'instafam', 'instagoodmyphotography', 'installers', 'installerstechs', 'instastory', 'insteadthis', 'instigated', 'instill', 'instils', 'instow', 'instructional', 'insulted', 'insurablerisk', 'intellect', 'intellectual', 'intellectualproperty', 'intelligencefornewtechnologies', 'intensively', 'intercity', 'intercultural', 'interesing', 'intereste', 'interfering', 'interhill', 'interiordesign', 'interiordesignideas', 'intermediates', 'intern', 'internationals', 'internetprovider', 'internetretailing', 'internist', 'interns', 'interviewee', 'inthisgether', 'intotheunknown', 'intranet', 'intreo', 'intrusive', 'inv', 'invaded', 'invasionofthebodysnatchers', 'inventions', 'inventive', 'investedth', 'investorsslow', 'invests', 'invitation', 'invoking', 'inward', 'ionization', 'iop', 'ip', 'ipas', 'ipc', 'iphones', 'iptvlinksmovies', 'iptvnew', 'ira', 'iranbut', 'iranprisoners', 'ireri', 'irradadicate', 'irreplaceable', 'irresponsables', 'irresponsibility', 'irritation', 'irwintoy', 'isaac', 'iscancelled', 'isfollowlike', 'ishop', 'isin', 'isiolo', 'isla', 'islam', 'islandlife', 'isnot', 'isoation', 'isolat', 'isolatedelderly', 'isolatedquarantined', 'isolationmode', 'isolationtips', 'ispellzgood', 'issuers', 'istayhome', 'isye', 'itapema', 'iteachmsu', 'itemsmasks', 'ithaca', 'itnarendramodi', 'ito', 'itrelated', 'itsjusttheflu', 'itsnotaboutyou', 'itsnottheapocalypse', 'itspending', 'itsthesmallthings', 'itstime', 'itsurely', 'itthose', 'ittoiletpaper', 'ituntil', 'itvfoundation', 'itwhen', 'ivanka', 'iwe', 'iymi', 'jacarandas', 'jacindaardern', 'jackals', 'jackma', 'jaffri', 'jaganath', 'jakarta', 'jakartaquarantine', 'jambo', 'jamescookhospital', 'jammy', 'jampkpmru', 'jananmeat', 'janatha', 'janelle', 'janowski', 'japanueno', 'jaredgof', 'jars', 'jasmine', 'jasonkenney', 'jaydajackson', 'jayega', 'jeane', 'jeanne', 'jeffclass', 'jeffsasiatechclass', 'jemez', 'jens', 'jeopardized', 'jerkin', 'jerry', 'jerseyplug', 'jerseys', 'jessie', 'jesusblood', 'jetta', 'jewell', 'jimmyhavoc', 'jimmykimmel', 'jindalglobaluni', 'jine', 'jing', 'jisko', 'jitin', 'jizzed', 'jjm', 'jlmco', 'jlmcobrand', 'jln', 'jm', 'jmfstudios', 'jn', 'joannstores', 'jobalert', 'jobcreation', 'jobmarket', 'jobsearch', 'jobseekerswednesday', 'jobstollbooth', 'jockopodcast', 'jockowillink', 'joelchan', 'joerogan', 'johannesburg', 'johnkilduff', 'johnlaurent', 'johnlewis', 'johor', 'jointhedots', 'joker', 'jolted', 'jonathan', 'joneslockdowneffect', 'jonesquarantinediaries', 'joules', 'journos', 'joyceamp', 'joyfightsfear', 'jpak', 'jsbankfightscorona', 'jsc', 'jubilee', 'judgmental', 'judson', 'jug', 'juicing', 'juja', 'jukebox', 'juliafarrugia', 'julie', 'jungle', 'jurisdiction', 'juryduty', 'justameme', 'justanotherdayinwa', 'justifiable', 'justincase', 'justinrivera', 'justjokes', 'justsayin', 'juststayhome', 'juu', 'jwj', 'jx', 'jyot', 'jzamael', 'kaalia', 'kababayang', 'kabhi', 'kadletz', 'kais', 'kaise', 'kaiser', 'kait', 'kal', 'kami', 'kandla', 'kandlasagarmala', 'kangaroo', 'kangaroohealth', 'kanikakapoor', 'kaplan', 'kar', 'karantina', 'karcam', 'karcamo', 'karcamogaming', 'kardashians', 'karenrebels', 'karmas', 'karte', 'karwick', 'kathryn', 'kauffman', 'kavac', 'kavacik', 'kayiso', 'kayode', 'kbblovesdesign', 'kbellpd', 'kblazebaum', 'kddr', 'kdrama', 'kedaceramicsghanaandsundainternationaldealersinfastmovingconsumergoodshavedonatedfivehundredthousandghanacedisghc', 'keepdancing', 'keephopealive', 'keepreadingencasa', 'keepsmiling', 'kegged', 'kelsie', 'kelvin', 'kennyrogers', 'kentuckians', 'kentuky', 'kenyabillion', 'kernot', 'kerosine', 'kerry', 'kerrydigest', 'kerzner', 'kevincostner', 'kew', 'keyfoodmilford', 'keynesians', 'keyretailoutlets', 'keyser', 'keywords', 'kezelee', 'kgp', 'khadi', 'khani', 'khat', 'khelobet', 'khelobetindia', 'khelobetofficial', 'khopoli', 'khou', 'kia', 'kickin', 'kidsa', 'kidstogether', 'kidstoys', 'kidthat', 'kieran', 'kiev', 'kifonikifo', 'kijiji', 'kildee', 'kilimanjaro', 'killbills', 'killers', 'killit', 'killvirus', 'kilogramme', 'kilometer', 'kilometers', 'kilos', 'kimberley', 'kimbusiness', 'kin', 'kindergarten', 'kinderreminder', 'kindlebook', 'kineticsquirrel', 'kingsooperscoronavirus', 'kingsway', 'kinsa', 'kir', 'kiranawala', 'kita', 'kitchenappliances', 'kitchener', 'kj', 'klima', 'kling', 'kmc', 'kmt', 'knit', 'knockitoff', 'knowaccept', 'knowbut', 'knowles', 'knowthat', 'knowyoursocial', 'knox', 'koch', 'koel', 'koenigdistillery', 'kolkata', 'kombucha', 'komonews', 'konongo', 'koolau', 'kopishops', 'korang', 'koronaso', 'koronawirus', 'kosovo', 'kotter', 'kozak', 'kraje', 'kress', 'krishnamoorti', 'krizového', 'krone', 'krychek', 'kryptonite', 'ksaopecrussianonopec', 'kshb', 'kta', 'která', 'kuatkan', 'kudumbashree', 'kujua', 'kuka', 'kumira', 'kurt', 'kurzfristig', 'kuti', 'kwaichungmysupport', 'kwality', 'kwawesome', 'kxnt', 'kywindepth', 'kzn', 'laaaargeee', 'labourheavy', 'lacked', 'lacquer', 'lacto', 'laden', 'ladiesgentlemen', 'ladki', 'laffer', 'lagar', 'lagers', 'lagossdginvest', 'lahag', 'laidback', 'laidlaw', 'laidoff', 'lakeside', 'lakewood', 'lallu', 'lalo', 'lambo', 'lament', 'lamontagne', 'landlines', 'landmines', 'landon', 'landscapes', 'langfristigen', 'langone', 'lansdale', 'lansing', 'lappet', 'largestever', 'larne', 'lashes', 'lassens', 'lasses', 'lassie', 'lastroll', 'lastwell', 'latelyturn', 'laterally', 'lather', 'lathicharge', 'lati', 'latics', 'latinosfortrump', 'latteart', 'latterday', 'laughable', 'laughably', 'laughcry', 'laughme', 'launder', 'laundrettes', 'laurenlaurenwitzke', 'lauro', 'lav', 'lavv', 'lawal', 'lawenforcementtech', 'lawful', 'lawmaker', 'layard', 'lazio', 'lazzaro', 'lbn', 'ldrships', 'leadi', 'leapfrogging', 'learners', 'leases', 'leastpaying', 'leclerc', 'lecter', 'lede', 'leedsbased', 'leena', 'leerood', 'lefrançais', 'legendary', 'legislated', 'legislative', 'legocityscene', 'legocreatorexpert', 'legomodulars', 'legostreet', 'lehighvalley', 'leibniz', 'leipzig', 'lelani', 'lele', 'lemmie', 'lena', 'lendemain', 'lendinggrant', 'lends', 'leningrad', 'leon', 'leonards', 'leslie', 'lesotho', 'lesotholockdown', 'lessened', 'letsdothis', 'letstalknm', 'lett', 'letterspackages', 'leveling', 'leveraged', 'leveranser', 'levy', 'lewisvillefrisco', 'lfc', 'lhc', 'lhs', 'liarinchief', 'liarlol', 'liberalhypocrisy', 'liberalsberniebros', 'liberating', 'liberia', 'liberian', 'liccardo', 'lice', 'lidlbelgium', 'lifeboat', 'lifecycle', 'lifemaking', 'lifeofaking', 'lifespan', 'lifesustaining', 'lifewell', 'lightdon', 'likeretweet', 'likeseiumddc', 'likesharepost', 'likewise', 'likoni', 'lilburn', 'lima', 'limes', 'limitbuying', 'limo', 'lineat', 'linehr', 'lineneed', 'lintao', 'linton', 'lipscombe', 'liqour', 'liquifying', 'liquorshop', 'lisbon', 'listentoyourheart', 'literate', 'littering', 'littlekids', 'liveinhope', 'livesbut', 'lizzy', 'lke', 'llabres', 'llap', 'llevaba', 'lloy', 'lm', 'lngasian', 'lobbyist', 'lobbyists', 'localgrocerystore', 'localnews', 'localsyr', 'locationbylocation', 'loch', 'lockdowncomforteatinganddrinking', 'lockdowneaster', 'lockdownontario', 'lockdownto', 'lockdownworkers', 'lockups', 'loco', 'loggd', 'logisitics', 'logisticssupplydrivers', 'logit', 'logitech', 'lolbut', 'londoner', 'looby', 'lookafter', 'loominh', 'loops', 'loorollgate', 'loos', 'lordba', 'lordoftherings', 'lorrys', 'losangelescounty', 'losseshealth', 'lothian', 'lotl', 'lotta', 'lotus', 'lou', 'lousy', 'lovemykids', 'lovillea', 'lowerpaid', 'lowincomes', 'lowoccupancy', 'lowry', 'lsc', 'lse', 'lshaped', 'ltgtbeware', 'ltimo', 'ltincreases', 'lubumbashi', 'luckchristianliving', 'luckier', 'luckilya', 'ludhiana', 'luhby', 'lululemon', 'lulumallfujairah', 'luminate', 'luminosa', 'luna', 'lundberg', 'lurk', 'luseelu', 'lustre', 'luthuli', 'luton', 'lvr', 'lyingdown', 'lyinking', 'lyiv', 'lyk', 'lymphoma', 'mabased', 'mabiz', 'macam', 'macdill', 'macewan', 'mackle', 'madden', 'maddness', 'mademins', 'madetomeasure', 'madhousea', 'madnessbut', 'madrasah', 'madridbarcelona', 'magictrick', 'magistrates', 'magnets', 'maharashtrasainik', 'maharastra', 'mahfworks', 'mahon', 'mahoney', 'mailman', 'mailmen', 'mainepyarkiya', 'maisano', 'majeura', 'mak', 'makemeasandwich', 'makemoneyfromhome', 'makemoneyonline', 'makerhr', 'makeupto', 'makhura', 'makingadifference', 'makingaproft', 'makingsupplies', 'malapit', 'malay', 'malevolent', 'malhati', 'malibu', 'maligned', 'malinformation', 'mallbased', 'malort', 'malta', 'mambo', 'mammoth', 'mancity', 'mandalorian', 'mandrilltoys', 'manenoz', 'manifesting', 'manikonda', 'manmade', 'manufacturersbusinesses', 'manufacturerswholesalers', 'manuka', 'manuscripts', 'mara', 'marapr', 'marathons', 'marc', 'marchin', 'marchingband', 'marchmay', 'marchor', 'marchpc', 'marché', 'marciasavage', 'marco', 'margarine', 'marijuanaindustry', 'marijuananews', 'marinade', 'markedium', 'markel', 'marker', 'marketcap', 'marketingstats', 'marketplacetech', 'marketreport', 'marketsandprices', 'marketscompanies', 'marketupdates', 'markham', 'markmagnier', 'marksare', 'marmite', 'maroc', 'marques', 'marseille', 'marssai', 'marta', 'martinlewis', 'maruchan', 'marvelous', 'mascots', 'mash', 'maskgood', 'maskgownsgloves', 'maskmystery', 'maskoff', 'masksbandannas', 'maskscarf', 'masksforall', 'maskshave', 'maskswhy', 'maslows', 'masocial', 'massacre', 'massesbefore', 'masshole', 'masspanic', 'mastersathlete', 'matif', 'matlab', 'matthougan', 'mattresses', 'matzo', 'maukepechauka', 'maura', 'maureen', 'maus', 'mavieconfinee', 'maxine', 'maya', 'mayoroflondon', 'mazon', 'mazza', 'mboga', 'mbti', 'mbu', 'mcag', 'mcclendon', 'mcclintock', 'mcd', 'mcdonaldscoffee', 'mcduffie', 'mckee', 'mclaren', 'mcms', 'mcq', 'mdc', 'mddc', 'mdear', 'meadia', 'meager', 'mealdelivery', 'mealie', 'mealimeal', 'mealtrak', 'meango', 'meatjust', 'mechanics', 'medcine', 'medford', 'medfordnj', 'medial', 'mediawatch', 'medic', 'medicaladvice', 'medicalcannabis', 'medicaldrugppe', 'medicatio', 'medicineprescription', 'medidas', 'mediocre', 'mediziner', 'medley', 'medscovi', 'medtech', 'meedha', 'meepl', 'meetanddeep', 'megachurch', 'megaphones', 'meian', 'meitei', 'meitzner', 'melb', 'melbournebased', 'melbs', 'melillo', 'mello', 'meloy', 'memberships', 'mememe', 'memesiveseen', 'memesriches', 'memorycare', 'menial', 'meningitis', 'mensah', 'mequedoencasa', 'mercantilistic', 'mercari', 'mercenaries', 'mercury', 'mercutio', 'merely', 'merge', 'meridian', 'merit', 'merkle', 'merrittisland', 'meru', 'mesays', 'messagewrap', 'metaanalysis', 'metairie', 'metalli', 'methodology', 'meticulous', 'metresapart', 'metresgt', 'metroatlanta', 'mfm', 'mfp', 'mft', 'mh', 'mhttpdigitalcvdigitalcovi', 'miamibeach', 'miamidade', 'miamistrong', 'michaelminalab', 'michele', 'michelewitchipoo', 'mickey', 'microbial', 'microdroplets', 'micromarkets', 'microns', 'microorganism', 'microtarget', 'microwaves', 'midage', 'midazolam', 'midcentury', 'midclass', 'middlesbrough', 'midia', 'midland', 'midmorning', 'midoctober', 'midwives', 'miele', 'mightdie', 'mightth', 'mightybombers', 'mikehead', 'milescalockdown', 'milion', 'milkdumping', 'milkpowder', 'milky', 'millionmaskchallenge', 'mimics', 'mims', 'minaustralia', 'mindgames', 'mindsets', 'mindspark', 'minerals', 'mingled', 'minhaj', 'miniatures', 'ministery', 'minisupermarkets', 'minivan', 'minors', 'minot', 'minsshould', 'minworth', 'mirra', 'misadventures', 'miserychinavirus', 'misinfo', 'missile', 'missionaccomplished', 'misuses', 'mitarbeitern', 'mitigations', 'mitrade', 'mixbuy', 'mixtape', 'mjrity', 'mmccormackmp', 'mmen', 'mmi', 'mmnewstv', 'mnfctring', 'mnotplaying', 'mnuchinmoney', 'mobbing', 'mobilefoodmarkets', 'mobilemarketing', 'mobilise', 'mobilitat', 'mobilize', 'mobo', 'modelsmilitary', 'moderately', 'modified', 'modu', 'modus', 'modwyer', 'mof', 'mogg', 'mohammad', 'mohankumar', 'moines', 'moistened', 'moj', 'mole', 'molnar', 'momthoughts', 'moncada', 'monculturally', 'mondaygj', 'mondaysaturday', 'moneyi', 'moneyslave', 'moneytakes', 'monika', 'monmarrd', 'monologue', 'monopolise', 'montanas', 'monterey', 'monthblame', 'monthscovi', 'monthtodate', 'mooc', 'moodyscorp', 'mooroolbarking', 'moovers', 'mopp', 'morals', 'moratoriums', 'morefoodmoreoftenmorepeople', 'morena', 'moresby', 'morethanexpected', 'moring', 'morningam', 'morphing', 'morris', 'mortgagelender', 'moscowmitch', 'mossad', 'mostromanticrelationship', 'motherfuckin', 'mothering', 'motivate', 'motivations', 'motive', 'motives', 'motorbikes', 'motorcyclerecovery', 'motorcycles', 'motorway', 'moulding', 'mounted', 'mountedbrushed', 'mouthbreathing', 'mouthing', 'mov', 'movevan', 'movingday', 'mozambique', 'mpa', 'mph', 'mphil', 'mpk', 'mpklib', 'mreade', 'mrhumberfloob', 'mrmodi', 'mrw', 'mspa', 'msps', 'msusocialscience', 'mthingz', 'mtr', 'mtrs', 'mucho', 'muchrespect', 'muestra', 'muffato', 'muji', 'mukeshambani', 'mulberry', 'mulder', 'muletown', 'mullin', 'multimillion', 'multinationalinvestment', 'multinotch', 'multipack', 'multiplayer', 'multiplying', 'multistores', 'multisurface', 'multiuse', 'multiview', 'mumbaipolice', 'mumbling', 'munday', 'mundays', 'mung', 'munnddaayyy', 'muntharika', 'munya', 'murkowski', 'mushe', 'musicaltheatre', 'musicnotation', 'musselburgh', 'mustweargloves', 'mustwearmask', 'mutasa', 'mutations', 'muted', 'mutharika', 'muthersays', 'muviri', 'mwadtv', 'myallotment', 'mybmc', 'myluck', 'mynewnormal', 'mypsafortoday', 'mysteryshopping', 'mysz', 'mythbuster', 'mythbusters', 'mywifelife', 'naa', 'naaaahhhhhh', 'nadia', 'nadus', 'naeemaslam', 'naga', 'nahc', 'nai', 'naidu', 'naifa', 'nairatwtpays', 'naish', 'najibi', 'nalang', 'nalgonda', 'nallan', 'namastehome', 'nami', 'namicc', 'namicontracosta', 'namin', 'namm', 'nanaaddo', 'nangangailangan', 'nanosecond', 'naomi', 'naparegister', 'naptown', 'narendrea', 'narok', 'narsingi', 'nasik', 'naspers', 'nassau', 'nat', 'nationalguard', 'natnl', 'natraj', 'natsec', 'naturalbeardoil', 'naturalselection', 'naturebasket', 'naught', 'nautical', 'navajo', 'navimumbai', 'navs', 'nbcnews', 'nbfcs', 'nbsamasengejje', 'nbsupdates', 'ncmi', 'ncovid', 'ncpa', 'ncpol', 'ncsolutions', 'ncyt', 'nda', 'ndby', 'ndc', 'nder', 'ndithi', 'nearermygodtothee', 'nearmonopoly', 'nedina', 'needhelp', 'needier', 'needle', 'needlessly', 'needsdelooroll', 'needshome', 'needthe', 'needtoeat', 'needtoiletpaper', 'neelesh', 'neeva', 'negligible', 'negotiators', 'neigh', 'nejm', 'nelkboys', 'neologisms', 'nephinlaw', 'neptune', 'nerds', 'nerve', 'ness', 'nessels', 'nestlequick', 'nestlé', 'netfl', 'netflixandchill', 'netsamphealthcare', 'networking', 'neuclear', 'neurogastroenterologist', 'neurotypicals', 'nevadans', 'neverbiden', 'newbedford', 'newbedfordma', 'newbrevard', 'newjobs', 'newlyappointed', 'newnormalisveryposh', 'newpaper', 'newprofilepic', 'newscaster', 'newsleader', 'newsmallonlinebig', 'newsradio', 'newyorkwins', 'nextdays', 'nextdoor', 'nextpissed', 'nexxo', 'nfd', 'nfid', 'nfldraftnews', 'nfm', 'nfp', 'ngati', 'ngayon', 'ngeles', 'ngod', 'ngwoke', 'ngyuen', 'nhsengland', 'nhsfoodbanks', 'nhssupermarket', 'nhsvolunteerresponder', 'nhsvolunteers', 'niazi', 'nicd', 'niche', 'nickelsburggeekwire', 'nickname', 'nighti', 'nightmarefuel', 'nightreads', 'nii', 'nimish', 'ninjaing', 'nirala', 'nis', 'nissan', 'nit', 'nitrate', 'nizar', 'njbanks', 'njnaturalgas', 'njs', 'nmgc', 'nobrainer', 'nochanceofsurvival', 'nocrisispayment', 'nofoodbank', 'nofoodtsa', 'noimnothoarding', 'noises', 'nomakeup', 'nomansami', 'nomask', 'nomorepeanutbutter', 'nonaccount', 'nonavailability', 'nonconventional', 'nondeveloper', 'nondiscretionary', 'nonfederal', 'nonfunctional', 'nonitalian', 'nonna', 'nonno', 'nonrenewals', 'nonseasonal', 'nonsterile', 'nontaxpaying', 'nonvital', 'nooks', 'noonedoesnothing', 'nooooo', 'nopee', 'noprecheck', 'noproblem', 'nopurellanywhere', 'nora', 'norah', 'norahodonnell', 'nordrheinwestfalen', 'norespect', 'norriesstories', 'northdevon', 'northeatery', 'northpark', 'northumberland', 'northvancouver', 'northwards', 'norways', 'nosemouth', 'nostalgia', 'nostrils', 'notch', 'notclear', 'notdoingtheirpart', 'notebooks', 'notfakenews', 'notforeverjustfornow', 'notft', 'nothelpful', 'nothingshit', 'nothoarding', 'noticeable', 'notley', 'notsponsored', 'notstopping', 'nottodaysatan', 'nottravellingbecauseofcorona', 'notwelcome', 'nourishingformulation', 'novacyt', 'novice', 'novices', 'nowamp', 'nowaste', 'nowcarryout', 'nowheretogo', 'noworries', 'nowso', 'nowwhen', 'npls', 'nppa', 'nrtnews', 'nsatouch', 'nscf', 'nsduh', 'nse', 'nssf', 'ntvnews', 'nudes', 'nuisance', 'numbersday', 'numerator', 'nuneaton', 'nuns', 'nuntilturn', 'nursesdocs', 'nursesunite', 'nursetwitter', 'nusret', 'nutritionally', 'nvda', 'nyaope', 'nyash', 'nyassembly', 'nycn', 'nyconstruction', 'nycs', 'nylockdown', 'nynj', 'nypost', 'nyscomptroller', 'nysenate', 'nystrong', 'nywrc', 'nyy', 'nzs', 'oasis', 'oatmilk', 'oaxacan', 'ob', 'obesiti', 'obilo', 'obit', 'objected', 'objectionable', 'obscurescifirferences', 'observar', 'obsess', 'occasionally', 'occoquan', 'occupationaltherapy', 'occupationinisolaton', 'octagon', 'octane', 'ocvjc', 'od', 'odishanews', 'odumasi', 'ofavail', 'ofdeaths', 'offbrands', 'offense', 'offensivememes', 'offersomehelp', 'offfor', 'officegrocery', 'officesupermarket', 'offlimits', 'offsale', 'offshoring', 'oft', 'ogden', 'ogi', 'oglala', 'ogunrinde', 'ohiounemployment', 'ohshittheregoestheplanet', 'oic', 'oilattavegetablesbread', 'oilcompanies', 'oilcrash', 'oilindustry', 'oilments', 'oilrigs', 'oilygarchy', 'ojek', 'okanagan', 'okähmsorry', 'ola', 'oldham', 'olivera', 'oll', 'olsen', 'omar', 'ombud', 'onceinalifetime', 'onemancanmakeadifference', 'onemonth', 'oneok', 'oneread', 'onerous', 'oneuse', 'onevoice', 'oneworldunitedworld', 'oniru', 'onlab', 'onlineassistanceconsultation', 'onlineclass', 'onlinegrocerystore', 'onlinegtgtgtgtgtgt', 'onlineit', 'onlydont', 'onlyforessentials', 'onmyblock', 'ons', 'onshore', 'ontariodairyboard', 'ontariofarms', 'ontbr', 'ontheroad', 'onwardsandupwards', 'ooooh', 'opencoronavirus', 'openhouses', 'openning', 'openohio', 'openpmpm', 'opensource', 'opex', 'opheusden', 'ophthalmology', 'opioid', 'opportune', 'opportunismauspol', 'optimistically', 'optimized', 'ora', 'orca', 'orchard', 'orderstime', 'orderth', 'ordination', 'oregons', 'oridel', 'orig', 'orillia', 'oronavirus', 'ororo', 'orpington', 'ostracized', 'otagoharbour', 'othersi', 'othr', 'ott', 'otto', 'ourselvesslow', 'outb', 'outbreakkrogerwalmart', 'outfalls', 'outfitoftheday', 'outhustle', 'outlandish', 'outlests', 'outoftoiletpaper', 'outperform', 'outputgrowth', 'outraged', 'outsider', 'outsourcing', 'outspend', 'outyear', 'ovat', 'overburdened', 'overcrowd', 'overdoses', 'overdu', 'overeating', 'overhang', 'overlords', 'overpopulation', 'overreliance', 'override', 'overspending', 'overstate', 'overtake', 'overtaken', 'overtaking', 'overtimepay', 'overyrs', 'ovr', 'ownmore', 'oxfam', 'oxychlor', 'oxygenyou', 'oystermen', 'ozarks', 'ozone', 'ozonesmarttunnel', 'pacita', 'packagedfood', 'packageholiday', 'packman', 'pacoronavirus', 'paidcoronavirussa', 'paidleaveforall', 'painters', 'pakistanarmy', 'pakistandailyupdates', 'paks', 'palamu', 'paleo', 'palindrome', 'palmbay', 'pancake', 'pandaemonium', 'pandamicsays', 'pandamonium', 'pandefuckingmonium', 'pandemicchopped', 'pandemiccrash', 'pandemicits', 'pandemicoil', 'pandemicpondering', 'pandemicrelated', 'pandemicstricken', 'panera', 'panicbooked', 'panicbuyersgettheguillotine', 'panicbuyinghoardingstockpiling', 'panicbuyingtoiletpaper', 'panicmode', 'panicshoppers', 'panicstruck', 'panicthe', 'panseri', 'pansplain', 'pantrys', 'pantyhose', 'paperbut', 'paperconverting', 'paperhand', 'papermachinery', 'papillion', 'pappou', 'paradigmatic', 'paraguay', 'paralysis', 'paralyzes', 'paramedica', 'paramus', 'parasitic', 'parecetomol', 'pared', 'parentseach', 'parisians', 'parisien', 'parisienne', 'parkerm', 'parlous', 'partcoronavirus', 'partech', 'partialfull', 'participant', 'parttimeprimeminister', 'pasdetention', 'pastatoilet', 'pasted', 'pastime', 'pastries', 'pastures', 'patanjaliyogpeeth', 'patchwork', 'patchy', 'pathanamthitta', 'pathmaticsexplorer', 'patricia', 'patrollerconducted', 'patrone', 'paula', 'paulbarron', 'paulmitchell', 'paulraftery', 'pauls', 'pawed', 'payinghour', 'paywalls', 'país', 'pbs', 'pci', 'pcmag', 'pcr', 'pct', 'peacesign', 'peanuts', 'peckerami', 'peelregion', 'peenay', 'pegged', 'pegging', 'pegnato', 'peligro', 'pelosis', 'pelosischiff', 'pembina', 'penale', 'pences', 'pendenic', 'pendrawings', 'penh', 'peninsula', 'penultimate', 'peopleareshit', 'peoplecentered', 'peoplei', 'peopleoverprofit', 'peoplesocial', 'peopleweve', 'pepperoni', 'peppers', 'peramadics', 'perfected', 'perfumeries', 'perfumers', 'periodic', 'perla', 'perliskuala', 'pero', 'perplexing', 'perrin', 'persistently', 'persists', 'personcouple', 'personification', 'personnes', 'perspectivenow', 'pervert', 'pestcontrol', 'pesteringasking', 'peteralexander', 'peterboroughs', 'peterdutton', 'peters', 'petes', 'petitionpizzareviews', 'petrolforecourt', 'petrolhead', 'petrolstation', 'petrolstations', 'petrostates', 'petrovietnam', 'petstore', 'petsupplies', 'pettakandi', 'petulant', 'peut', 'pfgc', 'pflicht', 'pgcounty', 'phaahla', 'pham', 'phanish', 'phantom', 'phaps', 'pharmacology', 'pharmacychecker', 'pharmacypostal', 'pharmamktg', 'phasing', 'philipp', 'philippians', 'philipps', 'philosophical', 'phle', 'phnom', 'photographer', 'photohops', 'photovoltaic', 'phu', 'physic', 'physicalmental', 'physics', 'physiologist', 'piccard', 'pickedclean', 'pickoftheday', 'picups', 'piecemakers', 'pierogi', 'piersmorgan', 'piggly', 'pii', 'piliing', 'pillay', 'pinak', 'pinchbeck', 'pinky', 'pins', 'pipelines', 'pirate', 'pirmasens', 'pisano', 'pissheads', 'pistols', 'pittis', 'pk', 'pkg', 'pkp', 'pks', 'pku', 'placard', 'placebos', 'plagues', 'plannedemic', 'plano', 'planted', 'plashet', 'platedemic', 'plausible', 'playspace', 'pleasesavemefromthestupid', 'pleaseset', 'pledgesbn', 'plentyfull', 'pliz', 'pll', 'plnt', 'plod', 'ploughed', 'plu', 'pluckingupcourage', 'plungethe', 'plush', 'pluto', 'pma', 'pmd', 'pmimrankhan', 'pmminutes', 'pmo', 'pnpgooddeed', 'poblano', 'pocketed', 'podle', 'pointbut', 'poking', 'pol', 'polaris', 'pole', 'polenta', 'policeman', 'policie', 'policyholders', 'policymarket', 'polit', 'polluted', 'poly', 'polymerase', 'polymers', 'pomade', 'pompeo', 'poner', 'ponytail', 'pooch', 'poohcoronavirus', 'pooing', 'poongothai', 'poorverty', 'poptarts', 'popud', 'populace', 'popupstores', 'porou', 'portage', 'portalet', 'portco', 'portelli', 'portes', 'portraying', 'positiv', 'positiva', 'positivo', 'poslední', 'postcrisis', 'postie', 'postmanwoman', 'postshower', 'potable', 'potatoesonions', 'potentialy', 'potts', 'pourhouse', 'pouvoir', 'powai', 'powderedface', 'powerbusiness', 'powerfulpatientpartner', 'powersanding', 'powersports', 'powertalk', 'powertriptakeout', 'powerup', 'powis', 'ppethis', 'ppi', 'pplfamilies', 'ppls', 'prairies', 'prajala', 'prakash', 'prato', 'prayersforcoronafreeworld', 'prayfornigeria', 'prck', 'prdcts', 'preceded', 'precedence', 'precludes', 'precoviduk', 'preda', 'predominant', 'preexistingcondition', 'preferable', 'preferential', 'pregnantwe', 'prego', 'prek', 'premature', 'premiumbrands', 'preopening', 'prepackaging', 'prerolls', 'presenter', 'preservation', 'preservatives', 'presid', 'preside', 'presided', 'presidentialaddress', 'pressent', 'pressers', 'prestige', 'presymptomatic', 'prethinkers', 'pretrained', 'prevailingwage', 'prevalence', 'preventativehealth', 'preventionisbetterthancure', 'preventioniskey', 'priceatthepump', 'pricecycle', 'pricegouger', 'pricegougingthey', 'pricehike', 'priceml', 'pricemonth', 'priceofoil', 'pricerise', 'pricerises', 'pricescomplete', 'priceslast', 'pricespisses', 'pricesshort', 'pricessupplydemand', 'pricest', 'priceyes', 'primal', 'printpatented', 'prisoner', 'prisonwhereas', 'pristine', 'privacymanagement', 'prix', 'probable', 'probily', 'probl', 'processor', 'procted', 'procter', 'prodigal', 'produ', 'productiongrocery', 'productively', 'productplacement', 'productspicknpaycycad', 'profesionales', 'professorlife', 'profitabilityvideo', 'profite', 'profitseekers', 'profitting', 'prohibiting', 'prohibitions', 'projectsrh', 'promgo', 'proofreading', 'prophylactic', 'proportionate', 'proportionately', 'proppa', 'proshop', 'prospering', 'protectfrontliners', 'protectiongeorgia', 'protectionoft', 'protectournhs', 'protectourstaff', 'proteção', 'proti', 'protrump', 'proudmuch', 'proudmuslim', 'proudsbi', 'proudsikhs', 'proudtobuildwhatmatters', 'proverbs', 'provid', 'provincewide', 'provokes', 'prämie', 'président', 'psed', 'psms', 'psoriasiswarrior', 'psoriaticarthritis', 'psoriaticarthritiswarriors', 'psreveal', 'psych', 'psycho', 'psychobunnycomix', 'pterodactyls', 'ptinews', 'pubclosures', 'publicdo', 'publichealthcare', 'publichealthprotection', 'publichealthsouthwark', 'publicmake', 'publicmedia', 'publicsafety', 'publictransport', 'pubstand', 'puffed', 'pug', 'pullup', 'pullyourfingerout', 'pummeling', 'punctuated', 'puns', 'puppets', 'puranam', 'purblic', 'purchasesmovie', 'puree', 'puregold', 'purevpn', 'purportedly', 'purposeunemployment', 'pursuite', 'purveyors', 'pussy', 'puting', 'putnam', 'puzzelsamphome', 'pvvnl', 'pw', 'pye', 'qac', 'qatari', 'qatarunited', 'qeretail', 'qfc', 'qild', 'qmu', 'qpay', 'qq', 'qsrs', 'quadruplethreatstar', 'quail', 'qualityamp', 'quantam', 'quantify', 'quaran', 'quarantinecon', 'quarantineday', 'quarantineliving', 'quarantinememes', 'quarantinestories', 'quarantinesupermarket', 'quarantinewatchparty', 'quarantini', 'quaranturn', 'quarentined', 'quarterback', 'quarticon', 'quay', 'quedarnos', 'queenslanders', 'queersinquarantine', 'quercetin', 'questiona', 'questionconsider', 'questioned', 'questionwrite', 'queus', 'quickcare', 'quicklys', 'quickserve', 'quilting', 'quilton', 'quinsams', 'quintonlucaskc', 'quo', 'qvm', 'qwithbq', 'qyihjaypbuaxtnmdfrozkdftyrvfvl', 'rabbit', 'rachelclarkesrftnhsuk', 'rachelmaddow', 'racked', 'radiodotcom', 'radiofrequencies', 'raf', 'rafaelgonzalezesq', 'rafters', 'raga', 'ragu', 'rahega', 'rahim', 'raiderstrategy', 'rainforest', 'raisingsoaphandsanitiserpricescovirbibublnworthgovtsecuritiesstabilisefinancialmarket', 'rajiv', 'rakuten', 'ramadn', 'ramanan', 'ramdasatwale', 'rampedup', 'ramvilaspaswan', 'ranch', 'randburg', 'randomization', 'randusd', 'randy', 'ranga', 'ranjan', 'rapids', 'rapping', 'raptors', 'rarest', 'ras', 'rashan', 'rata', 'rationingnow', 'ratiosnormalize', 'raving', 'rayner', 'raysup', 'rbs', 'rcl', 'rds', 'reactaustralia', 'reactors', 'readiness', 'readings', 'readjusting', 'realestatebroker', 'realestateinvestment', 'reallycoronavirus', 'realsaving', 'realuze', 'reared', 'rearend', 'rears', 'reasonfollow', 'reasonings', 'reasors', 'reassert', 'reasses', 'rebar', 'reboot', 'rebuy', 'recall', 'recalling', 'receivers', 'receivership', 'recentlypassed', 'receptacle', 'recessioninducing', 'recipeformulation', 'recondition', 'reconnecting', 'recordbreaking', 'recordsits', 'rectums', 'recyclables', 'redballs', 'redditdadjokes', 'rediclinic', 'redicoulous', 'redneck', 'redshift', 'reducng', 'reebok', 'reef', 'reemployment', 'reenact', 'rees', 'refed', 'refigerator', 'reflex', 'refocus', 'refood', 'refurbishing', 'refusingtohoard', 'regenerative', 'regierung', 'regoing', 'regrets', 'regrettably', 'regretting', 'rehydrated', 'reich', 'reimbursing', 'reimposed', 'rejects', 'rejoice', 'relapsing', 'relatedly', 'relay', 'relearn', 'relianceindustries', 'reliefmy', 'reliving', 'reload', 'remapest', 'remedy', 'remedyvaccine', 'remembert', 'rememberthis', 'remindinform', 'remission', 'remot', 'remota', 'removedoutsidethen', 'remuneration', 'renee', 'renewals', 'renewannewithane', 'reneweconomy', 'renforçant', 'rentmortgage', 'rentpayment', 'rentutilities', 'reonline', 'repacking', 'repatriated', 'repeated', 'repellent', 'repellents', 'repertoire', 'replicated', 'reportfraudcontracostada', 'reportm', 'reppin', 'representa', 'repurpose', 'repurposing', 'reputationmarketing', 'reservists', 'reservoirs', 'reshaped', 'reshoring', 'reshoringusa', 'residences', 'resignationwithout', 'resilientyouth', 'resistant', 'resistir', 'resp', 'respectsupermarketstaff', 'respnders', 'respo', 'responsecoronavirus', 'resprouk', 'ressurected', 'restartingrebooting', 'restau', 'restaurantquantities', 'restaurantsive', 'restaurateurs', 'restockthere', 'restraining', 'restrictionsthen', 'restroom', 'resturaunts', 'retailampa', 'retailbased', 'retailbestpractices', 'retailchanges', 'retailconsumer', 'retailenvironment', 'retailerapp', 'retailevolution', 'retailexperience', 'retailhours', 'retailmarketing', 'retailmatters', 'retailresponse', 'retailshopping', 'retailstores', 'retailwire', 'retaliatory', 'retards', 'reteet', 'rethinkretail', 'retracement', 'retrenched', 'retrenchmentdemandpull', 'retrievable', 'returnstocks', 'reut', 'revamped', 'reven', 'reverestill', 'reverselogistics', 'revew', 'reviving', 'rew', 'rfr', 'rfriiig', 'rga', 'rhino', 'rib', 'riceamp', 'riced', 'ricers', 'richardism', 'richards', 'richcommunications', 'richmondbc', 'rickfordm', 'rics', 'riddled', 'ridehailing', 'riden', 'ridership', 'ridiculouslyinflated', 'rightpeople', 'rightso', 'rightthis', 'rigorous', 'rigorously', 'rimacctwo', 'ringgit', 'ripening', 'ripponden', 'riseup', 'rita', 'riverina', 'riversidecounty', 'riveter', 'riveting', 'rna', 'rng', 'roa', 'roadamppelted', 'roadman', 'roadmap', 'roadmen', 'roam', 'robe', 'robinhood', 'robinroberts', 'rocha', 'rochdale', 'rockin', 'rockledge', 'rockmans', 'rockspringstshirts', 'rockstar', 'rod', 'rodahidup', 'rodewayinnla', 'roland', 'rolloh', 'roma', 'romagna', 'roofing', 'rooom', 'rort', 'rou', 'rpg', 'rq', 'rsecon', 'rselected', 'rsthese', 'rtenews', 'rti', 'rubensteins', 'ruffle', 'ruggedman', 'ruing', 'ruislip', 'rulers', 'rulesuggestion', 'rump', 'runanga', 'runloverock', 'runm', 'runner', 'runners', 'runnerslife', 'runningfortheboarder', 'runwalgroup', 'rupert', 'rura', 'ruralamerica', 'russiancollusion', 'russianpresident', 'russiasaudia', 'ruta', 'rva', 'rvaca', 'rvs', 'rwmb', 'rwr', 'rxs', 'rycroft', 'rylan', 'saarcmryj', 'saavedra', 'sabbnl', 'sabgxdes', 'sabino', 'sacked', 'sacking', 'sacqysmag', 'sadbuying', 'sadday', 'saddles', 'sadmlzw', 'sadtl', 'saejdns', 'safari', 'safedistancing', 'safetyfusion', 'safetyhygiene', 'safetynet', 'safetypreventive', 'safewayalbertsonscostco', 'safhuxrg', 'safioerl', 'safoodbank', 'saftyfirst', 'saghbhca', 'sagw', 'sahab', 'sahar', 'sahblw', 'sahochax', 'sailings', 'sailrof', 'sainburys', 'saino', 'saintdenis', 'saipal', 'saipmf', 'sajh', 'sajjad', 'sajm', 'sajnkjg', 'sakgwjibad', 'sakhsw', 'saksk', 'sakukxcxf', 'sakusa', 'sakxoina', 'salam', 'salaremillat', 'salehiisfahani', 'salesconfettisweetsca', 'saleseruicom', 'salesfloor', 'salesforce', 'salford', 'salir', 'salmafoodbank', 'salonetwitter', 'saloon', 'saltbae', 'salud', 'saluted', 'salutes', 'salvador', 'samantha', 'samaritan', 'sami', 'samqa', 'sanaazl', 'sanatizers', 'sanding', 'sandown', 'sandpap', 'sandwellcouncil', 'sanglangmy', 'sanitarias', 'sanitizationtunnel', 'sanitizercleaning', 'sanitizershygiene', 'sanitizersoap', 'sanitizerspray', 'sanitz', 'sanmiguel', 'sant', 'santabarbara', 'santana', 'santiago', 'santions', 'santitation', 'santizing', 'santoor', 'santpau', 'sanwoolu', 'sao', 'saofm', 'saomcagu', 'saoo', 'sapcx', 'sapmma', 'saq', 'saqxlp', 'saraimrieart', 'sarasin', 'sarb', 'sarbananda', 'sarc', 'sarcastically', 'sarin', 'sark', 'saro', 'sascwcry', 'sashaying', 'sasj', 'saskag', 'satellites', 'saturdayt', 'satwcyged', 'satyhome', 'sauer', 'saufu', 'saugaam', 'saugus', 'saur', 'saurus', 'savemore', 'saveournhs', 'savethenhs', 'savoury', 'sawant', 'sawchuk', 'sawcoronavirus', 'saww', 'saxhrj', 'saxi', 'saxox', 'saycuf', 'sayingm', 'sayolbt', 'sayr', 'sazbbuqtj', 'saziq', 'sazvcu', 'sbac', 'sbcas', 'sbd', 'sbdf', 'sbec', 'sbflx', 'sbgzjs', 'sbhwrbbkm', 'sbhxmilh', 'sbiaiwk', 'sbifamily', 'sbigfexqg', 'sbil', 'sbinsights', 'sbix', 'sbj', 'sbkzxut', 'sblglobal', 'sblhomoeopathy', 'sbnnhxl', 'sbnunupmj', 'sbot', 'sbqe', 'sbqwctp', 'sbr', 'sbryl', 'sbswinners', 'sbtbss', 'sbu', 'sbusiness', 'sbvvrw', 'sbvw', 'sbwpe', 'sbwpld', 'sbxfylxy', 'sbximkoi', 'sbywueri', 'sbzmw', 'scabs', 'scamcr', 'scampcgnb', 'scamprevention', 'scanky', 'scardina', 'scaredwhat', 'scarfacediary', 'sccsfn', 'scczx', 'scdexnb', 'scdk', 'scdpi', 'scdua', 'scdzvxi', 'sceesmf', 'scented', 'scentiva', 'sceqhmf', 'sceyh', 'scgvbq', 'scgyi', 'sch', 'schaffner', 'schemetransfers', 'schhcd', 'schizo', 'schneider', 'scho', 'scholars', 'schoolage', 'schooler', 'schoolfee', 'schoolst', 'schuermann', 'schxc', 'scikrks', 'scinating', 'scjtgzjh', 'sckbd', 'sckkxxmx', 'sclenb', 'sclerosis', 'sclkdx', 'sclpqbi', 'sclxfgn', 'scn', 'scones', 'scooping', 'scorecard', 'scousers', 'scppflj', 'scratchy', 'scrbzxrx', 'scrgimvn', 'scrubbed', 'scrzk', 'scskkfr', 'scsxdxuzqk', 'sctab', 'scthoxm', 'scu', 'scully', 'scumla', 'scunthorpe', 'scv', 'scvmnjdrsd', 'scyelalzy', 'scykivs', 'scyljwglzg', 'scynzzogx', 'sczp', 'scztye', 'sdcad', 'sdchsgzdy', 'sddfmxjp', 'sdesll', 'sdeyhm', 'sdfse', 'sdghbnc', 'sdgktjrgf', 'sdgmpd', 'sdhhbw', 'sdjqfbeba', 'sdkqcm', 'sdktha', 'sdkvs', 'sdla', 'sdmpblp', 'sdnhu', 'sdnkcgfdqd', 'sdohj', 'sdot', 'sdotht', 'sdov', 'sdowpj', 'sdp', 'sdpvzgio', 'sdsezzmbtp', 'sdsfvb', 'sdsoahagq', 'sdtzktsjx', 'sdusw', 'sdw', 'sdwgl', 'sdwkg', 'sdxz', 'sdykocl', 'seafarers', 'seamstress', 'seasoned', 'seattlelockdown', 'seaufkv', 'sebt', 'sechuvzmb', 'secimxa', 'secoiiyp', 'secondbest', 'secondlargest', 'secondscreen', 'seconomy', 'secpjic', 'secretaries', 'secretarylevine', 'secretsofyoursupermarketfoods', 'secureteam', 'secureyourinfo', 'sedalia', 'sedation', 'sedd', 'sederplate', 'sedgwick', 'sedgwickcounty', 'seditious', 'sedmcar', 'sedyda', 'seeding', 'seekersuchow', 'seempvmhw', 'seemslegit', 'seest', 'seetheworld', 'sefrfdpxb', 'segcpowx', 'segi', 'segmhm', 'segmkmrofa', 'segregation', 'seia', 'sein', 'sejupn', 'sejwv', 'seka', 'sekgpj', 'sekuwvfc', 'selcaday', 'selena', 'seleut', 'selfabsorbed', 'selfemployedmattertoo', 'selfhome', 'selfishidiots', 'selfishpoliticians', 'selfisolatingmanagement', 'selfordering', 'selfportrait', 'selfprotect', 'selfstanding', 'sellin', 'selloffs', 'sellouts', 'selten', 'semedia', 'semiconductorequipment', 'semiconductorsales', 'semiselfquarantine', 'sems', 'senatecorruption', 'sender', 'sendhelpandmoney', 'sendinglove', 'sendy', 'senitpa', 'sensationalise', 'sensedepth', 'senseless', 'sentences', 'sentimentoil', 'senwarren', 'senze', 'seoerri', 'seokae', 'seoul', 'seperates', 'sepflkm', 'sepjui', 'sepmdclmy', 'sepp', 'seprs', 'seqtczjn', 'serame', 'sergers', 'serologyimmunoassaysantibody', 'serous', 'sertjmizm', 'servic', 'servicepublic', 'servicers', 'servings', 'serzcv', 'sesakkfns', 'seso', 'sesp', 'sespz', 'sesvroxh', 'sethi', 'setlife', 'setnw', 'setqqvl', 'setter', 'setterfield', 'seueuj', 'seuq', 'seuywisd', 'sewingmaking', 'sewmuv', 'sexysaturday', 'seybhefx', 'seyfxvthu', 'seykpcldo', 'sezkqhiyg', 'sezkrbehq', 'sfbu', 'sfbxzbhu', 'sfcqrctk', 'sfcu', 'sfcxy', 'sfdxzbsde', 'sfdynja', 'sfeifn', 'sffyqiov', 'sfgecvyc', 'sfgofficial', 'sfgshif', 'sfhesdkipn', 'sfiph', 'sfjpgf', 'sfjukm', 'sfkhhfjk', 'sflmq', 'sfmbu', 'sfmf', 'sfmtlcl', 'sfntr', 'sfokntlis', 'sfokq', 'sformation', 'sfpd', 'sfpt', 'sfrq', 'sfrxy', 'sfszqpijp', 'sfvk', 'sfwxv', 'sfxixh', 'sgbbku', 'sgbwqztx', 'sgchpir', 'sgdtb', 'sgexcdn', 'sgezigb', 'sgfesom', 'sggeqanw', 'sggmpex', 'sghmciqbj', 'sgifobagq', 'sgiv', 'sgivzvfk', 'sgjwocfka', 'sgkqjx', 'sgle', 'sglee', 'sgmmjn', 'sgmyspxaii', 'sgogvu', 'sgohkb', 'sgoqw', 'sgpcnlbi', 'sgpyqzw', 'sgqscli', 'sgqsz', 'sgr', 'sgrdl', 'sgrs', 'sgsbed', 'sgsg', 'sgtnj', 'sgtpq', 'sgukar', 'sguwcv', 'sgvsm', 'sgwbosek', 'sgwfjdikp', 'sgwhvom', 'sgwiclomhv', 'sgwl', 'sgwuqenq', 'sgxa', 'sgxfdl', 'sgxpmsjsz', 'sgxw', 'sgy', 'sgyce', 'sgydno', 'sgytrmrgsl', 'sgz', 'sgzsnxe', 'shaded', 'shading', 'shaft', 'shahibaugh', 'shakeup', 'shamblesstayathome', 'shamefully', 'shamelessly', 'shamin', 'shandil', 'shanha', 'shapctp', 'shaqowi', 'sharktank', 'shbl', 'shctjidoh', 'sheepskin', 'sheesh', 'sheffieid', 'shehnaazgiii', 'sheila', 'shelford', 'shelfsno', 'shelteringathome', 'shelvessupport', 'shelvesthey', 'shemeantcondoms', 'shenley', 'sher', 'shera', 'sherbs', 'shevekhipn', 'shevrfp', 'shey', 'shgdidis', 'shgk', 'shgknlyl', 'shiay', 'shieeeet', 'shifa', 'shiftpm', 'shinanigans', 'shines', 'shipg', 'shiphbg', 'shippingcontainers', 'shippingtoja', 'shithouse', 'shithouses', 'shiting', 'shitjustgotreal', 'shitstorm', 'shjpalzm', 'shjqxcc', 'shkreli', 'shkuiyjxt', 'shlnj', 'shlvs', 'shlxtdehv', 'shmc', 'shn', 'shokrwmd', 'shooter', 'shootout', 'shopafternoon', 'shopalishamarie', 'shopclub', 'shopcovi', 'shopeemy', 'shophampton', 'shoping', 'shoplifting', 'shopnormally', 'shopoffice', 'shoponlineifyouhaveinternet', 'shopopening', 'shoppercentrics', 'shoppingamppayments', 'shoppingbill', 'shoppingcart', 'shoppingcurbside', 'shoprespectfully', 'shopscirca', 'shopscoronavirus', 'shopsupermarketits', 'shopswhen', 'shopyes', 'shordy', 'shorehandling', 'shortcrust', 'shortenedhours', 'shortest', 'shortstaffed', 'shortyou', 'shotguns', 'shoul', 'shouts', 'showbizagenda', 'showmeyourshelves', 'showweroll', 'shpk', 'shreveport', 'shrhsyvi', 'shrivastav', 'shrnrqd', 'shrrliorb', 'shruglife', 'shrunk', 'shrxfd', 'shstg', 'shtgnzkyfl', 'shufflerun', 'shun', 'shungry', 'shuri', 'shushu', 'shutaustraliadown', 'shutdowndhaka', 'shutdownnys', 'shutdownuk', 'shuttheschoolsnow', 'shvbxg', 'shvpzrrp', 'shwdle', 'shwfy', 'shwgzkb', 'shwrkj', 'shwuxdz', 'shwvu', 'shxj', 'shxw', 'shyuyw', 'shzozr', 'shzvq', 'siam', 'sibjh', 'sibopkya', 'sicana', 'siccnoqz', 'sicplq', 'sidaxqb', 'sider', 'siders', 'sidestepping', 'sidlvu', 'sidneysmithcretiv', 'siendo', 'sifj', 'sifmy', 'sifted', 'sifzuue', 'sig', 'sighffpib', 'sighing', 'sighting', 'signaled', 'signalled', 'signmaking', 'signthepetitionsa', 'sigrcykq', 'sii', 'siib', 'siicctdb', 'siiiay', 'siizwa', 'sikasbro', 'siknajdbv', 'sikpn', 'sikyhcf', 'silber', 'silos', 'silverlining', 'sim', 'simeac', 'simfrp', 'similac', 'simkdbxi', 'simmer', 'simonblack', 'simons', 'simplified', 'simplygf', 'sinaloa', 'sincerity', 'sinceth', 'sincethno', 'singaporeair', 'singlepayer', 'sinnwey', 'sinw', 'siobewd', 'siocz', 'sion', 'siov', 'sipg', 'sipj', 'siqbpnk', 'siqmsue', 'siren', 'sirmuvlorm', 'sirthanks', 'sirve', 'sirwith', 'sish', 'sislegalaid', 'sispfjtdr', 'sitapok', 'sitaraman', 'sitch', 'sitcom', 'sitn', 'sitters', 'situación', 'sitz', 'siuikq', 'siul', 'sivdaq', 'sivgziatjl', 'sivofsgj', 'siwulzwg', 'siwxwncal', 'sixegxvphu', 'sixfold', 'sixh', 'sixhour', 'sixurehe', 'sixwrbt', 'siy', 'siynvs', 'sizeable', 'sjaevnhb', 'sjan', 'sjap', 'sjbcooa', 'sjbhtcti', 'sjdy', 'sjdzeyenn', 'sje', 'sjfzgr', 'sjghdzacqm', 'sjhmigo', 'sjhxwml', 'sjhyqiyrbu', 'sjir', 'sjiu', 'sjjjl', 'sjjs', 'sjjy', 'sjkiz', 'sjks', 'sjlzjj', 'sjmfbks', 'sjmrvpkjh', 'sjpxvio', 'sjpzntjag', 'sjqirbpse', 'sjqmpm', 'sjsgcv', 'sjsnervuwz', 'sjtnfut', 'sjtziub', 'sjvfev', 'sjwebcpbh', 'sjxtzcoax', 'sjxv', 'sjyopqa', 'sjzglkm', 'skaakj', 'skammjyyf', 'skat', 'skc', 'skcqa', 'skcrj', 'skdnfm', 'skdyks', 'skdzymafd', 'skellig', 'skelligcoastkms', 'skenad', 'skers', 'sketchdaily', 'sketchy', 'skfjvja', 'skgsyc', 'skhkyuw', 'skhwg', 'skimmer', 'skimmers', 'skinca', 'skinned', 'skinner', 'skinny', 'skirmishes', 'skittishit', 'skjik', 'skjksdy', 'skjwvqmyb', 'skklkuh', 'skmj', 'skmzx', 'skncdh', 'skom', 'skoueilce', 'skp', 'skpu', 'skqoz', 'skqugyg', 'sksall', 'skulls', 'skv', 'skvaotyr', 'skvdlzdlic', 'skvki', 'skvp', 'skvromo', 'skvsqd', 'skweuvpay', 'skybjw', 'skyrock', 'skyshomedelivery', 'skzanx', 'skzcgszgk', 'skzdrwgg', 'skzuz', 'slanf', 'slarqzm', 'slaughtering', 'slcgqbt', 'sld', 'sldqpj', 'sldqx', 'sldxzla', 'sleazebags', 'sleeper', 'sleepover', 'sleepovers', 'sleepwalking', 'sleh', 'slelpyzj', 'sletnqzsg', 'slex', 'slf', 'slfthps', 'slg', 'slhmt', 'slhnf', 'slhx', 'slhzd', 'slifestyle', 'slime', 'sling', 'sliqpmt', 'sljcrze', 'sljg', 'sljhhrv', 'sllhkc', 'sllznmk', 'slmltq', 'slmmqp', 'slmqfe', 'slngun', 'slough', 'slpezboya', 'slpnh', 'slqe', 'slsapogq', 'slsonwba', 'sltaphki', 'slug', 'sluizdkt', 'slupmxicl', 'sluweffv', 'slvhq', 'slvkw', 'slwfeyxr', 'slwr', 'slx', 'slxkwt', 'slxnogotn', 'slxpnmyw', 'slyl', 'slymxzte', 'slyu', 'slzfcx', 'slzmcjl', 'smallerscale', 'smarkets', 'smartcompany', 'smartest', 'smartkid', 'smartpersonalaudiodevices', 'smartspeakers', 'smashes', 'smbqvvi', 'smbzsu', 'smcnvis', 'smethwick', 'smeticvalley', 'smfe', 'smfjd', 'smgoa', 'smgte', 'smhfxdtmf', 'smhlwu', 'smkgfg', 'smkvw', 'smkyt', 'smlgepm', 'smlhrualt', 'smlrs', 'smmp', 'smmrabeix', 'smnfao', 'smoothie', 'smqjagd', 'smqx', 'smr', 'smrkh', 'smrt', 'smrzz', 'smsunmrk', 'smtncqsp', 'smtnirmala', 'smtuvegp', 'smwilfjgvb', 'smwn', 'smycamp', 'smyjx', 'sna', 'snaluwc', 'snapchatads', 'snappy', 'snatched', 'snaxcev', 'snbdtkl', 'snblonnc', 'sncr', 'sncw', 'sndtmwsp', 'sneakerheads', 'sneg', 'sneh', 'snews', 'sngj', 'sngtsdp', 'snig', 'snigly', 'sniping', 'snisgmof', 'sniybiz', 'snjkyipb', 'snkzi', 'snlvo', 'snmvkujh', 'snnbnb', 'snnkd', 'snnu', 'snocczxnfu', 'snogn', 'snoktqy', 'snopes', 'snotty', 'snowed', 'snowsani', 'snpefvz', 'snqpwi', 'snrhbirk', 'snsmhnixok', 'sntwipjo', 'snugly', 'snujw', 'snuw', 'snvcacg', 'snwv', 'snwxau', 'snxo', 'snyder', 'snyderretailstore', 'snyjb', 'snyuqm', 'snzo', 'soaapoy', 'soaked', 'soaking', 'sobdrp', 'sobyrxfl', 'socaildistancing', 'socdis', 'socialdisdancing', 'socialdistanced', 'socialdistancehumor', 'socialdistancingdiaries', 'socialdistancingif', 'socialdistancingpickuplines', 'socialdistancinguk', 'socialfun', 'socialgood', 'socialisolating', 'socializing', 'socialmediaads', 'societyandculture', 'societyproblem', 'sociological', 'sodas', 'sodastream', 'sodbm', 'sodepur', 'sodmhadsp', 'soe', 'soebfwynvh', 'soeeir', 'soeko', 'soep', 'soex', 'sofar', 'sofrer', 'softest', 'softheaded', 'sofya', 'sofyvk', 'sofzh', 'sogo', 'sogtzxu', 'soh', 'sohr', 'sohrdmuy', 'soif', 'soilproduction', 'soje', 'sojx', 'sokazhkl', 'sokrmby', 'solace', 'solarpanels', 'solation', 'soldm', 'soldshs', 'solemos', 'soljm', 'solvents', 'somali', 'sombre', 'somer', 'somethingbeautifuleveryday', 'sonbdbz', 'sonkql', 'sonowal', 'soomro', 'soooowho', 'sooqruaao', 'soorivhd', 'soosrias', 'sopec', 'soplus', 'sopportunities', 'soprc', 'soqqil', 'soqqn', 'soragcgnr', 'soreen', 'sorkl', 'sorpresa', 'sosfitbmtg', 'soshtgxch', 'soswjwcxx', 'sotfk', 'sotuls', 'soufflè', 'souldestroying', 'soundcloud', 'sourland', 'southbronx', 'southend', 'southkerry', 'southport', 'soveringrisk', 'sovopnhh', 'sowing', 'soymug', 'sozg', 'sozgdvo', 'sozpv', 'sozwiwzn', 'spaamericas', 'spahn', 'spaincoronavirus', 'spajdk', 'spallanzani', 'spamd', 'spami', 'spandemicusa', 'spaniards', 'spanning', 'sparkle', 'sparklesanitizer', 'sparky', 'sparsely', 'spas', 'spats', 'spawrd', 'spb', 'spbwtayw', 'spctdqqr', 'spcwalag', 'spdr', 'spdrcu', 'spe', 'speaakj', 'speci', 'specialschool', 'specify', 'speeading', 'speeds', 'spekulantm', 'spemw', 'spenders', 'spendinghabits', 'spfjiqla', 'spghui', 'spgmjcuii', 'spgtuo', 'spgu', 'sphcjtio', 'sphumisa', 'sphvbi', 'sphyfxjg', 'spider', 'spiderman', 'spiegelmans', 'spil', 'spinelli', 'spiritualawakening', 'spiritualfamily', 'spjexp', 'spjrnbll', 'spkmjfq', 'spkxyqz', 'spky', 'splashed', 'splbii', 'splcb', 'splint', 'splvppo', 'spmcjjz', 'spmj', 'spmwqsdlzm', 'spokaneschools', 'spolupráci', 'spolutozvladneme', 'sponds', 'spongebob', 'spongebobmeme', 'spongebobmemes', 'sponges', 'spook', 'spooky', 'spoonieliving', 'spoonslave', 'spoonspig', 'spoonsslave', 'spoonssub', 'spoonsub', 'sportforlife', 'sportsbooks', 'sportsdirectuk', 'sportsmanwoman', 'spotampdetained', 'spotifypodcast', 'spotless', 'spout', 'sppowwfadh', 'spq', 'sprayml', 'spreadingthanks', 'spreadkindness', 'spreadreliefnotcorona', 'spreadthey', 'spreadusing', 'spreat', 'spreh', 'spricegou', 'springboot', 'springdale', 'springnews', 'sprj', 'sprz', 'sps', 'spstraxlq', 'spsw', 'sptchoc', 'sptwd', 'spulkt', 'sputum', 'spvjqg', 'spvpyfy', 'spwv', 'spys', 'spznqmppz', 'später', 'sqaxx', 'sqcpvf', 'sqdvc', 'sqdwu', 'sqffsg', 'sqfmrc', 'sqfvitav', 'sqgvt', 'sqh', 'sqhajs', 'sqhm', 'sqhrubme', 'sqhwapns', 'sqjgm', 'sqkdu', 'sqks', 'sqkxfgd', 'sqmhl', 'sqmpfc', 'sqnjegzf', 'sqo', 'sqplxzaqlx', 'sqqqy', 'sqrc', 'sqrggqhps', 'sqrxhtrhvd', 'sqryj', 'sqs', 'sqsay', 'sqskjhxq', 'squalid', 'squeo', 'squirrels', 'squirtin', 'squirting', 'squzi', 'sqv', 'sqvaqsfgw', 'sqvoifmwij', 'sqwf', 'sqws', 'sqxjeb', 'sqxm', 'sqxmq', 'sqyvz', 'sqznm', 'sqzoaco', 'sqzy', 'sragarg', 'sravw', 'srbp', 'srcggpuy', 'srctu', 'srddswdly', 'srdrsgrv', 'srdzcihn', 'sre', 'srelfe', 'srerwj', 'srfietqycy', 'srfjdlfzd', 'srgsrbye', 'srhfb', 'srhqy', 'srhzij', 'sriif', 'sripll', 'srjjfbi', 'srjmkof', 'srjswdtfk', 'srjv', 'srly', 'srm', 'srna', 'srnmw', 'srnsgmp', 'sroas', 'srow', 'srphw', 'srqnixcf', 'srs', 'srsmf', 'srsnlmwu', 'srubkeuoe', 'srumzge', 'sruue', 'srvpk', 'srw', 'srwg', 'srwrjgng', 'srwzrw', 'srxhsxl', 'sryryjk', 'sryvtwwlgo', 'ssavrsjf', 'ssbqxq', 'ssdcmlhxg', 'ssdj', 'ssdyw', 'sse', 'ssentialworkers', 'ssezo', 'ssf', 'ssfhfb', 'ssg', 'ssga', 'ssgpbf', 'sshfggtp', 'sshscwv', 'ssia', 'ssive', 'ssjzzfgx', 'sskhh', 'ssll', 'ssmj', 'ssmqn', 'ssnjbgu', 'ssowe', 'ssqn', 'ssruhyqw', 'ssthisweek', 'ssupnow', 'sswccom', 'sswcl', 'sswgdddk', 'ssxnjbiy', 'ssxzocpjx', 'ssywiue', 'ssyx', 'sszlpc', 'ssztu', 'sszv', 'stab', 'stabbings', 'stabbingsbeatings', 'stabilizing', 'stacks', 'staffampcustomers', 'staffcarersetc', 'staffer', 'staffsuddenly', 'stafuysst', 'stagedancewearonline', 'stagedancewearuk', 'stagflation', 'stagger', 'stagnated', 'stain', 'stalfarm', 'stalkers', 'stalling', 'staluminosa', 'stampedes', 'stances', 'standin', 'stanfields', 'stapledon', 'staplemt', 'stapler', 'starace', 'starfishclub', 'starkist', 'starmer', 'starship', 'startedwith', 'starters', 'startpm', 'startwithtrust', 'stasafzwmb', 'statio', 'stationsprices', 'statna', 'staurantnews', 'stav', 'stavtion', 'stawinski', 'stayactive', 'stayathomechllenge', 'stayathomerule', 'stayaway', 'stayballyhoo', 'stayconnectedtogether', 'staydistance', 'stayhealthymyfriends', 'stayho', 'stayholmesglen', 'stayhom', 'stayhomeeaster', 'stayhomefornevada', 'stayhomeforus', 'stayhomekenya', 'stayhomenz', 'stayhomestayhome', 'stayhomewv', 'stayindoorsandshop', 'stayingassafeaswecan', 'stayinthehoose', 'staynorthern', 'stayputstaysafe', 'staysafesavelives', 'staysafesta', 'staysafestayhealthy', 'staystay', 'stayunitedforcorona', 'stbay', 'stby', 'stcbnxxpxui', 'stcoadlqmuyj', 'stcoadzsgrw', 'stcoaihtvhgbq', 'stcoajnzyef', 'stcoajqfjbj', 'stcoajvu', 'stcoakmyzcsbb', 'stcoallbqhrzrh', 'stcoalwffxg', 'stcoamkswbpqe', 'stcoanfoxnce', 'stcoaokezzyme', 'stcoaptnaag', 'stcoapvxddbzy', 'stcoaqxnj', 'stcoarnvymbdwt', 'stcoarsqjulo', 'stcoauzqkskdz', 'stcoavefq', 'stcoawcbakqo', 'stcoawmvursaxg', 'stcoawzyfwdww', 'stcobardkyax', 'stcobayhhsoxwb', 'stcobbwfychoi', 'stcobbylsqu', 'stcobdvtjf', 'stcobeyslayio', 'stcobhokbry', 'stcobibvladrk', 'stcobivxtnrv', 'stcobkfekhkq', 'stcobksygbrkup', 'stcoblecsudlw', 'stcobmykbrsnzb', 'stcobplfjkbqd', 'stcobrsuqdok', 'stcobsxfwnkmr', 'stcobtfmfcwj', 'stcobwhsem', 'stcobyrwvgwrn', 'stcobzgjlryxc', 'stcobzymffdv', 'stcocalhrow', 'stcocbmgoyyvci', 'stcocbuobzzv', 'stcocctgmdacp', 'stcocdnssmsv', 'stcocfwmyclee', 'stcocfxbcozzd', 'stcochrrlu', 'stcocncquvt', 'stcocoumvsqj', 'stcocpjdmmij', 'stcocqrlon', 'stcocvmyjilfsf', 'stcocxevpbdgq', 'stcocyrmmdsr', 'stcoczehv', 'stcodauruvll', 'stcodayjdgjjw', 'stcodekhmvwfz', 'stcodfrnlbyom', 'stcodfrsdubrv', 'stcodggqwta', 'stcodlggmxq', 'stcodllhpdjk', 'stcodoilsqpfy', 'stcodojbtkgu', 'stcodomauuyhsc', 'stcodrmebo', 'stcodufgtnbft', 'stcodvnfvliutk', 'stcoebenurmmjs', 'stcoecmsfiim', 'stcoecnrbnduq', 'stcoedtce', 'stcoeemyz', 'stcoeeokvoth', 'stcoeimfqmsmz', 'stcoenuazmvni', 'stcoenwfuagh', 'stcoeoymyvryb', 'stcoeqlhwjz', 'stcoeqweyj', 'stcoerwbprsgfu', 'stcoesgcnkiog', 'stcoevwcrmpu', 'stcoexxtymf', 'stcofdqnpsssmi', 'stcofgafzjhroh', 'stcofhmue', 'stcofhuhnavo', 'stcofkjmsdfe', 'stcofkwntnlifh', 'stcofpzmavp', 'stcofquhqxugnx', 'stcoftlwpayev', 'stcofxxmflbgb', 'stcofzvxf', 'stcogaoxyiqcm', 'stcogbdqtauw', 'stcogcguy', 'stcogdirzfflt', 'stcogdqgyghhab', 'stcogfwceulciy', 'stcoghngephfni', 'stcoghrutbmxa', 'stcogigldzkm', 'stcogkgqixj', 'stcognttd', 'stcogoblwuk', 'stcogovhftao', 'stcogowruozvw', 'stcogpvaaxot', 'stcogqdzly', 'stcogtkzymnq', 'stcogutcdlvo', 'stcoguzngb', 'stcogwwrvllrmj', 'stcohatfwdpw', 'stcohdsdnagvns', 'stcohdymkag', 'stcohebocrglmo', 'stcohfekwneo', 'stcohfpugrwevc', 'stcohfzikvxoac', 'stcohgamdmso', 'stcohjbmciizdd', 'stcohkretbgjk', 'stcohmire', 'stcohmqkpkqf', 'stcohnqsxudzx', 'stcohocqbiw', 'stcohoknrrsel', 'stcohoufzwglzs', 'stcohoyorlv', 'stcohprzptplqu', 'stcohrmzcohwyh', 'stcohsgwluap', 'stcohtcdbblq', 'stcohwqieny', 'stcohwrygdhdnu', 'stcohypqciye', 'stcohytascntu', 'stcohzsruoq', 'stcoibhvolr', 'stcoibrbubexh', 'stcoidbeyjeaq', 'stcoietzghfvr', 'stcoigayeawef', 'stcoigsrfyn', 'stcoigutim', 'stcoijbimfksb', 'stcoiluywtjayj', 'stcoiquodia', 'stcoisoxdnh', 'stcoiwguvuwoti', 'stcoixnwwlrt', 'stcoiyrbuhdsr', 'stcojcejmcwk', 'stcojdniunz', 'stcojgixfgjp', 'stcojgvxrxcaq', 'stcojhzpkhbjt', 'stcojippiso', 'stcojjnnpkuwn', 'stcojlokczzg', 'stcojltcjoa', 'stcojokugukofe', 'stcojpiivrinj', 'stcojpkymqq', 'stcojpxfstp', 'stcojrapojyz', 'stcojssuvgdv', 'stcojszajtmx', 'stcojtcmdliy', 'stcojtdevolf', 'stcojtijzikue', 'stcojtlenep', 'stcojvwuhhe', 'stcojwjkezttt', 'stcojyaypnm', 'stcokapfuyenf', 'stcokctnps', 'stcokddvnfm', 'stcokdonxdcn', 'stcokdrljps', 'stcokebcnqkss', 'stcokerqoerwyf', 'stcokfkkzpv', 'stcokgdganp', 'stcokgodvhaa', 'stcokgwcarjt', 'stcokgzvwhhff', 'stcokhobbcyfkp', 'stcokitahoyey', 'stcokksrzasxen', 'stcoklnfkivd', 'stcokojriiel', 'stcokrsrol', 'stcolehbuxmv', 'stcolgkaceb', 'stcolhuhusr', 'stcolhyszkst', 'stcolhzigupv', 'stcolijirmx', 'stcolmopvizy', 'stcolmzlzaz', 'stcolnwcuacia', 'stcolnzqsfg', 'stcolonagssjt', 'stcolroylaxuw', 'stcolsygpju', 'stcoluexqjic', 'stcolukmrefs', 'stcoluleqjssp', 'stcolxzcwwsex', 'stcolymabh', 'stcomdwhdkup', 'stcomfczuneaw', 'stcomflwgbfql', 'stcomgiaayb', 'stcomgijpqxk', 'stcomhmiecxg', 'stcomixqyxz', 'stcomjnhmmulox', 'stcomkyxfvjru', 'stcomnniqgz', 'stcomrbjsdkg', 'stcomsbbsywzbt', 'stcomsgpkflq', 'stcomuzuaqdvd', 'stcomwre', 'stcomyxasgfcf', 'stcomzoigt', 'stconalspxw', 'stconatkzrane', 'stconchtszpajj', 'stcondkieakyp', 'stconfmvlepyv', 'stcongkypqpcpy', 'stconglselhpl', 'stcongtzxcgago', 'stconhhzlbru', 'stconhkiclxhhf', 'stconilckod', 'stconkgwunxpj', 'stconncken', 'stconyfzgeelm', 'stconzrfhzrp', 'stcooaejqe', 'stcooegrublw', 'stcooewpovux', 'stcoofdoboyyic', 'stcoofsxzu', 'stcoofxuduai', 'stcoogfuli', 'stcooghjtwi', 'stcoohythziz', 'stcooifszsq', 'stcooirvyzvgj', 'stcooiyslelbf', 'stcoojtznyba', 'stcoomxfozyb', 'stcoonizaojvx', 'stcooswvovew', 'stcootgbhcpw', 'stcootlwoyk', 'stcooumywxmc', 'stcooxdlfald', 'stcooxelamqz', 'stcooyonkxzlp', 'stcooysvziak', 'stcopadhmgslvd', 'stcopcxpaoh', 'stcopemicoh', 'stcopfckxt', 'stcopjxarzqlf', 'stcopmfmfu', 'stcopnwpuhzeh', 'stcoposkuhw', 'stcoppafrpnieh', 'stcoppkxdspl', 'stcoprfeopil', 'stcopsfziseyff', 'stcopshqhtdkn', 'stcopunoczzjb', 'stcopvwaeska', 'stcopxohiipbj', 'stcopzuqvgzxtu', 'stcoqdfljpfvc', 'stcoqexxgkk', 'stcoqiivupl', 'stcoqkzfnr', 'stcoqlcihqq', 'stcoqmybs', 'stcoqnxyeyhlz', 'stcoqpnudtal', 'stcoqqsqligjj', 'stcoquqyumn', 'stcoqvgotqeq', 'stcoqvymfjta', 'stcoraxamjro', 'stcorfujphzbs', 'stcorgyonamjw', 'stcorhjsdtzlq', 'stcorixfoxdwbt', 'stcorkfwlqgro', 'stcorkzzpvhlow', 'stcornfacq', 'stcorotkpveu', 'stcorqrkrzt', 'stcorruhqym', 'stcorthvqym', 'stcortihwwys', 'stcortnxodg', 'stcorvonjbi', 'stcorwsztcbviw', 'stcorxrylje', 'stcoryglrvkgz', 'stcoryvbabwkc', 'stcosafplslldi', 'stcosaifptcu', 'stcosawnbwn', 'stcosepclduze', 'stcosfbbdg', 'stcosgwqngih', 'stcoshjlyud', 'stcosimgexvkv', 'stcosmevegges', 'stcosnhuvtumz', 'stcospsmxpuhw', 'stcosqfnkrku', 'stcosqtbnvam', 'stcosquqymfgy', 'stcosrhhlynlp', 'stcossofczz', 'stcostwhwwdo', 'stcoszsyru', 'stcoszyvhb', 'stcotbstlriau', 'stcotbthcv', 'stcoteahbmfxt', 'stcotemkzxqf', 'stcotfpeiddnsf', 'stcoticdphtne', 'stcotjkxalxk', 'stcotkbdeit', 'stcotkbhfqpuv', 'stcotkrfktgisr', 'stcotorfyjd', 'stcotpaehupsw', 'stcotqpbckjvs', 'stcotrjfdjsumi', 'stcotrjgtenib', 'stcotswjclad', 'stcotvagjmo', 'stcotvbitbern', 'stcotvrwt', 'stcotzgvycag', 'stcotzyywcpfj', 'stcouargmcys', 'stcoubsvpbte', 'stcoufodxaxxz', 'stcouhelmazjr', 'stcouhiumuxn', 'stcouioywspx', 'stcouiuaafkub', 'stcoujleiag', 'stcoulgseank', 'stcoumlocgtaap', 'stcouooxkucgj', 'stcoupcwekypcl', 'stcouqyliewob', 'stcousqfcjnqo', 'stcoutmyrhdu', 'stcoutqkozdg', 'stcouujuifrz', 'stcouywrwgs', 'stcouzblxjhwco', 'stcovegssl', 'stcoveuechsuk', 'stcovfck', 'stcovhbekelqw', 'stcovlq', 'stcovovgepuol', 'stcovpzltkdrh', 'stcovrusaohqql', 'stcovwbevghfwu', 'stcovzxpznypl', 'stcowbxvecste', 'stcowddzwmenwk', 'stcowdxjbhapx', 'stcowevxeps', 'stcowexefcp', 'stcowfozlrbbnp', 'stcowhczixzxh', 'stcowhkamcetuv', 'stcowjbberiw', 'stcowjxfndmv', 'stcowldndwxop', 'stcowlnqeptfi', 'stcownxhzes', 'stcowouddvph', 'stcowoxzgqost', 'stcowqxshh', 'stcowtzmdbdaog', 'stcowtzvgszlm', 'stcowvjdowrcg', 'stcowvvxkoqb', 'stcowxvnkwn', 'stcowxyhmr', 'stcoxazjmkrhp', 'stcoxbbwuigcv', 'stcoxbuylmnix', 'stcoxdqbjxysb', 'stcoxdqhxdlvhh', 'stcoxdxtklzv', 'stcoxewwglbarm', 'stcoxezfnh', 'stcoxfxifd', 'stcoxjbcjvwy', 'stcoxngmexgsje', 'stcoxplzrzdf', 'stcoxqpdumny', 'stcoxvsqyejt', 'stcoxxkrdbjx', 'stcoyaklfdg', 'stcoybnfuzk', 'stcoybsikpilf', 'stcoyduhhjnp', 'stcoyfekupfse', 'stcoygljusp', 'stcoyigdqhtea', 'stcoyjvwbdv', 'stcoykevflea', 'stcoymqddfiwoq', 'stcoyomhpfgw', 'stcoypdlsteyr', 'stcoyrrejpanpw', 'stcoytreriwfu', 'stcoyuwrel', 'stcoywhktwlmka', 'stcoywkjmehpc', 'stcoyxdulrsrlp', 'stcoyxshalzac', 'stcoyygmcxnisq', 'stcozbqfmsqq', 'stcozdhivrix', 'stcozdthhnzco', 'stcozgbcwbjy', 'stcozgeyphn', 'stcozhmreeesi', 'stcozijew', 'stcozimlktrsep', 'stcozkvrvlautj', 'stcozmlpwdsmn', 'stcozpjwsh', 'stcozptoxlp', 'stcozragpoj', 'stcozrfrrv', 'stcozwzvkeaod', 'stcpyzyctyh', 'stcwaybsv', 'stcweyimun', 'stdxnz', 'steakhouse', 'steamworkshop', 'stee', 'steelauder', 'steepened', 'steeprise', 'stefan', 'stefanie', 'stelvio', 'sten', 'stepmom', 'stereotyping', 'sterilise', 'sterilised', 'steriods', 'sterkauf', 'sternly', 'steroplast', 'stests', 'steuer', 'stevejobs', 'stevenage', 'stewart', 'stex', 'stexdwnlt', 'stfleaba', 'stfmlpyvy', 'stfzip', 'sthpcxre', 'sthq', 'sthsqwwv', 'stic', 'stil', 'stillgottawork', 'stillneedbeer', 'stimulis', 'stimulusrescue', 'stingy', 'stjet', 'stkits', 'stltknw', 'stltoday', 'stmentspecial', 'stnpyau', 'stnrjyy', 'stntifvn', 'stockbuybacks', 'stockedfor', 'stockedish', 'stockincluding', 'stockingst', 'stockpiler', 'stockpilling', 'stockroom', 'stocksell', 'stockst', 'stocktrade', 'stomorders', 'stomping', 'stonely', 'stonerfam', 'stonespolice', 'stooge', 'stoolpresidente', 'stopablelism', 'stopbeingdicks', 'stopcoronamadness', 'stopgap', 'stopgoingtothestore', 'stophoard', 'stopitplease', 'stoplights', 'stoppani', 'stopscango', 'stopstockpi', 'stoptakingeverything', 'storebankcoffee', 'storebut', 'storeclerks', 'storedropped', 'storehome', 'storek', 'storekeep', 'storenot', 'storeoh', 'storeplease', 'storesam', 'storesemployeescleanlinesscustomersoccupancy', 'storesno', 'storespm', 'storessupermarkets', 'storethis', 'storewhile', 'storewhole', 'storplace', 'storytelling', 'stpexels', 'stphyphm', 'stpz', 'straig', 'strapped', 'strata', 'strategists', 'strategize', 'streamer', 'streeck', 'streetbees', 'stressrelief', 'stressshopping', 'striker', 'strippedbare', 'strng', 'strohsack', 'strvtin', 'sts', 'stssmy', 'ststemic', 'sttaconsulting', 'sttakyqqiz', 'stuarant', 'stuckathome', 'studentstat', 'stuffor', 'stung', 'stupidly', 'stupidness', 'stupidstore', 'sturihousing', 'stvubp', 'stxd', 'stylists', 'styojnqni', 'stzge', 'stzirhwy', 'stzlws', 'suatkh', 'subbed', 'subdued', 'subfd', 'subjectdependent', 'subliminally', 'sublwdyzo', 'submerged', 'subrz', 'subscriberprotected', 'subsidised', 'subsidiz', 'subsisting', 'substantiallychanged', 'subtitled', 'subuckn', 'subzeroflow', 'succeeds', 'sucgkr', 'suddenlyscaredofpeople', 'suds', 'sudtfiqk', 'sueiet', 'sueogf', 'suez', 'sufe', 'suffices', 'suffocate', 'sugarindustry', 'sugarprice', 'sugtsp', 'suifexy', 'suitt', 'sujb', 'sujsq', 'sukbls', 'sukhdili', 'sulfatebased', 'sulsqysit', 'suluofpb', 'sulwicdih', 'sumergov', 'sumerism', 'sumertires', 'suministros', 'sumitomorubbernorthamericainc', 'sumlphv', 'summarise', 'summarize', 'summarizing', 'summoning', 'sunburnt', 'sund', 'sundayfeeling', 'sundayfeels', 'sundries', 'sunijiqh', 'sunk', 'sunlight', 'sunnews', 'sunniest', 'sunset', 'sunst', 'sunvpye', 'sunx', 'suoermarket', 'suoko', 'suomoto', 'superannuation', 'supercenter', 'superdrug', 'superglue', 'superjewflair', 'supermarché', 'supermarketalways', 'supermarketapocalypse', 'supermarketchallenge', 'supermarketdont', 'supermarketermanother', 'supermarketfear', 'supermarketfor', 'supermarketheros', 'supermarkethes', 'supermarketignorant', 'supermarketmadness', 'supermarketmx', 'supermarketofflicenseshop', 'supermarketonline', 'supermarketowners', 'supermarketpeople', 'supermarketstaffareheros', 'supermarketstop', 'supermarketstore', 'supermarketsuperstars', 'supermarktkette', 'superpleased', 'suphfcxz', 'supjpqgej', 'suppliersdriversetc', 'suppliesfor', 'supplyampdemand', 'supplyshock', 'supportaussiebusiness', 'supportdg', 'supporthealthcareworkers', 'supportlocalbusinesses', 'supportlockdown', 'supportnigeriahealthcareworkers', 'supportposnationcom', 'supportsmalbany', 'supremecou', 'supressed', 'suprised', 'suprising', 'supwb', 'suqkay', 'suqnwmzs', 'suqubhth', 'surana', 'suratrakesh', 'sures', 'surfeit', 'surgicalgown', 'surrendered', 'surya', 'suryy', 'susanne', 'susjqe', 'suspiciously', 'sustainableag', 'sustainablefashion', 'sutbmld', 'sutjojoa', 'sutton', 'suuf', 'suuldmxl', 'suvb', 'suvj', 'suvra', 'suxndi', 'suxrepi', 'suy', 'suyxk', 'suzdgmil', 'suzette', 'suzvetv', 'suzy', 'svcjju', 'svcyht', 'svdeizj', 'svegas', 'svemj', 'svenska', 'svhb', 'svherzbolc', 'svhg', 'svinx', 'sviwqs', 'svja', 'svjcgelnd', 'svkttwnwy', 'svkx', 'svltssobq', 'svlya', 'svlyr', 'svmmr', 'svn', 'svnjxj', 'svnngn', 'svod', 'svotbuznu', 'svow', 'svprwl', 'svqedtsu', 'svqrey', 'svre', 'svseuu', 'svtv', 'svty', 'svtyv', 'svvgmf', 'svwblry', 'svwdxj', 'svx', 'svxhcawf', 'svxrb', 'svygalwz', 'svzrgje', 'svzxkui', 'swachhhabit', 'swaic', 'swapped', 'swasthabharat', 'swasthbharat', 'swaths', 'swbc', 'swcmclciy', 'swdfpo', 'swdgfbmy', 'sweater', 'swebjfq', 'sweetener', 'sweetsandsnacksexpo', 'sweicnh', 'sweipspk', 'swf', 'swgf', 'swgm', 'swgouoqia', 'swgr', 'swhwoif', 'swim', 'swimmingpool', 'swimsuits', 'swishers', 'switzer', 'swivm', 'swjfecvrm', 'swjrmylak', 'swkcp', 'swkspb', 'swmorymq', 'swmqfknd', 'swmvitnk', 'swnvukftod', 'swooped', 'swooping', 'sworn', 'swpcmx', 'swpol', 'swppnyu', 'swq', 'swqeno', 'swrfwi', 'swrsc', 'swuryh', 'swusts', 'swuwxuhm', 'swv', 'swvg', 'swxveoypis', 'swxwxp', 'swxxr', 'swxxun', 'swxzxlpa', 'swylcureal', 'swzvnmc', 'sxae', 'sxbuda', 'sxd', 'sxdeb', 'sxdkbuwz', 'sxfeeuep', 'sxfijt', 'sxfjjepro', 'sxfkjhb', 'sxfo', 'sxhku', 'sxhlcanz', 'sxhuju', 'sxjmcm', 'sxlgg', 'sxlxiocwa', 'sxncjviyy', 'sxnkmz', 'sxnywzrk', 'sxo', 'sxpdx', 'sxpeh', 'sxq', 'sxqbssis', 'sxqdi', 'sxqp', 'sxqu', 'sxrnxow', 'sxruiw', 'sxsurapq', 'sxswn', 'sxt', 'sxtalhr', 'sxwa', 'sxwekxy', 'sxxdc', 'sxxu', 'sxzqm', 'sxzudx', 'syaysafe', 'sycg', 'sydenham', 'sydj', 'sydneys', 'syefstxk', 'syfydysbz', 'sygl', 'syia', 'syian', 'syih', 'syimacertosolutioncom', 'syipvf', 'syjmwud', 'syk', 'sykescottages', 'sykgnogyp', 'sykh', 'syldon', 'sylhet', 'sylsv', 'symbolic', 'symbols', 'symgfmtfyn', 'sympe', 'symptome', 'symrjk', 'symx', 'symxy', 'symzybn', 'syncrude', 'syndicates', 'syndrome', 'syngentaproud', 'synopsis', 'synthesis', 'syoau', 'sypac', 'sypqdyqk', 'syqey', 'syquj', 'syrjlxt', 'sys', 'syshop', 'sysm', 'sysndy', 'systematically', 'systemwe', 'sysx', 'sytcfk', 'sytidiix', 'syuekok', 'sywvhcav', 'syxel', 'syynql', 'syzglq', 'szal', 'szanybn', 'szbq', 'szclddir', 'szcwpbvdti', 'szdg', 'szdqrfvfo', 'szdy', 'szejnf', 'szfd', 'szfl', 'szge', 'szhbmqu', 'szhwg', 'szicfh', 'szie', 'szkdwxhyq', 'szkk', 'szkt', 'szlfnqd', 'szllq', 'szlnocs', 'szlzuo', 'szmo', 'sznzbd', 'szozqf', 'szp', 'szpjk', 'szpzscqqsj', 'szqkf', 'szql', 'szrtnmmwb', 'szruhy', 'szsqyw', 'szsvftzp', 'sztvjw', 'szvpk', 'szxcvwsv', 'szy', 'szyc', 'szyeeh', 'szyktxr', 'szyt', 'szz', 'szzoh', 'szzpwgk', 'szzxnx', 'sáánu', 'söser', 'súper', 'taanz', 'taber', 'tabled', 'tabletop', 'tacke', 'tacoli', 'tagging', 'tailored', 'takeadumpinasdacarpark', 'takemeback', 'takencovi', 'takeonefortheteam', 'takeorpay', 'takeoutdelivery', 'taker', 'takeyourselfhome', 'takingrecommending', 'talaga', 'taliban', 'talley', 'tam', 'tamarind', 'tambo', 'tami', 'tampabay', 'tamu', 'tanase', 'tandem', 'tangentially', 'tankers', 'taprooms', 'taradome', 'taraxas', 'targetnews', 'tarhuni', 'tarrytown', 'tasered', 'taskrabbit', 'tatakbaguio', 'tater', 'tatters', 'taukobong', 'taxed', 'taxfiddling', 'taxman', 'taylorjhartz', 'tayside', 'taytay', 'tbd', 'tbp', 'tcbasia', 'tcm', 'tcoronavirus', 'tcrn', 'tcs', 'teabags', 'teacherdone', 'teaming', 'teaplease', 'teapot', 'tearaway', 'teary', 'teatowel', 'techcompanies', 'techindustry', 'technologyenabled', 'technologytuesday', 'techrepublic', 'techtiptuesday', 'tedesco', 'teenpatti', 'teepublic', 'teesta', 'tehachapi', 'teledoctor', 'telethon', 'televise', 'telier', 'tema', 'tembeakenya', 'templeuniv', 'temporal', 'temporaryvacancy', 'temporarywork', 'tena', 'tenaris', 'tenemos', 'tenessee', 'tennesseans', 'tense', 'tera', 'termed', 'terminating', 'termination', 'territorythe', 'terry', 'tertiary', 'tescodelivery', 'tescon', 'testimonial', 'testkit', 'testpilot', 'tevocreations', 'texters', 'tfw', 'tgim', 'tgod', 'thanksforfollowing', 'thankthemeveryday', 'thankyouall', 'thankyoubakedpotato', 'thankyoucoronawarriors', 'thankyouhelpers', 'thankyousomuch', 'thanns', 'thatismytown', 'thatour', 'thatsnearlyjean', 'thcexchange', 'theageofcoronavirus', 'thearchers', 'theatrically', 'thedividebetweenrichandpoor', 'thedumbestgeneration', 'theeconomist', 'theevilgeneration', 'thefts', 'thegoat', 'thegoodrco', 'theguardian', 'theindiansun', 'thelittlethings', 'thelogicalmauritian', 'thelordprovides', 'themalso', 'thematic', 'thenationthailand', 'thenoutbid', 'theoldman', 'theonlyhope', 'theonlythingitrulycareabout', 'thepostman', 'thepromenade', 'thepurge', 'therainking', 'therapeutic', 'theresa', 'theresalwaysone', 'theresstillhope', 'therewhat', 'thermos', 'thesense', 'theshopperscircle', 'thesis', 'theweeklyshop', 'thingamajig', 'thingsiwontapologizefor', 'thingsshe', 'thingsthis', 'thinkin', 'thinq', 'thirdchannel', 'thirdoctavesteph', 'thisadvicewasdumb', 'thisalong', 'thisistherealspain', 'thisiswhattranslookslike', 'thisiswhy', 'thisladies', 'thisnot', 'thisssss', 'thistogether', 'thk', 'thorndon', 'thorns', 'thosewerethedays', 'thoughtscases', 'thoughtseeing', 'thoughtson', 'threeseashells', 'thursdayam', 'thursdaysaturday', 'thwarting', 'thé', 'tia', 'ticked', 'tidbits', 'tienditas', 'tiiiiny', 'tik', 'tiktokyansen', 'timeand', 'timechange', 'timedone', 'timefor', 'timehoardershaming', 'timeif', 'timemy', 'timeplz', 'timesnews', 'timesrubber', 'timethe', 'timetoshine', 'timeyep', 'timothy', 'tinandbones', 'tindie', 'tinkering', 'tinto', 'tiptoeing', 'tiptuesday', 'tiramisu', 'tirupati', 'tisdale', 'tisrou', 'tissuemachinery', 'titosvodka', 'titusville', 'tizer', 'tjx', 'tking', 'tksgod', 'tlry', 'tls', 'tmg', 'tnluk', 'tnx', 'toaster', 'tobruk', 'toco', 'tococares', 'todaylet', 'todaymy', 'todayst', 'todayth', 'todaywasagoodday', 'todos', 'toes', 'tofurkey', 'togetherm', 'togetherwemakeadifference', 'togrocery', 'toil', 'toiletpaperapocolypse', 'toiletpaperart', 'toiletpaperchaos', 'toiletpaperless', 'toiletpapermagazine', 'toiletpaperrelay', 'toiletpaperrolls', 'toiletpaperseeds', 'toiletpapertube', 'toipaper', 'tok', 'tolerable', 'tollroadsnews', 'tolluni', 'tommy', 'tomnook', 'tomorrowpm', 'tondiarpet', 'tooindia', 'tooling', 'toolstraveling', 'toomanyonlycarewhenithitsthefan', 'tooting', 'topahov', 'toppled', 'tornadoes', 'torontohomes', 'torontohousingmarket', 'torros', 'tortilla', 'tossing', 'totalchaos', 'totallogistics', 'tots', 'tottering', 'touchitsafe', 'tourguide', 'towardsthesun', 'towelhamburger', 'towelsmeet', 'towing', 'toyphotography', 'toystore', 'tpi', 'tpr', 'tpreviews', 'trabajando', 'tracy', 'tradesmeneverything', 'traen', 'trai', 'trail', 'traitor', 'tramp', 'tranny', 'transacting', 'transathlete', 'tranship', 'transistor', 'transitioning', 'translating', 'transnsformed', 'transpacific', 'transparently', 'trashing', 'travelagents', 'travelguide', 'travelinn', 'travelonline', 'traveltips', 'trawl', 'treacherous', 'treasuries', 'treatcure', 'treb', 'trellis', 'trendies', 'trendy', 'trevors', 'trialrun', 'trickling', 'tricounty', 'triedandtrue', 'tril', 'trilby', 'trimmed', 'trinidadandtobago', 'tripcom', 'tripoli', 'triptk', 'triumph', 'trn', 'trolled', 'trolleysbasketskeypads', 'tronche', 'troopermarket', 'trop', 'tropical', 'trotz', 'trs', 'truckersi', 'trucktires', 'truedat', 'trul', 'trumpcovidfails', 'trumpedupvirus', 'trumperzombieapocalypse', 'trumpfailedamerica', 'trumpisalyingsackofshit', 'trumpy', 'trusting', 'tryd', 'tryingstaypositive', 'trym', 'tsco', 'tshrit', 'tsumu', 'tsunamis', 'tsutomu', 'ttxs', 'tucson', 'tudball', 'tuesdathoughts', 'tuesdaynews', 'tujipange', 'tullowoil', 'tumeric', 'tun', 'turnoffs', 'tussle', 'tutorials', 'tvbooks', 'twickenham', 'twiglets', 'twoday', 'twohour', 'twopart', 'twopronged', 'twotoiletrolls', 'twowayradios', 'twtr', 'typo', 'tyrants', 'tyrol', 'tysm', 'tysons', 'tém', 'ual', 'uba', 'ucpeoplestarve', 'ufcwu', 'ugadi', 'uhf', 'uhh', 'uhunye', 'ujo', 'ukbidsc', 'ukeconomy', 'ukhousing', 'ukitaka', 'ukjay', 'uklisted', 'uknews', 'ukroadman', 'uksupermarkets', 'ukweli', 'ukweliwamambo', 'ukwheat', 'ulster', 'ultabeauty', 'ultimateloveng', 'ulvcoldfogger', 'umarakmalquotes', 'ummmi', 'ummmm', 'ummpeople', 'umweltfreundlich', 'unapologetic', 'unappealing', 'unavailablethought', 'unawareness', 'unbritish', 'uncles', 'uncollected', 'uncompetitive', 'uncut', 'underacknowledge', 'undercut', 'underemployed', 'underestimated', 'underestimating', 'undergroundniche', 'undernourishedhigh', 'underperform', 'undershoot', 'understandthink', 'understandwhat', 'understimulated', 'understnd', 'undertakers', 'underthreat', 'underuneducated', 'undoc', 'undoubtably', 'undrstnd', 'une', 'unelected', 'unemploymentinsurance', 'uneventful', 'unfailingly', 'unfashionable', 'unfathomable', 'unfavorable', 'unfeasible', 'unfinished', 'unfit', 'unfitforoffice', 'unfollowed', 'unfortuna', 'unhappy', 'unileverslashing', 'unis', 'uniteideas', 'universityofmichigan', 'unleashes', 'unli', 'unnatural', 'unorthodox', 'unpacked', 'unpacks', 'unpayable', 'unpleasant', 'unpreventable', 'unqualified', 'unreachable', 'unrestanarchy', 'unsc', 'unscrupulously', 'unseasoned', 'unsociable', 'unsolidarity', 'unt', 'unthinking', 'unthrilling', 'untill', 'untilth', 'untouchable', 'unturned', 'unwavering', 'upcharging', 'upcomingpandemonium', 'updatesgo', 'upgovernment', 'upheld', 'uphoard', 'uploaded', 'uplook', 'upnow', 'uppity', 'uppm', 'upsers', 'upshots', 'urbansketch', 'urgers', 'usability', 'usacanada', 'usaeurop', 'usagebased', 'usagewho', 'usagunnation', 'usbiz', 'uscanada', 'useconomy', 'usedtomake', 'userfriendly', 'ushered', 'usimposenewiranlinksanctionsentitiescoviconsumergoodgiantfaceboycottcall', 'uski', 'usne', 'usoil', 'usousd', 'uspsisessential', 'ustr', 'utica', 'utilityrelated', 'utm', 'utmmediumsocialamputmcampaignthinkwithgoogleamputmsourcetwitteramputmcontentcoronavirusneeds', 'utopia', 'uttering', 'utwebinar', 'uugh', 'vader', 'vadis', 'vagaries', 'vaginawarriorcreations', 'valenciacounty', 'validate', 'validates', 'vallourec', 'valuablereliable', 'valves', 'vancity', 'vancouverbased', 'vancouvercorona', 'vancouverfood', 'vancouverfoodie', 'vancouverfoodies', 'vanish', 'varazdin', 'varieties', 'vashimarket', 'vatsuspension', 'vault', 'vaunrable', 'vazquez', 'vdacs', 'veering', 'veetilirimyre', 'vegetableprices', 'vegetablevendors', 'vegetarianrecipes', 'veggiesfruit', 'vehiclesto', 'vela', 'velachery', 'veliaj', 'velodomestique', 'venders', 'vengranovich', 'venho', 'venom', 'ventilatorsmillions', 'ventilon', 'verde', 'verifying', 'verily', 'vernon', 'vernonbc', 'veroforecast', 'verse', 'vessels', 'vested', 'vestibule', 'veterinarians', 'veto', 'vewwy', 'vff', 'vial', 'vicar', 'vicechair', 'vicepresident', 'vicky', 'victimized', 'victoriaisland', 'victorians', 'victorli', 'vidisha', 'vietnamese', 'viewed', 'vigorously', 'vikanleverera', 'vikramch', 'viligant', 'vimnewsgh', 'vincentian', 'vindicated', 'vinita', 'vintagetoiletpaper', 'vinylgloves', 'vinylrecords', 'violin', 'viralhappyhour', 'viralnews', 'virtualhappyhour', 'virtualmeeting', 'virtualmeetings', 'virues', 'virul', 'viruscovid', 'virusfilled', 'virusfree', 'virusplease', 'visitationinspection', 'visualeyes', 'vitamind', 'vivafreshexpo', 'vlnsv', 'vn', 'vocation', 'vodaf', 'vodaphone', 'vol', 'voltaire', 'volumepcs', 'volunteerism', 'volunteersagainstcovi', 'vorbereitet', 'voy', 'vpns', 'vryburg', 'vshape', 'vta', 'vulgar', 'vulnerablegroups', 'vulnerablemorrison', 'vumc', 'vunna', 'vurnerable', 'vz', 'vírus', 'wae', 'waf', 'waffles', 'wagner', 'wahmc', 'wahsing', 'waiblingen', 'waisted', 'waitcnn', 'waitwe', 'waiveoff', 'waivers', 'wakanda', 'wakefield', 'walkaroundthingsday', 'walkin', 'walkingtour', 'walkrun', 'walletrinse', 'wallpaperwednesday', 'walmarta', 'walmartgroceries', 'walmatt', 'walmsley', 'walport', 'wam', 'wanataka', 'wankered', 'wantin', 'wantonly', 'warjai', 'warmhot', 'warmly', 'warmup', 'warnaustralia', 'warroompandemic', 'washamp', 'washout', 'wasis', 'watchmenhbo', 'wate', 'watercrisis', 'watershould', 'watersstrange', 'waterstoppanicbuying', 'watiyankha', 'wavg', 'waybackwithkmac', 'wayeg', 'waynerogers', 'waysthose', 'wba', 'wbc', 'wcc', 'wcopd', 'wdii', 'wdiseases', 'weaponsofmassdestruction', 'weapplaud', 'wearable', 'wearablebands', 'wearadamnmask', 'wearemainstreet', 'wearenotplaying', 'wearnings', 'weasel', 'weathy', 'webcomic', 'webi', 'websiteexpertsinghana', 'webster', 'wecandothistogether', 'wecanhelp', 'wecansupply', 'wecount', 'weds', 'weedlovers', 'weedsmokers', 'weeeks', 'weekall', 'weekened', 'weekonweek', 'weekshhsgov', 'weeksis', 'weeksthey', 'weekswow', 'weenie', 'wef', 'wegovt', 'weil', 'weirder', 'weirdness', 'weirdworld', 'wellbeingtips', 'wellcrap', 'welldonesky', 'wellnessforyou', 'wellplayedcolorado', 'wellsupported', 'welshgin', 'wenotoutside', 'wereopen', 'werner', 'wese', 'weshallovercome', 'weshouldhavebeenbetterprepared', 'westbury', 'westernbeefisstacked', 'westjet', 'westmemphis', 'westmidland', 'westpac', 'wetherby', 'wetheth', 'wevisioncoronavirus', 'wext', 'wfm', 'wharfie', 'whatadifferenceadaymakes', 'whately', 'whatspps', 'whatstrending', 'whch', 'wheatoffal', 'wheelchairs', 'whenwillthisend', 'whereby', 'whereupon', 'whileputting', 'whiles', 'whiplash', 'whippin', 'whips', 'whirlwind', 'whiskeybusiness', 'whiskeyclveland', 'whitchaple', 'whiteclaw', 'whitepaper', 'whitworth', 'whn', 'whoa', 'whoapproved', 'whores', 'widereaching', 'widespreadpanic', 'widji', 'wigamesnightcaribbean', 'wiggly', 'wight', 'wikimedia', 'wildfires', 'wildrye', 'wilds', 'wilkins', 'willful', 'wilton', 'windowless', 'windpower', 'windscreen', 'winemaking', 'wineoclock', 'winesale', 'wingate', 'winged', 'winkwink', 'winnings', 'winos', 'winstonsalem', 'winterton', 'wipef', 'wipessprays', 'wipeyourarse', 'wipeyourwayout', 'wirecasper', 'wireguess', 'wirkt', 'wished', 'wishlistediting', 'witchelstowe', 'witchesbrewpress', 'wives', 'wjtemplon', 'wknd', 'wkrn', 'wmasks', 'wmd', 'wneuropathy', 'wochen', 'wolfofwallstreet', 'womenretailers', 'womenshistorymonthhats', 'wonderfulday', 'wonderwall', 'woodford', 'woofers', 'woolworthscoles', 'workathomemomcoletta', 'workbusiness', 'workersclients', 'workerscompensation', 'workerslandlords', 'workingclass', 'workinglearning', 'workingmd', 'workingremotely', 'workless', 'workmate', 'worksfood', 'workshop', 'worktogether', 'worldconsumerrightsday', 'worldshe', 'worms', 'wormwood', 'worsei', 'worstpossible', 'worthwhile', 'wother', 'wowdc', 'wowjustwowso', 'wphysical', 'wracking', 'wrestling', 'writenow', 'writerslife', 'wtfisthis', 'wuarantinememe', 'wuhancoronavirusoutbreak', 'wuhancovi', 'wuhanvirusismadeinchina', 'wuhanvirusmadeinchina', 'wusa', 'wvstatejournal', 'wwecommunity', 'wweelitesquad', 'wwefigures', 'wwemattel', 'wweuniverse', 'wwgwa', 'wwhat', 'wymondham', 'wyt', 'würst', 'xander', 'xenophobe', 'xfiles', 'xhb', 'xiaobo', 'xingzuotemple', 'xjo', 'xom', 'xs', 'xylenes', 'yaarall', 'yaer', 'yamah', 'yannathan', 'yariroad', 'yarrow', 'yashayeva', 'yasirwardad', 'yasky', 'yazd', 'yazi', 'yeaaaa', 'yeahi', 'yeari', 'yearsbut', 'yearshave', 'yearsthen', 'yee', 'yeehaw', 'yellen', 'yelpatlanta', 'yelped', 'yelpelite', 'yelpotp', 'yesi', 'yessss', 'yesterdayfull', 'yeswaystores', 'yey', 'yipes', 'yippee', 'ymm', 'yogurt', 'yor', 'yorkbusiness', 'yorkie', 'youchill', 'youcovid', 'youif', 'youmakemesick', 'youmy', 'youngrappers', 'youngster', 'yourcoopourcommunity', 'yournhsneedsyou', 'yourpoorcolon', 'yourpoortoilet', 'yous', 'youthful', 'yoyo', 'yrss', 'ysk', 'yucky', 'yuh', 'yusoff', 'yuu', 'yvreats', 'yvrfoodies', 'yyj', 'zachary', 'zajistil', 'zao', 'zarnimann', 'zayd', 'zdnet', 'zdravotníkm', 'zealands', 'zealots', 'zebra', 'zeekgold', 'zeekgoldsmith', 'zeekjewels', 'zen', 'zena', 'zenith', 'zep', 'zephyrhills', 'zeroriskbias', 'zewürstjokeimdaswelt', 'zfn', 'zhang', 'ziadmdaoud', 'ziah', 'zika', 'ziko', 'zillion', 'zillow', 'zinccafeandmarket', 'zlatan', 'zoek', 'zoombombing', 'zoonoses', 'zorb', 'zororo', 'zumindest', 'zurfi', 'zuschläge', 'zvikwereti', 'zwd', 'zzz', 'zákona', 'zásah', 'zürich', '\\x9a', '\\x9e', '½', '×', 'ça', 'ólòhun', 'ústeckého', 'überweist'] will be ignored\n",
      "  warnings.warn('unknown class(es) {0} will be ignored'\n"
     ]
    },
    {
     "data": {
      "text/plain": [
       "array(['a', 'aa', 'aaa', 'aaaaas', 'aaaand', 'aaanews', 'aaanortheast',\n",
       "       'aabutan', 'aacounty', 'aalto'], dtype=object)"
      ]
     },
     "execution_count": 25,
     "metadata": {},
     "output_type": "execute_result"
    }
   ],
   "source": [
    "from sklearn.preprocessing import MultiLabelBinarizer\n",
    "from sklearn.model_selection import train_test_split \n",
    "\n",
    "X = tweet['Tokens']\n",
    "y = tweet['Sentiment']\n",
    "\n",
    "X_train, X_test, y_train, y_test = train_test_split(X, y, test_size = 0.25, random_state = 1)\n",
    "\n",
    "# Vectorize the X\n",
    "MLB_vect = MultiLabelBinarizer()\n",
    "\n",
    "MLB_X_train = MLB_vect.fit_transform(X_train)\n",
    "\n",
    "MLB_X_test = MLB_vect.transform(X_test)\n",
    "\n",
    "MLB_vect.classes_[:10]"
   ]
  },
  {
   "cell_type": "code",
   "execution_count": 26,
   "id": "e847e0a1",
   "metadata": {},
   "outputs": [
    {
     "name": "stdout",
     "output_type": "stream",
     "text": [
      "['aa', 'aaa', 'aaaaas', 'aaaand', 'aaanews', 'aaanortheast', 'aabutan', 'aacounty', 'aalto', 'aaluminium']\n",
      "[0. 0. 0. ... 0. 0. 0.]\n"
     ]
    }
   ],
   "source": [
    "# Import TfidfVectorizer\n",
    "from sklearn.feature_extraction.text import TfidfVectorizer\n",
    "from sklearn.model_selection import train_test_split \n",
    "\n",
    "X = tweet['text'] \n",
    "\n",
    "y = tweet['Sentiment']\n",
    "\n",
    "X_train, X_test, y_train, y_test = train_test_split(X, y, test_size = 0.25, random_state = 1)\n",
    "\n",
    "# Initialize a TfidfVectorizer object: tfidf_vectorizer\n",
    "tfidf_vectorizer = TfidfVectorizer(max_df=0.7)\n",
    "\n",
    "# Transform the training data: tfidf_train \n",
    "tfidf_train = tfidf_vectorizer.fit_transform(X_train)\n",
    "\n",
    "# Transform the test data: tfidf_test \n",
    "tfidf_test = tfidf_vectorizer.transform(X_test)\n",
    "\n",
    "# Print the first 10 features\n",
    "print(tfidf_vectorizer.get_feature_names()[:10])\n",
    "\n",
    "# Print the first 5 vectors of the tfidf training data\n",
    "print(tfidf_train.A[1])"
   ]
  },
  {
   "cell_type": "code",
   "execution_count": 27,
   "id": "d6527c75",
   "metadata": {},
   "outputs": [
    {
     "name": "stdout",
     "output_type": "stream",
     "text": [
      "                    precision    recall  f1-score   support\n",
      "\n",
      "Extremely Negative       0.61      0.63      0.62      1342\n",
      "Extremely Positive       0.63      0.63      0.63      1674\n",
      "          Negative       0.49      0.48      0.49      2466\n",
      "           Neutral       0.61      0.64      0.63      1939\n",
      "          Positive       0.51      0.50      0.50      2869\n",
      "\n",
      "          accuracy                           0.56     10290\n",
      "         macro avg       0.57      0.58      0.57     10290\n",
      "      weighted avg       0.56      0.56      0.56     10290\n",
      "\n"
     ]
    },
    {
     "data": {
      "text/plain": [
       "0.5599611273080661"
      ]
     },
     "execution_count": 27,
     "metadata": {},
     "output_type": "execute_result"
    }
   ],
   "source": [
    "## Try NaiveBayes first\n",
    "# Import the necessary modules\n",
    "from sklearn import metrics\n",
    "from sklearn.naive_bayes import MultinomialNB \n",
    "from sklearn.ensemble import RandomForestClassifier\n",
    "\n",
    "# # using tfidf\n",
    "# NB_classifier = MultinomialNB()\n",
    "# # Fit the classifier to the training data\n",
    "# NB_classifier.fit(tfidf_train, y_train)\n",
    "# # Create the predicted tags: pred\n",
    "# pred = NB_classifier.predict(tfidf_test)\n",
    "# # Calculate the accuracy score: score\n",
    "# Score = metrics.accuracy_score(y_test, pred)\n",
    "# print(Score)\n",
    "# # Calculate the confusion matrix: cm\n",
    "# CM = metrics.confusion_matrix(y_test, pred)\n",
    "# print(CM)\n",
    "\n",
    "\n",
    "# # Using Count_train\n",
    "# nb_classifier = MultinomialNB()\n",
    "# # Fit the classifier to the training data\n",
    "# nb_classifier.fit(Count_train, y_train)\n",
    "# # Create the predicted tags: pred\n",
    "# pred = nb_classifier.predict(Count_test)\n",
    "# # Calculate the accuracy score: score\n",
    "# score = metrics.accuracy_score(y_test, pred)\n",
    "# print(Score)\n",
    "# # Calculate the confusion matrix: cm\n",
    "# cm = metrics.confusion_matrix(y_test, pred)\n",
    "# print(CM)\n",
    "\n",
    "# BNBmodel = BernoulliNB()\n",
    "# BNBmodel.fit(tfidf_train, y_train)\n",
    "# y_pred = BNBmodel.predict(tfidf_test)\n",
    "# print(classification_report(y_test, y_pred))\n",
    "# metrics.accuracy_score(y_test, y_pred)\n",
    "\n",
    "SVCmodel = LinearSVC()\n",
    "SVCmodel.fit(tfidf_train, y_train)\n",
    "y_pred = SVCmodel.predict(tfidf_test)\n",
    "print(classification_report(y_test, y_pred))\n",
    "metrics.accuracy_score(y_test, y_pred)\n",
    "\n",
    "\n",
    "# rf = RandomForestClassifier(random_state=42)\n",
    "# rf.fit(tfidf_train, y_train)\n",
    "# y_pred = SVCmodel.predict(tfidf_test)\n",
    "# print(classification_report(y_test, y_pred))\n",
    "# metrics.accuracy_score(y_test, y_pred)"
   ]
  },
  {
   "cell_type": "code",
   "execution_count": 28,
   "id": "51526b3a",
   "metadata": {},
   "outputs": [],
   "source": [
    "# # Get the class labels: class_labels\n",
    "# class_labels = NB_classifier.classes_\n",
    "\n",
    "# # Extract the features: feature_names\n",
    "# feature_names = tfidf_vectorizer.get_feature_names()\n",
    "\n",
    "# # Zip the feature names together with the coefficient array and sort by weights: feat_with_weights\n",
    "# feat_with_weights = sorted(zip(NB_classifier.coef_[0], feature_names))\n",
    "\n",
    "# # Print the first class label and the top 20 feat_with_weights entries\n",
    "# print(class_labels[0], feat_with_weights[:5])\n",
    "\n",
    "# # Print the second class label and the bottom 20 feat_with_weights entries\n",
    "# print(class_labels[4], feat_with_weights[-5:])"
   ]
  },
  {
   "cell_type": "code",
   "execution_count": 29,
   "id": "8071f3bb",
   "metadata": {},
   "outputs": [],
   "source": [
    "# # Create the list of alphas: alphas\n",
    "# alphas = np.arange(0,1,0.2)\n",
    "\n",
    "# # Define train_and_predict()\n",
    "# def train_and_predict(alpha):\n",
    "#     # Instantiate the classifier: nb_classifier\n",
    "#     nb_classifier = MultinomialNB(alpha = alpha)\n",
    "#     # Fit to the training data\n",
    "#     nb_classifier.fit(tfidf_train, y_train)\n",
    "#     # Predict the labels: pred\n",
    "#     pred = nb_classifier.predict(tfidf_test)\n",
    "#     # Compute accuracy: score\n",
    "#     score = metrics.accuracy_score(y_test, pred)\n",
    "#     return score\n",
    "\n",
    "# # Iterate over the alphas and print the corresponding score\n",
    "# for alpha in alphas:\n",
    "#     print('Alpha: ', alpha)\n",
    "#     score = train_and_predict(alpha)\n",
    "#     print('Score: ', score)"
   ]
  },
  {
   "cell_type": "code",
   "execution_count": null,
   "id": "a7f33f23",
   "metadata": {},
   "outputs": [],
   "source": []
  }
 ],
 "metadata": {
  "kernelspec": {
   "display_name": "Python 3",
   "language": "python",
   "name": "python3"
  },
  "language_info": {
   "codemirror_mode": {
    "name": "ipython",
    "version": 3
   },
   "file_extension": ".py",
   "mimetype": "text/x-python",
   "name": "python",
   "nbconvert_exporter": "python",
   "pygments_lexer": "ipython3",
   "version": "3.8.8"
  }
 },
 "nbformat": 4,
 "nbformat_minor": 5
}
