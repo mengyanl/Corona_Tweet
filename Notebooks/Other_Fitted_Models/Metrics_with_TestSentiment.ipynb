{
 "cells": [
  {
   "cell_type": "markdown",
   "id": "a853f227",
   "metadata": {},
   "source": [
    "# SpringBoard Capstone2: Coronavirus Tweets Sentiment Analysis\n",
    "\n",
    "    Data from Kaggle.com: https://www.kaggle.com/datatattle/covid-19-nlp-text-classification/metadata\n",
    "## Final Metrics Using test['Sentiment'] as y_test"
   ]
  },
  {
   "cell_type": "code",
   "execution_count": 2,
   "id": "da11a325",
   "metadata": {},
   "outputs": [],
   "source": [
    "import pandas as pd\n",
    "import numpy as np\n",
    "import math\n",
    "import matplotlib.pyplot as plt\n",
    "import seaborn as sns\n",
    "# from wordcloud import WordCloud\n",
    "import re\n",
    "from sklearn.svm import LinearSVC\n",
    "\n",
    "from sklearn import metrics\n",
    "from sklearn.naive_bayes import BernoulliNB\n",
    "from sklearn.linear_model import LogisticRegression\n",
    "from sklearn.model_selection import train_test_split\n",
    "from sklearn.feature_extraction.text import TfidfVectorizer\n",
    "from sklearn.metrics import confusion_matrix, classification_report"
   ]
  },
  {
   "cell_type": "code",
   "execution_count": 10,
   "id": "7f39e49f",
   "metadata": {},
   "outputs": [
    {
     "data": {
      "text/plain": [
       "text         False\n",
       "Sentiment    False\n",
       "dtype: bool"
      ]
     },
     "execution_count": 10,
     "metadata": {},
     "output_type": "execute_result"
    }
   ],
   "source": [
    "tweet = pd.read_csv('/Users/Ling/Desktop/01_Springboard/Corona_Tweet/Data/ProcessedTweets', index_col = 0)\n",
    "tweet.fillna('', inplace=True)\n",
    "tweet.head()\n",
    "tweet.isna().any()\n",
    "\n",
    "test = pd.read_csv('/Users/Ling/Desktop/01_Springboard/Corona_Tweet/Data/ProcessedTestData', index_col = 0)\n",
    "test.fillna('', inplace=True)\n",
    "test.head()\n",
    "test.isna().any()"
   ]
  },
  {
   "cell_type": "code",
   "execution_count": 11,
   "id": "6312eb3f",
   "metadata": {},
   "outputs": [
    {
     "name": "stdout",
     "output_type": "stream",
     "text": [
      "# of feature names 4948\n",
      "['ai', 'aid', 'aim', 'aimed', 'ain', 'aint', 'air', 'airborne', 'airline', 'airlines', 'airport', 'aisle', 'aisles', 'aka', 'alah', 'alberta', 'alcohol', 'alcoholbased', 'aldi', 'alegedly', 'alergies', 'alert', 'aleviate', 'alive', 'almost', 'aloe', 'alone', 'alonetogether', 'along', 'alongside', 'alow', 'alowed', 'alowing', 'alows', 'already', 'also', 'alternative', 'alternatives', 'although', 'always', 'amazing', 'amazon', 'ambulance', 'america', 'american', 'americans', 'americas', 'amid', 'amidst', 'amo', 'among', 'amongst', 'amount', 'amounts', 'amp', 'ample', 'analysis', 'analyst', 'analysts', 'analytics', 'andor', 'andrew', 'angela', 'angeles', 'angry', 'animal', 'animals', 'another', 'anounce', 'anounced', 'anouncement', 'anouncements', 'anounces', 'anouncing', 'anoying', 'answer', 'answered', 'answers', 'anti', 'antibacterial', 'anticipate', 'anual', 'anxiety', 'anxious', 'anybody', 'anymore', 'anyone', 'anything', 'anytime', 'anyway', 'anywhere', 'ap', 'aparel', 'aparently', 'apart', 'apartment', 'apeal', 'apear', 'apears', 'aple']\n"
     ]
    }
   ],
   "source": [
    "from sklearn.feature_extraction.text import CountVectorizer  \n",
    "from sklearn.model_selection import train_test_split \n",
    "\n",
    "X_train = tweet['text'] \n",
    "y_train = tweet['Sentiment']\n",
    "\n",
    "X_test = test['text']\n",
    "y_test = test['Sentiment']\n",
    "\n",
    "Count_vect = CountVectorizer(ngram_range=(1, 1), max_df=0.7, min_df=15)\n",
    "\n",
    "Count_train = Count_vect.fit_transform(X_train)\n",
    "Count_test = Count_vect.transform(X_test)\n",
    "\n",
    "# Print the features\n",
    "print('# of feature names', len(Count_vect.get_feature_names()))\n",
    "print(Count_vect.get_feature_names()[100:200])"
   ]
  },
  {
   "cell_type": "code",
   "execution_count": 21,
   "id": "2a1ab163",
   "metadata": {},
   "outputs": [
    {
     "name": "stdout",
     "output_type": "stream",
     "text": [
      "                    precision    recall  f1-score   support\n",
      "\n",
      "Extremely Negative       0.64      0.62      0.63       592\n",
      "Extremely Positive       0.72      0.68      0.70       599\n",
      "          Negative       0.59      0.60      0.60      1041\n",
      "           Neutral       0.72      0.73      0.73       619\n",
      "          Positive       0.62      0.65      0.64       947\n",
      "\n",
      "          accuracy                           0.65      3798\n",
      "         macro avg       0.66      0.65      0.66      3798\n",
      "      weighted avg       0.65      0.65      0.65      3798\n",
      "\n",
      "F1 accuracy:  0.64797261716693\n",
      "Confusion Matrix [[365   3 187  14  23]\n",
      " [  5 405  27   6 156]\n",
      " [160  24 621  97 139]\n",
      " [ 14  10  84 454  57]\n",
      " [ 25 121 127  58 616]]\n"
     ]
    }
   ],
   "source": [
    "## Use CountVecterizer and tuned parameters\n",
    "from sklearn.svm import SVC\n",
    "SVCCount = SVC(C=1, degree=0, gamma=1, kernel='linear')\n",
    "SVCCount.fit(Count_train, y_train)\n",
    "y_pred_Count = SVCCount.predict(Count_test)"
   ]
  },
  {
   "cell_type": "code",
   "execution_count": 28,
   "id": "61bbbd1a",
   "metadata": {},
   "outputs": [
    {
     "name": "stdout",
     "output_type": "stream",
     "text": [
      "                    precision    recall  f1-score   support\n",
      "\n",
      "Extremely Negative       0.64      0.62      0.63       592\n",
      "Extremely Positive       0.72      0.68      0.70       599\n",
      "          Negative       0.59      0.60      0.60      1041\n",
      "           Neutral       0.72      0.73      0.73       619\n",
      "          Positive       0.62      0.65      0.64       947\n",
      "\n",
      "          accuracy                           0.65      3798\n",
      "         macro avg       0.66      0.65      0.66      3798\n",
      "      weighted avg       0.65      0.65      0.65      3798\n",
      "\n",
      "F1 accuracy:  0.64797261716693\n",
      "\n",
      " Confusion Matrix \n",
      " [[365   3 187  14  23]\n",
      " [  5 405  27   6 156]\n",
      " [160  24 621  97 139]\n",
      " [ 14  10  84 454  57]\n",
      " [ 25 121 127  58 616]]\n",
      "\n",
      " Normalized Confusion Matrix \n",
      " [[0.61655405 0.00506757 0.31587838 0.02364865 0.03885135]\n",
      " [0.00834725 0.67612688 0.04507513 0.01001669 0.26043406]\n",
      " [0.15369837 0.02305476 0.59654179 0.09317963 0.13352546]\n",
      " [0.02261712 0.01615509 0.13570275 0.73344103 0.09208401]\n",
      " [0.02639916 0.12777191 0.13410771 0.06124604 0.65047518]]\n"
     ]
    }
   ],
   "source": [
    "print(classification_report(y_test, y_pred_Count))\n",
    "print('F1 accuracy: ', metrics.accuracy_score(y_test, y_pred_Count))\n",
    "cm = metrics.confusion_matrix(y_test, y_pred_Count)\n",
    "print('\\n', 'Confusion Matrix', '\\n', cm)\n",
    "cm_n = metrics.confusion_matrix(y_test, y_pred_Count,normalize = 'true')\n",
    "print('\\n', 'Normalized Confusion Matrix', '\\n', cm_n)"
   ]
  },
  {
   "cell_type": "code",
   "execution_count": 30,
   "id": "fcc7509d",
   "metadata": {},
   "outputs": [
    {
     "data": {
      "image/png": "[encoded data removed]",
      "text/plain": [
       "<Figure size 432x288 with 1 Axes>"
      ]
     },
     "metadata": {
      "needs_background": "light"
     },
     "output_type": "display_data"
    }
   ],
   "source": [
    "import matplotlib.pyplot as plt\n",
    "\n",
    "from importlib import reload   ### Had to add these two steps 2021-12-17\n",
    "plt=reload(plt)                ### Had to add these two steps 2021-12-17\n",
    "\n",
    "sns.set_context(\"paper\", font_scale=1.5)\n",
    "order = ['Extremely Negative', 'Negative', 'Neutral','Positive','Extremely Positive']\n",
    "sns.countplot(x = 'Sentiment', data = test, order = order)\n",
    "plt.xticks(rotation = 90)\n",
    "plt.title('Test Sentiment')\n",
    "plt.show()"
   ]
  },
  {
   "cell_type": "code",
   "execution_count": 29,
   "id": "87159d53",
   "metadata": {},
   "outputs": [
    {
     "data": {
      "image/png": "[encoded data removed]",
      "text/plain": [
       "<Figure size 432x288 with 1 Axes>"
      ]
     },
     "metadata": {
      "needs_background": "light"
     },
     "output_type": "display_data"
    }
   ],
   "source": [
    "import matplotlib.pyplot as plt\n",
    "\n",
    "# from importlib import reload   ### Had to add these two steps 2021-12-17\n",
    "# plt=reload(plt)                ### Had to add these two steps 2021-12-17\n",
    "\n",
    "sns.set_context(\"paper\", font_scale=1.5)\n",
    "order = ['Extremely Negative', 'Negative', 'Neutral','Positive','Extremely Positive']\n",
    "sns.countplot(x = y_pred_Count, order = order)\n",
    "plt.xticks(rotation = 90)\n",
    "plt.title('Predicted')\n",
    "plt.show()"
   ]
  },
  {
   "cell_type": "markdown",
   "id": "5151825b",
   "metadata": {},
   "source": [
    "## Predicted slightly more Neutral and positive compared to true labels."
   ]
  },
  {
   "cell_type": "code",
   "execution_count": null,
   "id": "7edf2f1c",
   "metadata": {},
   "outputs": [],
   "source": []
  }
 ],
 "metadata": {
  "kernelspec": {
   "display_name": "Python 3",
   "language": "python",
   "name": "python3"
  },
  "language_info": {
   "codemirror_mode": {
    "name": "ipython",
    "version": 3
   },
   "file_extension": ".py",
   "mimetype": "text/x-python",
   "name": "python",
   "nbconvert_exporter": "python",
   "pygments_lexer": "ipython3",
   "version": "3.8.8"
  }
 },
 "nbformat": 4,
 "nbformat_minor": 5
}
