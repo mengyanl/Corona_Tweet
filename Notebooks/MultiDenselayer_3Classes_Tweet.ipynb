{
 "cells": [
  {
   "cell_type": "markdown",
   "metadata": {},
   "source": [
    "# SpringBoard Capstone2: Coronavirus Tweets Sentiment Analysis\n",
    "\n",
    "    Data from Kaggle.com: https://www.kaggle.com/datatattle/covid-19-nlp-text-classification/metadata\n",
    "## Multi_Dense_Layer used for modeling, classes reduced to 3. \n",
    "    Extremely tweets were categoried as positive or negative"
   ]
  },
  {
   "cell_type": "code",
   "execution_count": 2,
   "metadata": {
    "_cell_guid": "b1076dfc-b9ad-4769-8c92-a6c4dae69d19",
    "_uuid": "8f2839f25d086af736a60e9eeb907d3b93b6e0e5",
    "execution": {
     "iopub.execute_input": "2022-01-19T07:59:21.844453Z",
     "iopub.status.busy": "2022-01-19T07:59:21.844086Z",
     "iopub.status.idle": "2022-01-19T07:59:21.855644Z",
     "shell.execute_reply": "2022-01-19T07:59:21.854673Z",
     "shell.execute_reply.started": "2022-01-19T07:59:21.844409Z"
    }
   },
   "outputs": [],
   "source": [
    "# ## Cell used in Kaggles webpage\n",
    "\n",
    "# # This Python 3 environment comes with many helpful analytics libraries installed\n",
    "# # It is defined by the kaggle/python Docker image: https://github.com/kaggle/docker-python\n",
    "# # For example, here's several helpful packages to load\n",
    "\n",
    "# import numpy as np # linear algebra\n",
    "# import pandas as pd # data processing, CSV file I/O (e.g. pd.read_csv)\n",
    "\n",
    "# # Input data files are available in the read-only \"../input/\" directory\n",
    "# # For example, running this (by clicking run or pressing Shift+Enter) will list all files under the input directory\n",
    "\n",
    "# # import os\n",
    "# # for dirname, _, filenames in os.walk('/kaggle/input'):\n",
    "# #     for filename in filenames:\n",
    "# #         print(os.path.join(dirname, filename))\n",
    "\n",
    "# # # You can write up to 20GB to the current directory (/kaggle/working/) that gets preserved as output when you create a version using \"Save & Run All\" \n",
    "# # # You can also write temporary files to /kaggle/temp/, but they won't be saved outside of the current session"
   ]
  },
  {
   "cell_type": "code",
   "execution_count": 3,
   "metadata": {
    "execution": {
     "iopub.execute_input": "2022-01-19T08:01:26.412695Z",
     "iopub.status.busy": "2022-01-19T08:01:26.412398Z",
     "iopub.status.idle": "2022-01-19T08:01:26.420148Z",
     "shell.execute_reply": "2022-01-19T08:01:26.419204Z",
     "shell.execute_reply.started": "2022-01-19T08:01:26.412665Z"
    }
   },
   "outputs": [
    {
     "name": "stderr",
     "output_type": "stream",
     "text": [
      "[nltk_data] Downloading package wordnet to /Users/Ling/nltk_data...\n",
      "[nltk_data]   Package wordnet is already up-to-date!\n"
     ]
    }
   ],
   "source": [
    "import nltk\n",
    "nltk.download('wordnet')\n",
    "import pandas as pd\n",
    "import numpy as np\n",
    "import math\n",
    "import matplotlib.pyplot as plt\n",
    "import seaborn as sns\n",
    "# from wordcloud import WordCloud\n",
    "import re\n",
    "from sklearn.svm import LinearSVC\n",
    "from sklearn.svm import SVC\n",
    "from sklearn.naive_bayes import BernoulliNB\n",
    "from sklearn.linear_model import LogisticRegression\n",
    "from sklearn.model_selection import train_test_split\n",
    "from sklearn.feature_extraction.text import TfidfVectorizer\n",
    "from sklearn.metrics import confusion_matrix, classification_report,ConfusionMatrixDisplay\n",
    "\n",
    "### references: \n",
    "### https://www.analyticsvidhya.com/blog/2021/06/twitter-sentiment-analysis-a-nlp-use-case-for-beginners/\n",
    "### https://github.com/mengyanl/Twitter_Sentiment_Analysis/blob/main/notebooks/1.5%20Twitter%20Sentiment%20Analysis%20-%20Bag%20of%20Words%20(Code%20Submission).ipynb"
   ]
  },
  {
   "cell_type": "code",
   "execution_count": 4,
   "metadata": {
    "execution": {
     "iopub.execute_input": "2022-01-19T07:59:21.869865Z",
     "iopub.status.busy": "2022-01-19T07:59:21.869339Z",
     "iopub.status.idle": "2022-01-19T07:59:22.276649Z",
     "shell.execute_reply": "2022-01-19T07:59:22.275769Z",
     "shell.execute_reply.started": "2022-01-19T07:59:21.869832Z"
    }
   },
   "outputs": [
    {
     "name": "stdout",
     "output_type": "stream",
     "text": [
      "<class 'pandas.core.frame.DataFrame'>\n",
      "Int64Index: 41157 entries, 3799 to 44955\n",
      "Data columns (total 5 columns):\n",
      " #   Column         Non-Null Count  Dtype \n",
      "---  ------         --------------  ----- \n",
      " 0   ScreenName     41157 non-null  int64 \n",
      " 1   Location       32567 non-null  object\n",
      " 2   TweetAt        41157 non-null  object\n",
      " 3   OriginalTweet  41157 non-null  object\n",
      " 4   Sentiment      41157 non-null  object\n",
      "dtypes: int64(1), object(4)\n",
      "memory usage: 1.9+ MB\n",
      "None\n",
      "<class 'pandas.core.frame.DataFrame'>\n",
      "Int64Index: 3798 entries, 1 to 3798\n",
      "Data columns (total 5 columns):\n",
      " #   Column         Non-Null Count  Dtype \n",
      "---  ------         --------------  ----- \n",
      " 0   ScreenName     3798 non-null   int64 \n",
      " 1   Location       2964 non-null   object\n",
      " 2   TweetAt        3798 non-null   object\n",
      " 3   OriginalTweet  3798 non-null   object\n",
      " 4   Sentiment      3798 non-null   object\n",
      "dtypes: int64(1), object(4)\n",
      "memory usage: 178.0+ KB\n",
      "None\n"
     ]
    }
   ],
   "source": [
    "tweet_whole_train = pd.read_csv('/Users/Ling/Desktop/01_Springboard/Corona_Tweet/Data/Corona_NLP_train.csv', index_col = 0)\n",
    "print(tweet_whole_train.info())\n",
    "test = pd.read_csv('/Users/Ling/Desktop/01_Springboard/Corona_Tweet/Data/Corona_NLP_test.csv', index_col = 0)\n",
    "print(test.info())"
   ]
  },
  {
   "cell_type": "code",
   "execution_count": 5,
   "metadata": {
    "execution": {
     "iopub.execute_input": "2022-01-19T07:59:22.279515Z",
     "iopub.status.busy": "2022-01-19T07:59:22.279030Z",
     "iopub.status.idle": "2022-01-19T07:59:22.283652Z",
     "shell.execute_reply": "2022-01-19T07:59:22.282743Z",
     "shell.execute_reply.started": "2022-01-19T07:59:22.279461Z"
    }
   },
   "outputs": [
    {
     "data": {
      "image/png": "[encoded data removed]",
      "text/plain": [
       "<Figure size 1080x504 with 1 Axes>"
      ]
     },
     "metadata": {
      "needs_background": "light"
     },
     "output_type": "display_data"
    }
   ],
   "source": [
    "plt.figure(figsize=[15,7])\n",
    "sns.histplot(data=tweet_whole_train, x = 'TweetAt', hue = 'Sentiment', multiple='dodge')\n",
    "plt.xticks(rotation = 90)\n",
    "plt.show()"
   ]
  },
  {
   "cell_type": "code",
   "execution_count": 6,
   "metadata": {
    "execution": {
     "iopub.execute_input": "2022-01-19T07:59:22.285548Z",
     "iopub.status.busy": "2022-01-19T07:59:22.285254Z",
     "iopub.status.idle": "2022-01-19T07:59:22.294982Z",
     "shell.execute_reply": "2022-01-19T07:59:22.294278Z",
     "shell.execute_reply.started": "2022-01-19T07:59:22.285511Z"
    }
   },
   "outputs": [],
   "source": [
    "# plt.figure(figsize=[15,7])\n",
    "# sns.histplot(data=test, x = 'TweetAt', hue = 'Sentiment', multiple='dodge')\n",
    "# plt.xticks(rotation = 90)\n",
    "# plt.show()"
   ]
  },
  {
   "cell_type": "code",
   "execution_count": 7,
   "metadata": {
    "execution": {
     "iopub.execute_input": "2022-01-19T07:59:22.296781Z",
     "iopub.status.busy": "2022-01-19T07:59:22.296284Z",
     "iopub.status.idle": "2022-01-19T07:59:22.307089Z",
     "shell.execute_reply": "2022-01-19T07:59:22.306260Z",
     "shell.execute_reply.started": "2022-01-19T07:59:22.296723Z"
    }
   },
   "outputs": [
    {
     "name": "stdout",
     "output_type": "stream",
     "text": [
      "12221\n",
      "1718\n"
     ]
    }
   ],
   "source": [
    "print(len(tweet_whole_train['Location'].unique()))\n",
    "print(len(test['Location'].unique()))"
   ]
  },
  {
   "cell_type": "code",
   "execution_count": 8,
   "metadata": {
    "execution": {
     "iopub.execute_input": "2022-01-19T07:59:22.308918Z",
     "iopub.status.busy": "2022-01-19T07:59:22.308599Z",
     "iopub.status.idle": "2022-01-19T07:59:22.321920Z",
     "shell.execute_reply": "2022-01-19T07:59:22.321157Z",
     "shell.execute_reply.started": "2022-01-19T07:59:22.308879Z"
    }
   },
   "outputs": [],
   "source": [
    "tweet = tweet_whole_train[['OriginalTweet', 'Sentiment']]"
   ]
  },
  {
   "cell_type": "code",
   "execution_count": 9,
   "metadata": {
    "execution": {
     "iopub.execute_input": "2022-01-19T07:59:22.323993Z",
     "iopub.status.busy": "2022-01-19T07:59:22.323339Z",
     "iopub.status.idle": "2022-01-19T07:59:22.544580Z",
     "shell.execute_reply": "2022-01-19T07:59:22.543683Z",
     "shell.execute_reply.started": "2022-01-19T07:59:22.323944Z"
    }
   },
   "outputs": [
    {
     "data": {
      "image/png": "[encoded data removed]",
      "text/plain": [
       "<Figure size 432x288 with 1 Axes>"
      ]
     },
     "metadata": {
      "needs_background": "light"
     },
     "output_type": "display_data"
    }
   ],
   "source": [
    "order = ['Extremely Negative', 'Negative', 'Neutral','Positive','Extremely Positive']\n",
    "sns.countplot(x = 'Sentiment', data = tweet, order = order, palette=['#432371',\"#FAAE7B\",\"#7fcdbb\"])\n",
    "plt.xticks(rotation = 90)\n",
    "plt.show()"
   ]
  },
  {
   "cell_type": "code",
   "execution_count": 10,
   "metadata": {
    "execution": {
     "iopub.execute_input": "2022-01-19T07:59:22.546611Z",
     "iopub.status.busy": "2022-01-19T07:59:22.546140Z",
     "iopub.status.idle": "2022-01-19T07:59:22.598098Z",
     "shell.execute_reply": "2022-01-19T07:59:22.597302Z",
     "shell.execute_reply.started": "2022-01-19T07:59:22.546567Z"
    }
   },
   "outputs": [
    {
     "name": "stdout",
     "output_type": "stream",
     "text": [
      "TRAIN DATA \n",
      " UserName\n",
      "3799    @menyrbie @phil_gahan @chrisitv https://t.co/i...\n",
      "3800    advice talk to your neighbours family to excha...\n",
      "3801    coronavirus australia: woolworths to give elde...\n",
      "3802    my food stock is not the only one which is emp...\n",
      "3803    me, ready to go at supermarket during the #cov...\n",
      "Name: OriginalTweet, dtype: object\n",
      "\n",
      " TEST DATA \n",
      " UserName\n",
      "1    trending: new yorkers encounter empty supermar...\n",
      "2    when i couldn't find hand sanitizer at fred me...\n",
      "3    find out how you can protect yourself and love...\n",
      "4    #panic buying hits #newyork city as anxious sh...\n",
      "5    #toiletpaper #dunnypaper #coronavirus #coronav...\n",
      "Name: OriginalTweet, dtype: object\n"
     ]
    },
    {
     "name": "stderr",
     "output_type": "stream",
     "text": [
      "<ipython-input-10-f65a37d2acef>:2: SettingWithCopyWarning: \n",
      "A value is trying to be set on a copy of a slice from a DataFrame.\n",
      "Try using .loc[row_indexer,col_indexer] = value instead\n",
      "\n",
      "See the caveats in the documentation: https://pandas.pydata.org/pandas-docs/stable/user_guide/indexing.html#returning-a-view-versus-a-copy\n",
      "  tweet['OriginalTweet'] = tweet['OriginalTweet'].str.lower()\n"
     ]
    }
   ],
   "source": [
    "# lower case all text\n",
    "tweet['OriginalTweet'] = tweet['OriginalTweet'].str.lower()\n",
    "test['OriginalTweet'] = test['OriginalTweet'].str.lower()\n",
    "\n",
    "print('TRAIN DATA \\n', tweet['OriginalTweet'].head())\n",
    "print('\\n TEST DATA \\n', test['OriginalTweet'].head())"
   ]
  },
  {
   "cell_type": "code",
   "execution_count": 11,
   "metadata": {
    "execution": {
     "iopub.execute_input": "2022-01-19T07:59:22.600755Z",
     "iopub.status.busy": "2022-01-19T07:59:22.600370Z",
     "iopub.status.idle": "2022-01-19T07:59:22.952433Z",
     "shell.execute_reply": "2022-01-19T07:59:22.951627Z",
     "shell.execute_reply.started": "2022-01-19T07:59:22.600707Z"
    }
   },
   "outputs": [
    {
     "name": "stdout",
     "output_type": "stream",
     "text": [
      "TRAIN DATA \n",
      " UserName\n",
      "3799    https://t.co/ifz9fan2pa and https://t.co/xx6gh...\n",
      "3800    advice talk to your neighbours family to excha...\n",
      "3801    coronavirus australia: woolworths to give elde...\n",
      "3802    my food stock is not the only one which is emp...\n",
      "3803    me, ready to go at supermarket during the #cov...\n",
      "Name: OriginalTweet, dtype: object\n",
      "\n",
      " TEST DATA \n",
      " UserName\n",
      "1    trending: new yorkers encounter empty supermar...\n",
      "2    when i couldn't find hand sanitizer at fred me...\n",
      "3    find out how you can protect yourself and love...\n",
      "4    #panic buying hits #newyork city as anxious sh...\n",
      "5    #toiletpaper #dunnypaper #coronavirus #coronav...\n",
      "Name: OriginalTweet, dtype: object\n"
     ]
    },
    {
     "name": "stderr",
     "output_type": "stream",
     "text": [
      "<ipython-input-11-924ac800784c>:3: SettingWithCopyWarning: \n",
      "A value is trying to be set on a copy of a slice from a DataFrame.\n",
      "Try using .loc[row_indexer,col_indexer] = value instead\n",
      "\n",
      "See the caveats in the documentation: https://pandas.pydata.org/pandas-docs/stable/user_guide/indexing.html#returning-a-view-versus-a-copy\n",
      "  tweet['OriginalTweet'] = tweet['OriginalTweet'].apply(lambda text: remove_at_signs(text))\n"
     ]
    }
   ],
   "source": [
    "def remove_at_signs(text):\n",
    "    return \" \".join([word for word in str(text).split() if not word.startswith('@')])\n",
    "tweet['OriginalTweet'] = tweet['OriginalTweet'].apply(lambda text: remove_at_signs(text))\n",
    "test['OriginalTweet'] = test['OriginalTweet'].apply(lambda text: remove_at_signs(text))\n",
    "\n",
    "print('TRAIN DATA \\n', tweet['OriginalTweet'].head())\n",
    "print('\\n TEST DATA \\n', test['OriginalTweet'].head())"
   ]
  },
  {
   "cell_type": "code",
   "execution_count": 12,
   "metadata": {
    "execution": {
     "iopub.execute_input": "2022-01-19T07:59:22.954011Z",
     "iopub.status.busy": "2022-01-19T07:59:22.953767Z",
     "iopub.status.idle": "2022-01-19T07:59:24.203423Z",
     "shell.execute_reply": "2022-01-19T07:59:24.202523Z",
     "shell.execute_reply.started": "2022-01-19T07:59:22.953982Z"
    }
   },
   "outputs": [
    {
     "name": "stdout",
     "output_type": "stream",
     "text": [
      "TRAIN DATA \n",
      " UserName\n",
      "3799    htps:/t.co/ifz9fan2pa and htps:/t.co/x6ghgfzc ...\n",
      "3800    advice talk to your neighbours family to excha...\n",
      "3801    coronavirus australia: wolworths to give elder...\n",
      "3802    my fod stock is not the only one which is empt...\n",
      "3803    me, ready to go at supermarket during the #cov...\n",
      "Name: OriginalTweet, dtype: object\n",
      "\n",
      " TEST DATA \n",
      " UserName\n",
      "1    trending: new yorkers encounter empty supermar...\n",
      "2    when i couldn't find hand sanitizer at fred me...\n",
      "3    find out how you can protect yourself and love...\n",
      "4    #panic buying hits #newyork city as anxious sh...\n",
      "5    #toiletpaper #dunypaper #coronavirus #coronavi...\n",
      "Name: OriginalTweet, dtype: object\n"
     ]
    },
    {
     "name": "stderr",
     "output_type": "stream",
     "text": [
      "<ipython-input-12-8d4802ada748>:5: SettingWithCopyWarning: \n",
      "A value is trying to be set on a copy of a slice from a DataFrame.\n",
      "Try using .loc[row_indexer,col_indexer] = value instead\n",
      "\n",
      "See the caveats in the documentation: https://pandas.pydata.org/pandas-docs/stable/user_guide/indexing.html#returning-a-view-versus-a-copy\n",
      "  tweet['OriginalTweet'] = tweet['OriginalTweet'].apply(lambda x: cleaning_repeating_char(x))\n"
     ]
    }
   ],
   "source": [
    "import itertools\n",
    "def cleaning_repeating_char(text):\n",
    "    cl = ''.join(ch for ch, _ in itertools.groupby(text))\n",
    "    return cl\n",
    "tweet['OriginalTweet'] = tweet['OriginalTweet'].apply(lambda x: cleaning_repeating_char(x))\n",
    "test['OriginalTweet'] = test['OriginalTweet'].apply(lambda x: cleaning_repeating_char(x))\n",
    "\n",
    "print('TRAIN DATA \\n', tweet['OriginalTweet'].head())\n",
    "print('\\n TEST DATA \\n', test['OriginalTweet'].head())"
   ]
  },
  {
   "cell_type": "code",
   "execution_count": 13,
   "metadata": {
    "execution": {
     "iopub.execute_input": "2022-01-19T07:59:24.205089Z",
     "iopub.status.busy": "2022-01-19T07:59:24.204790Z",
     "iopub.status.idle": "2022-01-19T07:59:24.477641Z",
     "shell.execute_reply": "2022-01-19T07:59:24.476583Z",
     "shell.execute_reply.started": "2022-01-19T07:59:24.205048Z"
    }
   },
   "outputs": [
    {
     "name": "stdout",
     "output_type": "stream",
     "text": [
      "TRAIN DATA \n",
      " UserName\n",
      "3799                                url and  url and  url\n",
      "3800    advice talk to your neighbours family to excha...\n",
      "3801    coronavirus australia: wolworths to give elder...\n",
      "3802    my fod stock is not the only one which is empt...\n",
      "3803    me, ready to go at supermarket during the #cov...\n",
      "Name: OriginalTweet, dtype: object\n",
      "\n",
      " TEST DATA \n",
      " UserName\n",
      "1    trending: new yorkers encounter empty supermar...\n",
      "2    when i couldn't find hand sanitizer at fred me...\n",
      "3    find out how you can protect yourself and love...\n",
      "4    #panic buying hits #newyork city as anxious sh...\n",
      "5    #toiletpaper #dunypaper #coronavirus #coronavi...\n",
      "Name: OriginalTweet, dtype: object\n"
     ]
    },
    {
     "name": "stderr",
     "output_type": "stream",
     "text": [
      "<ipython-input-13-1b8d7a4d6e5f>:3: SettingWithCopyWarning: \n",
      "A value is trying to be set on a copy of a slice from a DataFrame.\n",
      "Try using .loc[row_indexer,col_indexer] = value instead\n",
      "\n",
      "See the caveats in the documentation: https://pandas.pydata.org/pandas-docs/stable/user_guide/indexing.html#returning-a-view-versus-a-copy\n",
      "  tweet['OriginalTweet'] = tweet['OriginalTweet'].apply(lambda x: cleaning_URLs(x))\n"
     ]
    }
   ],
   "source": [
    "def cleaning_URLs(data):\n",
    "    return re.sub('[^ ]+\\.[^ ]+' , ' url', data)\n",
    "tweet['OriginalTweet'] = tweet['OriginalTweet'].apply(lambda x: cleaning_URLs(x))\n",
    "test['OriginalTweet'] = test['OriginalTweet'].apply(lambda x: cleaning_URLs(x))\n",
    "\n",
    "print('TRAIN DATA \\n', tweet['OriginalTweet'].head())\n",
    "print('\\n TEST DATA \\n', test['OriginalTweet'].head())"
   ]
  },
  {
   "cell_type": "code",
   "execution_count": 14,
   "metadata": {
    "execution": {
     "iopub.execute_input": "2022-01-19T07:59:24.479693Z",
     "iopub.status.busy": "2022-01-19T07:59:24.479390Z",
     "iopub.status.idle": "2022-01-19T07:59:24.818295Z",
     "shell.execute_reply": "2022-01-19T07:59:24.817320Z",
     "shell.execute_reply.started": "2022-01-19T07:59:24.479652Z"
    }
   },
   "outputs": [
    {
     "name": "stdout",
     "output_type": "stream",
     "text": [
      "TRAIN DATA \n",
      " UserName\n",
      "3799                                url and  url and  url\n",
      "3800    advice talk to your neighbours family to excha...\n",
      "3801    coronavirus australia wolworths to give elderl...\n",
      "3802    my fod stock is not the only one which is empt...\n",
      "3803    me ready to go at supermarket during the covid...\n",
      "Name: OriginalTweet, dtype: object\n",
      "\n",
      " TEST DATA \n",
      " UserName\n",
      "1    trending new yorkers encounter empty supermark...\n",
      "2    when i couldnt find hand sanitizer at fred mey...\n",
      "3    find out how you can protect yourself and love...\n",
      "4    panic buying hits newyork city as anxious shop...\n",
      "5    toiletpaper dunypaper coronavirus coronavirusa...\n",
      "Name: OriginalTweet, dtype: object\n"
     ]
    },
    {
     "name": "stderr",
     "output_type": "stream",
     "text": [
      "<ipython-input-14-07738a1d2c6a>:7: SettingWithCopyWarning: \n",
      "A value is trying to be set on a copy of a slice from a DataFrame.\n",
      "Try using .loc[row_indexer,col_indexer] = value instead\n",
      "\n",
      "See the caveats in the documentation: https://pandas.pydata.org/pandas-docs/stable/user_guide/indexing.html#returning-a-view-versus-a-copy\n",
      "  tweet['OriginalTweet']= tweet['OriginalTweet'].apply(lambda x: cleaning_punctuations(x))\n"
     ]
    }
   ],
   "source": [
    "import string\n",
    "english_punctuations = string.punctuation\n",
    "punctuations_list = english_punctuations\n",
    "def cleaning_punctuations(text):\n",
    "    translator = str.maketrans(' ', ' ', punctuations_list)\n",
    "    return text.translate(translator)\n",
    "tweet['OriginalTweet']= tweet['OriginalTweet'].apply(lambda x: cleaning_punctuations(x))\n",
    "test['OriginalTweet']= test['OriginalTweet'].apply(lambda x: cleaning_punctuations(x))\n",
    "\n",
    "print('TRAIN DATA \\n', tweet['OriginalTweet'].head())\n",
    "print('\\n TEST DATA \\n', test['OriginalTweet'].head())"
   ]
  },
  {
   "cell_type": "code",
   "execution_count": 15,
   "metadata": {
    "execution": {
     "iopub.execute_input": "2022-01-19T07:59:24.820148Z",
     "iopub.status.busy": "2022-01-19T07:59:24.819739Z",
     "iopub.status.idle": "2022-01-19T07:59:25.070400Z",
     "shell.execute_reply": "2022-01-19T07:59:25.069519Z",
     "shell.execute_reply.started": "2022-01-19T07:59:24.820105Z"
    }
   },
   "outputs": [
    {
     "name": "stdout",
     "output_type": "stream",
     "text": [
      "TRAIN DATA \n",
      " UserName\n",
      "3799                                url and  url and  url\n",
      "3800    advice talk to your neighbours family to excha...\n",
      "3801    coronavirus australia wolworths to give elderl...\n",
      "3802    my fod stock is not the only one which is empt...\n",
      "3803    me ready to go at supermarket during the covid...\n",
      "Name: OriginalTweet, dtype: object\n",
      "\n",
      " TEST DATA \n",
      " UserName\n",
      "1    trending new yorkers encounter empty supermark...\n",
      "2    when i couldnt find hand sanitizer at fred mey...\n",
      "3    find out how you can protect yourself and love...\n",
      "4    panic buying hits newyork city as anxious shop...\n",
      "5    toiletpaper dunypaper coronavirus coronavirusa...\n",
      "Name: OriginalTweet, dtype: object\n"
     ]
    },
    {
     "name": "stderr",
     "output_type": "stream",
     "text": [
      "<ipython-input-15-89c92968cac6>:3: SettingWithCopyWarning: \n",
      "A value is trying to be set on a copy of a slice from a DataFrame.\n",
      "Try using .loc[row_indexer,col_indexer] = value instead\n",
      "\n",
      "See the caveats in the documentation: https://pandas.pydata.org/pandas-docs/stable/user_guide/indexing.html#returning-a-view-versus-a-copy\n",
      "  tweet['OriginalTweet'] = tweet['OriginalTweet'].apply(lambda x: cleaning_numbers(x))\n"
     ]
    }
   ],
   "source": [
    "def cleaning_numbers(data):\n",
    "    return re.sub('[0-9]+', '', data)\n",
    "tweet['OriginalTweet'] = tweet['OriginalTweet'].apply(lambda x: cleaning_numbers(x))\n",
    "test['OriginalTweet'] = test['OriginalTweet'].apply(lambda x: cleaning_numbers(x))\n",
    "\n",
    "print('TRAIN DATA \\n', tweet['OriginalTweet'].head())\n",
    "print('\\n TEST DATA \\n', test['OriginalTweet'].head())"
   ]
  },
  {
   "cell_type": "code",
   "execution_count": 16,
   "metadata": {
    "execution": {
     "iopub.execute_input": "2022-01-19T07:59:25.071861Z",
     "iopub.status.busy": "2022-01-19T07:59:25.071622Z",
     "iopub.status.idle": "2022-01-19T07:59:29.053118Z",
     "shell.execute_reply": "2022-01-19T07:59:29.052002Z",
     "shell.execute_reply.started": "2022-01-19T07:59:25.071832Z"
    }
   },
   "outputs": [
    {
     "name": "stderr",
     "output_type": "stream",
     "text": [
      "<ipython-input-16-116119311db9>:4: SettingWithCopyWarning: \n",
      "A value is trying to be set on a copy of a slice from a DataFrame.\n",
      "Try using .loc[row_indexer,col_indexer] = value instead\n",
      "\n",
      "See the caveats in the documentation: https://pandas.pydata.org/pandas-docs/stable/user_guide/indexing.html#returning-a-view-versus-a-copy\n",
      "  tweet['Tokens'] = [tknzr.tokenize(t) for t in tweet['OriginalTweet']]\n"
     ]
    },
    {
     "data": {
      "text/plain": [
       "UserName\n",
       "3799                            [url, and, url, and, url]\n",
       "3800    [advice, talk, to, your, neighbours, family, t...\n",
       "3801    [coronavirus, australia, wolworths, to, give, ...\n",
       "3802    [my, fod, stock, is, not, the, only, one, whic...\n",
       "3803    [me, ready, to, go, at, supermarket, during, t...\n",
       "Name: Tokens, dtype: object"
      ]
     },
     "execution_count": 16,
     "metadata": {},
     "output_type": "execute_result"
    }
   ],
   "source": [
    "# Tokenize the OriginalTweet text\n",
    "from nltk.tokenize import TweetTokenizer\n",
    "tknzr = TweetTokenizer()\n",
    "tweet['Tokens'] = [tknzr.tokenize(t) for t in tweet['OriginalTweet']]\n",
    "tweet['Tokens'].head()"
   ]
  },
  {
   "cell_type": "code",
   "execution_count": 17,
   "metadata": {
    "execution": {
     "iopub.execute_input": "2022-01-19T07:59:29.055137Z",
     "iopub.status.busy": "2022-01-19T07:59:29.054732Z",
     "iopub.status.idle": "2022-01-19T07:59:49.407616Z",
     "shell.execute_reply": "2022-01-19T07:59:49.406691Z",
     "shell.execute_reply.started": "2022-01-19T07:59:29.055094Z"
    }
   },
   "outputs": [
    {
     "name": "stderr",
     "output_type": "stream",
     "text": [
      "<ipython-input-17-9e413b8e77ce>:5: SettingWithCopyWarning: \n",
      "A value is trying to be set on a copy of a slice from a DataFrame.\n",
      "Try using .loc[row_indexer,col_indexer] = value instead\n",
      "\n",
      "See the caveats in the documentation: https://pandas.pydata.org/pandas-docs/stable/user_guide/indexing.html#returning-a-view-versus-a-copy\n",
      "  tweet['Tokens']= tweet['Tokens'].apply(lambda x: stemming_on_text(x))\n"
     ]
    },
    {
     "data": {
      "text/plain": [
       "UserName\n",
       "3799                            [url, and, url, and, url]\n",
       "3800    [advice, talk, to, your, neighbours, family, t...\n",
       "3801    [coronavirus, australia, wolworths, to, give, ...\n",
       "3802    [my, fod, stock, is, not, the, only, one, whic...\n",
       "3803    [me, ready, to, go, at, supermarket, during, t...\n",
       "3804    [as, news, of, the, region, , s, first, confi...\n",
       "3805    [cashier, at, grocery, store, was, sharing, hi...\n",
       "3806    [was, at, the, supermarket, today, didnt, buy,...\n",
       "3807    [due, to, covid, our, retail, store, and, clas...\n",
       "3808    [for, corona, preventionwe, should, stop, to, ...\n",
       "Name: Tokens, dtype: object"
      ]
     },
     "execution_count": 17,
     "metadata": {},
     "output_type": "execute_result"
    }
   ],
   "source": [
    "st = nltk.PorterStemmer()\n",
    "def stemming_on_text(data):\n",
    "    text = [st.stem(word) for word in data]\n",
    "    return data\n",
    "tweet['Tokens']= tweet['Tokens'].apply(lambda x: stemming_on_text(x))\n",
    "tweet['Tokens'].head(10)"
   ]
  },
  {
   "cell_type": "code",
   "execution_count": 18,
   "metadata": {
    "execution": {
     "iopub.execute_input": "2022-01-19T07:59:49.409981Z",
     "iopub.status.busy": "2022-01-19T07:59:49.409125Z",
     "iopub.status.idle": "2022-01-19T07:59:49.425846Z",
     "shell.execute_reply": "2022-01-19T07:59:49.425137Z",
     "shell.execute_reply.started": "2022-01-19T07:59:49.409943Z"
    }
   },
   "outputs": [],
   "source": [
    "stop_words = ['a',\n",
    " 'about',\n",
    " 'above',\n",
    " 'after',\n",
    " 'am',\n",
    " 'all',\n",
    "              'al',\n",
    "              \n",
    "              'an',\n",
    " 'and',\n",
    " 'any',\n",
    " 'are',\n",
    " 'as',\n",
    " 'at',\n",
    " 'be',\n",
    " 'because',\n",
    " 'been',\n",
    " 'before',\n",
    " 'being',\n",
    " 'below',\n",
    " 'between',\n",
    " 'but',\n",
    " 'by',\n",
    " 'could',\n",
    " 'did',\n",
    " 'do',\n",
    " 'does',\n",
    " 'doing',\n",
    " 'down',\n",
    " 'during',\n",
    " 'each',\n",
    " 'for',\n",
    " 'from',\n",
    " 'further',\n",
    " 'had',\n",
    " 'has',\n",
    " 'have',\n",
    " 'having',\n",
    " 'he',\n",
    " \"he'd\",\n",
    " \"he'll\",\n",
    " \"he's\",\n",
    " 'her',\n",
    " 'here',\n",
    " \"here's\",\n",
    " 'hers',\n",
    " 'herself',\n",
    " 'him',\n",
    " 'himself',\n",
    " 'his',\n",
    " 'how',\n",
    " \"how's\",\n",
    " 'i',\n",
    " \"i'd\",\n",
    " \"i'll\",\n",
    " \"i'm\",\n",
    " \"i've\",\n",
    " 'if',\n",
    " 'in',\n",
    " 'into',\n",
    " 'is',\n",
    " 'it',\n",
    " \"it's\",\n",
    " 'its',\n",
    " 'itself',\n",
    " \"let's\",\n",
    " 'me',\n",
    " 'my',\n",
    " 'myself',\n",
    " 'of',\n",
    " 'off',\n",
    " 'on',\n",
    " 'or',\n",
    " 'other',\n",
    " 'our',\n",
    " 'ours',\n",
    " 'ourselves',\n",
    " 'out',\n",
    " 'over',\n",
    " 'own',\n",
    " 'same',\n",
    " 'she',\n",
    " \"she'd\",\n",
    " \"she'll\",\n",
    " \"she's\",\n",
    " 'should',\n",
    " 'so',\n",
    " 'some',\n",
    " 'such',\n",
    " 'than',\n",
    " 'that',\n",
    " \"that's\",\n",
    " 'the',\n",
    " 'their',\n",
    " 'theirs',\n",
    " 'them',\n",
    " 'themselves',\n",
    " 'then',\n",
    " 'there',\n",
    " \"there's\",\n",
    " 'these',\n",
    " 'they',\n",
    " \"they'd\",\n",
    " \"they'll\",\n",
    " \"they're\",\n",
    " \"they've\",\n",
    " 'this',\n",
    " 'those',\n",
    " 'through',\n",
    " 'to',\n",
    " 'under',\n",
    " 'until',\n",
    " 'up',\n",
    " 'very',\n",
    " 'was',\n",
    " 'we',\n",
    " \"we'd\",\n",
    " \"we'll\",\n",
    " \"we're\",\n",
    " \"we've\",\n",
    " 'were',\n",
    " 'what',\n",
    " \"what's\",\n",
    " 'when',\n",
    " \"when's\",\n",
    " 'where',\n",
    " \"where's\",\n",
    " 'which',\n",
    " 'while',\n",
    " 'who',\n",
    " \"who's\",\n",
    " 'whom',\n",
    " 'why',\n",
    " \"why's\",\n",
    " 'with',\n",
    " \"won't\",\n",
    " 'would',\n",
    " 'you',\n",
    " \"you'd\",\n",
    " \"you'll\",\n",
    " \"you're\",\n",
    " \"you've\",\n",
    " 'your',\n",
    " 'yours',\n",
    " 'yourself',\n",
    " 'yourselves',\n",
    " \"that'll\",\n",
    " 's',\n",
    " 't',\n",
    " 'can',\n",
    " 'will',\n",
    " 'just',\n",
    " 'don',\n",
    " \"should've\",\n",
    " 'now',\n",
    " 'd',\n",
    " 'll',\n",
    " 'm',\n",
    " 'o',\n",
    " 're',\n",
    " 've',\n",
    " 'y',\n",
    " 'ma',\n",
    " 'across',\n",
    " 'im',\n",
    " 'l',\n",
    " 'shes',\n",
    " 'thatl',\n",
    " 'thatll',\n",
    " 'wil',\n",
    " 'youd',\n",
    " 'youl',\n",
    " 'youll',\n",
    " 'youre',\n",
    " 'youve']"
   ]
  },
  {
   "cell_type": "code",
   "execution_count": 19,
   "metadata": {
    "execution": {
     "iopub.execute_input": "2022-01-19T07:59:49.427188Z",
     "iopub.status.busy": "2022-01-19T07:59:49.426790Z",
     "iopub.status.idle": "2022-01-19T07:59:49.730729Z",
     "shell.execute_reply": "2022-01-19T07:59:49.729875Z",
     "shell.execute_reply.started": "2022-01-19T07:59:49.427160Z"
    }
   },
   "outputs": [
    {
     "name": "stdout",
     "output_type": "stream",
     "text": [
      "TRAIN DATA \n",
      " UserName\n",
      "3799                                          url url url\n",
      "3800    advice talk neighbours family exchange phone n...\n",
      "3801    coronavirus australia wolworths give elderly d...\n",
      "3802    fod stock not only one empty please dont panic...\n",
      "3803    ready go supermarket covid outbreak not parano...\n",
      "Name: OriginalTweet, dtype: object\n",
      "\n",
      " TEST DATA \n",
      " UserName\n",
      "1    trending new yorkers encounter empty supermark...\n",
      "2    couldnt find hand sanitizer fred meyer turned ...\n",
      "3                  find protect loved ones coronavirus\n",
      "4    panic buying hits newyork city anxious shopers...\n",
      "5    toiletpaper dunypaper coronavirus coronavirusa...\n",
      "Name: OriginalTweet, dtype: object\n"
     ]
    },
    {
     "name": "stderr",
     "output_type": "stream",
     "text": [
      "<ipython-input-19-e727e90cafac>:4: SettingWithCopyWarning: \n",
      "A value is trying to be set on a copy of a slice from a DataFrame.\n",
      "Try using .loc[row_indexer,col_indexer] = value instead\n",
      "\n",
      "See the caveats in the documentation: https://pandas.pydata.org/pandas-docs/stable/user_guide/indexing.html#returning-a-view-versus-a-copy\n",
      "  tweet['OriginalTweet'] = tweet['OriginalTweet'].apply(lambda text: cleaning_stopwords(text))\n"
     ]
    }
   ],
   "source": [
    "STOPWORDS = set(stop_words)\n",
    "def cleaning_stopwords(text):\n",
    "    return \" \".join([word for word in str(text).split() if word not in STOPWORDS])\n",
    "tweet['OriginalTweet'] = tweet['OriginalTweet'].apply(lambda text: cleaning_stopwords(text))\n",
    "test['OriginalTweet'] = test['OriginalTweet'].apply(lambda text: cleaning_stopwords(text))\n",
    "\n",
    "print('TRAIN DATA \\n', tweet['OriginalTweet'].head())\n",
    "print('\\n TEST DATA \\n', test['OriginalTweet'].head())"
   ]
  },
  {
   "cell_type": "code",
   "execution_count": 20,
   "metadata": {
    "execution": {
     "iopub.execute_input": "2022-01-19T07:59:49.733171Z",
     "iopub.status.busy": "2022-01-19T07:59:49.732249Z",
     "iopub.status.idle": "2022-01-19T07:59:52.246955Z",
     "shell.execute_reply": "2022-01-19T07:59:52.245979Z",
     "shell.execute_reply.started": "2022-01-19T07:59:49.733131Z"
    }
   },
   "outputs": [
    {
     "name": "stderr",
     "output_type": "stream",
     "text": [
      "<ipython-input-20-e18c1b857b21>:4: SettingWithCopyWarning: \n",
      "A value is trying to be set on a copy of a slice from a DataFrame.\n",
      "Try using .loc[row_indexer,col_indexer] = value instead\n",
      "\n",
      "See the caveats in the documentation: https://pandas.pydata.org/pandas-docs/stable/user_guide/indexing.html#returning-a-view-versus-a-copy\n",
      "  tweet['Tokens'] = [tknzr.tokenize(t) for t in tweet['OriginalTweet']]\n"
     ]
    },
    {
     "name": "stdout",
     "output_type": "stream",
     "text": [
      "TRAIN DATA \n",
      " UserName\n",
      "3799                                      [url, url, url]\n",
      "3800    [advice, talk, neighbours, family, exchange, p...\n",
      "3801    [coronavirus, australia, wolworths, give, elde...\n",
      "3802    [fod, stock, not, only, one, empty, please, do...\n",
      "3803    [ready, go, supermarket, covid, outbreak, not,...\n",
      "Name: Tokens, dtype: object\n",
      "\n",
      " TEST DATA \n",
      " UserName\n",
      "1    [trending, new, yorkers, encounter, empty, sup...\n",
      "2    [couldnt, find, hand, sanitizer, fred, meyer, ...\n",
      "3            [find, protect, loved, ones, coronavirus]\n",
      "4    [panic, buying, hits, newyork, city, anxious, ...\n",
      "5    [toiletpaper, dunypaper, coronavirus, coronavi...\n",
      "Name: Tokens, dtype: object\n"
     ]
    }
   ],
   "source": [
    "# Tokenize the OriginalTweet text\n",
    "from nltk.tokenize import TweetTokenizer\n",
    "tknzr = TweetTokenizer()\n",
    "tweet['Tokens'] = [tknzr.tokenize(t) for t in tweet['OriginalTweet']]\n",
    "test['Tokens'] = [tknzr.tokenize(t) for t in test['OriginalTweet']]\n",
    "\n",
    "print('TRAIN DATA \\n', tweet['Tokens'].head())\n",
    "print('\\n TEST DATA \\n', test['Tokens'].head())"
   ]
  },
  {
   "cell_type": "code",
   "execution_count": 21,
   "metadata": {
    "execution": {
     "iopub.execute_input": "2022-01-19T07:59:52.248870Z",
     "iopub.status.busy": "2022-01-19T07:59:52.248466Z",
     "iopub.status.idle": "2022-01-19T07:59:52.265444Z",
     "shell.execute_reply": "2022-01-19T07:59:52.264890Z",
     "shell.execute_reply.started": "2022-01-19T07:59:52.248820Z"
    }
   },
   "outputs": [
    {
     "name": "stderr",
     "output_type": "stream",
     "text": [
      "[nltk_data] Downloading package averaged_perceptron_tagger to\n",
      "[nltk_data]     /Users/Ling/nltk_data...\n",
      "[nltk_data]   Package averaged_perceptron_tagger is already up-to-\n",
      "[nltk_data]       date!\n"
     ]
    },
    {
     "data": {
      "text/plain": [
       "[('please', 'NN'),\n",
       " ('remain', 'VBP'),\n",
       " ('vigilant', 'JJ'),\n",
       " ('report', 'NN'),\n",
       " ('suspected', 'VBD'),\n",
       " ('fraud', 'NN'),\n",
       " ('schemes', 'NNS'),\n",
       " ('involving', 'VBG'),\n",
       " ('covid', 'NN'),\n",
       " ('caling', 'VBG'),\n",
       " ('national', 'JJ'),\n",
       " ('center', 'NN'),\n",
       " ('disaster', 'NN'),\n",
       " ('fraud', 'NN'),\n",
       " ('hotline', 'NN'),\n",
       " ('emailing', 'VBG'),\n",
       " ('url', 'RB'),\n",
       " ('more', 'JJR'),\n",
       " ('information', 'NN'),\n",
       " ('avoid', 'IN'),\n",
       " ('coronavirus', 'NN'),\n",
       " ('related', 'JJ'),\n",
       " ('scams', 'NNS'),\n",
       " ('url', 'VBP')]"
      ]
     },
     "execution_count": 21,
     "metadata": {},
     "output_type": "execute_result"
    }
   ],
   "source": [
    "nltk.download('averaged_perceptron_tagger')\n",
    "tag1 = nltk.pos_tag(tweet.iloc[20011,2])\n",
    "tag1"
   ]
  },
  {
   "cell_type": "code",
   "execution_count": 22,
   "metadata": {
    "execution": {
     "iopub.execute_input": "2022-01-19T07:59:52.267218Z",
     "iopub.status.busy": "2022-01-19T07:59:52.266607Z",
     "iopub.status.idle": "2022-01-19T07:59:55.515554Z",
     "shell.execute_reply": "2022-01-19T07:59:55.514632Z",
     "shell.execute_reply.started": "2022-01-19T07:59:52.267181Z"
    }
   },
   "outputs": [
    {
     "name": "stderr",
     "output_type": "stream",
     "text": [
      "<ipython-input-22-61c95a0fc1b3>:5: SettingWithCopyWarning: \n",
      "A value is trying to be set on a copy of a slice from a DataFrame.\n",
      "Try using .loc[row_indexer,col_indexer] = value instead\n",
      "\n",
      "See the caveats in the documentation: https://pandas.pydata.org/pandas-docs/stable/user_guide/indexing.html#returning-a-view-versus-a-copy\n",
      "  tweet['Tokens'] = tweet['Tokens'].apply(lambda x: lemmatizer_on_text(x))\n"
     ]
    },
    {
     "name": "stdout",
     "output_type": "stream",
     "text": [
      "TRAIN DATA \n",
      " UserName\n",
      "3799                                      [url, url, url]\n",
      "3800    [advice, talk, neighbours, family, exchange, p...\n",
      "3801    [coronavirus, australia, wolworths, give, elde...\n",
      "3802    [fod, stock, not, only, one, empty, please, do...\n",
      "3803    [ready, go, supermarket, covid, outbreak, not,...\n",
      "Name: Tokens, dtype: object\n",
      "\n",
      " TEST DATA \n",
      " UserName\n",
      "1    [trending, new, yorkers, encounter, empty, sup...\n",
      "2    [couldnt, find, hand, sanitizer, fred, meyer, ...\n",
      "3            [find, protect, loved, ones, coronavirus]\n",
      "4    [panic, buying, hits, newyork, city, anxious, ...\n",
      "5    [toiletpaper, dunypaper, coronavirus, coronavi...\n",
      "Name: Tokens, dtype: object\n"
     ]
    }
   ],
   "source": [
    "lm = nltk.stem.WordNetLemmatizer()\n",
    "def lemmatizer_on_text(data):\n",
    "    text = [lm.lemmatize(word) for word in data]\n",
    "    return data\n",
    "tweet['Tokens'] = tweet['Tokens'].apply(lambda x: lemmatizer_on_text(x))\n",
    "test['Tokens'] = test['Tokens'].apply(lambda x: lemmatizer_on_text(x))\n",
    "\n",
    "print('TRAIN DATA \\n', tweet['Tokens'].head())\n",
    "print('\\n TEST DATA \\n', test['Tokens'].head())"
   ]
  },
  {
   "cell_type": "code",
   "execution_count": 23,
   "metadata": {
    "execution": {
     "iopub.execute_input": "2022-01-19T07:59:55.516878Z",
     "iopub.status.busy": "2022-01-19T07:59:55.516638Z",
     "iopub.status.idle": "2022-01-19T08:00:10.381097Z",
     "shell.execute_reply": "2022-01-19T08:00:10.380162Z",
     "shell.execute_reply.started": "2022-01-19T07:59:55.516848Z"
    }
   },
   "outputs": [
    {
     "name": "stderr",
     "output_type": "stream",
     "text": [
      "<ipython-input-23-9e413b8e77ce>:5: SettingWithCopyWarning: \n",
      "A value is trying to be set on a copy of a slice from a DataFrame.\n",
      "Try using .loc[row_indexer,col_indexer] = value instead\n",
      "\n",
      "See the caveats in the documentation: https://pandas.pydata.org/pandas-docs/stable/user_guide/indexing.html#returning-a-view-versus-a-copy\n",
      "  tweet['Tokens']= tweet['Tokens'].apply(lambda x: stemming_on_text(x))\n"
     ]
    },
    {
     "data": {
      "text/plain": [
       "UserName\n",
       "3799                                      [url, url, url]\n",
       "3800    [advice, talk, neighbours, family, exchange, p...\n",
       "3801    [coronavirus, australia, wolworths, give, elde...\n",
       "3802    [fod, stock, not, only, one, empty, please, do...\n",
       "3803    [ready, go, supermarket, covid, outbreak, not,...\n",
       "3804    [news, region, , s, first, confirmed, covid, ...\n",
       "3805    [cashier, grocery, store, sharing, insights, c...\n",
       "3806    [supermarket, today, didnt, buy, toilet, paper...\n",
       "3807    [due, covid, retail, store, clasrom, atlanta, ...\n",
       "3808    [corona, preventionwe, stop, buy, things, cash...\n",
       "Name: Tokens, dtype: object"
      ]
     },
     "execution_count": 23,
     "metadata": {},
     "output_type": "execute_result"
    }
   ],
   "source": [
    "st = nltk.PorterStemmer()\n",
    "def stemming_on_text(data):\n",
    "    text = [st.stem(word) for word in data]\n",
    "    return data\n",
    "tweet['Tokens']= tweet['Tokens'].apply(lambda x: stemming_on_text(x))\n",
    "tweet['Tokens'].head(10)"
   ]
  },
  {
   "cell_type": "code",
   "execution_count": 24,
   "metadata": {
    "execution": {
     "iopub.execute_input": "2022-01-19T08:00:10.383113Z",
     "iopub.status.busy": "2022-01-19T08:00:10.382819Z",
     "iopub.status.idle": "2022-01-19T08:00:10.422627Z",
     "shell.execute_reply": "2022-01-19T08:00:10.421636Z",
     "shell.execute_reply.started": "2022-01-19T08:00:10.383082Z"
    }
   },
   "outputs": [
    {
     "name": "stdout",
     "output_type": "stream",
     "text": [
      "TRAIN DATA \n",
      " UserName\n",
      "3799                                          url url url\n",
      "3800    advice talk neighbours family exchange phone n...\n",
      "3801    coronavirus australia wolworths give elderly d...\n",
      "3802    fod stock not only one empty please dont panic...\n",
      "3803    ready go supermarket covid outbreak not parano...\n",
      "Name: text, dtype: object\n",
      "\n",
      " TEST DATA \n",
      " UserName\n",
      "1    trending new yorkers encounter empty supermark...\n",
      "2    couldnt find hand sanitizer fred meyer turned ...\n",
      "3                  find protect loved ones coronavirus\n",
      "4    panic buying hits newyork city anxious shopers...\n",
      "5    toiletpaper dunypaper coronavirus coronavirusa...\n",
      "Name: text, dtype: object\n"
     ]
    },
    {
     "name": "stderr",
     "output_type": "stream",
     "text": [
      "<ipython-input-24-b431f87894f4>:1: SettingWithCopyWarning: \n",
      "A value is trying to be set on a copy of a slice from a DataFrame.\n",
      "Try using .loc[row_indexer,col_indexer] = value instead\n",
      "\n",
      "See the caveats in the documentation: https://pandas.pydata.org/pandas-docs/stable/user_guide/indexing.html#returning-a-view-versus-a-copy\n",
      "  tweet['text'] = tweet[\"Tokens\"].map(' '.join)\n"
     ]
    }
   ],
   "source": [
    "tweet['text'] = tweet[\"Tokens\"].map(' '.join)\n",
    "test['text'] = test[\"Tokens\"].map(' '.join)\n",
    "\n",
    "print('TRAIN DATA \\n', tweet['text'].head())\n",
    "print('\\n TEST DATA \\n', test['text'].head())"
   ]
  },
  {
   "cell_type": "code",
   "execution_count": 25,
   "metadata": {
    "execution": {
     "iopub.execute_input": "2022-01-19T08:00:10.424110Z",
     "iopub.status.busy": "2022-01-19T08:00:10.423890Z",
     "iopub.status.idle": "2022-01-19T08:00:10.642156Z",
     "shell.execute_reply": "2022-01-19T08:00:10.641113Z",
     "shell.execute_reply.started": "2022-01-19T08:00:10.424083Z"
    }
   },
   "outputs": [
    {
     "name": "stdout",
     "output_type": "stream",
     "text": [
      "TRAIN DATA \n",
      " UserName\n",
      "3799                                          url url url\n",
      "3800    advice talk neighbours family exchange phone n...\n",
      "3801    coronavirus australia wolworths give elderly d...\n",
      "3802    fod stock not only one empty please dont panic...\n",
      "3803    ready go supermarket covid outbreak not parano...\n",
      "Name: text, dtype: object\n",
      "\n",
      " TEST DATA \n",
      " UserName\n",
      "1    trending new yorkers encounter empty supermark...\n",
      "2    couldnt find hand sanitizer fred meyer turned ...\n",
      "3                  find protect loved ones coronavirus\n",
      "4    panic buying hits newyork city anxious shopers...\n",
      "5    toiletpaper dunypaper coronavirus coronavirusa...\n",
      "Name: text, dtype: object\n"
     ]
    },
    {
     "name": "stderr",
     "output_type": "stream",
     "text": [
      "<ipython-input-25-ad510adabaa2>:4: SettingWithCopyWarning: \n",
      "A value is trying to be set on a copy of a slice from a DataFrame.\n",
      "Try using .loc[row_indexer,col_indexer] = value instead\n",
      "\n",
      "See the caveats in the documentation: https://pandas.pydata.org/pandas-docs/stable/user_guide/indexing.html#returning-a-view-versus-a-copy\n",
      "  tweet['text'] = tweet['text'].apply(lambda text: cleaning_stopwords(text))\n"
     ]
    }
   ],
   "source": [
    "STOPWORDS = set(stop_words)\n",
    "def cleaning_stopwords(text):\n",
    "    return \" \".join([word for word in str(text).split() if word not in STOPWORDS])\n",
    "tweet['text'] = tweet['text'].apply(lambda text: cleaning_stopwords(text))\n",
    "test['text'] = test['text'].apply(lambda text: cleaning_stopwords(text))\n",
    "\n",
    "print('TRAIN DATA \\n', tweet['text'].head())\n",
    "print('\\n TEST DATA \\n', test['text'].head())"
   ]
  },
  {
   "cell_type": "code",
   "execution_count": 26,
   "metadata": {},
   "outputs": [
    {
     "name": "stdout",
     "output_type": "stream",
     "text": [
      "Requirement already satisfied: textblob in /Users/Ling/opt/anaconda3/lib/python3.8/site-packages (0.17.1)\n",
      "Requirement already satisfied: nltk>=3.1 in /Users/Ling/opt/anaconda3/lib/python3.8/site-packages (from textblob) (3.6.1)\n",
      "Requirement already satisfied: joblib in /Users/Ling/opt/anaconda3/lib/python3.8/site-packages (from nltk>=3.1->textblob) (1.0.1)\n",
      "Requirement already satisfied: click in /Users/Ling/opt/anaconda3/lib/python3.8/site-packages (from nltk>=3.1->textblob) (7.1.2)\n",
      "Requirement already satisfied: tqdm in /Users/Ling/opt/anaconda3/lib/python3.8/site-packages (from nltk>=3.1->textblob) (4.59.0)\n",
      "Requirement already satisfied: regex in /Users/Ling/opt/anaconda3/lib/python3.8/site-packages (from nltk>=3.1->textblob) (2021.4.4)\n"
     ]
    }
   ],
   "source": [
    "!pip install textblob"
   ]
  },
  {
   "cell_type": "code",
   "execution_count": 27,
   "metadata": {
    "execution": {
     "iopub.execute_input": "2022-01-19T08:00:10.643798Z",
     "iopub.status.busy": "2022-01-19T08:00:10.643544Z",
     "iopub.status.idle": "2022-01-19T08:00:20.864179Z",
     "shell.execute_reply": "2022-01-19T08:00:20.863185Z",
     "shell.execute_reply.started": "2022-01-19T08:00:10.643765Z"
    }
   },
   "outputs": [],
   "source": [
    "#Adding dimensions with textblob\n",
    "#TextBlob Features\n",
    "from textblob import TextBlob\n",
    "\n",
    "def tb_enrich(ls):\n",
    "    #Enriches a column of text with TextBlob Sentiment Analysis outputs\n",
    "    tb_polarity = []\n",
    "    tb_subject = []\n",
    "\n",
    "    for tweet in ls:\n",
    "        sentiment = TextBlob(tweet).sentiment\n",
    "        tb_polarity.append(sentiment[0])\n",
    "        tb_subject.append(sentiment[1])\n",
    "    \n",
    "\n",
    "    return tb_polarity, tb_subject\n",
    "    \n",
    "tweet[\"Polarity\"], tweet[\"Subjectivity\"] = tb_enrich(list(tweet[\"text\"]))\n",
    "test[\"Polarity\"], test[\"Subjectivity\"] = tb_enrich(list(test[\"text\"]))"
   ]
  },
  {
   "cell_type": "code",
   "execution_count": 28,
   "metadata": {
    "execution": {
     "iopub.execute_input": "2022-01-19T08:00:20.865695Z",
     "iopub.status.busy": "2022-01-19T08:00:20.865444Z",
     "iopub.status.idle": "2022-01-19T08:00:20.897726Z",
     "shell.execute_reply": "2022-01-19T08:00:20.896850Z",
     "shell.execute_reply.started": "2022-01-19T08:00:20.865663Z"
    }
   },
   "outputs": [
    {
     "data": {
      "text/html": [
       "<div>\n",
       "<style scoped>\n",
       "    .dataframe tbody tr th:only-of-type {\n",
       "        vertical-align: middle;\n",
       "    }\n",
       "\n",
       "    .dataframe tbody tr th {\n",
       "        vertical-align: top;\n",
       "    }\n",
       "\n",
       "    .dataframe thead th {\n",
       "        text-align: right;\n",
       "    }\n",
       "</style>\n",
       "<table border=\"1\" class=\"dataframe\">\n",
       "  <thead>\n",
       "    <tr style=\"text-align: right;\">\n",
       "      <th></th>\n",
       "      <th>Polarity</th>\n",
       "      <th>Subjectivity</th>\n",
       "    </tr>\n",
       "  </thead>\n",
       "  <tbody>\n",
       "    <tr>\n",
       "      <th>count</th>\n",
       "      <td>41157.000000</td>\n",
       "      <td>41157.000000</td>\n",
       "    </tr>\n",
       "    <tr>\n",
       "      <th>mean</th>\n",
       "      <td>0.070293</td>\n",
       "      <td>0.345353</td>\n",
       "    </tr>\n",
       "    <tr>\n",
       "      <th>std</th>\n",
       "      <td>0.236828</td>\n",
       "      <td>0.285031</td>\n",
       "    </tr>\n",
       "    <tr>\n",
       "      <th>min</th>\n",
       "      <td>-1.000000</td>\n",
       "      <td>0.000000</td>\n",
       "    </tr>\n",
       "    <tr>\n",
       "      <th>25%</th>\n",
       "      <td>0.000000</td>\n",
       "      <td>0.000000</td>\n",
       "    </tr>\n",
       "    <tr>\n",
       "      <th>50%</th>\n",
       "      <td>0.000000</td>\n",
       "      <td>0.363889</td>\n",
       "    </tr>\n",
       "    <tr>\n",
       "      <th>75%</th>\n",
       "      <td>0.200000</td>\n",
       "      <td>0.523810</td>\n",
       "    </tr>\n",
       "    <tr>\n",
       "      <th>max</th>\n",
       "      <td>1.000000</td>\n",
       "      <td>1.000000</td>\n",
       "    </tr>\n",
       "  </tbody>\n",
       "</table>\n",
       "</div>"
      ],
      "text/plain": [
       "           Polarity  Subjectivity\n",
       "count  41157.000000  41157.000000\n",
       "mean       0.070293      0.345353\n",
       "std        0.236828      0.285031\n",
       "min       -1.000000      0.000000\n",
       "25%        0.000000      0.000000\n",
       "50%        0.000000      0.363889\n",
       "75%        0.200000      0.523810\n",
       "max        1.000000      1.000000"
      ]
     },
     "execution_count": 28,
     "metadata": {},
     "output_type": "execute_result"
    }
   ],
   "source": [
    "tweet.describe()"
   ]
  },
  {
   "cell_type": "code",
   "execution_count": 29,
   "metadata": {
    "execution": {
     "iopub.execute_input": "2022-01-19T08:00:20.899377Z",
     "iopub.status.busy": "2022-01-19T08:00:20.899066Z",
     "iopub.status.idle": "2022-01-19T08:00:23.273492Z",
     "shell.execute_reply": "2022-01-19T08:00:23.272467Z",
     "shell.execute_reply.started": "2022-01-19T08:00:20.899344Z"
    }
   },
   "outputs": [
    {
     "name": "stdout",
     "output_type": "stream",
     "text": [
      "# of feature names 3652\n",
      "['amazon', 'atendants', 'biding', 'ca', 'checking', 'comisioner', 'coronavirusuk', 'dad', 'disaster', 'easier', 'everywhere', 'fears', 'fot', 'gone', 'helo', 'ignorant', 'ireland', 'layofs', 'lovely', 'mesages', 'neded', 'operation', 'pensylvania', 'post', 'provide', 'recent', 'reusable', 'science', 'show', 'speaks', 'strategic', 'tax', 'tonight', 'unilever', 'wana', 'word']\n"
     ]
    }
   ],
   "source": [
    "from sklearn.feature_extraction.text import CountVectorizer  \n",
    "from sklearn.model_selection import train_test_split \n",
    "\n",
    "X = tweet['text'] \n",
    "y = tweet['Sentiment']\n",
    "\n",
    "Count_vect = CountVectorizer(ngram_range=(1, 1), max_df=0.1, min_df=20)\n",
    "\n",
    "X_train, X_test, y_train, y_test = train_test_split(X, y, test_size = 0.15, random_state = 42)\n",
    "Count_train = Count_vect.fit_transform(X_train).toarray()\n",
    "Count_test = Count_vect.transform(X_test).toarray()\n",
    "\n",
    "# Print the features\n",
    "print('# of feature names', len(Count_vect.get_feature_names()))\n",
    "print(Count_vect.get_feature_names()[99::100])"
   ]
  },
  {
   "cell_type": "code",
   "execution_count": 30,
   "metadata": {
    "execution": {
     "iopub.execute_input": "2022-01-19T08:00:23.278915Z",
     "iopub.status.busy": "2022-01-19T08:00:23.278544Z",
     "iopub.status.idle": "2022-01-19T08:00:23.282475Z",
     "shell.execute_reply": "2022-01-19T08:00:23.281839Z",
     "shell.execute_reply.started": "2022-01-19T08:00:23.278861Z"
    }
   },
   "outputs": [],
   "source": [
    "# #Tokenisation\n",
    "# from tensorflow.keras.preprocessing.text import Tokenizer\n",
    "\n",
    "# #Define the Tokeniser\n",
    "# tokenizer = Tokenizer(num_words=3000, lower=True)\n",
    "\n",
    "# #Create the corpus by finding the most common \n",
    "# tokenizer.fit_on_texts(tweet[\"text\"])\n",
    "\n",
    "# ##Train\n",
    "# #Tokenise our column of edited Tweet content\n",
    "# tweet_tokens = tokenizer.texts_to_matrix(list(tweet[\"text\"]))\n",
    "\n",
    "# #Test\n",
    "# #Tokenise our column of edited Tweet content\n",
    "# tweet_tokens_test = tokenizer.texts_to_matrix(list(test[\"text\"]))\n"
   ]
  },
  {
   "cell_type": "code",
   "execution_count": 31,
   "metadata": {
    "execution": {
     "iopub.execute_input": "2022-01-19T08:00:23.283919Z",
     "iopub.status.busy": "2022-01-19T08:00:23.283391Z",
     "iopub.status.idle": "2022-01-19T08:00:23.296818Z",
     "shell.execute_reply": "2022-01-19T08:00:23.295819Z",
     "shell.execute_reply.started": "2022-01-19T08:00:23.283878Z"
    }
   },
   "outputs": [],
   "source": [
    "#Combining the dataframe with the tokens using pd.concat\n",
    "\n",
    "#Reset axes to avoid overlapping\n",
    "# tweet.reset_index(drop=True, inplace=True)\n",
    "# test.reset_index(drop=True, inplace=True)\n",
    "\n",
    "##Train\n",
    "# full_train = pd.concat([tweet[['Polarity', 'Subjectivity']], pd.DataFrame(tweet_tokens)], sort=False, axis=1)"
   ]
  },
  {
   "cell_type": "code",
   "execution_count": 32,
   "metadata": {
    "execution": {
     "iopub.execute_input": "2022-01-19T08:00:23.298582Z",
     "iopub.status.busy": "2022-01-19T08:00:23.298272Z",
     "iopub.status.idle": "2022-01-19T08:00:23.308733Z",
     "shell.execute_reply": "2022-01-19T08:00:23.307955Z",
     "shell.execute_reply.started": "2022-01-19T08:00:23.298541Z"
    }
   },
   "outputs": [],
   "source": [
    "# full_train.head()"
   ]
  },
  {
   "cell_type": "code",
   "execution_count": 33,
   "metadata": {
    "execution": {
     "iopub.execute_input": "2022-01-19T08:00:23.310657Z",
     "iopub.status.busy": "2022-01-19T08:00:23.310139Z",
     "iopub.status.idle": "2022-01-19T08:00:23.322627Z",
     "shell.execute_reply": "2022-01-19T08:00:23.321429Z",
     "shell.execute_reply.started": "2022-01-19T08:00:23.310624Z"
    }
   },
   "outputs": [],
   "source": [
    "# ##Train\n",
    "# full_train2 = \n",
    "# full_train2.head()\n",
    "\n",
    "# full_test2 = \n",
    "# full_train.head()"
   ]
  },
  {
   "cell_type": "code",
   "execution_count": 74,
   "metadata": {
    "execution": {
     "iopub.execute_input": "2022-01-19T08:00:23.324963Z",
     "iopub.status.busy": "2022-01-19T08:00:23.324246Z",
     "iopub.status.idle": "2022-01-19T08:00:23.357311Z",
     "shell.execute_reply": "2022-01-19T08:00:23.356598Z",
     "shell.execute_reply.started": "2022-01-19T08:00:23.324913Z"
    }
   },
   "outputs": [
    {
     "name": "stdout",
     "output_type": "stream",
     "text": [
      "[2 0 2 1]\n",
      "['Negative' 'Neutral' 'Positive']\n"
     ]
    },
    {
     "data": {
      "text/plain": [
       "array([1, 0, 2])"
      ]
     },
     "execution_count": 74,
     "metadata": {},
     "output_type": "execute_result"
    }
   ],
   "source": [
    "#Define the indexing for each possible label in a dictionary\n",
    "class_to_index = {\"Neutral\":1, \"Positive\":2, \"Negative\":0,\"Extremely Negative\":0, \"Extremely Positive\": 2}\n",
    "\n",
    "#Creates a reverse dictionary\n",
    "index_to_class = {1: \"Neutral\", 2: \"Positive\", 0: \"Negative\"}\n",
    "\n",
    "#Creates lambda functions, applying the appropriate dictionary\n",
    "names_to_ids = lambda n: np.array([class_to_index.get(x) for x in n])\n",
    "ids_to_names = lambda n: np.array([index_to_class.get(x) for x in n])\n",
    "\n",
    "#Test each function\n",
    "print(names_to_ids([\"Extremely Positive\", \"Negative\", \"Positive\", \"Neutral\"]))\n",
    "print(ids_to_names([0,1,2]))\n",
    "\n",
    "\n",
    "#Convert the \"Sentiment\" column into indexes\n",
    "y_train_id = names_to_ids(y_train)\n",
    "y_test_id = names_to_ids(y_test)\n",
    "\n",
    "y_test_id[0:3]"
   ]
  },
  {
   "cell_type": "code",
   "execution_count": 75,
   "metadata": {
    "execution": {
     "iopub.execute_input": "2022-01-19T08:00:23.358963Z",
     "iopub.status.busy": "2022-01-19T08:00:23.358577Z",
     "iopub.status.idle": "2022-01-19T08:00:23.363520Z",
     "shell.execute_reply": "2022-01-19T08:00:23.362983Z",
     "shell.execute_reply.started": "2022-01-19T08:00:23.358926Z"
    }
   },
   "outputs": [
    {
     "data": {
      "text/plain": [
       "(6174,)"
      ]
     },
     "execution_count": 75,
     "metadata": {},
     "output_type": "execute_result"
    }
   ],
   "source": [
    "y_test_id.shape"
   ]
  },
  {
   "cell_type": "code",
   "execution_count": 39,
   "metadata": {},
   "outputs": [
    {
     "name": "stdout",
     "output_type": "stream",
     "text": [
      "Collecting tensorflow\n",
      "  Downloading tensorflow-2.7.0-cp38-cp38-macosx_10_11_x86_64.whl (207.1 MB)\n",
      "\u001b[K     |████████████████████████████████| 207.1 MB 61 kB/s  eta 0:00:012   |███████████████                 | 97.6 MB 964 kB/s eta 0:01:54     |██████████████████████████      | 168.7 MB 2.2 MB/s eta 0:00:18     |██████████████████████████▌     | 171.7 MB 3.4 MB/s eta 0:00:11     |██████████████████████████▊     | 172.8 MB 3.4 MB/s eta 0:00:11\n",
      "\u001b[?25hCollecting tensorflow-estimator<2.8,~=2.7.0rc0\n",
      "  Downloading tensorflow_estimator-2.7.0-py2.py3-none-any.whl (463 kB)\n",
      "\u001b[K     |████████████████████████████████| 463 kB 4.3 MB/s eta 0:00:01\n",
      "\u001b[?25hCollecting flatbuffers<3.0,>=1.12\n",
      "  Downloading flatbuffers-2.0-py2.py3-none-any.whl (26 kB)\n",
      "Collecting keras-preprocessing>=1.1.1\n",
      "  Downloading Keras_Preprocessing-1.1.2-py2.py3-none-any.whl (42 kB)\n",
      "\u001b[K     |████████████████████████████████| 42 kB 2.6 MB/s eta 0:00:01\n",
      "\u001b[?25hCollecting grpcio<2.0,>=1.24.3\n",
      "  Downloading grpcio-1.43.0-cp38-cp38-macosx_10_10_x86_64.whl (4.2 MB)\n",
      "\u001b[K     |████████████████████████████████| 4.2 MB 2.6 MB/s eta 0:00:01\n",
      "\u001b[?25hRequirement already satisfied: numpy>=1.14.5 in /Users/Ling/opt/anaconda3/lib/python3.8/site-packages (from tensorflow) (1.20.1)\n",
      "Requirement already satisfied: h5py>=2.9.0 in /Users/Ling/opt/anaconda3/lib/python3.8/site-packages (from tensorflow) (2.10.0)\n",
      "Collecting termcolor>=1.1.0\n",
      "  Downloading termcolor-1.1.0.tar.gz (3.9 kB)\n",
      "Collecting absl-py>=0.4.0\n",
      "  Downloading absl_py-1.0.0-py3-none-any.whl (126 kB)\n",
      "\u001b[K     |████████████████████████████████| 126 kB 301 kB/s eta 0:00:01\n",
      "\u001b[?25hCollecting opt-einsum>=2.3.2\n",
      "  Downloading opt_einsum-3.3.0-py3-none-any.whl (65 kB)\n",
      "\u001b[K     |████████████████████████████████| 65 kB 584 kB/s eta 0:00:01\n",
      "\u001b[?25hCollecting libclang>=9.0.1\n",
      "  Downloading libclang-12.0.0-2-py2.py3-none-macosx_10_9_x86_64.whl (12.2 MB)\n",
      "\u001b[K     |████████████████████████████████| 12.2 MB 1.1 MB/s eta 0:00:01\n",
      "\u001b[?25hRequirement already satisfied: wheel<1.0,>=0.32.0 in /Users/Ling/opt/anaconda3/lib/python3.8/site-packages (from tensorflow) (0.36.2)\n",
      "Collecting astunparse>=1.6.0\n",
      "  Downloading astunparse-1.6.3-py2.py3-none-any.whl (12 kB)\n",
      "Requirement already satisfied: typing-extensions>=3.6.6 in /Users/Ling/opt/anaconda3/lib/python3.8/site-packages (from tensorflow) (3.7.4.3)\n",
      "Collecting tensorboard~=2.6\n",
      "  Downloading tensorboard-2.7.0-py3-none-any.whl (5.8 MB)\n",
      "\u001b[K     |████████████████████████████████| 5.8 MB 2.9 MB/s eta 0:00:01\n",
      "\u001b[?25hCollecting protobuf>=3.9.2\n",
      "  Downloading protobuf-3.19.3-cp38-cp38-macosx_10_9_x86_64.whl (1.0 MB)\n",
      "\u001b[K     |████████████████████████████████| 1.0 MB 4.0 MB/s eta 0:00:01\n",
      "\u001b[?25hCollecting google-pasta>=0.1.1\n",
      "  Downloading google_pasta-0.2.0-py3-none-any.whl (57 kB)\n",
      "\u001b[K     |████████████████████████████████| 57 kB 5.2 MB/s eta 0:00:01\n",
      "\u001b[?25hRequirement already satisfied: six>=1.12.0 in /Users/Ling/opt/anaconda3/lib/python3.8/site-packages (from tensorflow) (1.15.0)\n",
      "Collecting keras<2.8,>=2.7.0rc0\n",
      "  Downloading keras-2.7.0-py2.py3-none-any.whl (1.3 MB)\n",
      "\u001b[K     |████████████████████████████████| 1.3 MB 3.6 MB/s eta 0:00:01\n",
      "\u001b[?25hRequirement already satisfied: wrapt>=1.11.0 in /Users/Ling/opt/anaconda3/lib/python3.8/site-packages (from tensorflow) (1.12.1)\n",
      "Collecting gast<0.5.0,>=0.2.1\n",
      "  Downloading gast-0.4.0-py3-none-any.whl (9.8 kB)\n",
      "Collecting tensorflow-io-gcs-filesystem>=0.21.0\n",
      "  Downloading tensorflow_io_gcs_filesystem-0.23.1-cp38-cp38-macosx_10_14_x86_64.whl (1.6 MB)\n",
      "\u001b[K     |████████████████████████████████| 1.6 MB 3.4 MB/s eta 0:00:01\n",
      "\u001b[?25hCollecting tensorboard-data-server<0.7.0,>=0.6.0\n",
      "  Downloading tensorboard_data_server-0.6.1-py3-none-macosx_10_9_x86_64.whl (3.5 MB)\n",
      "\u001b[K     |████████████████████████████████| 3.5 MB 3.4 MB/s eta 0:00:01\n",
      "\u001b[?25hCollecting google-auth<3,>=1.6.3\n",
      "  Downloading google_auth-2.3.3-py2.py3-none-any.whl (155 kB)\n",
      "\u001b[K     |████████████████████████████████| 155 kB 4.5 MB/s eta 0:00:01\n",
      "\u001b[?25hCollecting markdown>=2.6.8\n",
      "  Downloading Markdown-3.3.6-py3-none-any.whl (97 kB)\n",
      "\u001b[K     |████████████████████████████████| 97 kB 4.1 MB/s eta 0:00:01\n",
      "\u001b[?25hRequirement already satisfied: requests<3,>=2.21.0 in /Users/Ling/opt/anaconda3/lib/python3.8/site-packages (from tensorboard~=2.6->tensorflow) (2.25.1)\n",
      "Requirement already satisfied: setuptools>=41.0.0 in /Users/Ling/opt/anaconda3/lib/python3.8/site-packages (from tensorboard~=2.6->tensorflow) (52.0.0.post20210125)\n",
      "Requirement already satisfied: werkzeug>=0.11.15 in /Users/Ling/opt/anaconda3/lib/python3.8/site-packages (from tensorboard~=2.6->tensorflow) (1.0.1)\n",
      "Collecting google-auth-oauthlib<0.5,>=0.4.1\n",
      "  Downloading google_auth_oauthlib-0.4.6-py2.py3-none-any.whl (18 kB)\n",
      "Collecting tensorboard-plugin-wit>=1.6.0\n",
      "  Downloading tensorboard_plugin_wit-1.8.1-py3-none-any.whl (781 kB)\n",
      "\u001b[K     |████████████████████████████████| 781 kB 6.4 MB/s eta 0:00:01\n",
      "\u001b[?25hCollecting rsa<5,>=3.1.4\n",
      "  Downloading rsa-4.8-py3-none-any.whl (39 kB)\n",
      "Collecting pyasn1-modules>=0.2.1\n",
      "  Downloading pyasn1_modules-0.2.8-py2.py3-none-any.whl (155 kB)\n",
      "\u001b[K     |████████████████████████████████| 155 kB 4.0 MB/s eta 0:00:01\n",
      "\u001b[?25hCollecting cachetools<5.0,>=2.0.0\n",
      "  Downloading cachetools-4.2.4-py3-none-any.whl (10 kB)\n",
      "Collecting requests-oauthlib>=0.7.0\n",
      "  Downloading requests_oauthlib-1.3.0-py2.py3-none-any.whl (23 kB)\n",
      "Collecting importlib-metadata>=4.4\n",
      "  Downloading importlib_metadata-4.10.1-py3-none-any.whl (17 kB)\n",
      "Requirement already satisfied: zipp>=0.5 in /Users/Ling/opt/anaconda3/lib/python3.8/site-packages (from importlib-metadata>=4.4->markdown>=2.6.8->tensorboard~=2.6->tensorflow) (3.4.1)\n",
      "Collecting pyasn1<0.5.0,>=0.4.6\n",
      "  Downloading pyasn1-0.4.8-py2.py3-none-any.whl (77 kB)\n",
      "\u001b[K     |████████████████████████████████| 77 kB 2.6 MB/s eta 0:00:01\n",
      "\u001b[?25hRequirement already satisfied: idna<3,>=2.5 in /Users/Ling/opt/anaconda3/lib/python3.8/site-packages (from requests<3,>=2.21.0->tensorboard~=2.6->tensorflow) (2.10)\n",
      "Requirement already satisfied: certifi>=2017.4.17 in /Users/Ling/opt/anaconda3/lib/python3.8/site-packages (from requests<3,>=2.21.0->tensorboard~=2.6->tensorflow) (2020.12.5)\n",
      "Requirement already satisfied: urllib3<1.27,>=1.21.1 in /Users/Ling/opt/anaconda3/lib/python3.8/site-packages (from requests<3,>=2.21.0->tensorboard~=2.6->tensorflow) (1.26.4)\n",
      "Requirement already satisfied: chardet<5,>=3.0.2 in /Users/Ling/opt/anaconda3/lib/python3.8/site-packages (from requests<3,>=2.21.0->tensorboard~=2.6->tensorflow) (4.0.0)\n",
      "Collecting oauthlib>=3.0.0\n",
      "  Downloading oauthlib-3.1.1-py2.py3-none-any.whl (146 kB)\n",
      "\u001b[K     |████████████████████████████████| 146 kB 3.7 MB/s eta 0:00:01\n",
      "\u001b[?25hBuilding wheels for collected packages: termcolor\n",
      "  Building wheel for termcolor (setup.py) ... \u001b[?25ldone\n",
      "\u001b[?25h  Created wheel for termcolor: filename=termcolor-1.1.0-py3-none-any.whl size=4829 sha256=60bc995f4d16aa5736d6afde843e9423023efd9771d973ebd413459fa3c01ce9\n",
      "  Stored in directory: /Users/Ling/Library/Caches/pip/wheels/a0/16/9c/5473df82468f958445479c59e784896fa24f4a5fc024b0f501\n",
      "Successfully built termcolor\n",
      "Installing collected packages: pyasn1, rsa, pyasn1-modules, oauthlib, cachetools, requests-oauthlib, importlib-metadata, google-auth, tensorboard-plugin-wit, tensorboard-data-server, protobuf, markdown, grpcio, google-auth-oauthlib, absl-py, termcolor, tensorflow-io-gcs-filesystem, tensorflow-estimator, tensorboard, opt-einsum, libclang, keras-preprocessing, keras, google-pasta, gast, flatbuffers, astunparse, tensorflow\n",
      "  Attempting uninstall: importlib-metadata\n",
      "    Found existing installation: importlib-metadata 3.10.0\n",
      "    Uninstalling importlib-metadata-3.10.0:\n",
      "      Successfully uninstalled importlib-metadata-3.10.0\n",
      "Successfully installed absl-py-1.0.0 astunparse-1.6.3 cachetools-4.2.4 flatbuffers-2.0 gast-0.4.0 google-auth-2.3.3 google-auth-oauthlib-0.4.6 google-pasta-0.2.0 grpcio-1.43.0 importlib-metadata-4.10.1 keras-2.7.0 keras-preprocessing-1.1.2 libclang-12.0.0 markdown-3.3.6 oauthlib-3.1.1 opt-einsum-3.3.0 protobuf-3.19.3 pyasn1-0.4.8 pyasn1-modules-0.2.8 requests-oauthlib-1.3.0 rsa-4.8 tensorboard-2.7.0 tensorboard-data-server-0.6.1 tensorboard-plugin-wit-1.8.1 tensorflow-2.7.0 tensorflow-estimator-2.7.0 tensorflow-io-gcs-filesystem-0.23.1 termcolor-1.1.0\n"
     ]
    }
   ],
   "source": [
    "#!pip install tensorflow"
   ]
  },
  {
   "cell_type": "code",
   "execution_count": 76,
   "metadata": {
    "execution": {
     "iopub.execute_input": "2022-01-19T08:00:23.364856Z",
     "iopub.status.busy": "2022-01-19T08:00:23.364602Z",
     "iopub.status.idle": "2022-01-19T08:00:25.403775Z",
     "shell.execute_reply": "2022-01-19T08:00:25.403066Z",
     "shell.execute_reply.started": "2022-01-19T08:00:23.364819Z"
    }
   },
   "outputs": [],
   "source": [
    "import tensorflow as tf\n",
    "train_tf = tf.convert_to_tensor(Count_train)\n",
    "test_tf = tf.convert_to_tensor(Count_test)"
   ]
  },
  {
   "cell_type": "code",
   "execution_count": 77,
   "metadata": {
    "execution": {
     "iopub.execute_input": "2022-01-19T08:00:25.404840Z",
     "iopub.status.busy": "2022-01-19T08:00:25.404618Z",
     "iopub.status.idle": "2022-01-19T08:00:25.419406Z",
     "shell.execute_reply": "2022-01-19T08:00:25.418588Z",
     "shell.execute_reply.started": "2022-01-19T08:00:25.404812Z"
    }
   },
   "outputs": [
    {
     "data": {
      "text/plain": [
       "TensorShape([34983, 3652])"
      ]
     },
     "execution_count": 77,
     "metadata": {},
     "output_type": "execute_result"
    }
   ],
   "source": [
    "train_tf.shape"
   ]
  },
  {
   "cell_type": "code",
   "execution_count": 78,
   "metadata": {},
   "outputs": [],
   "source": [
    "# from sklearn.utils import class_weight\n",
    "# class_weights = class_weight.compute_class_weight('balanced',\n",
    "#                                                  np.unique(y_train_id),\n",
    "#                                                  y_train_id)"
   ]
  },
  {
   "cell_type": "code",
   "execution_count": 112,
   "metadata": {
    "execution": {
     "iopub.execute_input": "2022-01-19T08:29:05.059464Z",
     "iopub.status.busy": "2022-01-19T08:29:05.059176Z",
     "iopub.status.idle": "2022-01-19T08:29:05.109121Z",
     "shell.execute_reply": "2022-01-19T08:29:05.108296Z",
     "shell.execute_reply.started": "2022-01-19T08:29:05.059435Z"
    }
   },
   "outputs": [],
   "source": [
    "#Tensorflow / Keras\n",
    "import tensorflow as tf\n",
    "\n",
    "model = tf.keras.models.Sequential([\n",
    "    tf.keras.layers.Dense(6, input_dim=3652, activation='relu'),\n",
    "    tf.keras.layers.Dense(9, activation='relu'),\n",
    "    #tf.keras.layers.Dense(50, activation='relu'),\n",
    "    tf.keras.layers.Dropout(0.2),\n",
    "    tf.keras.layers.Dense(9, activation='relu'),\n",
    "    #tf.keras.layers.Dense(50, activation='relu'),\n",
    "    tf.keras.layers.Dense(3, activation='softmax')\n",
    "])\n",
    "\n",
    "#Compile the model so it can be trained\n",
    "model.compile(\n",
    "     loss='sparse_categorical_crossentropy',\n",
    "     optimizer='adam',\n",
    "     metrics=['accuracy']\n",
    ")"
   ]
  },
  {
   "cell_type": "code",
   "execution_count": 113,
   "metadata": {
    "execution": {
     "iopub.execute_input": "2022-01-19T08:29:11.375044Z",
     "iopub.status.busy": "2022-01-19T08:29:11.372403Z",
     "iopub.status.idle": "2022-01-19T08:29:27.022714Z",
     "shell.execute_reply": "2022-01-19T08:29:27.022041Z",
     "shell.execute_reply.started": "2022-01-19T08:29:11.374992Z"
    }
   },
   "outputs": [
    {
     "name": "stdout",
     "output_type": "stream",
     "text": [
      "Epoch 1/3\n",
      "1094/1094 [==============================] - 5s 4ms/step - loss: 0.8075 - accuracy: 0.6434\n",
      "Epoch 2/3\n",
      "1094/1094 [==============================] - 4s 4ms/step - loss: 0.5557 - accuracy: 0.7971\n",
      "Epoch 3/3\n",
      "1094/1094 [==============================] - 4s 4ms/step - loss: 0.4576 - accuracy: 0.8412\n"
     ]
    }
   ],
   "source": [
    "h = model.fit(\n",
    "     train_tf, y_train_id, #class_weight=class_weights,\n",
    "     epochs=3,\n",
    "     callbacks=[tf.keras.callbacks.EarlyStopping(monitor='accuracy', patience=5)]\n",
    ")\n"
   ]
  },
  {
   "cell_type": "code",
   "execution_count": 114,
   "metadata": {
    "execution": {
     "iopub.execute_input": "2022-01-19T08:29:39.758477Z",
     "iopub.status.busy": "2022-01-19T08:29:39.757984Z",
     "iopub.status.idle": "2022-01-19T08:29:40.122321Z",
     "shell.execute_reply": "2022-01-19T08:29:40.121403Z",
     "shell.execute_reply.started": "2022-01-19T08:29:39.758429Z"
    }
   },
   "outputs": [
    {
     "name": "stdout",
     "output_type": "stream",
     "text": [
      "[[0.81006071 0.06157849 0.1283608 ]\n",
      " [0.12670068 0.75935374 0.11394558]\n",
      " [0.08580981 0.05720654 0.85698366]]\n"
     ]
    }
   ],
   "source": [
    "#Generate predictions\n",
    "\n",
    "y_pred = np.argmax(model.predict(test_tf), axis=1)\n",
    "\n",
    "cm = confusion_matrix(y_test_id, y_pred, normalize = 'true')\n",
    "\n",
    "print(cm)"
   ]
  },
  {
   "cell_type": "code",
   "execution_count": 115,
   "metadata": {},
   "outputs": [
    {
     "name": "stdout",
     "output_type": "stream",
     "text": [
      "              precision    recall  f1-score   support\n",
      "\n",
      "           0       0.83      0.81      0.82      2306\n",
      "           1       0.75      0.76      0.76      1176\n",
      "           2       0.84      0.86      0.85      2692\n",
      "\n",
      "    accuracy                           0.82      6174\n",
      "   macro avg       0.81      0.81      0.81      6174\n",
      "weighted avg       0.82      0.82      0.82      6174\n",
      "\n"
     ]
    }
   ],
   "source": [
    "print(classification_report(y_test_id, y_pred))"
   ]
  },
  {
   "cell_type": "code",
   "execution_count": 107,
   "metadata": {
    "execution": {
     "iopub.execute_input": "2022-01-19T08:16:37.632926Z",
     "iopub.status.busy": "2022-01-19T08:16:37.632439Z",
     "iopub.status.idle": "2022-01-19T08:16:37.644720Z",
     "shell.execute_reply": "2022-01-19T08:16:37.644075Z",
     "shell.execute_reply.started": "2022-01-19T08:16:37.632881Z"
    }
   },
   "outputs": [],
   "source": [
    "y_pred_labels = ids_to_names(y_pred)\n",
    "y_test_labels = ids_to_names(y_test_id)"
   ]
  },
  {
   "cell_type": "code",
   "execution_count": 108,
   "metadata": {
    "execution": {
     "iopub.execute_input": "2022-01-19T08:22:31.212809Z",
     "iopub.status.busy": "2022-01-19T08:22:31.212464Z",
     "iopub.status.idle": "2022-01-19T08:22:31.570799Z",
     "shell.execute_reply": "2022-01-19T08:22:31.569797Z",
     "shell.execute_reply.started": "2022-01-19T08:22:31.212776Z"
    }
   },
   "outputs": [
    {
     "data": {
      "text/plain": [
       "<sklearn.metrics._plot.confusion_matrix.ConfusionMatrixDisplay at 0x7ff4809a0eb0>"
      ]
     },
     "execution_count": 108,
     "metadata": {},
     "output_type": "execute_result"
    },
    {
     "data": {
      "image/png": "[encoded data removed]",
      "text/plain": [
       "<Figure size 432x288 with 2 Axes>"
      ]
     },
     "metadata": {
      "needs_background": "light"
     },
     "output_type": "display_data"
    }
   ],
   "source": [
    "y_unique = [\"Negative\", \"Neutral\", \"Positive\"]\n",
    "cm = confusion_matrix(y_test_labels, y_pred_labels, labels = y_unique, normalize='true')\n",
    "\n",
    "disp = ConfusionMatrixDisplay(confusion_matrix=cm, display_labels=y_unique)\n",
    "disp.plot(xticks_rotation='vertical',)"
   ]
  },
  {
   "cell_type": "code",
   "execution_count": null,
   "metadata": {},
   "outputs": [],
   "source": []
  }
 ],
 "metadata": {
  "kernelspec": {
   "display_name": "Python 3",
   "language": "python",
   "name": "python3"
  },
  "language_info": {
   "codemirror_mode": {
    "name": "ipython",
    "version": 3
   },
   "file_extension": ".py",
   "mimetype": "text/x-python",
   "name": "python",
   "nbconvert_exporter": "python",
   "pygments_lexer": "ipython3",
   "version": "3.8.8"
  }
 },
 "nbformat": 4,
 "nbformat_minor": 4
}
