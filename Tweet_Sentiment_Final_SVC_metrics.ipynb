{
 "cells": [
  {
   "cell_type": "markdown",
   "id": "a853f227",
   "metadata": {},
   "source": [
    "# SpringBoard Capstone3: Coronavirus Tweets Sentiment\n",
    "\n",
    "    Data from Kaggle.com: https://www.kaggle.com/datatattle/covid-19-nlp-text-classification/metadata\n",
    "## Final SVC metrics"
   ]
  },
  {
   "cell_type": "code",
   "execution_count": 1,
   "id": "a3eb16dc",
   "metadata": {},
   "outputs": [],
   "source": [
    "# !pip install wordcloud"
   ]
  },
  {
   "cell_type": "code",
   "execution_count": 2,
   "id": "3b9c60dc",
   "metadata": {},
   "outputs": [
    {
     "name": "stderr",
     "output_type": "stream",
     "text": [
      "[nltk_data] Downloading package wordnet to /Users/Ling/nltk_data...\n",
      "[nltk_data]   Package wordnet is already up-to-date!\n"
     ]
    },
    {
     "data": {
      "text/plain": [
       "True"
      ]
     },
     "execution_count": 2,
     "metadata": {},
     "output_type": "execute_result"
    }
   ],
   "source": [
    "import nltk\n",
    "nltk.download('wordnet')"
   ]
  },
  {
   "cell_type": "code",
   "execution_count": 3,
   "id": "da11a325",
   "metadata": {},
   "outputs": [],
   "source": [
    "import pandas as pd\n",
    "import numpy as np\n",
    "import math\n",
    "import matplotlib.pyplot as plt\n",
    "import seaborn as sns\n",
    "# from wordcloud import WordCloud\n",
    "import re\n",
    "from sklearn.svm import LinearSVC\n",
    "from sklearn.svm import SVC\n",
    "from sklearn.naive_bayes import BernoulliNB\n",
    "from sklearn.linear_model import LogisticRegression\n",
    "from sklearn.model_selection import train_test_split\n",
    "from sklearn.feature_extraction.text import TfidfVectorizer\n",
    "from sklearn.metrics import confusion_matrix, classification_report"
   ]
  },
  {
   "cell_type": "code",
   "execution_count": 4,
   "id": "9fff5c92",
   "metadata": {},
   "outputs": [
    {
     "name": "stdout",
     "output_type": "stream",
     "text": [
      "<class 'pandas.core.frame.DataFrame'>\n",
      "Int64Index: 41157 entries, 3799 to 44955\n",
      "Data columns (total 5 columns):\n",
      " #   Column         Non-Null Count  Dtype \n",
      "---  ------         --------------  ----- \n",
      " 0   ScreenName     41157 non-null  int64 \n",
      " 1   Location       32567 non-null  object\n",
      " 2   TweetAt        41157 non-null  object\n",
      " 3   OriginalTweet  41157 non-null  object\n",
      " 4   Sentiment      41157 non-null  object\n",
      "dtypes: int64(1), object(4)\n",
      "memory usage: 1.9+ MB\n",
      "None\n",
      "<class 'pandas.core.frame.DataFrame'>\n",
      "Int64Index: 3798 entries, 1 to 3798\n",
      "Data columns (total 5 columns):\n",
      " #   Column         Non-Null Count  Dtype \n",
      "---  ------         --------------  ----- \n",
      " 0   ScreenName     3798 non-null   int64 \n",
      " 1   Location       2964 non-null   object\n",
      " 2   TweetAt        3798 non-null   object\n",
      " 3   OriginalTweet  3798 non-null   object\n",
      " 4   Sentiment      3798 non-null   object\n",
      "dtypes: int64(1), object(4)\n",
      "memory usage: 178.0+ KB\n",
      "None\n"
     ]
    }
   ],
   "source": [
    "tweet_whole_train = pd.read_csv('/Users/Ling/Desktop/01_Springboard/Corona_Tweet/Data/Corona_NLP_train.csv', index_col = 0)\n",
    "print(tweet_whole_train.info())\n",
    "test = pd.read_csv('/Users/Ling/Desktop/01_Springboard/Corona_Tweet/Data/Corona_NLP_test.csv', index_col = 0)\n",
    "print(test.info())"
   ]
  },
  {
   "cell_type": "code",
   "execution_count": 5,
   "id": "0b4021ab",
   "metadata": {},
   "outputs": [
    {
     "name": "stdout",
     "output_type": "stream",
     "text": [
      "          ScreenName   Location     TweetAt  \\\n",
      "UserName                                      \n",
      "3799           48751     London  16-03-2020   \n",
      "3800           48752         UK  16-03-2020   \n",
      "3801           48753  Vagabonds  16-03-2020   \n",
      "3802           48754        NaN  16-03-2020   \n",
      "3803           48755        NaN  16-03-2020   \n",
      "\n",
      "                                              OriginalTweet  \\\n",
      "UserName                                                      \n",
      "3799      @MeNyrbie @Phil_Gahan @Chrisitv https://t.co/i...   \n",
      "3800      advice Talk to your neighbours family to excha...   \n",
      "3801      Coronavirus Australia: Woolworths to give elde...   \n",
      "3802      My food stock is not the only one which is emp...   \n",
      "3803      Me, ready to go at supermarket during the #COV...   \n",
      "\n",
      "                   Sentiment  \n",
      "UserName                      \n",
      "3799                 Neutral  \n",
      "3800                Positive  \n",
      "3801                Positive  \n",
      "3802                Positive  \n",
      "3803      Extremely Negative  \n"
     ]
    }
   ],
   "source": [
    "print(tweet_whole_train.head())"
   ]
  },
  {
   "cell_type": "code",
   "execution_count": 6,
   "id": "ec1748d5",
   "metadata": {},
   "outputs": [],
   "source": [
    "tweet = tweet_whole_train[['OriginalTweet', 'Sentiment']]"
   ]
  },
  {
   "cell_type": "markdown",
   "id": "79c4c23b",
   "metadata": {},
   "source": [
    "#### reference: https://www.analyticsvidhya.com/blog/2021/06/twitter-sentiment-analysis-a-nlp-use-case-for-beginners/"
   ]
  },
  {
   "cell_type": "code",
   "execution_count": 7,
   "id": "8aa28e44",
   "metadata": {},
   "outputs": [
    {
     "name": "stderr",
     "output_type": "stream",
     "text": [
      "<ipython-input-7-a4d75c87a5e3>:2: SettingWithCopyWarning: \n",
      "A value is trying to be set on a copy of a slice from a DataFrame.\n",
      "Try using .loc[row_indexer,col_indexer] = value instead\n",
      "\n",
      "See the caveats in the documentation: https://pandas.pydata.org/pandas-docs/stable/user_guide/indexing.html#returning-a-view-versus-a-copy\n",
      "  tweet['OriginalTweet'] = tweet['OriginalTweet'].str.lower()\n"
     ]
    },
    {
     "data": {
      "text/plain": [
       "UserName\n",
       "3799    @menyrbie @phil_gahan @chrisitv https://t.co/i...\n",
       "3800    advice talk to your neighbours family to excha...\n",
       "3801    coronavirus australia: woolworths to give elde...\n",
       "3802    my food stock is not the only one which is emp...\n",
       "3803    me, ready to go at supermarket during the #cov...\n",
       "3804    as news of the regions first confirmed covid-...\n",
       "3805    cashier at grocery store was sharing his insig...\n",
       "3806    was at the supermarket today. didn't buy toile...\n",
       "3807    due to covid-19 our retail store and classroom...\n",
       "3808    for corona prevention,we should stop to buy th...\n",
       "Name: OriginalTweet, dtype: object"
      ]
     },
     "execution_count": 7,
     "metadata": {},
     "output_type": "execute_result"
    }
   ],
   "source": [
    "# lower case all text\n",
    "tweet['OriginalTweet'] = tweet['OriginalTweet'].str.lower()\n",
    "#tweet['OriginalTweet'] = tweet_text \n",
    "tweet['OriginalTweet'].head(10)"
   ]
  },
  {
   "cell_type": "code",
   "execution_count": 8,
   "id": "56651c86",
   "metadata": {},
   "outputs": [],
   "source": [
    "stopwordlist = ['a','ain', 'am', 'an',\n",
    "             'and','any','are', 'as', 'at', 'be',  'before',\n",
    "             'being', 'between', 'by', 'can', 'd', 'do',\n",
    "             'does', 'doing',  'during',  'for', 'from',\n",
    "             'had', 'has', 'have', 'having', 'he', 'her', 'here',\n",
    "             'hers', 'herself', 'him', 'himself', 'his', 'how', 'i', 'in',\n",
    "             'into','is', 'it', 'its', 'itself', 'll', 'm', 'ma',\n",
    "             'me', 'my', 'myself', 'now', 'o', 'of', 'on', 'once',\n",
    "             'or',  'our', 'ours','ourselves',  'own', 're','s', 'she', \"shes\", \n",
    "             't', 'than', 'that', \"thatll\", 'the', 'their', 'theirs', 'them',\n",
    "             'themselves', 'then', 'there', 'these', 'they', 'this', 'those',\n",
    "             'through', 'to', 've', \n",
    "             'we',  'what', 'when', 'where','which','while', 'who', 'whom',\n",
    "             'why', 'will', 'with', 'y', 'you', \"youd\",\"youll\", \"youre\",\n",
    "             \"youve\", 'your', 'yours', 'yourself', 'yourselves']"
   ]
  },
  {
   "cell_type": "code",
   "execution_count": 9,
   "id": "05066cf0",
   "metadata": {},
   "outputs": [
    {
     "name": "stderr",
     "output_type": "stream",
     "text": [
      "<ipython-input-9-6c09ff49c4a4>:4: SettingWithCopyWarning: \n",
      "A value is trying to be set on a copy of a slice from a DataFrame.\n",
      "Try using .loc[row_indexer,col_indexer] = value instead\n",
      "\n",
      "See the caveats in the documentation: https://pandas.pydata.org/pandas-docs/stable/user_guide/indexing.html#returning-a-view-versus-a-copy\n",
      "  tweet['OriginalTweet'] = tweet['OriginalTweet'].apply(lambda text: cleaning_stopwords(text))\n"
     ]
    },
    {
     "data": {
      "text/plain": [
       "UserName\n",
       "3799    @menyrbie @phil_gahan @chrisitv https://t.co/i...\n",
       "3800    advice talk neighbours family exchange phone n...\n",
       "3801    coronavirus australia: woolworths give elderly...\n",
       "3802    food stock not only one empty... please, don't...\n",
       "3803    me, ready go supermarket #covid19 outbreak. no...\n",
       "Name: OriginalTweet, dtype: object"
      ]
     },
     "execution_count": 9,
     "metadata": {},
     "output_type": "execute_result"
    }
   ],
   "source": [
    "STOPWORDS = set(stopwordlist)\n",
    "def cleaning_stopwords(text):\n",
    "    return \" \".join([word for word in str(text).split() if word not in STOPWORDS])\n",
    "tweet['OriginalTweet'] = tweet['OriginalTweet'].apply(lambda text: cleaning_stopwords(text))\n",
    "tweet['OriginalTweet'].head()"
   ]
  },
  {
   "cell_type": "code",
   "execution_count": 10,
   "id": "e22efd5d",
   "metadata": {},
   "outputs": [
    {
     "name": "stderr",
     "output_type": "stream",
     "text": [
      "<ipython-input-10-2bef1d3d1219>:3: SettingWithCopyWarning: \n",
      "A value is trying to be set on a copy of a slice from a DataFrame.\n",
      "Try using .loc[row_indexer,col_indexer] = value instead\n",
      "\n",
      "See the caveats in the documentation: https://pandas.pydata.org/pandas-docs/stable/user_guide/indexing.html#returning-a-view-versus-a-copy\n",
      "  tweet['OriginalTweet'] = tweet['OriginalTweet'].apply(lambda text: remove_at_signs(text))\n"
     ]
    },
    {
     "data": {
      "text/plain": [
       "UserName\n",
       "3799    https://t.co/ifz9fan2pa https://t.co/xx6ghgfzc...\n",
       "3800    advice talk neighbours family exchange phone n...\n",
       "3801    coronavirus australia: woolworths give elderly...\n",
       "3802    food stock not only one empty... please, don't...\n",
       "3803    me, ready go supermarket #covid19 outbreak. no...\n",
       "Name: OriginalTweet, dtype: object"
      ]
     },
     "execution_count": 10,
     "metadata": {},
     "output_type": "execute_result"
    }
   ],
   "source": [
    "def remove_at_signs(text):\n",
    "    return \" \".join([word for word in str(text).split() if not word.startswith('@')])\n",
    "tweet['OriginalTweet'] = tweet['OriginalTweet'].apply(lambda text: remove_at_signs(text))\n",
    "tweet['OriginalTweet'].head()"
   ]
  },
  {
   "cell_type": "code",
   "execution_count": 11,
   "id": "f7287735",
   "metadata": {},
   "outputs": [
    {
     "name": "stderr",
     "output_type": "stream",
     "text": [
      "<ipython-input-11-dbc6b0c6c066>:3: SettingWithCopyWarning: \n",
      "A value is trying to be set on a copy of a slice from a DataFrame.\n",
      "Try using .loc[row_indexer,col_indexer] = value instead\n",
      "\n",
      "See the caveats in the documentation: https://pandas.pydata.org/pandas-docs/stable/user_guide/indexing.html#returning-a-view-versus-a-copy\n",
      "  tweet['OriginalTweet'] = tweet['OriginalTweet'].apply(lambda x: cleaning_URLs(x))\n"
     ]
    },
    {
     "data": {
      "text/plain": [
       "UserName\n",
       "3799                                        url  url  url\n",
       "3800    advice talk neighbours family exchange phone n...\n",
       "3801    coronavirus australia: woolworths give elderly...\n",
       "3802    food stock not only one  url please, don't pan...\n",
       "3803    me, ready go supermarket #covid19 outbreak. no...\n",
       "Name: OriginalTweet, dtype: object"
      ]
     },
     "execution_count": 11,
     "metadata": {},
     "output_type": "execute_result"
    }
   ],
   "source": [
    "def cleaning_URLs(data):\n",
    "    return re.sub('[^ ]+\\.[^ ]+' , ' url', data)\n",
    "tweet['OriginalTweet'] = tweet['OriginalTweet'].apply(lambda x: cleaning_URLs(x))\n",
    "tweet['OriginalTweet'].head()"
   ]
  },
  {
   "cell_type": "code",
   "execution_count": 12,
   "id": "60f60b63",
   "metadata": {},
   "outputs": [
    {
     "data": {
      "text/plain": [
       "' url  url  url'"
      ]
     },
     "execution_count": 12,
     "metadata": {},
     "output_type": "execute_result"
    }
   ],
   "source": [
    "tweet.loc[3799, 'OriginalTweet']"
   ]
  },
  {
   "cell_type": "code",
   "execution_count": 13,
   "id": "1461c682",
   "metadata": {},
   "outputs": [
    {
     "name": "stderr",
     "output_type": "stream",
     "text": [
      "<ipython-input-13-c0b58da7c31c>:7: SettingWithCopyWarning: \n",
      "A value is trying to be set on a copy of a slice from a DataFrame.\n",
      "Try using .loc[row_indexer,col_indexer] = value instead\n",
      "\n",
      "See the caveats in the documentation: https://pandas.pydata.org/pandas-docs/stable/user_guide/indexing.html#returning-a-view-versus-a-copy\n",
      "  tweet['OriginalTweet']= tweet['OriginalTweet'].apply(lambda x: cleaning_punctuations(x))\n"
     ]
    },
    {
     "data": {
      "text/plain": [
       "UserName\n",
       "3799                                        url  url  url\n",
       "3800    advice talk neighbours family exchange phone n...\n",
       "3801    coronavirus australia woolworths give elderly ...\n",
       "3802    food stock not only one  url please dont panic...\n",
       "3803    me ready go supermarket covid19 outbreak not b...\n",
       "Name: OriginalTweet, dtype: object"
      ]
     },
     "execution_count": 13,
     "metadata": {},
     "output_type": "execute_result"
    }
   ],
   "source": [
    "import string\n",
    "english_punctuations = string.punctuation\n",
    "punctuations_list = english_punctuations\n",
    "def cleaning_punctuations(text):\n",
    "    translator = str.maketrans(' ', ' ', punctuations_list)\n",
    "    return text.translate(translator)\n",
    "tweet['OriginalTweet']= tweet['OriginalTweet'].apply(lambda x: cleaning_punctuations(x))\n",
    "tweet['OriginalTweet'].head()"
   ]
  },
  {
   "cell_type": "code",
   "execution_count": 14,
   "id": "31789fe6",
   "metadata": {},
   "outputs": [
    {
     "name": "stderr",
     "output_type": "stream",
     "text": [
      "<ipython-input-14-260ba1a553fd>:5: SettingWithCopyWarning: \n",
      "A value is trying to be set on a copy of a slice from a DataFrame.\n",
      "Try using .loc[row_indexer,col_indexer] = value instead\n",
      "\n",
      "See the caveats in the documentation: https://pandas.pydata.org/pandas-docs/stable/user_guide/indexing.html#returning-a-view-versus-a-copy\n",
      "  tweet['OriginalTweet'] = tweet['OriginalTweet'].apply(lambda x: cleaning_repeating_char(x))\n"
     ]
    },
    {
     "data": {
      "text/plain": [
       "UserName\n",
       "3799                                          url url url\n",
       "3800    advice talk neighbours family exchange phone n...\n",
       "3801    coronavirus australia wolworths give elderly d...\n",
       "3802    fod stock not only one url please dont panic e...\n",
       "3803    me ready go supermarket covid19 outbreak not b...\n",
       "3804    news regions first confirmed covid19 case cam...\n",
       "3805    cashier grocery store was sharing insights cov...\n",
       "3806    was supermarket today didnt buy toilet paper r...\n",
       "3807    due covid19 retail store clasrom atlanta not o...\n",
       "3808    corona preventionwe should stop buy things cas...\n",
       "Name: OriginalTweet, dtype: object"
      ]
     },
     "execution_count": 14,
     "metadata": {},
     "output_type": "execute_result"
    }
   ],
   "source": [
    "import itertools\n",
    "def cleaning_repeating_char(text):\n",
    "    cl = ''.join(ch for ch, _ in itertools.groupby(text))\n",
    "    return cl\n",
    "tweet['OriginalTweet'] = tweet['OriginalTweet'].apply(lambda x: cleaning_repeating_char(x))\n",
    "tweet['OriginalTweet'].head(10)"
   ]
  },
  {
   "cell_type": "code",
   "execution_count": 15,
   "id": "e3fc8e1b",
   "metadata": {},
   "outputs": [
    {
     "name": "stderr",
     "output_type": "stream",
     "text": [
      "<ipython-input-15-39d2e1561b65>:3: SettingWithCopyWarning: \n",
      "A value is trying to be set on a copy of a slice from a DataFrame.\n",
      "Try using .loc[row_indexer,col_indexer] = value instead\n",
      "\n",
      "See the caveats in the documentation: https://pandas.pydata.org/pandas-docs/stable/user_guide/indexing.html#returning-a-view-versus-a-copy\n",
      "  tweet['OriginalTweet'] = tweet['OriginalTweet'].apply(lambda x: cleaning_numbers(x))\n"
     ]
    },
    {
     "data": {
      "text/plain": [
       "UserName\n",
       "3799                                          url url url\n",
       "3800    advice talk neighbours family exchange phone n...\n",
       "3801    coronavirus australia wolworths give elderly d...\n",
       "3802    fod stock not only one url please dont panic e...\n",
       "3803    me ready go supermarket covid outbreak not bec...\n",
       "3804    news regions first confirmed covid case came ...\n",
       "3805    cashier grocery store was sharing insights cov...\n",
       "3806    was supermarket today didnt buy toilet paper r...\n",
       "3807    due covid retail store clasrom atlanta not ope...\n",
       "3808    corona preventionwe should stop buy things cas...\n",
       "Name: OriginalTweet, dtype: object"
      ]
     },
     "execution_count": 15,
     "metadata": {},
     "output_type": "execute_result"
    }
   ],
   "source": [
    "def cleaning_numbers(data):\n",
    "    return re.sub('[0-9]+', '', data)\n",
    "tweet['OriginalTweet'] = tweet['OriginalTweet'].apply(lambda x: cleaning_numbers(x))\n",
    "tweet['OriginalTweet'].head(10)"
   ]
  },
  {
   "cell_type": "code",
   "execution_count": 16,
   "id": "2efe2d18",
   "metadata": {},
   "outputs": [
    {
     "name": "stderr",
     "output_type": "stream",
     "text": [
      "<ipython-input-16-116119311db9>:4: SettingWithCopyWarning: \n",
      "A value is trying to be set on a copy of a slice from a DataFrame.\n",
      "Try using .loc[row_indexer,col_indexer] = value instead\n",
      "\n",
      "See the caveats in the documentation: https://pandas.pydata.org/pandas-docs/stable/user_guide/indexing.html#returning-a-view-versus-a-copy\n",
      "  tweet['Tokens'] = [tknzr.tokenize(t) for t in tweet['OriginalTweet']]\n"
     ]
    },
    {
     "data": {
      "text/plain": [
       "UserName\n",
       "3799                                      [url, url, url]\n",
       "3800    [advice, talk, neighbours, family, exchange, p...\n",
       "3801    [coronavirus, australia, wolworths, give, elde...\n",
       "3802    [fod, stock, not, only, one, url, please, dont...\n",
       "3803    [me, ready, go, supermarket, covid, outbreak, ...\n",
       "Name: Tokens, dtype: object"
      ]
     },
     "execution_count": 16,
     "metadata": {},
     "output_type": "execute_result"
    }
   ],
   "source": [
    "# Tokenize the OriginalTweet text\n",
    "from nltk.tokenize import TweetTokenizer\n",
    "tknzr = TweetTokenizer()\n",
    "tweet['Tokens'] = [tknzr.tokenize(t) for t in tweet['OriginalTweet']]\n",
    "tweet['Tokens'].head()"
   ]
  },
  {
   "cell_type": "code",
   "execution_count": 17,
   "id": "0c0e38c6",
   "metadata": {},
   "outputs": [
    {
     "name": "stderr",
     "output_type": "stream",
     "text": [
      "<ipython-input-17-9e413b8e77ce>:5: SettingWithCopyWarning: \n",
      "A value is trying to be set on a copy of a slice from a DataFrame.\n",
      "Try using .loc[row_indexer,col_indexer] = value instead\n",
      "\n",
      "See the caveats in the documentation: https://pandas.pydata.org/pandas-docs/stable/user_guide/indexing.html#returning-a-view-versus-a-copy\n",
      "  tweet['Tokens']= tweet['Tokens'].apply(lambda x: stemming_on_text(x))\n"
     ]
    },
    {
     "data": {
      "text/plain": [
       "UserName\n",
       "3799                                      [url, url, url]\n",
       "3800    [advice, talk, neighbours, family, exchange, p...\n",
       "3801    [coronavirus, australia, wolworths, give, elde...\n",
       "3802    [fod, stock, not, only, one, url, please, dont...\n",
       "3803    [me, ready, go, supermarket, covid, outbreak, ...\n",
       "3804    [news, region, , s, first, confirmed, covid, ...\n",
       "3805    [cashier, grocery, store, was, sharing, insigh...\n",
       "3806    [was, supermarket, today, didnt, buy, toilet, ...\n",
       "3807    [due, covid, retail, store, clasrom, atlanta, ...\n",
       "3808    [corona, preventionwe, should, stop, buy, thin...\n",
       "Name: Tokens, dtype: object"
      ]
     },
     "execution_count": 17,
     "metadata": {},
     "output_type": "execute_result"
    }
   ],
   "source": [
    "st = nltk.PorterStemmer()\n",
    "def stemming_on_text(data):\n",
    "    text = [st.stem(word) for word in data]\n",
    "    return data\n",
    "tweet['Tokens']= tweet['Tokens'].apply(lambda x: stemming_on_text(x))\n",
    "tweet['Tokens'].head(10)"
   ]
  },
  {
   "cell_type": "code",
   "execution_count": 18,
   "id": "d9735cce",
   "metadata": {},
   "outputs": [
    {
     "name": "stderr",
     "output_type": "stream",
     "text": [
      "<ipython-input-18-da252269bd34>:5: SettingWithCopyWarning: \n",
      "A value is trying to be set on a copy of a slice from a DataFrame.\n",
      "Try using .loc[row_indexer,col_indexer] = value instead\n",
      "\n",
      "See the caveats in the documentation: https://pandas.pydata.org/pandas-docs/stable/user_guide/indexing.html#returning-a-view-versus-a-copy\n",
      "  tweet['Tokens'] = tweet['Tokens'].apply(lambda x: lemmatizer_on_text(x))\n"
     ]
    },
    {
     "data": {
      "text/plain": [
       "UserName\n",
       "3799                                      [url, url, url]\n",
       "3800    [advice, talk, neighbours, family, exchange, p...\n",
       "3801    [coronavirus, australia, wolworths, give, elde...\n",
       "3802    [fod, stock, not, only, one, url, please, dont...\n",
       "3803    [me, ready, go, supermarket, covid, outbreak, ...\n",
       "3804    [news, region, , s, first, confirmed, covid, ...\n",
       "3805    [cashier, grocery, store, was, sharing, insigh...\n",
       "3806    [was, supermarket, today, didnt, buy, toilet, ...\n",
       "3807    [due, covid, retail, store, clasrom, atlanta, ...\n",
       "3808    [corona, preventionwe, should, stop, buy, thin...\n",
       "Name: Tokens, dtype: object"
      ]
     },
     "execution_count": 18,
     "metadata": {},
     "output_type": "execute_result"
    }
   ],
   "source": [
    "lm = nltk.stem.WordNetLemmatizer()\n",
    "def lemmatizer_on_text(data):\n",
    "    text = [lm.lemmatize(word) for word in data]\n",
    "    return data\n",
    "tweet['Tokens'] = tweet['Tokens'].apply(lambda x: lemmatizer_on_text(x))\n",
    "tweet['Tokens'].head(10)"
   ]
  },
  {
   "cell_type": "code",
   "execution_count": 19,
   "id": "7006bf1c",
   "metadata": {},
   "outputs": [
    {
     "name": "stdout",
     "output_type": "stream",
     "text": [
      "UserName\n",
      "3799                                          url url url\n",
      "3800    advice talk neighbours family exchange phone n...\n",
      "3801    coronavirus australia wolworths give elderly d...\n",
      "3802    fod stock not only one url please dont panic e...\n",
      "3803    me ready go supermarket covid outbreak not bec...\n",
      "3804    news region  s first confirmed covid case cam...\n",
      "3805    cashier grocery store was sharing insights cov...\n",
      "3806    was supermarket today didnt buy toilet paper r...\n",
      "3807    due covid retail store clasrom atlanta not ope...\n",
      "3808    corona preventionwe should stop buy things cas...\n",
      "Name: text, dtype: object\n"
     ]
    },
    {
     "name": "stderr",
     "output_type": "stream",
     "text": [
      "<ipython-input-19-cc0ea48d3dc6>:1: SettingWithCopyWarning: \n",
      "A value is trying to be set on a copy of a slice from a DataFrame.\n",
      "Try using .loc[row_indexer,col_indexer] = value instead\n",
      "\n",
      "See the caveats in the documentation: https://pandas.pydata.org/pandas-docs/stable/user_guide/indexing.html#returning-a-view-versus-a-copy\n",
      "  tweet['text'] = tweet[\"Tokens\"].map(' '.join)\n"
     ]
    }
   ],
   "source": [
    "tweet['text'] = tweet[\"Tokens\"].map(' '.join)\n",
    "print(tweet['text'].head(10))"
   ]
  },
  {
   "cell_type": "code",
   "execution_count": 20,
   "id": "e847e0a1",
   "metadata": {},
   "outputs": [
    {
     "name": "stdout",
     "output_type": "stream",
     "text": [
      "# of feature names 5535\n",
      "['abc', 'ability', 'able', 'about', 'above', 'absolute', 'absolutely', 'absurd', 'abt', 'abuse']\n",
      "[0. 0. 0. ... 0. 0. 0.]\n"
     ]
    }
   ],
   "source": [
    "# Import TfidfVectorizer\n",
    "from sklearn.feature_extraction.text import TfidfVectorizer\n",
    "from sklearn.model_selection import train_test_split \n",
    "\n",
    "X = tweet['text'] \n",
    "\n",
    "y = tweet['Sentiment']\n",
    "\n",
    "X_train, X_test, y_train, y_test = train_test_split(X, y, test_size = 0.25, random_state = 1)\n",
    "\n",
    "# Initialize a TfidfVectorizer object: tfidf_vectorizer\n",
    "tfidf_vectorizer = TfidfVectorizer(min_df = 10, max_df = 0.7)\n",
    "\n",
    "# Transform the training data: tfidf_train \n",
    "tfidf_train = tfidf_vectorizer.fit_transform(X_train)\n",
    "\n",
    "# Transform the test data: tfidf_test \n",
    "tfidf_test = tfidf_vectorizer.transform(X_test)\n",
    "\n",
    "# Print the first 10 features\n",
    "print('# of feature names', len(tfidf_vectorizer.get_feature_names()))\n",
    "print(tfidf_vectorizer.get_feature_names()[:10])\n",
    "\n",
    "# Print the first 5 vectors of the tfidf training data\n",
    "print(tfidf_train.A[1])"
   ]
  },
  {
   "cell_type": "code",
   "execution_count": 24,
   "id": "d6527c75",
   "metadata": {},
   "outputs": [
    {
     "name": "stdout",
     "output_type": "stream",
     "text": [
      "CPU times: user 4 µs, sys: 1 µs, total: 5 µs\n",
      "Wall time: 10 µs\n",
      "                    precision    recall  f1-score   support\n",
      "\n",
      "Extremely Negative       0.72      0.57      0.64      1342\n",
      "Extremely Positive       0.77      0.57      0.65      1674\n",
      "          Negative       0.56      0.62      0.59      2466\n",
      "           Neutral       0.68      0.69      0.69      1939\n",
      "          Positive       0.58      0.67      0.62      2869\n",
      "\n",
      "          accuracy                           0.63     10290\n",
      "         macro avg       0.66      0.62      0.64     10290\n",
      "      weighted avg       0.64      0.63      0.63     10290\n",
      "\n",
      "0.6310981535471332\n",
      "[[ 770   10  476   38   48]\n",
      " [   5  949   57   42  621]\n",
      " [ 236   37 1527  258  408]\n",
      " [  12   11  262 1337  317]\n",
      " [  51  223  402  282 1911]]\n"
     ]
    }
   ],
   "source": [
    "## get running time\n",
    "%time\n",
    "\n",
    "from sklearn import metrics\n",
    "\n",
    "## F1 LinearSVC = 0.56\n",
    "SVCmodel = SVC(C=100, degree=0, gamma=1, kernel='rbf')\n",
    "SVCmodel.fit(tfidf_train, y_train)\n",
    "y_pred = SVCmodel.predict(tfidf_test)\n",
    "print(classification_report(y_test, y_pred))\n",
    "print(metrics.accuracy_score(y_test, y_pred))\n",
    "CM = metrics.confusion_matrix(y_test, y_pred)\n",
    "print(CM)\n",
    "\n",
    "# Hyperparameters from data exploring and preprocessing\n",
    "# param_grid = {'C': [0.1, 100], 'gamma': [1,0.001], 'kernel':['rbf','poly','sigmoid','linear'], 'degree':[0, 3]}\n",
    "# {'C': 100, 'degree': 0, 'gamma': 1, 'kernel': 'rbf'}\n",
    "# SVC(C=100, degree=0, gamma=1)\n"
   ]
  },
  {
   "cell_type": "code",
   "execution_count": 36,
   "id": "51526b3a",
   "metadata": {},
   "outputs": [],
   "source": [
    "# from sklearn import metrics\n",
    "\n",
    "\n",
    "# ## get running time\n",
    "# %time\n",
    "\n",
    "# ## F1 LinearSVC \n",
    "# Linear_SVCmodel = SVC(kernel = 'linear')\n",
    "# Linear_SVCmodel.fit(tfidf_train, y_train)\n",
    "# Linear_y_pred = SVCmodel.predict(tfidf_test)\n",
    "# print(classification_report(y_test, Linear_y_pred))\n",
    "# print(metrics.accuracy_score(y_test, Linear_y_pred))\n",
    "# Linear_CM = metrics.confusion_matrix(y_test, Linear_y_pred)\n",
    "# print(Linear_CM)\n",
    "\n",
    "# # Hyperparameters from data exploring and preprocessing\n",
    "# # param_grid = {'C': [0.1, 100], 'gamma': [1,0.001], 'kernel':['rbf','poly','sigmoid','linear'], 'degree':[0, 3]}\n",
    "# # {'C': 100, 'degree': 0, 'gamma': 1, 'kernel': 'rbf'}\n",
    "# # SVC(C=100, degree=0, gamma=1)\n",
    "\n",
    "\n",
    "# # Get the class labels: class_labels\n",
    "# class_labels = Linear_SVCmodel.classes_\n",
    "\n",
    "# # Extract the features: feature_names\n",
    "# feature_names = tfidf_vectorizer.get_feature_names()\n",
    "\n",
    "# # Zip the feature names together with the coefficient array and sort by weights: feat_with_weights\n",
    "# feat_with_weights = sorted(zip(SVCmodel.coef_[0], feature_names))\n",
    "\n",
    "# # Print the first class label and the top 20 feat_with_weights entries\n",
    "# print(class_labels[0], feat_with_weights[:5])\n",
    "\n",
    "# # Print the second class label and the bottom 20 feat_with_weights entries\n",
    "# print(class_labels[4], feat_with_weights[-5:])\n",
    "\n",
    "# ## get running time\n",
    "# %time"
   ]
  },
  {
   "cell_type": "code",
   "execution_count": 34,
   "id": "025a0e2f",
   "metadata": {},
   "outputs": [],
   "source": [
    "class_names = ['Extremely Negative', 'Negative', 'Neutral','Positive','Extremely Positive']"
   ]
  },
  {
   "cell_type": "code",
   "execution_count": 39,
   "id": "a7f33f23",
   "metadata": {},
   "outputs": [
    {
     "name": "stdout",
     "output_type": "stream",
     "text": [
      "Confusion matrix, without normalization\n",
      "[[ 770   10  476   38   48]\n",
      " [   5  949   57   42  621]\n",
      " [ 236   37 1527  258  408]\n",
      " [  12   11  262 1337  317]\n",
      " [  51  223  402  282 1911]]\n",
      "Normalized confusion matrix\n",
      "[[0.57 0.01 0.35 0.03 0.04]\n",
      " [0.   0.57 0.03 0.03 0.37]\n",
      " [0.1  0.02 0.62 0.1  0.17]\n",
      " [0.01 0.01 0.14 0.69 0.16]\n",
      " [0.02 0.08 0.14 0.1  0.67]]\n"
     ]
    },
    {
     "data": {
      "image/png": "[encoded data removed]",
      "text/plain": [
       "<Figure size 432x288 with 2 Axes>"
      ]
     },
     "metadata": {
      "needs_background": "light"
     },
     "output_type": "display_data"
    },
    {
     "data": {
      "image/png": "[encoded data removed]",
      "text/plain": [
       "<Figure size 432x288 with 2 Axes>"
      ]
     },
     "metadata": {
      "needs_background": "light"
     },
     "output_type": "display_data"
    }
   ],
   "source": [
    "import itertools\n",
    "import numpy as np\n",
    "import matplotlib.pyplot as plt\n",
    "\n",
    "from sklearn import svm, datasets\n",
    "\n",
    "from sklearn.metrics import confusion_matrix\n",
    "\n",
    "def plot_confusion_matrix(cm, classes,\n",
    "                          normalize=False,\n",
    "                          title='Confusion matrix',\n",
    "                          cmap=plt.cm.Blues):\n",
    "    \"\"\"\n",
    "    This function prints and plots the confusion matrix.\n",
    "    Normalization can be applied by setting `normalize=True`.\n",
    "    \"\"\"\n",
    "    if normalize:\n",
    "        cm = cm.astype('float') / cm.sum(axis=1)[:, np.newaxis]\n",
    "        print(\"Normalized confusion matrix\")\n",
    "    else:\n",
    "        print('Confusion matrix, without normalization')\n",
    "\n",
    "    print(cm)\n",
    "\n",
    "    plt.imshow(cm, interpolation='nearest', cmap=cmap)\n",
    "    plt.title(title)\n",
    "    plt.colorbar()\n",
    "    tick_marks = np.arange(len(classes))\n",
    "    plt.xticks(tick_marks, classes, rotation=90)\n",
    "    plt.yticks(tick_marks, classes)\n",
    "\n",
    "    fmt = '.2f' if normalize else 'd'\n",
    "    thresh = cm.max() / 2.\n",
    "    for i, j in itertools.product(range(cm.shape[0]), range(cm.shape[1])):\n",
    "        plt.text(j, i, format(cm[i, j], fmt),\n",
    "                 horizontalalignment=\"center\",\n",
    "                 color=\"white\" if cm[i, j] > thresh else \"black\")\n",
    "\n",
    "    plt.ylabel('True label')\n",
    "    plt.xlabel('Predicted label')\n",
    "    #plt.tight_layout()\n",
    "\n",
    "\n",
    "# Compute confusion matrix\n",
    "cnf_matrix = confusion_matrix(y_test, y_pred)\n",
    "np.set_printoptions(precision=2)\n",
    "\n",
    "# Plot non-normalized confusion matrix\n",
    "plt.figure()\n",
    "plot_confusion_matrix(cnf_matrix, classes=class_names,\n",
    "                      title='Confusion matrix, without normalization')\n",
    "#plt.savefig('figures/RF_cm_multi_class.png')\n",
    "\n",
    "# Plot normalized confusion matrix\n",
    "plt.figure()\n",
    "plot_confusion_matrix(cnf_matrix, classes=class_names, normalize=True,\n",
    "                      title='Normalized confusion matrix')\n",
    "#plt.savefig('figures/RF_cm_proportion_multi_class.png', bbox_inches=\"tight\")\n",
    "plt.show()"
   ]
  },
  {
   "cell_type": "code",
   "execution_count": null,
   "id": "69f9c8e4",
   "metadata": {},
   "outputs": [],
   "source": []
  }
 ],
 "metadata": {
  "kernelspec": {
   "display_name": "Python 3",
   "language": "python",
   "name": "python3"
  },
  "language_info": {
   "codemirror_mode": {
    "name": "ipython",
    "version": 3
   },
   "file_extension": ".py",
   "mimetype": "text/x-python",
   "name": "python",
   "nbconvert_exporter": "python",
   "pygments_lexer": "ipython3",
   "version": "3.8.8"
  }
 },
 "nbformat": 4,
 "nbformat_minor": 5
}
