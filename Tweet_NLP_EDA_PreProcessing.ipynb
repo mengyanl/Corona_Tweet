{
 "cells": [
  {
   "cell_type": "markdown",
   "id": "a853f227",
   "metadata": {},
   "source": [
    "# SpringBoard Capstone2: Coronavirus Tweets Sentiment Analysis\n",
    "\n",
    "    Data from Kaggle.com: https://www.kaggle.com/datatattle/covid-19-nlp-text-classification/metadata\n",
    "## Data Explore and Preprocessing"
   ]
  },
  {
   "cell_type": "code",
   "execution_count": 3,
   "id": "a3eb16dc",
   "metadata": {},
   "outputs": [
    {
     "name": "stdout",
     "output_type": "stream",
     "text": [
      "Requirement already satisfied: stop-words in /Users/Ling/opt/anaconda3/lib/python3.8/site-packages (2018.7.23)\r\n"
     ]
    }
   ],
   "source": [
    "!pip install stop-words"
   ]
  },
  {
   "cell_type": "code",
   "execution_count": 4,
   "id": "3b9c60dc",
   "metadata": {},
   "outputs": [
    {
     "name": "stderr",
     "output_type": "stream",
     "text": [
      "[nltk_data] Downloading package wordnet to /Users/Ling/nltk_data...\n",
      "[nltk_data]   Package wordnet is already up-to-date!\n",
      "[nltk_data] Downloading package stopwords to /Users/Ling/nltk_data...\n",
      "[nltk_data]   Package stopwords is already up-to-date!\n"
     ]
    },
    {
     "data": {
      "text/plain": [
       "True"
      ]
     },
     "execution_count": 4,
     "metadata": {},
     "output_type": "execute_result"
    }
   ],
   "source": [
    "import nltk\n",
    "nltk.download('wordnet')\n",
    "nltk.download('stopwords')"
   ]
  },
  {
   "cell_type": "code",
   "execution_count": 2,
   "id": "da11a325",
   "metadata": {},
   "outputs": [],
   "source": [
    "import pandas as pd\n",
    "import numpy as np\n",
    "import math\n",
    "import matplotlib.pyplot as plt\n",
    "import seaborn as sns\n",
    "# from wordcloud import WordCloud\n",
    "import re\n",
    "from sklearn.svm import LinearSVC\n",
    "\n",
    "from sklearn import metrics\n",
    "from sklearn.naive_bayes import BernoulliNB\n",
    "from sklearn.linear_model import LogisticRegression\n",
    "from sklearn.model_selection import train_test_split\n",
    "from sklearn.feature_extraction.text import TfidfVectorizer\n",
    "from sklearn.metrics import confusion_matrix, classification_report"
   ]
  },
  {
   "cell_type": "code",
   "execution_count": 3,
   "id": "9fff5c92",
   "metadata": {},
   "outputs": [
    {
     "name": "stdout",
     "output_type": "stream",
     "text": [
      "<class 'pandas.core.frame.DataFrame'>\n",
      "Int64Index: 41157 entries, 3799 to 44955\n",
      "Data columns (total 5 columns):\n",
      " #   Column         Non-Null Count  Dtype \n",
      "---  ------         --------------  ----- \n",
      " 0   ScreenName     41157 non-null  int64 \n",
      " 1   Location       32567 non-null  object\n",
      " 2   TweetAt        41157 non-null  object\n",
      " 3   OriginalTweet  41157 non-null  object\n",
      " 4   Sentiment      41157 non-null  object\n",
      "dtypes: int64(1), object(4)\n",
      "memory usage: 1.9+ MB\n",
      "None\n",
      "<class 'pandas.core.frame.DataFrame'>\n",
      "Int64Index: 3798 entries, 1 to 3798\n",
      "Data columns (total 5 columns):\n",
      " #   Column         Non-Null Count  Dtype \n",
      "---  ------         --------------  ----- \n",
      " 0   ScreenName     3798 non-null   int64 \n",
      " 1   Location       2964 non-null   object\n",
      " 2   TweetAt        3798 non-null   object\n",
      " 3   OriginalTweet  3798 non-null   object\n",
      " 4   Sentiment      3798 non-null   object\n",
      "dtypes: int64(1), object(4)\n",
      "memory usage: 178.0+ KB\n",
      "None\n"
     ]
    }
   ],
   "source": [
    "tweet_whole_train = pd.read_csv('/Users/Ling/Desktop/01_Springboard/Corona_Tweet/Data/Corona_NLP_train.csv', index_col = 0)\n",
    "print(tweet_whole_train.info())\n",
    "test = pd.read_csv('/Users/Ling/Desktop/01_Springboard/Corona_Tweet/Data/Corona_NLP_test.csv', index_col = 0)\n",
    "print(test.info())"
   ]
  },
  {
   "cell_type": "code",
   "execution_count": 7,
   "id": "0b4021ab",
   "metadata": {},
   "outputs": [
    {
     "name": "stdout",
     "output_type": "stream",
     "text": [
      "          ScreenName   Location     TweetAt  \\\n",
      "UserName                                      \n",
      "3799           48751     London  16-03-2020   \n",
      "3800           48752         UK  16-03-2020   \n",
      "3801           48753  Vagabonds  16-03-2020   \n",
      "3802           48754        NaN  16-03-2020   \n",
      "3803           48755        NaN  16-03-2020   \n",
      "\n",
      "                                              OriginalTweet  \\\n",
      "UserName                                                      \n",
      "3799      @MeNyrbie @Phil_Gahan @Chrisitv https://t.co/i...   \n",
      "3800      advice Talk to your neighbours family to excha...   \n",
      "3801      Coronavirus Australia: Woolworths to give elde...   \n",
      "3802      My food stock is not the only one which is emp...   \n",
      "3803      Me, ready to go at supermarket during the #COV...   \n",
      "\n",
      "                   Sentiment  \n",
      "UserName                      \n",
      "3799                 Neutral  \n",
      "3800                Positive  \n",
      "3801                Positive  \n",
      "3802                Positive  \n",
      "3803      Extremely Negative  \n"
     ]
    }
   ],
   "source": [
    "print(tweet_whole_train.head())"
   ]
  },
  {
   "cell_type": "code",
   "execution_count": 8,
   "id": "ec1748d5",
   "metadata": {},
   "outputs": [],
   "source": [
    "tweet = tweet_whole_train[['OriginalTweet', 'Sentiment']]"
   ]
  },
  {
   "cell_type": "code",
   "execution_count": 9,
   "id": "759dc8fd",
   "metadata": {},
   "outputs": [
    {
     "data": {
      "text/plain": [
       "0"
      ]
     },
     "execution_count": 9,
     "metadata": {},
     "output_type": "execute_result"
    }
   ],
   "source": [
    "np.sum(tweet.isnull().any(axis=1))"
   ]
  },
  {
   "cell_type": "code",
   "execution_count": 10,
   "id": "f91e5808",
   "metadata": {},
   "outputs": [
    {
     "data": {
      "text/plain": [
       "(array(['Extremely Negative', 'Extremely Positive', 'Negative', 'Neutral',\n",
       "        'Positive'], dtype=object),\n",
       " array([ 5481,  6624,  9917,  7713, 11422]))"
      ]
     },
     "execution_count": 10,
     "metadata": {},
     "output_type": "execute_result"
    }
   ],
   "source": [
    "np.unique(tweet.Sentiment, return_counts = True)"
   ]
  },
  {
   "cell_type": "code",
   "execution_count": 11,
   "id": "98a6ab57",
   "metadata": {},
   "outputs": [
    {
     "data": {
      "image/png": "[encoded data removed]",
      "text/plain": [
       "<Figure size 432x288 with 1 Axes>"
      ]
     },
     "metadata": {
      "needs_background": "light"
     },
     "output_type": "display_data"
    }
   ],
   "source": [
    "sns.set_context(\"paper\", font_scale=1.5)\n",
    "order = ['Extremely Negative', 'Negative', 'Neutral','Positive','Extremely Positive']\n",
    "sns.countplot(x = 'Sentiment', data = tweet, order = order)\n",
    "plt.xticks(rotation = 90)\n",
    "plt.title = 'Training'\n",
    "plt.show()"
   ]
  },
  {
   "cell_type": "code",
   "execution_count": 12,
   "id": "164f9bcc",
   "metadata": {},
   "outputs": [
    {
     "data": {
      "image/png": "[encoded data removed]",
      "text/plain": [
       "<Figure size 432x288 with 1 Axes>"
      ]
     },
     "metadata": {
      "needs_background": "light"
     },
     "output_type": "display_data"
    }
   ],
   "source": [
    "sns.set_context(\"paper\", font_scale=1.5)\n",
    "order = ['Extremely Negative', 'Negative', 'Neutral','Positive','Extremely Positive']\n",
    "sns.countplot(x = 'Sentiment', data = test, order = order)\n",
    "plt.xticks(rotation = 90)\n",
    "plt.title = 'Test'\n",
    "plt.show()"
   ]
  },
  {
   "cell_type": "code",
   "execution_count": 13,
   "id": "d73e900b",
   "metadata": {},
   "outputs": [],
   "source": [
    "## Figures for slides\n",
    "# sns.set_context(\"talk\", font_scale=1.5)\n",
    "# order = ['Extremely Negative', 'Negative', 'Neutral','Positive','Extremely Positive']\n",
    "# sns.countplot(x = 'Sentiment', data = tweet, order = order)\n",
    "# plt.xticks(rotation = 90)\n",
    "# plt.show()"
   ]
  },
  {
   "cell_type": "markdown",
   "id": "79c4c23b",
   "metadata": {},
   "source": [
    "#### reference: https://www.analyticsvidhya.com/blog/2021/06/twitter-sentiment-analysis-a-nlp-use-case-for-beginners/"
   ]
  },
  {
   "cell_type": "code",
   "execution_count": 14,
   "id": "8aa28e44",
   "metadata": {},
   "outputs": [
    {
     "name": "stdout",
     "output_type": "stream",
     "text": [
      "TRAIN DATA \n",
      " UserName\n",
      "3799    @menyrbie @phil_gahan @chrisitv https://t.co/i...\n",
      "3800    advice talk to your neighbours family to excha...\n",
      "3801    coronavirus australia: woolworths to give elde...\n",
      "3802    my food stock is not the only one which is emp...\n",
      "3803    me, ready to go at supermarket during the #cov...\n",
      "Name: OriginalTweet, dtype: object\n",
      "\n",
      " TEST DATA \n",
      " UserName\n",
      "1    trending: new yorkers encounter empty supermar...\n",
      "2    when i couldn't find hand sanitizer at fred me...\n",
      "3    find out how you can protect yourself and love...\n",
      "4    #panic buying hits #newyork city as anxious sh...\n",
      "5    #toiletpaper #dunnypaper #coronavirus #coronav...\n",
      "Name: OriginalTweet, dtype: object\n"
     ]
    },
    {
     "name": "stderr",
     "output_type": "stream",
     "text": [
      "<ipython-input-14-f65a37d2acef>:2: SettingWithCopyWarning: \n",
      "A value is trying to be set on a copy of a slice from a DataFrame.\n",
      "Try using .loc[row_indexer,col_indexer] = value instead\n",
      "\n",
      "See the caveats in the documentation: https://pandas.pydata.org/pandas-docs/stable/user_guide/indexing.html#returning-a-view-versus-a-copy\n",
      "  tweet['OriginalTweet'] = tweet['OriginalTweet'].str.lower()\n"
     ]
    }
   ],
   "source": [
    "# lower case all text\n",
    "tweet['OriginalTweet'] = tweet['OriginalTweet'].str.lower()\n",
    "test['OriginalTweet'] = test['OriginalTweet'].str.lower()\n",
    "\n",
    "print('TRAIN DATA \\n', tweet['OriginalTweet'].head())\n",
    "print('\\n TEST DATA \\n', test['OriginalTweet'].head())"
   ]
  },
  {
   "cell_type": "code",
   "execution_count": 15,
   "id": "e22efd5d",
   "metadata": {},
   "outputs": [
    {
     "name": "stdout",
     "output_type": "stream",
     "text": [
      "TRAIN DATA \n",
      " UserName\n",
      "3799    https://t.co/ifz9fan2pa and https://t.co/xx6gh...\n",
      "3800    advice talk to your neighbours family to excha...\n",
      "3801    coronavirus australia: woolworths to give elde...\n",
      "3802    my food stock is not the only one which is emp...\n",
      "3803    me, ready to go at supermarket during the #cov...\n",
      "Name: OriginalTweet, dtype: object\n",
      "\n",
      " TEST DATA \n",
      " UserName\n",
      "1    trending: new yorkers encounter empty supermar...\n",
      "2    when i couldn't find hand sanitizer at fred me...\n",
      "3    find out how you can protect yourself and love...\n",
      "4    #panic buying hits #newyork city as anxious sh...\n",
      "5    #toiletpaper #dunnypaper #coronavirus #coronav...\n",
      "Name: OriginalTweet, dtype: object\n"
     ]
    },
    {
     "name": "stderr",
     "output_type": "stream",
     "text": [
      "<ipython-input-15-924ac800784c>:3: SettingWithCopyWarning: \n",
      "A value is trying to be set on a copy of a slice from a DataFrame.\n",
      "Try using .loc[row_indexer,col_indexer] = value instead\n",
      "\n",
      "See the caveats in the documentation: https://pandas.pydata.org/pandas-docs/stable/user_guide/indexing.html#returning-a-view-versus-a-copy\n",
      "  tweet['OriginalTweet'] = tweet['OriginalTweet'].apply(lambda text: remove_at_signs(text))\n"
     ]
    }
   ],
   "source": [
    "def remove_at_signs(text):\n",
    "    return \" \".join([word for word in str(text).split() if not word.startswith('@')])\n",
    "tweet['OriginalTweet'] = tweet['OriginalTweet'].apply(lambda text: remove_at_signs(text))\n",
    "test['OriginalTweet'] = test['OriginalTweet'].apply(lambda text: remove_at_signs(text))\n",
    "\n",
    "print('TRAIN DATA \\n', tweet['OriginalTweet'].head())\n",
    "print('\\n TEST DATA \\n', test['OriginalTweet'].head())"
   ]
  },
  {
   "cell_type": "code",
   "execution_count": 16,
   "id": "31789fe6",
   "metadata": {},
   "outputs": [
    {
     "name": "stdout",
     "output_type": "stream",
     "text": [
      "TRAIN DATA \n",
      " UserName\n",
      "3799    htps:/t.co/ifz9fan2pa and htps:/t.co/x6ghgfzc ...\n",
      "3800    advice talk to your neighbours family to excha...\n",
      "3801    coronavirus australia: wolworths to give elder...\n",
      "3802    my fod stock is not the only one which is empt...\n",
      "3803    me, ready to go at supermarket during the #cov...\n",
      "Name: OriginalTweet, dtype: object\n",
      "\n",
      " TEST DATA \n",
      " UserName\n",
      "1    trending: new yorkers encounter empty supermar...\n",
      "2    when i couldn't find hand sanitizer at fred me...\n",
      "3    find out how you can protect yourself and love...\n",
      "4    #panic buying hits #newyork city as anxious sh...\n",
      "5    #toiletpaper #dunypaper #coronavirus #coronavi...\n",
      "Name: OriginalTweet, dtype: object\n"
     ]
    },
    {
     "name": "stderr",
     "output_type": "stream",
     "text": [
      "<ipython-input-16-8d4802ada748>:5: SettingWithCopyWarning: \n",
      "A value is trying to be set on a copy of a slice from a DataFrame.\n",
      "Try using .loc[row_indexer,col_indexer] = value instead\n",
      "\n",
      "See the caveats in the documentation: https://pandas.pydata.org/pandas-docs/stable/user_guide/indexing.html#returning-a-view-versus-a-copy\n",
      "  tweet['OriginalTweet'] = tweet['OriginalTweet'].apply(lambda x: cleaning_repeating_char(x))\n"
     ]
    }
   ],
   "source": [
    "import itertools\n",
    "def cleaning_repeating_char(text):\n",
    "    cl = ''.join(ch for ch, _ in itertools.groupby(text))\n",
    "    return cl\n",
    "tweet['OriginalTweet'] = tweet['OriginalTweet'].apply(lambda x: cleaning_repeating_char(x))\n",
    "test['OriginalTweet'] = test['OriginalTweet'].apply(lambda x: cleaning_repeating_char(x))\n",
    "\n",
    "print('TRAIN DATA \\n', tweet['OriginalTweet'].head())\n",
    "print('\\n TEST DATA \\n', test['OriginalTweet'].head())"
   ]
  },
  {
   "cell_type": "code",
   "execution_count": 17,
   "id": "f7287735",
   "metadata": {},
   "outputs": [
    {
     "name": "stdout",
     "output_type": "stream",
     "text": [
      "TRAIN DATA \n",
      " UserName\n",
      "3799                                url and  url and  url\n",
      "3800    advice talk to your neighbours family to excha...\n",
      "3801    coronavirus australia: wolworths to give elder...\n",
      "3802    my fod stock is not the only one which is empt...\n",
      "3803    me, ready to go at supermarket during the #cov...\n",
      "Name: OriginalTweet, dtype: object\n",
      "\n",
      " TEST DATA \n",
      " UserName\n",
      "1    trending: new yorkers encounter empty supermar...\n",
      "2    when i couldn't find hand sanitizer at fred me...\n",
      "3    find out how you can protect yourself and love...\n",
      "4    #panic buying hits #newyork city as anxious sh...\n",
      "5    #toiletpaper #dunypaper #coronavirus #coronavi...\n",
      "Name: OriginalTweet, dtype: object\n"
     ]
    },
    {
     "name": "stderr",
     "output_type": "stream",
     "text": [
      "<ipython-input-17-1b8d7a4d6e5f>:3: SettingWithCopyWarning: \n",
      "A value is trying to be set on a copy of a slice from a DataFrame.\n",
      "Try using .loc[row_indexer,col_indexer] = value instead\n",
      "\n",
      "See the caveats in the documentation: https://pandas.pydata.org/pandas-docs/stable/user_guide/indexing.html#returning-a-view-versus-a-copy\n",
      "  tweet['OriginalTweet'] = tweet['OriginalTweet'].apply(lambda x: cleaning_URLs(x))\n"
     ]
    }
   ],
   "source": [
    "def cleaning_URLs(data):\n",
    "    return re.sub('[^ ]+\\.[^ ]+' , ' url', data)\n",
    "tweet['OriginalTweet'] = tweet['OriginalTweet'].apply(lambda x: cleaning_URLs(x))\n",
    "test['OriginalTweet'] = test['OriginalTweet'].apply(lambda x: cleaning_URLs(x))\n",
    "\n",
    "print('TRAIN DATA \\n', tweet['OriginalTweet'].head())\n",
    "print('\\n TEST DATA \\n', test['OriginalTweet'].head())"
   ]
  },
  {
   "cell_type": "code",
   "execution_count": 18,
   "id": "1461c682",
   "metadata": {},
   "outputs": [
    {
     "name": "stdout",
     "output_type": "stream",
     "text": [
      "TRAIN DATA \n",
      " UserName\n",
      "3799                                url and  url and  url\n",
      "3800    advice talk to your neighbours family to excha...\n",
      "3801    coronavirus australia wolworths to give elderl...\n",
      "3802    my fod stock is not the only one which is empt...\n",
      "3803    me ready to go at supermarket during the covid...\n",
      "Name: OriginalTweet, dtype: object\n",
      "\n",
      " TEST DATA \n",
      " UserName\n",
      "1    trending new yorkers encounter empty supermark...\n",
      "2    when i couldnt find hand sanitizer at fred mey...\n",
      "3    find out how you can protect yourself and love...\n",
      "4    panic buying hits newyork city as anxious shop...\n",
      "5    toiletpaper dunypaper coronavirus coronavirusa...\n",
      "Name: OriginalTweet, dtype: object\n"
     ]
    },
    {
     "name": "stderr",
     "output_type": "stream",
     "text": [
      "<ipython-input-18-07738a1d2c6a>:7: SettingWithCopyWarning: \n",
      "A value is trying to be set on a copy of a slice from a DataFrame.\n",
      "Try using .loc[row_indexer,col_indexer] = value instead\n",
      "\n",
      "See the caveats in the documentation: https://pandas.pydata.org/pandas-docs/stable/user_guide/indexing.html#returning-a-view-versus-a-copy\n",
      "  tweet['OriginalTweet']= tweet['OriginalTweet'].apply(lambda x: cleaning_punctuations(x))\n"
     ]
    }
   ],
   "source": [
    "import string\n",
    "english_punctuations = string.punctuation\n",
    "punctuations_list = english_punctuations\n",
    "def cleaning_punctuations(text):\n",
    "    translator = str.maketrans(' ', ' ', punctuations_list)\n",
    "    return text.translate(translator)\n",
    "tweet['OriginalTweet']= tweet['OriginalTweet'].apply(lambda x: cleaning_punctuations(x))\n",
    "test['OriginalTweet']= test['OriginalTweet'].apply(lambda x: cleaning_punctuations(x))\n",
    "\n",
    "print('TRAIN DATA \\n', tweet['OriginalTweet'].head())\n",
    "print('\\n TEST DATA \\n', test['OriginalTweet'].head())"
   ]
  },
  {
   "cell_type": "code",
   "execution_count": 19,
   "id": "e3fc8e1b",
   "metadata": {},
   "outputs": [
    {
     "name": "stdout",
     "output_type": "stream",
     "text": [
      "TRAIN DATA \n",
      " UserName\n",
      "3799                                url and  url and  url\n",
      "3800    advice talk to your neighbours family to excha...\n",
      "3801    coronavirus australia wolworths to give elderl...\n",
      "3802    my fod stock is not the only one which is empt...\n",
      "3803    me ready to go at supermarket during the covid...\n",
      "Name: OriginalTweet, dtype: object\n",
      "\n",
      " TEST DATA \n",
      " UserName\n",
      "1    trending new yorkers encounter empty supermark...\n",
      "2    when i couldnt find hand sanitizer at fred mey...\n",
      "3    find out how you can protect yourself and love...\n",
      "4    panic buying hits newyork city as anxious shop...\n",
      "5    toiletpaper dunypaper coronavirus coronavirusa...\n",
      "Name: OriginalTweet, dtype: object\n"
     ]
    },
    {
     "name": "stderr",
     "output_type": "stream",
     "text": [
      "<ipython-input-19-89c92968cac6>:3: SettingWithCopyWarning: \n",
      "A value is trying to be set on a copy of a slice from a DataFrame.\n",
      "Try using .loc[row_indexer,col_indexer] = value instead\n",
      "\n",
      "See the caveats in the documentation: https://pandas.pydata.org/pandas-docs/stable/user_guide/indexing.html#returning-a-view-versus-a-copy\n",
      "  tweet['OriginalTweet'] = tweet['OriginalTweet'].apply(lambda x: cleaning_numbers(x))\n"
     ]
    }
   ],
   "source": [
    "def cleaning_numbers(data):\n",
    "    return re.sub('[0-9]+', '', data)\n",
    "tweet['OriginalTweet'] = tweet['OriginalTweet'].apply(lambda x: cleaning_numbers(x))\n",
    "test['OriginalTweet'] = test['OriginalTweet'].apply(lambda x: cleaning_numbers(x))\n",
    "\n",
    "print('TRAIN DATA \\n', tweet['OriginalTweet'].head())\n",
    "print('\\n TEST DATA \\n', test['OriginalTweet'].head())"
   ]
  },
  {
   "cell_type": "code",
   "execution_count": 20,
   "id": "56651c86",
   "metadata": {},
   "outputs": [],
   "source": [
    "# from stop_words import get_stop_words\n",
    "# from nltk.corpus import stopwords\n",
    "\n",
    "# stop_words = list(get_stop_words('en'))        \n",
    "# nltk_words = list(stopwords.words('english')) \n",
    "# stop_words.extend(nltk_words)\n",
    "\n",
    "# stopwordlist = ['a','across','ain', 'am', 'an',\n",
    "#              'and','any','are', 'as', 'at', 'be',  'before',\n",
    "#              'being', 'between', 'by', 'can', 'd', 'do',\n",
    "#              'does', 'doing',  'during',  'for', 'from',\n",
    "#              'had', 'has', 'have', 'having', 'he', 'her', 'here',\n",
    "#              'hers', 'herself', 'him', 'himself', 'his', 'how', 'i', 'im','in',\n",
    "#              'into','is', 'it', 'its', 'itself', 'll','l', 'm', 'ma',\n",
    "#              'me', 'my', 'myself', 'now', 'o', 'of', 'on', 'once',\n",
    "#              'or',  'our', 'ours','ourselves',  'own', 're','s', 'she', \"shes\", \n",
    "#              't', 'than', 'that', \"thatl\",'thatll' , 'the', 'their', 'theirs', 'them',\n",
    "#              'themselves', 'then', 'there', 'these', 'they', 'this', 'those',\n",
    "#              'through', 'to', 've', \n",
    "#              'we',  'what', 'when', 'where','which','while', 'who', 'whom',\n",
    "#              'why', 'wil', 'will', 'with', 'y', 'you', \"youd\",\"youl\", 'youll', \"youre\",\n",
    "#              \"youve\", 'your', 'yours', 'yourself', 'yourselves']\n",
    "# stop_words.extend(stopwordlist)\n",
    "# len(stop_words)"
   ]
  },
  {
   "cell_type": "code",
   "execution_count": 21,
   "id": "15ab76a8",
   "metadata": {},
   "outputs": [],
   "source": [
    "# unique_stop = list(dict.fromkeys(stop_words))\n",
    "# unique_stop"
   ]
  },
  {
   "cell_type": "code",
   "execution_count": 22,
   "id": "9731d7ec",
   "metadata": {},
   "outputs": [],
   "source": [
    "stop_words = ['a',\n",
    " 'about',\n",
    " 'above',\n",
    " 'after',\n",
    " 'am',\n",
    " 'all',\n",
    "              'al',\n",
    "              \n",
    "              'an',\n",
    " 'and',\n",
    " 'any',\n",
    " 'are',\n",
    " 'as',\n",
    " 'at',\n",
    " 'be',\n",
    " 'because',\n",
    " 'been',\n",
    " 'before',\n",
    " 'being',\n",
    " 'below',\n",
    " 'between',\n",
    " 'but',\n",
    " 'by',\n",
    " 'could',\n",
    " 'did',\n",
    " 'do',\n",
    " 'does',\n",
    " 'doing',\n",
    " 'down',\n",
    " 'during',\n",
    " 'each',\n",
    " 'for',\n",
    " 'from',\n",
    " 'further',\n",
    " 'had',\n",
    " 'has',\n",
    " 'have',\n",
    " 'having',\n",
    " 'he',\n",
    " \"he'd\",\n",
    " \"he'll\",\n",
    " \"he's\",\n",
    " 'her',\n",
    " 'here',\n",
    " \"here's\",\n",
    " 'hers',\n",
    " 'herself',\n",
    " 'him',\n",
    " 'himself',\n",
    " 'his',\n",
    " 'how',\n",
    " \"how's\",\n",
    " 'i',\n",
    " \"i'd\",\n",
    " \"i'll\",\n",
    " \"i'm\",\n",
    " \"i've\",\n",
    " 'if',\n",
    " 'in',\n",
    " 'into',\n",
    " 'is',\n",
    " 'it',\n",
    " \"it's\",\n",
    " 'its',\n",
    " 'itself',\n",
    " \"let's\",\n",
    " 'me',\n",
    " 'my',\n",
    " 'myself',\n",
    " 'of',\n",
    " 'off',\n",
    " 'on',\n",
    " 'or',\n",
    " 'other',\n",
    " 'our',\n",
    " 'ours',\n",
    " 'ourselves',\n",
    " 'out',\n",
    " 'over',\n",
    " 'own',\n",
    " 'same',\n",
    " 'she',\n",
    " \"she'd\",\n",
    " \"she'll\",\n",
    " \"she's\",\n",
    " 'should',\n",
    " 'so',\n",
    " 'some',\n",
    " 'such',\n",
    " 'than',\n",
    " 'that',\n",
    " \"that's\",\n",
    " 'the',\n",
    " 'their',\n",
    " 'theirs',\n",
    " 'them',\n",
    " 'themselves',\n",
    " 'then',\n",
    " 'there',\n",
    " \"there's\",\n",
    " 'these',\n",
    " 'they',\n",
    " \"they'd\",\n",
    " \"they'll\",\n",
    " \"they're\",\n",
    " \"they've\",\n",
    " 'this',\n",
    " 'those',\n",
    " 'through',\n",
    " 'to',\n",
    " 'under',\n",
    " 'until',\n",
    " 'up',\n",
    " 'very',\n",
    " 'was',\n",
    " 'we',\n",
    " \"we'd\",\n",
    " \"we'll\",\n",
    " \"we're\",\n",
    " \"we've\",\n",
    " 'were',\n",
    " 'what',\n",
    " \"what's\",\n",
    " 'when',\n",
    " \"when's\",\n",
    " 'where',\n",
    " \"where's\",\n",
    " 'which',\n",
    " 'while',\n",
    " 'who',\n",
    " \"who's\",\n",
    " 'whom',\n",
    " 'why',\n",
    " \"why's\",\n",
    " 'with',\n",
    " \"won't\",\n",
    " 'would',\n",
    " 'you',\n",
    " \"you'd\",\n",
    " \"you'll\",\n",
    " \"you're\",\n",
    " \"you've\",\n",
    " 'your',\n",
    " 'yours',\n",
    " 'yourself',\n",
    " 'yourselves',\n",
    " \"that'll\",\n",
    " 's',\n",
    " 't',\n",
    " 'can',\n",
    " 'will',\n",
    " 'just',\n",
    " 'don',\n",
    " \"should've\",\n",
    " 'now',\n",
    " 'd',\n",
    " 'll',\n",
    " 'm',\n",
    " 'o',\n",
    " 're',\n",
    " 've',\n",
    " 'y',\n",
    " 'ma',\n",
    " 'across',\n",
    " 'im',\n",
    " 'l',\n",
    " 'shes',\n",
    " 'thatl',\n",
    " 'thatll',\n",
    " 'wil',\n",
    " 'youd',\n",
    " 'youl',\n",
    " 'youll',\n",
    " 'youre',\n",
    " 'youve']"
   ]
  },
  {
   "cell_type": "code",
   "execution_count": 23,
   "id": "05066cf0",
   "metadata": {},
   "outputs": [
    {
     "name": "stdout",
     "output_type": "stream",
     "text": [
      "TRAIN DATA \n",
      " UserName\n",
      "3799                                          url url url\n",
      "3800    advice talk neighbours family exchange phone n...\n",
      "3801    coronavirus australia wolworths give elderly d...\n",
      "3802    fod stock not only one empty please dont panic...\n",
      "3803    ready go supermarket covid outbreak not parano...\n",
      "Name: OriginalTweet, dtype: object\n",
      "\n",
      " TEST DATA \n",
      " UserName\n",
      "1    trending new yorkers encounter empty supermark...\n",
      "2    couldnt find hand sanitizer fred meyer turned ...\n",
      "3                  find protect loved ones coronavirus\n",
      "4    panic buying hits newyork city anxious shopers...\n",
      "5    toiletpaper dunypaper coronavirus coronavirusa...\n",
      "Name: OriginalTweet, dtype: object\n"
     ]
    },
    {
     "name": "stderr",
     "output_type": "stream",
     "text": [
      "<ipython-input-23-e727e90cafac>:4: SettingWithCopyWarning: \n",
      "A value is trying to be set on a copy of a slice from a DataFrame.\n",
      "Try using .loc[row_indexer,col_indexer] = value instead\n",
      "\n",
      "See the caveats in the documentation: https://pandas.pydata.org/pandas-docs/stable/user_guide/indexing.html#returning-a-view-versus-a-copy\n",
      "  tweet['OriginalTweet'] = tweet['OriginalTweet'].apply(lambda text: cleaning_stopwords(text))\n"
     ]
    }
   ],
   "source": [
    "STOPWORDS = set(stop_words)\n",
    "def cleaning_stopwords(text):\n",
    "    return \" \".join([word for word in str(text).split() if word not in STOPWORDS])\n",
    "tweet['OriginalTweet'] = tweet['OriginalTweet'].apply(lambda text: cleaning_stopwords(text))\n",
    "test['OriginalTweet'] = test['OriginalTweet'].apply(lambda text: cleaning_stopwords(text))\n",
    "\n",
    "print('TRAIN DATA \\n', tweet['OriginalTweet'].head())\n",
    "print('\\n TEST DATA \\n', test['OriginalTweet'].head())"
   ]
  },
  {
   "cell_type": "code",
   "execution_count": 24,
   "id": "dbcef28e",
   "metadata": {},
   "outputs": [],
   "source": [
    "# # Remove non_English words, THIS is not a good step, but code saved for future.\n",
    "# import nltk\n",
    "# nltk.download('words')\n",
    "# words = set(nltk.corpus.words.words())\n",
    "# def remove_non_english(text):\n",
    "#     eng = \" \".join(w for w in nltk.wordpunct_tokenize(text) \\\n",
    "#          if w.lower() in words or not w.isalpha())\n",
    "#     return eng\n",
    "\n",
    "# tweet['OriginalTweet'] = tweet['OriginalTweet'].apply(lambda x: remove_non_english(x))\n",
    "# tweet['OriginalTweet'].head(10)"
   ]
  },
  {
   "cell_type": "code",
   "execution_count": 25,
   "id": "2efe2d18",
   "metadata": {},
   "outputs": [
    {
     "name": "stderr",
     "output_type": "stream",
     "text": [
      "<ipython-input-25-e18c1b857b21>:4: SettingWithCopyWarning: \n",
      "A value is trying to be set on a copy of a slice from a DataFrame.\n",
      "Try using .loc[row_indexer,col_indexer] = value instead\n",
      "\n",
      "See the caveats in the documentation: https://pandas.pydata.org/pandas-docs/stable/user_guide/indexing.html#returning-a-view-versus-a-copy\n",
      "  tweet['Tokens'] = [tknzr.tokenize(t) for t in tweet['OriginalTweet']]\n"
     ]
    },
    {
     "name": "stdout",
     "output_type": "stream",
     "text": [
      "TRAIN DATA \n",
      " UserName\n",
      "3799                                      [url, url, url]\n",
      "3800    [advice, talk, neighbours, family, exchange, p...\n",
      "3801    [coronavirus, australia, wolworths, give, elde...\n",
      "3802    [fod, stock, not, only, one, empty, please, do...\n",
      "3803    [ready, go, supermarket, covid, outbreak, not,...\n",
      "Name: Tokens, dtype: object\n",
      "\n",
      " TEST DATA \n",
      " UserName\n",
      "1    [trending, new, yorkers, encounter, empty, sup...\n",
      "2    [couldnt, find, hand, sanitizer, fred, meyer, ...\n",
      "3            [find, protect, loved, ones, coronavirus]\n",
      "4    [panic, buying, hits, newyork, city, anxious, ...\n",
      "5    [toiletpaper, dunypaper, coronavirus, coronavi...\n",
      "Name: Tokens, dtype: object\n"
     ]
    }
   ],
   "source": [
    "# Tokenize the OriginalTweet text\n",
    "from nltk.tokenize import TweetTokenizer\n",
    "tknzr = TweetTokenizer()\n",
    "tweet['Tokens'] = [tknzr.tokenize(t) for t in tweet['OriginalTweet']]\n",
    "test['Tokens'] = [tknzr.tokenize(t) for t in test['OriginalTweet']]\n",
    "\n",
    "print('TRAIN DATA \\n', tweet['Tokens'].head())\n",
    "print('\\n TEST DATA \\n', test['Tokens'].head())"
   ]
  },
  {
   "cell_type": "code",
   "execution_count": 26,
   "id": "8bb5d217",
   "metadata": {},
   "outputs": [
    {
     "name": "stderr",
     "output_type": "stream",
     "text": [
      "[nltk_data] Downloading package averaged_perceptron_tagger to\n",
      "[nltk_data]     /Users/Ling/nltk_data...\n",
      "[nltk_data]   Package averaged_perceptron_tagger is already up-to-\n",
      "[nltk_data]       date!\n"
     ]
    },
    {
     "data": {
      "text/plain": [
       "[('please', 'NN'),\n",
       " ('remain', 'VBP'),\n",
       " ('vigilant', 'JJ'),\n",
       " ('report', 'NN'),\n",
       " ('suspected', 'VBD'),\n",
       " ('fraud', 'NN'),\n",
       " ('schemes', 'NNS'),\n",
       " ('involving', 'VBG'),\n",
       " ('covid', 'NN'),\n",
       " ('caling', 'VBG'),\n",
       " ('national', 'JJ'),\n",
       " ('center', 'NN'),\n",
       " ('disaster', 'NN'),\n",
       " ('fraud', 'NN'),\n",
       " ('hotline', 'NN'),\n",
       " ('emailing', 'VBG'),\n",
       " ('url', 'RB'),\n",
       " ('more', 'JJR'),\n",
       " ('information', 'NN'),\n",
       " ('avoid', 'IN'),\n",
       " ('coronavirus', 'NN'),\n",
       " ('related', 'JJ'),\n",
       " ('scams', 'NNS'),\n",
       " ('url', 'VBP')]"
      ]
     },
     "execution_count": 26,
     "metadata": {},
     "output_type": "execute_result"
    }
   ],
   "source": [
    "### Checking tags may be useful\n",
    "\n",
    "## Tokenize using work_tokenize\n",
    "# nltk.download('punkt')\n",
    "# tweet['Words'] = nltk.word_tokenize(tweet['text'])\n",
    "# def remove_all_prepositions(text):\n",
    "#     return \" \".join([word for word in str(text).split() if word not in STOPWORDS])\n",
    "# tweet['OriginalTweet'] = tweet['OriginalTweet'].apply(lambda text: cleaning_stopwords(text))\n",
    "# tweet['OriginalTweet'].head()\n",
    "\n",
    "nltk.download('averaged_perceptron_tagger')\n",
    "tag1 = nltk.pos_tag(tweet.iloc[20011,2])\n",
    "tag1"
   ]
  },
  {
   "cell_type": "code",
   "execution_count": 27,
   "id": "d9735cce",
   "metadata": {},
   "outputs": [
    {
     "name": "stderr",
     "output_type": "stream",
     "text": [
      "<ipython-input-27-61c95a0fc1b3>:5: SettingWithCopyWarning: \n",
      "A value is trying to be set on a copy of a slice from a DataFrame.\n",
      "Try using .loc[row_indexer,col_indexer] = value instead\n",
      "\n",
      "See the caveats in the documentation: https://pandas.pydata.org/pandas-docs/stable/user_guide/indexing.html#returning-a-view-versus-a-copy\n",
      "  tweet['Tokens'] = tweet['Tokens'].apply(lambda x: lemmatizer_on_text(x))\n"
     ]
    },
    {
     "name": "stdout",
     "output_type": "stream",
     "text": [
      "TRAIN DATA \n",
      " UserName\n",
      "3799                                      [url, url, url]\n",
      "3800    [advice, talk, neighbours, family, exchange, p...\n",
      "3801    [coronavirus, australia, wolworths, give, elde...\n",
      "3802    [fod, stock, not, only, one, empty, please, do...\n",
      "3803    [ready, go, supermarket, covid, outbreak, not,...\n",
      "Name: Tokens, dtype: object\n",
      "\n",
      " TEST DATA \n",
      " UserName\n",
      "1    [trending, new, yorkers, encounter, empty, sup...\n",
      "2    [couldnt, find, hand, sanitizer, fred, meyer, ...\n",
      "3            [find, protect, loved, ones, coronavirus]\n",
      "4    [panic, buying, hits, newyork, city, anxious, ...\n",
      "5    [toiletpaper, dunypaper, coronavirus, coronavi...\n",
      "Name: Tokens, dtype: object\n"
     ]
    }
   ],
   "source": [
    "lm = nltk.stem.WordNetLemmatizer()\n",
    "def lemmatizer_on_text(data):\n",
    "    text = [lm.lemmatize(word) for word in data]\n",
    "    return data\n",
    "tweet['Tokens'] = tweet['Tokens'].apply(lambda x: lemmatizer_on_text(x))\n",
    "test['Tokens'] = test['Tokens'].apply(lambda x: lemmatizer_on_text(x))\n",
    "\n",
    "print('TRAIN DATA \\n', tweet['Tokens'].head())\n",
    "print('\\n TEST DATA \\n', test['Tokens'].head())"
   ]
  },
  {
   "cell_type": "code",
   "execution_count": 28,
   "id": "0c0e38c6",
   "metadata": {},
   "outputs": [
    {
     "name": "stderr",
     "output_type": "stream",
     "text": [
      "<ipython-input-28-9e413b8e77ce>:5: SettingWithCopyWarning: \n",
      "A value is trying to be set on a copy of a slice from a DataFrame.\n",
      "Try using .loc[row_indexer,col_indexer] = value instead\n",
      "\n",
      "See the caveats in the documentation: https://pandas.pydata.org/pandas-docs/stable/user_guide/indexing.html#returning-a-view-versus-a-copy\n",
      "  tweet['Tokens']= tweet['Tokens'].apply(lambda x: stemming_on_text(x))\n"
     ]
    },
    {
     "data": {
      "text/plain": [
       "UserName\n",
       "3799                                      [url, url, url]\n",
       "3800    [advice, talk, neighbours, family, exchange, p...\n",
       "3801    [coronavirus, australia, wolworths, give, elde...\n",
       "3802    [fod, stock, not, only, one, empty, please, do...\n",
       "3803    [ready, go, supermarket, covid, outbreak, not,...\n",
       "3804    [news, region, , s, first, confirmed, covid, ...\n",
       "3805    [cashier, grocery, store, sharing, insights, c...\n",
       "3806    [supermarket, today, didnt, buy, toilet, paper...\n",
       "3807    [due, covid, retail, store, clasrom, atlanta, ...\n",
       "3808    [corona, preventionwe, stop, buy, things, cash...\n",
       "Name: Tokens, dtype: object"
      ]
     },
     "execution_count": 28,
     "metadata": {},
     "output_type": "execute_result"
    }
   ],
   "source": [
    "st = nltk.PorterStemmer()\n",
    "def stemming_on_text(data):\n",
    "    text = [st.stem(word) for word in data]\n",
    "    return data\n",
    "tweet['Tokens']= tweet['Tokens'].apply(lambda x: stemming_on_text(x))\n",
    "tweet['Tokens'].head(10)"
   ]
  },
  {
   "cell_type": "code",
   "execution_count": 29,
   "id": "7006bf1c",
   "metadata": {},
   "outputs": [
    {
     "name": "stdout",
     "output_type": "stream",
     "text": [
      "TRAIN DATA \n",
      " UserName\n",
      "3799                                          url url url\n",
      "3800    advice talk neighbours family exchange phone n...\n",
      "3801    coronavirus australia wolworths give elderly d...\n",
      "3802    fod stock not only one empty please dont panic...\n",
      "3803    ready go supermarket covid outbreak not parano...\n",
      "Name: text, dtype: object\n",
      "\n",
      " TEST DATA \n",
      " UserName\n",
      "1    trending new yorkers encounter empty supermark...\n",
      "2    couldnt find hand sanitizer fred meyer turned ...\n",
      "3                  find protect loved ones coronavirus\n",
      "4    panic buying hits newyork city anxious shopers...\n",
      "5    toiletpaper dunypaper coronavirus coronavirusa...\n",
      "Name: text, dtype: object\n"
     ]
    },
    {
     "name": "stderr",
     "output_type": "stream",
     "text": [
      "<ipython-input-29-b431f87894f4>:1: SettingWithCopyWarning: \n",
      "A value is trying to be set on a copy of a slice from a DataFrame.\n",
      "Try using .loc[row_indexer,col_indexer] = value instead\n",
      "\n",
      "See the caveats in the documentation: https://pandas.pydata.org/pandas-docs/stable/user_guide/indexing.html#returning-a-view-versus-a-copy\n",
      "  tweet['text'] = tweet[\"Tokens\"].map(' '.join)\n"
     ]
    }
   ],
   "source": [
    "tweet['text'] = tweet[\"Tokens\"].map(' '.join)\n",
    "test['text'] = test[\"Tokens\"].map(' '.join)\n",
    "\n",
    "print('TRAIN DATA \\n', tweet['text'].head())\n",
    "print('\\n TEST DATA \\n', test['text'].head())"
   ]
  },
  {
   "cell_type": "code",
   "execution_count": 30,
   "id": "bd38fc25",
   "metadata": {},
   "outputs": [],
   "source": [
    "## This step also tried, muted because better result with SVC\n",
    "# from sklearn.preprocessing import MultiLabelBinarizer\n",
    "# from sklearn.model_selection import train_test_split \n",
    "\n",
    "# X = tweet['Tokens']\n",
    "# y = tweet['Sentiment']\n",
    "\n",
    "# # Vectorize the X\n",
    "# MLB_vect = MultiLabelBinarizer()\n",
    "# MLB_X_train = MLB_vect.fit_transform(X_train)\n",
    "# MLB_X_test = MLB_vect.transform(X_test)\n",
    "# len(MLB_vect.classes_)"
   ]
  },
  {
   "cell_type": "code",
   "execution_count": 31,
   "id": "93def52c",
   "metadata": {},
   "outputs": [
    {
     "name": "stdout",
     "output_type": "stream",
     "text": [
      "TRAIN DATA \n",
      " UserName\n",
      "3799                                          url url url\n",
      "3800    advice talk neighbours family exchange phone n...\n",
      "3801    coronavirus australia wolworths give elderly d...\n",
      "3802    fod stock not only one empty please dont panic...\n",
      "3803    ready go supermarket covid outbreak not parano...\n",
      "Name: text, dtype: object\n",
      "\n",
      " TEST DATA \n",
      " UserName\n",
      "1    trending new yorkers encounter empty supermark...\n",
      "2    couldnt find hand sanitizer fred meyer turned ...\n",
      "3                  find protect loved ones coronavirus\n",
      "4    panic buying hits newyork city anxious shopers...\n",
      "5    toiletpaper dunypaper coronavirus coronavirusa...\n",
      "Name: text, dtype: object\n"
     ]
    },
    {
     "name": "stderr",
     "output_type": "stream",
     "text": [
      "<ipython-input-31-ad510adabaa2>:4: SettingWithCopyWarning: \n",
      "A value is trying to be set on a copy of a slice from a DataFrame.\n",
      "Try using .loc[row_indexer,col_indexer] = value instead\n",
      "\n",
      "See the caveats in the documentation: https://pandas.pydata.org/pandas-docs/stable/user_guide/indexing.html#returning-a-view-versus-a-copy\n",
      "  tweet['text'] = tweet['text'].apply(lambda text: cleaning_stopwords(text))\n"
     ]
    }
   ],
   "source": [
    "STOPWORDS = set(stop_words)\n",
    "def cleaning_stopwords(text):\n",
    "    return \" \".join([word for word in str(text).split() if word not in STOPWORDS])\n",
    "tweet['text'] = tweet['text'].apply(lambda text: cleaning_stopwords(text))\n",
    "test['text'] = test['text'].apply(lambda text: cleaning_stopwords(text))\n",
    "\n",
    "print('TRAIN DATA \\n', tweet['text'].head())\n",
    "print('\\n TEST DATA \\n', test['text'].head())"
   ]
  },
  {
   "cell_type": "code",
   "execution_count": 43,
   "id": "f0f07128",
   "metadata": {},
   "outputs": [],
   "source": [
    "tweet.to_csv('ProcessedTweets', columns = ['text', 'Sentiment'])\n",
    "\n",
    "test.to_csv('ProcessedTestData', columns = ['text', 'Sentiment'])"
   ]
  },
  {
   "cell_type": "code",
   "execution_count": 32,
   "id": "6312eb3f",
   "metadata": {},
   "outputs": [
    {
     "name": "stdout",
     "output_type": "stream",
     "text": [
      "['ability', 'able', 'absolute', 'absolutely', 'absurd', 'abt', 'abuse', 'ac', 'acelerate', 'acelerated']\n",
      "# of feature names 4507\n"
     ]
    }
   ],
   "source": [
    "# This step tried before tfidf, but results better with tfidf, so muted this cell\n",
    "from sklearn.feature_extraction.text import CountVectorizer  \n",
    "from sklearn.model_selection import train_test_split \n",
    "\n",
    "X = tweet['text'] \n",
    "y = tweet['Sentiment']\n",
    "\n",
    "X_train, X_test, y_train, y_test = train_test_split(X, y, test_size = 0.15, random_state = 42)\n",
    "\n",
    "Count_vect = CountVectorizer(ngram_range=(1, 1), max_df=0.7, min_df=15)\n",
    "\n",
    "Count_train = Count_vect.fit_transform(X_train)\n",
    "Count_test = Count_vect.transform(X_test)\n",
    "print(Count_vect.get_feature_names()[:10])\n",
    "print('# of feature names', len(Count_vect.get_feature_names()))"
   ]
  },
  {
   "cell_type": "code",
   "execution_count": 33,
   "id": "e847e0a1",
   "metadata": {},
   "outputs": [
    {
     "name": "stdout",
     "output_type": "stream",
     "text": [
      "# of feature names 4507\n",
      "['alcoholbased', 'aldi', 'alegedly', 'alergies', 'alert', 'alive', 'almost', 'alone', 'along', 'alongside', 'alow', 'alowed', 'alowing', 'alows', 'already', 'also', 'alternative', 'alternatives', 'although', 'always', 'amazing', 'amazon', 'ambulance', 'america', 'american', 'americans', 'amid', 'amidst', 'amo', 'among', 'amongst', 'amount', 'amounts', 'amp', 'ample', 'analysis', 'analyst', 'analysts', 'analytics', 'andor', 'angela', 'angeles', 'angry', 'animal', 'animals', 'another', 'anounce', 'anounced', 'anouncement', 'anouncements', 'anounces', 'anouncing', 'answer', 'answered', 'answers', 'anti', 'antibacterial', 'anticipate', 'anual', 'anxiety', 'anxious', 'anybody', 'anymore', 'anyone', 'anything', 'anyway', 'anywhere', 'ap', 'aparel', 'aparently', 'apart', 'apartment', 'apeal', 'apear', 'apears', 'aple', 'aplications', 'aplied', 'aplies', 'aply', 'apocalypse', 'apr', 'apreciate', 'apreciated', 'apreciation', 'april', 'aproach', 'apropriate', 'aprove', 'aproved', 'aps', 'ar', 'arabia', 'area', 'areas', 'aren', 'arent', 'arest', 'arested', 'arive']\n",
      "[0. 0. 0. ... 0. 0. 0.]\n"
     ]
    }
   ],
   "source": [
    "#  TfidfVectorizer\n",
    "from sklearn.feature_extraction.text import TfidfVectorizer\n",
    "from sklearn.model_selection import train_test_split \n",
    "\n",
    "X = tweet['text'] \n",
    "y = tweet['Sentiment']\n",
    "\n",
    "X_train, X_test, y_train, y_test = train_test_split(X, y, test_size = 0.15, random_state = 42)\n",
    "# Initialize a TfidfVectorizer object: tfidf_vectorizer\n",
    "tfidf_vectorizer = TfidfVectorizer(ngram_range=(1,1), min_df = 15, max_df = 0.7)\n",
    "\n",
    "# Transform the training data: tfidf_train \n",
    "tfidf_train = tfidf_vectorizer.fit_transform(X_train)\n",
    "# Transform the test data: tfidf_test \n",
    "tfidf_test = tfidf_vectorizer.transform(X_test)\n",
    "\n",
    "# Print the first 10 features\n",
    "print('# of feature names', len(tfidf_vectorizer.get_feature_names()))\n",
    "print(tfidf_vectorizer.get_feature_names()[100:200])\n",
    "#print(tfidf_vectorizer.get_feature_names()[-100:])\n",
    "\n",
    "# Print the first 5 vectors of the tfidf training data\n",
    "print(tfidf_train.A[5])"
   ]
  },
  {
   "cell_type": "code",
   "execution_count": 34,
   "id": "d6527c75",
   "metadata": {},
   "outputs": [
    {
     "name": "stderr",
     "output_type": "stream",
     "text": [
      "/Users/Ling/opt/anaconda3/lib/python3.8/site-packages/sklearn/svm/_base.py:985: ConvergenceWarning: Liblinear failed to converge, increase the number of iterations.\n",
      "  warnings.warn(\"Liblinear failed to converge, increase \"\n"
     ]
    },
    {
     "name": "stdout",
     "output_type": "stream",
     "text": [
      "                    precision    recall  f1-score   support\n",
      "\n",
      "Extremely Negative       0.60      0.64      0.62       790\n",
      "Extremely Positive       0.67      0.71      0.69      1005\n",
      "          Negative       0.53      0.47      0.50      1516\n",
      "           Neutral       0.62      0.73      0.67      1176\n",
      "          Positive       0.56      0.52      0.54      1687\n",
      "\n",
      "          accuracy                           0.59      6174\n",
      "         macro avg       0.60      0.61      0.60      6174\n",
      "      weighted avg       0.59      0.59      0.59      6174\n",
      "\n",
      "F1 accuracy:  0.5913508260447036\n",
      "[[507   6 211  28  38]\n",
      " [  9 710  39  30 217]\n",
      " [266  47 708 224 271]\n",
      " [ 23  18 117 857 161]\n",
      " [ 37 278 269 234 869]]\n",
      "['riots', 'fucked', 'evil', 'pised', 'dead', 'kil', 'kiling', 'worst', 'crisis', 'hel', 'abuse', 'kiled', 'criminals', 'iresponsible', 'fraudsters', 'threatens', 'destroyed', 'bastards', 'dumb', 'shocked', 'atack', 'bitch', 'exploiting', 'destruction', 'fuck', 'devastating', 'threats', 'severely', 'negative', 'suspended', 'chaos', 'scam', 'unaceptable', 'dire', 'selfishnes', 'disaster', 'wasted', 'failure', 'misleading', 'racist', 'wars', 'cancer', 'threatening', 'war', 'sad', 'steal', 'death', 'weak', 'damage', 'broke', 'failing', 'fs', 'prison', 'stealing', 'outrageous', 'stupid', 'starve', 'misinformation', 'fraud', 'worse', 'disgusting', 'scary', 'ignorance', 'enemy', 'unfair', 'forced', 'bad', 'shit', 'havoc', 'ban', 'died', 'terible', 'crude', 'dangerous', 'despair', 'dump', 'exhausted', 'fake', 'upset', 'lying', 'unfortunately', 'awful', 'destroy', 'charges', 'stolen', 'cry', 'leters', 'hate', 'por', 'baned', 'ilegal', 'sick', 'terifying', 'letuce', 'kils', 'hurting', 'wtf', 'useles', 'strained', 'heartbreaking']\n"
     ]
    }
   ],
   "source": [
    "## Try NaiveBayes first\n",
    "# Import the necessary modules\n",
    "\n",
    "# from sklearn.naive_bayes import MultinomialNB \n",
    "# from sklearn.ensemble import RandomForestClassifier\n",
    "\n",
    "# # using tfidf ## F1 0.44 fast to run\n",
    "# NB_classifier = MultinomialNB()\n",
    "# # Fit the classifier to the training data\n",
    "# NB_classifier.fit(tfidf_train, y_train)\n",
    "# # Create the predicted tags: pred\n",
    "# pred = NB_classifier.predict(tfidf_test)\n",
    "# # Calculate the accuracy score: score\n",
    "# Score = metrics.accuracy_score(y_test, pred)\n",
    "# print(Score)\n",
    "# # Calculate the confusion matrix: cm\n",
    "# CM = metrics.confusion_matrix(y_test, pred)\n",
    "# print(CM)\n",
    "\n",
    "\n",
    "# # Using Count_train\n",
    "# nb_classifier = MultinomialNB()\n",
    "# # Fit the classifier to the training data\n",
    "# nb_classifier.fit(Count_train, y_train)\n",
    "# # Create the predicted tags: pred\n",
    "# pred = nb_classifier.predict(Count_test)\n",
    "# # Calculate the accuracy score: score\n",
    "# score = metrics.accuracy_score(y_test, pred)\n",
    "# print(Score)\n",
    "# # Calculate the confusion matrix: cm\n",
    "# cm = metrics.confusion_matrix(y_test, pred)\n",
    "# print(CM)\n",
    "\n",
    "# # F1 = 0.49 fast to run\n",
    "# BNBmodel = BernoulliNB()\n",
    "# BNBmodel.fit(tfidf_train, y_train)\n",
    "# y_pred = BNBmodel.predict(tfidf_test)\n",
    "# print(classification_report(y_test, y_pred))\n",
    "# print(metrics.accuracy_score(y_test, y_pred))\n",
    "\n",
    "# ## F1 LinearSVC = 0.56\n",
    "# from sklearn.svm import LinearSVC\n",
    "# SVCLinear = LinearSVC()\n",
    "# SVCLinear.fit(tfidf_train, y_train)\n",
    "# y_pred = SVCLinear.predict(tfidf_test)\n",
    "# print(classification_report(y_test, y_pred))\n",
    "# print('F1 accuracy: ', metrics.accuracy_score(y_test, y_pred))\n",
    "# CM = metrics.confusion_matrix(y_test, y_pred, normalize='true')\n",
    "# print(CM)\n",
    "\n",
    "## use count_train and count_test\n",
    "from sklearn.svm import LinearSVC\n",
    "SVCLinear = LinearSVC()\n",
    "SVCLinear.fit(Count_train, y_train)\n",
    "y_pred = SVCLinear.predict(Count_test)\n",
    "print(classification_report(y_test, y_pred))\n",
    "print('F1 accuracy: ', metrics.accuracy_score(y_test, y_pred))\n",
    "CM = metrics.confusion_matrix(y_test, y_pred)\n",
    "print(CM)\n",
    "\n",
    "\n",
    "wt = SVCLinear.coef_[0]\n",
    "sorted_index = np.argsort(wt)[::-1]\n",
    "terms = Count_vect.get_feature_names()\n",
    "sorted_features = []\n",
    "for ind in sorted_index:\n",
    "    sorted_features.append(terms[ind])\n",
    "print(sorted_features[:100])"
   ]
  },
  {
   "cell_type": "code",
   "execution_count": 35,
   "id": "cc5d25d8",
   "metadata": {},
   "outputs": [
    {
     "data": {
      "text/html": [
       "<div>\n",
       "<style scoped>\n",
       "    .dataframe tbody tr th:only-of-type {\n",
       "        vertical-align: middle;\n",
       "    }\n",
       "\n",
       "    .dataframe tbody tr th {\n",
       "        vertical-align: top;\n",
       "    }\n",
       "\n",
       "    .dataframe thead th {\n",
       "        text-align: right;\n",
       "    }\n",
       "</style>\n",
       "<table border=\"1\" class=\"dataframe\">\n",
       "  <thead>\n",
       "    <tr style=\"text-align: right;\">\n",
       "      <th></th>\n",
       "      <th>Features</th>\n",
       "      <th>Coef</th>\n",
       "    </tr>\n",
       "  </thead>\n",
       "  <tbody>\n",
       "    <tr>\n",
       "      <th>0</th>\n",
       "      <td>riots</td>\n",
       "      <td>2.333711</td>\n",
       "    </tr>\n",
       "    <tr>\n",
       "      <th>1</th>\n",
       "      <td>fucked</td>\n",
       "      <td>2.245244</td>\n",
       "    </tr>\n",
       "    <tr>\n",
       "      <th>2</th>\n",
       "      <td>evil</td>\n",
       "      <td>2.216305</td>\n",
       "    </tr>\n",
       "    <tr>\n",
       "      <th>3</th>\n",
       "      <td>pised</td>\n",
       "      <td>2.205473</td>\n",
       "    </tr>\n",
       "    <tr>\n",
       "      <th>4</th>\n",
       "      <td>dead</td>\n",
       "      <td>2.185072</td>\n",
       "    </tr>\n",
       "    <tr>\n",
       "      <th>5</th>\n",
       "      <td>kil</td>\n",
       "      <td>2.150183</td>\n",
       "    </tr>\n",
       "    <tr>\n",
       "      <th>6</th>\n",
       "      <td>kiling</td>\n",
       "      <td>2.143915</td>\n",
       "    </tr>\n",
       "    <tr>\n",
       "      <th>7</th>\n",
       "      <td>worst</td>\n",
       "      <td>2.085018</td>\n",
       "    </tr>\n",
       "    <tr>\n",
       "      <th>8</th>\n",
       "      <td>crisis</td>\n",
       "      <td>2.031738</td>\n",
       "    </tr>\n",
       "    <tr>\n",
       "      <th>9</th>\n",
       "      <td>hel</td>\n",
       "      <td>1.938605</td>\n",
       "    </tr>\n",
       "    <tr>\n",
       "      <th>10</th>\n",
       "      <td>abuse</td>\n",
       "      <td>1.935539</td>\n",
       "    </tr>\n",
       "    <tr>\n",
       "      <th>11</th>\n",
       "      <td>kiled</td>\n",
       "      <td>1.918166</td>\n",
       "    </tr>\n",
       "    <tr>\n",
       "      <th>12</th>\n",
       "      <td>criminals</td>\n",
       "      <td>1.864973</td>\n",
       "    </tr>\n",
       "    <tr>\n",
       "      <th>13</th>\n",
       "      <td>iresponsible</td>\n",
       "      <td>1.841844</td>\n",
       "    </tr>\n",
       "    <tr>\n",
       "      <th>14</th>\n",
       "      <td>fraudsters</td>\n",
       "      <td>1.793436</td>\n",
       "    </tr>\n",
       "    <tr>\n",
       "      <th>15</th>\n",
       "      <td>threatens</td>\n",
       "      <td>1.753241</td>\n",
       "    </tr>\n",
       "    <tr>\n",
       "      <th>16</th>\n",
       "      <td>destroyed</td>\n",
       "      <td>1.747641</td>\n",
       "    </tr>\n",
       "    <tr>\n",
       "      <th>17</th>\n",
       "      <td>bastards</td>\n",
       "      <td>1.734754</td>\n",
       "    </tr>\n",
       "    <tr>\n",
       "      <th>18</th>\n",
       "      <td>dumb</td>\n",
       "      <td>1.725096</td>\n",
       "    </tr>\n",
       "    <tr>\n",
       "      <th>19</th>\n",
       "      <td>shocked</td>\n",
       "      <td>1.719183</td>\n",
       "    </tr>\n",
       "  </tbody>\n",
       "</table>\n",
       "</div>"
      ],
      "text/plain": [
       "        Features      Coef\n",
       "0          riots  2.333711\n",
       "1         fucked  2.245244\n",
       "2           evil  2.216305\n",
       "3          pised  2.205473\n",
       "4           dead  2.185072\n",
       "5            kil  2.150183\n",
       "6         kiling  2.143915\n",
       "7          worst  2.085018\n",
       "8         crisis  2.031738\n",
       "9            hel  1.938605\n",
       "10         abuse  1.935539\n",
       "11         kiled  1.918166\n",
       "12     criminals  1.864973\n",
       "13  iresponsible  1.841844\n",
       "14    fraudsters  1.793436\n",
       "15     threatens  1.753241\n",
       "16     destroyed  1.747641\n",
       "17      bastards  1.734754\n",
       "18          dumb  1.725096\n",
       "19       shocked  1.719183"
      ]
     },
     "execution_count": 35,
     "metadata": {},
     "output_type": "execute_result"
    }
   ],
   "source": [
    "df = pd.DataFrame(zip(sorted_features,np.sort(wt)[::-1]), columns = ['Features', 'Coef'])\n",
    "df.head(20)"
   ]
  },
  {
   "cell_type": "code",
   "execution_count": null,
   "id": "167da4d3",
   "metadata": {},
   "outputs": [],
   "source": []
  }
 ],
 "metadata": {
  "kernelspec": {
   "display_name": "Python 3",
   "language": "python",
   "name": "python3"
  },
  "language_info": {
   "codemirror_mode": {
    "name": "ipython",
    "version": 3
   },
   "file_extension": ".py",
   "mimetype": "text/x-python",
   "name": "python",
   "nbconvert_exporter": "python",
   "pygments_lexer": "ipython3",
   "version": "3.8.8"
  }
 },
 "nbformat": 4,
 "nbformat_minor": 5
}
